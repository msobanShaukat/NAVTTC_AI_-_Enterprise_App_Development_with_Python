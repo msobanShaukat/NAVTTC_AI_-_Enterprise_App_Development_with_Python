{
  "nbformat": 4,
  "nbformat_minor": 0,
  "metadata": {
    "colab": {
      "provenance": []
    },
    "kernelspec": {
      "name": "python3",
      "display_name": "Python 3"
    },
    "language_info": {
      "name": "python"
    }
  },
  "cells": [
    {
      "cell_type": "markdown",
      "source": [
        "# 🧠 Module 1: Core Python & Data - Week 2 Lecture 9\n",
        "**Date:** 28/08/2025  \n",
        "**Documented By:** Muhammad Soban Shaukat\n",
        "\n",
        "## 🏗️ A New Way of Thinking: Introduction to Object-Oriented Programming (OOP)\n",
        "\n",
        "We've mastered functions for reusable code. But as programs grow, we need a better way to manage complexity. Welcome to **Object-Oriented Programming (OOP)** – the foundation of modern software. It's not just new syntax; it's a new way to think about problems."
      ],
      "metadata": {
        "id": "wC9xnjeI6X4F"
      }
    },
    {
      "cell_type": "markdown",
      "source": [
        "## 📋 Today's Agenda\n",
        "\n",
        "1.  **🤔 The \"Why\" - From Data to Objects**\n",
        "    *   The Problem with Procedural Code\n",
        "    *   The Core Idea: Bundling Data & Behavior\n",
        "    *   The Blueprint and the House (Classes & Objects)\n",
        "    *   Defining a Class & The `__init__` Constructor\n",
        "    *   The Magic of `self`\n",
        "    *   Interactive Exercise: Creating Your First `Dog` Object\n",
        "\n",
        "2.  **⚙️ Bringing Objects to Life with Methods**\n",
        "    *   What are Methods?\n",
        "    *   Defining and Calling Methods\n",
        "    *   How Methods Use `self`\n",
        "    *   Special Methods: `__str__`\n",
        "    *   Interactive Exercise: Making the Dog `bark()` and `sit()`\n",
        "\n",
        "3.  **🧪 Putting It All Together: The Hands-On Lab**\n",
        "    *   Key Takeaways: Class vs. Object, Attribute vs. Method\n",
        "    *   The Power of Encapsulation\n",
        "    *   **Hands-On Lab:** The `Car` Class"
      ],
      "metadata": {
        "id": "shHOLuV67rY5"
      }
    },
    {
      "cell_type": "markdown",
      "source": [
        "## 1. 🤔 The \"Why\" - From Data to Objects\n",
        "\n",
        "### The Problem with Procedural Code: Managing Complexity\n",
        "Imagine building a game with characters. Using what we know (dictionaries and functions), it gets messy and error-prone quickly."
      ],
      "metadata": {
        "id": "J1P4rHxQ7w-Q"
      }
    },
    {
      "cell_type": "code",
      "execution_count": 2,
      "metadata": {
        "colab": {
          "base_uri": "https://localhost:8080/"
        },
        "id": "8wikTHmn6Rmd",
        "outputId": "b37df35c-546f-4bbb-d145-a68b2b7aa086"
      },
      "outputs": [
        {
          "output_type": "stream",
          "name": "stdout",
          "text": [
            "Gandalf casts a spell!\n"
          ]
        }
      ],
      "source": [
        "# The Problem: Data (dictionaries) and Behavior (functions) are separate.\n",
        "# This is fragile and hard to manage.\n",
        "\n",
        "player1 = {\"name\": \"Gandalf\", \"hp\": 100, \"mana\": 200}\n",
        "player2 = {\"name\": \"Aragorn\", \"hp\": 150, \"stamina\": 120}\n",
        "\n",
        "def cast_spell(player, cost):\n",
        "    player[\"mana\"] -= cost\n",
        "    print(f\"{player['name']} casts a spell!\")\n",
        "\n",
        "def swing_sword(player, cost):\n",
        "    player[\"stamina\"] -= cost\n",
        "    print(f\"{player['name']} swings their sword!\")\n",
        "\n",
        "cast_spell(player1, 30) # This works.\n",
        "# swing_sword(player1, 10) # This would cause an ERROR! Gandalf has no 'stamina'.\n",
        "# print(player1) # Let's see the state of player1"
      ]
    },
    {
      "cell_type": "markdown",
      "source": [
        "### The Four Pillars of OOP\n",
        "OOP solves these problems by bundling data and behavior into \"objects\". It's built on four principles. Today, we focus on the first one:\n",
        "\n",
        "1.  **🧥 Encapsulation:** Bundling data (attributes) and methods into a single object. **(Today's Focus!)**\n",
        "2.  **📺 Abstraction:** Hiding complex details, showing only essentials.\n",
        "3.  **👨‍👩‍👧‍👦 Inheritance:** Creating new classes based on existing ones.\n",
        "4.  #️⃣ **Polymorphism:** Objects of different classes responding to the same method call in their own way."
      ],
      "metadata": {
        "id": "KOL8JXLr8Hgb"
      }
    },
    {
      "cell_type": "markdown",
      "source": [
        "### Analogy: The Blueprint and the House 🏠\n",
        "\n",
        "*   A **Class** is like a **blueprint**. It defines the structure (attributes) and capabilities (methods) of something.\n",
        "    *   *Example:* `class Car:` defines what a car *is* and what it can *do*.\n",
        "*   An **Object** is the actual **thing** built from the blueprint. It's a unique **instance**.\n",
        "    *   *Example:* `my_car = Car(\"Toyota\", \"Blue\")` creates one specific, real car from the `Car` blueprint."
      ],
      "metadata": {
        "id": "PWB62Qye8brn"
      }
    },
    {
      "cell_type": "markdown",
      "source": [
        "### Defining a Class: The `class` Keyword\n",
        "We use the `class` keyword. By convention, class names use **PascalCase**."
      ],
      "metadata": {
        "id": "EMeuuyaO8f43"
      }
    },
    {
      "cell_type": "code",
      "source": [
        "# Creating a simple blueprint (class)\n",
        "class Dog:\n",
        "    pass  # 'pass' is a placeholder for empty code. Our class does nothing yet.\n",
        "\n",
        "# Let's create an object (instance) from our Dog class.\n",
        "my_dog = Dog()\n",
        "print(\"my_dog is an:\", type(my_dog))\n",
        "print(\"It's a very simple dog...\", my_dog)"
      ],
      "metadata": {
        "colab": {
          "base_uri": "https://localhost:8080/"
        },
        "id": "rlWq_-UW8rxw",
        "outputId": "bfe1344b-51e3-4059-8510-d3f7d9974320"
      },
      "execution_count": 3,
      "outputs": [
        {
          "output_type": "stream",
          "name": "stdout",
          "text": [
            "my_dog is an: <class '__main__.Dog'>\n",
            "It's a very simple dog... <__main__.Dog object at 0x7cf35ff2e090>\n"
          ]
        }
      ]
    },
    {
      "cell_type": "markdown",
      "source": [
        "### The Constructor: `__init__()`\n",
        "How do we give our dog a name and age when we create it? We use the `__init__` method. It's a special **constructor** method that runs automatically when a new object is created.\n",
        "\n",
        "*   Methods like `__init__` that start and end with double underscores `__` are called **\"dunder\" methods** and are special in Python."
      ],
      "metadata": {
        "id": "1mzxrcpl8wXi"
      }
    },
    {
      "cell_type": "markdown",
      "source": [
        "### The Magic of `self`\n",
        "`self` is the most important concept. It refers to the **specific object instance** being created or worked on.\n",
        "\n",
        "*   When you write `self.name = name`, it means: \"For *this specific dog* I'm creating right now, set its `name` attribute to the value that was passed in.\""
      ],
      "metadata": {
        "id": "0g3a0jaI8zu0"
      }
    },
    {
      "cell_type": "code",
      "source": [
        "# Let's build a proper Dog blueprint!\n",
        "class Dog:\n",
        "\n",
        "    # The initializer/constructor method\n",
        "    def __init__(self, name, age):\n",
        "        # We create attributes for the object using 'self'\n",
        "        self.name = name   # Creates an attribute 'name' for this dog\n",
        "        self.age = age     # Creates an attribute 'age' for this dog\n",
        "        print(f\"A new dog named {self.name} has been created!\")\n",
        "\n",
        "# Creating two unique Dog OBJECTS from the same Dog CLASS blueprint\n",
        "dog1 = Dog(\"Fido\", 4)\n",
        "dog2 = Dog(\"Lucy\", 2)\n",
        "\n",
        "# Accessing their attributes using dot notation\n",
        "print(f\"{dog1.name} is {dog1.age} years old.\")\n",
        "print(f\"{dog2.name} is {dog2.age} years old.\")"
      ],
      "metadata": {
        "colab": {
          "base_uri": "https://localhost:8080/"
        },
        "id": "sEPKFAwV8538",
        "outputId": "bafbb603-2499-4db3-8cc4-0b75b1f64f86"
      },
      "execution_count": 4,
      "outputs": [
        {
          "output_type": "stream",
          "name": "stdout",
          "text": [
            "A new dog named Fido has been created!\n",
            "A new dog named Lucy has been created!\n",
            "Fido is 4 years old.\n",
            "Lucy is 2 years old.\n"
          ]
        }
      ]
    },
    {
      "cell_type": "markdown",
      "source": [
        "### 🧠 In-Class Exercise: Modeling a Student\n",
        "\n",
        "Create a `Student` class.\n",
        "1.  Its `__init__` method should accept `name` and `student_id`.\n",
        "2.  Create the attributes `self.name`, `self.student_id`.\n",
        "3.  Add another attribute `self.courses` and initialize it as an empty list `[]`.\n",
        "4.  Create two different `Student` objects and print their names and IDs."
      ],
      "metadata": {
        "id": "7DEmlQSP9BcC"
      }
    },
    {
      "cell_type": "code",
      "source": [
        "# Exercise: Student Class\n",
        "class Student:\n",
        "    def __init__(self, name, student_id):\n",
        "        self.name = name\n",
        "        self.student_id = student_id\n",
        "        self.courses = [] # A list to store courses\n",
        "\n",
        "# Create Student objects (instances)\n",
        "student1 = Student(\"Alice\", \"S12345\")\n",
        "student2 = Student(\"Bob\", \"S67890\")\n",
        "\n",
        "print(f\"Student 1: {student1.name} (ID: {student1.student_id})\")\n",
        "print(f\"Student 2: {student2.name} (ID: {student2.student_id})\")\n",
        "print(\"Alice's courses (initially):\", student1.courses)"
      ],
      "metadata": {
        "colab": {
          "base_uri": "https://localhost:8080/"
        },
        "id": "7mVnrwDp9GSg",
        "outputId": "4b5ffec0-dc7c-41cc-cc6e-2eaffb1a3c78"
      },
      "execution_count": 5,
      "outputs": [
        {
          "output_type": "stream",
          "name": "stdout",
          "text": [
            "Student 1: Alice (ID: S12345)\n",
            "Student 2: Bob (ID: S67890)\n",
            "Alice's courses (initially): []\n"
          ]
        }
      ]
    },
    {
      "cell_type": "markdown",
      "source": [
        "## 2. ⚙️ Bringing Objects to Life with Methods\n",
        "\n",
        "### What are Methods?\n",
        "**Methods** are simply functions that are defined *inside a class*. They define the **behaviors** (actions) an object can perform.\n",
        "\n",
        "*   The first parameter of every method is **always `self`**. This gives the method access to all the object's attributes (`self.name`, `self.age`, etc.)."
      ],
      "metadata": {
        "id": "3oLeRmQC9J2Z"
      }
    },
    {
      "cell_type": "code",
      "source": [
        "# Let's add behaviors to our Dog!\n",
        "class Dog:\n",
        "    def __init__(self, name, age):\n",
        "        self.name = name\n",
        "        self.age = age\n",
        "        self.is_sitting = False # A new attribute to track state\n",
        "\n",
        "    # A method to represent a behavior\n",
        "    def bark(self):\n",
        "        print(f\"{self.name} says: Woof!\")\n",
        "\n",
        "    # A method that changes the object's internal state\n",
        "    def sit(self):\n",
        "        print(f\"{self.name} is now sitting.\")\n",
        "        self.is_sitting = True # Modify the object's attribute\n",
        "\n",
        "    def stand(self):\n",
        "        if self.is_sitting:\n",
        "            print(f\"{self.name} is now standing.\")\n",
        "            self.is_sitting = False\n",
        "        else:\n",
        "            print(f\"{self.name} is already standing!\")\n",
        "\n",
        "# Create a dog and make it do things!\n",
        "my_dog = Dog(\"Rex\", 5)\n",
        "\n",
        "my_dog.bark() # Call the bark method\n",
        "print(f\"Is Rex sitting? {my_dog.is_sitting}\")\n",
        "\n",
        "my_dog.sit()  # Call the sit method\n",
        "print(f\"Is Rex sitting? {my_dog.is_sitting}\")\n",
        "\n",
        "my_dog.stand() # Call the stand method"
      ],
      "metadata": {
        "colab": {
          "base_uri": "https://localhost:8080/"
        },
        "id": "LM8oQVZp9Le0",
        "outputId": "f88f0a2d-4154-4b6d-eaad-1cf54055144d"
      },
      "execution_count": 6,
      "outputs": [
        {
          "output_type": "stream",
          "name": "stdout",
          "text": [
            "Rex says: Woof!\n",
            "Is Rex sitting? False\n",
            "Rex is now sitting.\n",
            "Is Rex sitting? True\n",
            "Rex is now standing.\n"
          ]
        }
      ]
    },
    {
      "cell_type": "markdown",
      "source": [
        "### Special Methods: `__str__()`\n",
        "What happens if you try to print an object directly? You get a not-very-useful technical description.\n",
        "\n",
        "The `__str__` method allows you to define a friendly, readable string representation of your object. It's called automatically by functions like `print()`."
      ],
      "metadata": {
        "id": "WmUxRt_F9SNz"
      }
    },
    {
      "cell_type": "code",
      "source": [
        "# Let's make our objects print nicely!\n",
        "class Dog:\n",
        "    def __init__(self, name, age):\n",
        "        self.name = name\n",
        "        self.age = age\n",
        "\n",
        "    def bark(self):\n",
        "        print(f\"{self.name} says: Woof!\")\n",
        "\n",
        "    # Define the __str__ method\n",
        "    def __str__(self):\n",
        "        return f\"Dog(Name: {self.name}, Age: {self.age})\"\n",
        "\n",
        "my_dog = Dog(\"Rex\", 5)\n",
        "print(my_dog) # Now this prints our custom string! Magic!"
      ],
      "metadata": {
        "colab": {
          "base_uri": "https://localhost:8080/"
        },
        "id": "NZ0aoW8k9U7w",
        "outputId": "e8071c2d-d079-4d1e-b768-07756b9b2cd7"
      },
      "execution_count": 7,
      "outputs": [
        {
          "output_type": "stream",
          "name": "stdout",
          "text": [
            "Dog(Name: Rex, Age: 5)\n"
          ]
        }
      ]
    },
    {
      "cell_type": "markdown",
      "source": [
        "### 🧠 In-Class Exercise: Bank Account\n",
        "\n",
        "Create a `BankAccount` class.\n",
        "1.  The `__init__` method takes an `owner_name` and an `initial_balance` (default to 0).\n",
        "2.  Create a `deposit(self, amount)` method that adds to the balance.\n",
        "3.  Create a `withdraw(self, amount)` method. Subtract from the balance, but **check first** to prevent overdrafting!\n",
        "4.  Create a `__str__` method that returns a string like `\"Account for John Doe: $500\"`."
      ],
      "metadata": {
        "id": "L7aB61EG9fjV"
      }
    },
    {
      "cell_type": "code",
      "source": [
        "# Exercise: BankAccount Class\n",
        "class BankAccount:\n",
        "    def __init__(self, owner_name, initial_balance=0):\n",
        "        self.owner_name = owner_name\n",
        "        self.balance = initial_balance\n",
        "\n",
        "    def deposit(self, amount):\n",
        "        self.balance += amount\n",
        "        print(f\"Deposited ${amount}. New balance: ${self.balance}\")\n",
        "\n",
        "    def withdraw(self, amount):\n",
        "        if amount > self.balance:\n",
        "            print(f\"❌ Error: Insufficient funds. Your balance is ${self.balance}.\")\n",
        "        else:\n",
        "            self.balance -= amount\n",
        "            print(f\"Withdrew ${amount}. New balance: ${self.balance}\")\n",
        "\n",
        "    def __str__(self):\n",
        "        return f\"Account for {self.owner_name}: ${self.balance}\"\n",
        "\n",
        "# Test the BankAccount class\n",
        "alice_account = BankAccount(\"Alice\", 1000)\n",
        "print(alice_account)\n",
        "\n",
        "alice_account.deposit(200)\n",
        "alice_account.withdraw(500)\n",
        "alice_account.withdraw(1000) # This should fail\n",
        "print(alice_account)"
      ],
      "metadata": {
        "colab": {
          "base_uri": "https://localhost:8080/"
        },
        "id": "g6yGvxVO9hUV",
        "outputId": "cbf2304d-6976-47c9-f9f3-592069351182"
      },
      "execution_count": 8,
      "outputs": [
        {
          "output_type": "stream",
          "name": "stdout",
          "text": [
            "Account for Alice: $1000\n",
            "Deposited $200. New balance: $1200\n",
            "Withdrew $500. New balance: $700\n",
            "❌ Error: Insufficient funds. Your balance is $700.\n",
            "Account for Alice: $700\n"
          ]
        }
      ]
    },
    {
      "cell_type": "markdown",
      "source": [
        "## 3. 🧪 Putting It All Together: The Hands-On Lab\n",
        "\n",
        "### Key Takeaways\n",
        "\n",
        "| Concept | Description | Example |\n",
        "| :--- | :--- | :--- |\n",
        "| **Class** | The blueprint | `class Car:` |\n",
        "| **Object (Instance)** | The real thing built from the blueprint | `my_car = Car(\"Toyota\", \"Blue\")` |\n",
        "| **Attribute** | Data/variable that belongs to an object | `my_car.color` (Defined in `__init__`) |\n",
        "| **Method** | Function/behavior that belongs to an object | `my_car.start()` |"
      ],
      "metadata": {
        "id": "PWKPUmRg9mGn"
      }
    },
    {
      "cell_type": "markdown",
      "source": [
        "### The Power of Encapsulation 🧰\n",
        "This is the core principle we learned today. It means bundling the data (attributes) and the methods that operate on that data into a single, self-contained unit (the object).\n",
        "\n",
        "*   The `BankAccount` object *manages its own balance*. You don't have separate functions floating around; you just tell the object what to do (`my_account.deposit(100)`), and it handles its own internal state.\n",
        "*   This makes code **safer, more organized, and easier to reason about**."
      ],
      "metadata": {
        "id": "H33Rd3Mr9teE"
      }
    },
    {
      "cell_type": "markdown",
      "source": [
        "## HANDS-ON LAB: The Car Class 🚗\n",
        "\n",
        "**Goal:** Define a `Car` class that models a real-world car."
      ],
      "metadata": {
        "id": "EbpAWxmV9w7n"
      }
    },
    {
      "cell_type": "markdown",
      "source": [
        "### 🔧 Part 1: The Blueprint (`__init__`)\n",
        "1.  Define a class named `Car`.\n",
        "2.  Create the `__init__` method. It should accept `brand` and `color`.\n",
        "3.  Inside `__init__`, create `self.brand`, `self.color`.\n",
        "4.  Add an attribute `self.is_running` and initialize it to `False`."
      ],
      "metadata": {
        "id": "DHn44Nqj90Zd"
      }
    },
    {
      "cell_type": "code",
      "source": [
        "# Part 1: The Blueprint\n",
        "class Car:\n",
        "    def __init__(self, brand, color):\n",
        "        self.brand = brand\n",
        "        self.color = color\n",
        "        self.is_running = False # Engine is off by default\n",
        "\n",
        "    # We will add methods in the next part!"
      ],
      "metadata": {
        "id": "q4UTCBgE92ln"
      },
      "execution_count": 9,
      "outputs": []
    },
    {
      "cell_type": "markdown",
      "source": [
        "### ⚙️ Part 2: Adding Behaviors (Methods)\n",
        "1.  Define a method `start()`.\n",
        "    *   If the car is already running, print a message.\n",
        "    *   If it's off, set `self.is_running` to `True` and print a message.\n",
        "2.  Define a method `stop()`.\n",
        "    *   If the car is running, turn it off and print a message.\n",
        "    *   If it's already off, print a message.\n",
        "*(Use f-strings to include the car's brand in the messages!)*"
      ],
      "metadata": {
        "id": "fPK0oXec997m"
      }
    },
    {
      "cell_type": "code",
      "source": [
        "# Part 2: Adding Behaviors\n",
        "class Car:\n",
        "    def __init__(self, brand, color):\n",
        "        self.brand = brand\n",
        "        self.color = color\n",
        "        self.is_running = False\n",
        "\n",
        "    def start(self):\n",
        "        if self.is_running:\n",
        "            print(f\"The {self.brand} is already running.\")\n",
        "        else:\n",
        "            self.is_running = True\n",
        "            print(f\"The {self.brand} starts. Vroom vroom!\")\n",
        "\n",
        "    def stop(self):\n",
        "        if self.is_running:\n",
        "            self.is_running = False\n",
        "            print(f\"The {self.brand} engine is turned off.\")\n",
        "        else:\n",
        "            print(f\"The {self.brand} is already off.\")"
      ],
      "metadata": {
        "id": "m111ffok9_po"
      },
      "execution_count": 10,
      "outputs": []
    },
    {
      "cell_type": "markdown",
      "source": [
        "### 🧪 Part 3: Testing Your Class\n",
        "1.  Create two different `Car` objects.\n",
        "2.  Print their attributes.\n",
        "3.  Call `start()` and `stop()` on them multiple times to test the logic."
      ],
      "metadata": {
        "id": "w0EgltR0-DvU"
      }
    },
    {
      "cell_type": "code",
      "source": [
        "# Part 3: Testing\n",
        "my_car = Car(\"Toyota\", \"blue\")\n",
        "your_car = Car(\"Ford\", \"red\")\n",
        "\n",
        "print(f\"My car is a {my_car.color} {my_car.brand}.\")\n",
        "print(f\"Your car is a {your_car.color} {your_car.brand}.\")\n",
        "\n",
        "print(\"\\n--- Testing My Car ---\")\n",
        "my_car.start()\n",
        "my_car.start() # Try to start it again\n",
        "my_car.stop()\n",
        "my_car.stop() # Try to stop it again\n",
        "\n",
        "print(\"\\n--- Testing Your Car ---\")\n",
        "your_car.start()\n",
        "your_car.stop()"
      ],
      "metadata": {
        "colab": {
          "base_uri": "https://localhost:8080/"
        },
        "id": "tt3k8ka1-FJ5",
        "outputId": "b25e0236-6c1e-40d3-9ba0-30d66f87dc95"
      },
      "execution_count": 11,
      "outputs": [
        {
          "output_type": "stream",
          "name": "stdout",
          "text": [
            "My car is a blue Toyota.\n",
            "Your car is a red Ford.\n",
            "\n",
            "--- Testing My Car ---\n",
            "The Toyota starts. Vroom vroom!\n",
            "The Toyota is already running.\n",
            "The Toyota engine is turned off.\n",
            "The Toyota is already off.\n",
            "\n",
            "--- Testing Your Car ---\n",
            "The Ford starts. Vroom vroom!\n",
            "The Ford engine is turned off.\n"
          ]
        }
      ]
    },
    {
      "cell_type": "markdown",
      "source": [
        "### 🚀 Challenge / Bonus Features\n",
        "1.  **Add a `__str__` method** to give a nice string representation.\n",
        "2.  **Add more attributes** like `model` and `year`.\n",
        "3.  **Create a state-aware method** `drive(self, distance)` that only works if the car is running."
      ],
      "metadata": {
        "id": "ZDmeI-Mo-IvY"
      }
    },
    {
      "cell_type": "code",
      "source": [
        "# Challenge: Enhanced Car Class\n",
        "class Car:\n",
        "    def __init__(self, brand, model, year, color):\n",
        "        self.brand = brand\n",
        "        self.model = model\n",
        "        self.year = year\n",
        "        self.color = color\n",
        "        self.is_running = False\n",
        "        self.mileage = 0 # Let's track miles driven\n",
        "\n",
        "    def __str__(self):\n",
        "        return f\"A {self.color} {self.year} {self.brand} {self.model}\"\n",
        "\n",
        "    def start(self):\n",
        "        if self.is_running:\n",
        "            print(f\"The {self.brand} is already running.\")\n",
        "        else:\n",
        "            self.is_running = True\n",
        "            print(f\"The {self.brand} starts. Vroom vroom!\")\n",
        "\n",
        "    def stop(self):\n",
        "        if self.is_running:\n",
        "            self.is_running = False\n",
        "            print(f\"The {self.brand} engine is turned off.\")\n",
        "        else:\n",
        "            print(f\"The {self.brand} is already off.\")\n",
        "\n",
        "    def drive(self, distance):\n",
        "        if not self.is_running:\n",
        "            print(\"Please start the car first!\")\n",
        "        else:\n",
        "            self.mileage += distance\n",
        "            print(f\"Driving {distance} miles. Total mileage: {self.mileage}\")\n",
        "\n",
        "# Test the enhanced class\n",
        "dream_car = Car(\"Porsche\", \"911\", 2025, \"silver\")\n",
        "print(dream_car) # Uses our new __str__ method\n",
        "\n",
        "dream_car.drive(10) # Should fail\n",
        "dream_car.start()\n",
        "dream_car.drive(50)\n",
        "dream_car.drive(120)\n",
        "dream_car.stop()"
      ],
      "metadata": {
        "colab": {
          "base_uri": "https://localhost:8080/"
        },
        "id": "gCj3ATJf-LSt",
        "outputId": "8042bfab-efa1-42d5-c19f-22073e271754"
      },
      "execution_count": 12,
      "outputs": [
        {
          "output_type": "stream",
          "name": "stdout",
          "text": [
            "A silver 2025 Porsche 911\n",
            "Please start the car first!\n",
            "The Porsche starts. Vroom vroom!\n",
            "Driving 50 miles. Total mileage: 50\n",
            "Driving 120 miles. Total mileage: 170\n",
            "The Porsche engine is turned off.\n"
          ]
        }
      ]
    }
  ]
}