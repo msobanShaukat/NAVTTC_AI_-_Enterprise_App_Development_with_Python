{
  "nbformat": 4,
  "nbformat_minor": 0,
  "metadata": {
    "colab": {
      "provenance": []
    },
    "kernelspec": {
      "name": "python3",
      "display_name": "Python 3"
    },
    "language_info": {
      "name": "python"
    }
  },
  "cells": [
    {
      "cell_type": "markdown",
      "source": [
        "# 🧠 Module 1: Core Python & Data - Week 2 Lecture 10\n",
        "**Date:** 29/08/2025  \n",
        "**Documented by:** Muhammad Soban Shaukat\n",
        "\n",
        "## 🏗️ A New Way of Thinking: Introduction to Object-Oriented Programming (OOP)\n",
        "\n",
        "We've mastered functions for reusable code. But as programs grow, we need a better way to manage complexity. Welcome to **Object-Oriented Programming (OOP)** – the foundation of modern software. It's not just new syntax; it's a new way to think about problems.\n",
        "\n",
        "---\n",
        "\n",
        "Yesterday's focus was **Encapsulation** (bundling data & methods). But OOP is built on three other powerful ideas. Let's explore them briefly.\n",
        "\n",
        "## 2. 👨‍👩‍👧‍👦 The Power of Inheritance\n",
        "\n",
        "Inheritance allows a new class (**child**) to reuse and extend the functionality of an existing class (**parent**). This promotes code reusability and a logical hierarchy.\n",
        "\n",
        "*   **Syntax:** `class ChildClass(ParentClass):`\n",
        "*   **`super()`:** Function used to call methods from the parent class."
      ],
      "metadata": {
        "id": "nRVCt8fFApNV"
      }
    },
    {
      "cell_type": "code",
      "source": [
        "# Inheritance Example: Animals\n",
        "class Animal:\n",
        "    def __init__(self, name):\n",
        "        self.name = name\n",
        "\n",
        "    def eat(self):\n",
        "        print(f\"{self.name} is eating.\")\n",
        "\n",
        "    def sleep(self):\n",
        "        print(f\"{self.name} is sleeping.\")\n",
        "\n",
        "# Dog inherits from Animal\n",
        "class Dog(Animal):\n",
        "    def __init__(self, name, breed):\n",
        "        super().__init__(name)  # Call parent's __init__\n",
        "        self.breed = breed      # New attribute specific to Dog\n",
        "\n",
        "    # New method specific to Dog\n",
        "    def bark(self):\n",
        "        print(f\"{self.name} says: Woof!\")\n",
        "\n",
        "    # Overriding parent's method\n",
        "    def eat(self):\n",
        "        print(f\"{self.name} the {self.breed} wolfs down its food!\")\n",
        "\n",
        "# Cat also inherits from Animal\n",
        "class Cat(Animal):\n",
        "    def meow(self):\n",
        "        print(f\"{self.name} says: Meow!\")\n",
        "\n",
        "# Create objects\n",
        "my_dog = Dog(\"Rex\", \"Labrador\")\n",
        "my_cat = Cat(\"Whiskers\")\n",
        "\n",
        "# Inherited methods\n",
        "my_dog.eat()    # Uses overridden version\n",
        "my_cat.eat()    # Uses parent's version\n",
        "my_dog.sleep()  # Uses inherited method\n",
        "my_cat.sleep()  # Uses inherited method\n",
        "\n",
        "# Child-specific methods\n",
        "my_dog.bark()\n",
        "my_cat.meow()\n",
        "\n",
        "print(f\"{my_dog.name} is a {my_dog.breed}.\")"
      ],
      "metadata": {
        "colab": {
          "base_uri": "https://localhost:8080/"
        },
        "id": "1RDNY7QMD9mc",
        "outputId": "03043739-32d7-487a-ca4a-9a723451b9db"
      },
      "execution_count": 1,
      "outputs": [
        {
          "output_type": "stream",
          "name": "stdout",
          "text": [
            "Rex the Labrador wolfs down its food!\n",
            "Whiskers is eating.\n",
            "Rex is sleeping.\n",
            "Whiskers is sleeping.\n",
            "Rex says: Woof!\n",
            "Whiskers says: Meow!\n",
            "Rex is a Labrador.\n"
          ]
        }
      ]
    },
    {
      "cell_type": "markdown",
      "source": [
        "## 3. #️⃣ The Power of Polymorphism\n",
        "\n",
        "Polymorphism means \"many forms\". It allows objects of different classes to be treated as objects of a common superclass. The same method call can behave differently depending on the object's class."
      ],
      "metadata": {
        "id": "O55AGMLTEhuJ"
      }
    },
    {
      "cell_type": "code",
      "source": [
        "# Polymorphism in Action\n",
        "def animal_sounds(animals):\n",
        "    for animal in animals:\n",
        "        animal.make_sound() # We expect all animals to have this method\n",
        "\n",
        "# Different classes with the same method name\n",
        "class Bird:\n",
        "    def make_sound(self):\n",
        "        print(\"Chirp chirp!\")\n",
        "\n",
        "class Cow:\n",
        "    def make_sound(self):\n",
        "        print(\"Moo!\")\n",
        "\n",
        "# Create a list of different objects\n",
        "farm_animals = [Bird(), Cow(), Dog(\"Buddy\", \"Beagle\")]\n",
        "\n",
        "# The same function works for all!\n",
        "print(\"=== On the Farm ===\")\n",
        "animal_sounds(farm_animals)"
      ],
      "metadata": {
        "colab": {
          "base_uri": "https://localhost:8080/",
          "height": 349
        },
        "id": "keoDhgizFD8P",
        "outputId": "2679bb10-1f31-4d73-ab3a-dd94abe4cf7c"
      },
      "execution_count": 3,
      "outputs": [
        {
          "output_type": "stream",
          "name": "stdout",
          "text": [
            "=== On the Farm ===\n",
            "Chirp chirp!\n",
            "Moo!\n"
          ]
        },
        {
          "output_type": "error",
          "ename": "AttributeError",
          "evalue": "'Dog' object has no attribute 'make_sound'",
          "traceback": [
            "\u001b[0;31m---------------------------------------------------------------------------\u001b[0m",
            "\u001b[0;31mAttributeError\u001b[0m                            Traceback (most recent call last)",
            "\u001b[0;32m/tmp/ipython-input-608185191.py\u001b[0m in \u001b[0;36m<cell line: 0>\u001b[0;34m()\u001b[0m\n\u001b[1;32m     18\u001b[0m \u001b[0;31m# The same function works for all!\u001b[0m\u001b[0;34m\u001b[0m\u001b[0;34m\u001b[0m\u001b[0m\n\u001b[1;32m     19\u001b[0m \u001b[0mprint\u001b[0m\u001b[0;34m(\u001b[0m\u001b[0;34m\"=== On the Farm ===\"\u001b[0m\u001b[0;34m)\u001b[0m\u001b[0;34m\u001b[0m\u001b[0;34m\u001b[0m\u001b[0m\n\u001b[0;32m---> 20\u001b[0;31m \u001b[0manimal_sounds\u001b[0m\u001b[0;34m(\u001b[0m\u001b[0mfarm_animals\u001b[0m\u001b[0;34m)\u001b[0m\u001b[0;34m\u001b[0m\u001b[0;34m\u001b[0m\u001b[0m\n\u001b[0m",
            "\u001b[0;32m/tmp/ipython-input-608185191.py\u001b[0m in \u001b[0;36manimal_sounds\u001b[0;34m(animals)\u001b[0m\n\u001b[1;32m      2\u001b[0m \u001b[0;32mdef\u001b[0m \u001b[0manimal_sounds\u001b[0m\u001b[0;34m(\u001b[0m\u001b[0manimals\u001b[0m\u001b[0;34m)\u001b[0m\u001b[0;34m:\u001b[0m\u001b[0;34m\u001b[0m\u001b[0;34m\u001b[0m\u001b[0m\n\u001b[1;32m      3\u001b[0m     \u001b[0;32mfor\u001b[0m \u001b[0manimal\u001b[0m \u001b[0;32min\u001b[0m \u001b[0manimals\u001b[0m\u001b[0;34m:\u001b[0m\u001b[0;34m\u001b[0m\u001b[0;34m\u001b[0m\u001b[0m\n\u001b[0;32m----> 4\u001b[0;31m         \u001b[0manimal\u001b[0m\u001b[0;34m.\u001b[0m\u001b[0mmake_sound\u001b[0m\u001b[0;34m(\u001b[0m\u001b[0;34m)\u001b[0m \u001b[0;31m# We expect all animals to have this method\u001b[0m\u001b[0;34m\u001b[0m\u001b[0;34m\u001b[0m\u001b[0m\n\u001b[0m\u001b[1;32m      5\u001b[0m \u001b[0;34m\u001b[0m\u001b[0m\n\u001b[1;32m      6\u001b[0m \u001b[0;31m# Different classes with the same method name\u001b[0m\u001b[0;34m\u001b[0m\u001b[0;34m\u001b[0m\u001b[0m\n",
            "\u001b[0;31mAttributeError\u001b[0m: 'Dog' object has no attribute 'make_sound'"
          ]
        }
      ]
    },
    {
      "cell_type": "markdown",
      "source": [
        "## 4. 🔷 Hands-On Lab: The Shape Class\n",
        "\n",
        "**Goal:** Create a hierarchy of shapes where each shape can calculate its area, demonstrating inheritance and polymorphism.\n",
        "\n",
        "**Step-by-Step Instructions:**\n",
        "### Part 1: The Blueprint (Base Class)"
      ],
      "metadata": {
        "id": "KsDvl3huFGVx"
      }
    },
    {
      "cell_type": "code",
      "source": [
        "# Base Class: Shape\n",
        "class Shape:\n",
        "    def area(self):\n",
        "        pass  # Placeholder - to be overridden by child classes\n",
        "\n",
        "    # A common method for all shapes\n",
        "    def describe(self):\n",
        "        print(\"I am a shape.\")"
      ],
      "metadata": {
        "id": "rmFvkP8iFO0c"
      },
      "execution_count": 4,
      "outputs": []
    },
    {
      "cell_type": "markdown",
      "source": [
        "### Part 2: Adding Behaviors (Child Classes)"
      ],
      "metadata": {
        "id": "_S27A1WoFRcJ"
      }
    },
    {
      "cell_type": "code",
      "source": [
        "# Child Class: Circle\n",
        "class Circle(Shape):\n",
        "    def __init__(self, radius):\n",
        "        self.radius = radius\n",
        "\n",
        "    # Override the area method\n",
        "    def area(self):\n",
        "        return 3.14159 * self.radius ** 2\n",
        "\n",
        "    # Override describe method\n",
        "    def describe(self):\n",
        "        print(f\"I am a circle with radius {self.radius}.\")\n",
        "\n",
        "# Child Class: Rectangle\n",
        "class Rectangle(Shape):\n",
        "    def __init__(self, width, height):\n",
        "        self.width = width\n",
        "        self.height = height\n",
        "\n",
        "    # Override the area method\n",
        "    def area(self):\n",
        "        return self.width * self.height\n",
        "\n",
        "    # Override describe method\n",
        "    def describe(self):\n",
        "        print(f\"I am a rectangle {self.width}x{self.height}.\")"
      ],
      "metadata": {
        "id": "Wa9XABmDFRMq"
      },
      "execution_count": 5,
      "outputs": []
    },
    {
      "cell_type": "markdown",
      "source": [
        "### Part 3: Testing Your Classes"
      ],
      "metadata": {
        "id": "PXU-bJifFYwm"
      }
    },
    {
      "cell_type": "code",
      "source": [
        "# Create different shapes\n",
        "shapes = [\n",
        "    Circle(5),\n",
        "    Rectangle(4, 6),\n",
        "    Circle(3),\n",
        "    Rectangle(2, 8)\n",
        "]\n",
        "\n",
        "# Demonstrate polymorphism\n",
        "print(\"=== Shape Areas ===\")\n",
        "total_area = 0\n",
        "for shape in shapes:\n",
        "    shape.describe()\n",
        "    area = shape.area()\n",
        "    print(f\"My area is: {area:.2f}\")\n",
        "    total_area += area\n",
        "    print(\"---\")\n",
        "\n",
        "print(f\"Total area of all shapes: {total_area:.2f}\")"
      ],
      "metadata": {
        "colab": {
          "base_uri": "https://localhost:8080/"
        },
        "id": "U8qnjhqsFYlv",
        "outputId": "3bd7feb3-4756-49e9-a5aa-3b214e89655d"
      },
      "execution_count": 6,
      "outputs": [
        {
          "output_type": "stream",
          "name": "stdout",
          "text": [
            "=== Shape Areas ===\n",
            "I am a circle with radius 5.\n",
            "My area is: 78.54\n",
            "---\n",
            "I am a rectangle 4x6.\n",
            "My area is: 24.00\n",
            "---\n",
            "I am a circle with radius 3.\n",
            "My area is: 28.27\n",
            "---\n",
            "I am a rectangle 2x8.\n",
            "My area is: 16.00\n",
            "---\n",
            "Total area of all shapes: 146.81\n"
          ]
        }
      ]
    },
    {
      "cell_type": "markdown",
      "source": [
        "### 🧠 Challenge: Add a Triangle Class"
      ],
      "metadata": {
        "id": "fNvQlTxjFe8d"
      }
    },
    {
      "cell_type": "code",
      "source": [
        "# Challenge: Triangle Class\n",
        "class Triangle(Shape):\n",
        "    def __init__(self, base, height):\n",
        "        self.base = base\n",
        "        self.height = height\n",
        "\n",
        "    def area(self):\n",
        "        return 0.5 * self.base * self.height\n",
        "\n",
        "    def describe(self):\n",
        "        print(f\"I am a triangle with base {self.base} and height {self.height}.\")\n",
        "\n",
        "# Test the Triangle\n",
        "shapes.append(Triangle(6, 4))\n",
        "print(f\"Triangle area: {shapes[-1].area()}\")"
      ],
      "metadata": {
        "colab": {
          "base_uri": "https://localhost:8080/"
        },
        "id": "VuD_22GPFe2a",
        "outputId": "82ec320d-0b26-4c9e-92fa-697ba016b483"
      },
      "execution_count": 7,
      "outputs": [
        {
          "output_type": "stream",
          "name": "stdout",
          "text": [
            "Triangle area: 12.0\n"
          ]
        }
      ]
    },
    {
      "cell_type": "markdown",
      "source": [
        "## 4. 📺 The Power of Abstraction\n",
        "\n",
        "**Abstraction** is about hiding unnecessary implementation details and exposing only what's essential to the user. In Python, we achieve this using **Abstract Base Classes (ABCs)** that define a \"contract\" - subclasses must implement the abstract methods, but each can do so in their own way.\n",
        "\n",
        "### 🎯 Real-world Analogy:\n",
        "Think of a car's steering wheel. You know *what* it does (turns the car), but you don't need to know *how* it works (the complex mechanics underneath). The steering wheel is the \"abstract interface\" to the car's turning system."
      ],
      "metadata": {
        "id": "ZiruX0HKFp8b"
      }
    },
    {
      "cell_type": "code",
      "source": [
        "# First, let's import the necessary tools\n",
        "from abc import ABC, abstractmethod"
      ],
      "metadata": {
        "id": "QD8K8BpqFpzp"
      },
      "execution_count": 8,
      "outputs": []
    },
    {
      "cell_type": "markdown",
      "source": [
        "## 🧪 Hands-On Lab: The Payment System\n",
        "\n",
        "**Goal:** Define a `PaymentMethod` abstract base class that specifies a contract, then implement concrete payment classes that follow it.\n",
        "\n",
        "**File:** We'll create our payment system right here in this Colab notebook."
      ],
      "metadata": {
        "id": "UvY_aK3hF3sV"
      }
    },
    {
      "cell_type": "markdown",
      "source": [
        "### 🔧 Step 1: Create the Abstract Base Class\n",
        "\n",
        "We'll define a `PaymentMethod` class that inherits from `ABC` and declares an abstract method `pay()`. This creates our \"contract\" - any concrete payment method MUST implement a `pay()` method."
      ],
      "metadata": {
        "id": "qWBQddBwF8QU"
      }
    },
    {
      "cell_type": "code",
      "source": [
        "# PART 1: The Abstract Blueprint\n",
        "class PaymentMethod(ABC):\n",
        "\n",
        "    @abstractmethod\n",
        "    def pay(self, amount):\n",
        "        \"\"\"Process a payment for the given amount.\"\"\"\n",
        "        pass\n",
        "\n",
        "    @abstractmethod\n",
        "    def refund(self, amount):\n",
        "        \"\"\"Process a refund for the given amount.\"\"\"\n",
        "        pass\n",
        "\n",
        "# Try to instantiate the abstract class (this will fail!)\n",
        "try:\n",
        "    payment = PaymentMethod()\n",
        "    print(\"Created abstract payment method\")\n",
        "except TypeError as e:\n",
        "    print(f\"❌ Error: {e}\")\n",
        "    print(\"This demonstrates that you cannot instantiate an abstract class!\")"
      ],
      "metadata": {
        "colab": {
          "base_uri": "https://localhost:8080/"
        },
        "id": "4UXt23zCGCgn",
        "outputId": "0f7e0fc6-9b72-4f6d-b304-95665a0263ac"
      },
      "execution_count": 9,
      "outputs": [
        {
          "output_type": "stream",
          "name": "stdout",
          "text": [
            "❌ Error: Can't instantiate abstract class PaymentMethod without an implementation for abstract methods 'pay', 'refund'\n",
            "This demonstrates that you cannot instantiate an abstract class!\n"
          ]
        }
      ]
    }
  ]
}