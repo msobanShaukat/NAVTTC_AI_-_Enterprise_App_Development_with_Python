{
  "nbformat": 4,
  "nbformat_minor": 0,
  "metadata": {
    "colab": {
      "provenance": []
    },
    "kernelspec": {
      "name": "python3",
      "display_name": "Python 3"
    },
    "language_info": {
      "name": "python"
    }
  },
  "cells": [
    {
      "cell_type": "markdown",
      "source": [
        "# 🧠 Module 1: Core Python & Data - Week 2 Lecture 10\n",
        "**Date:** 29/08/2025  \n",
        "**Documented by:** Muhammad Soban Shaukat\n",
        "\n",
        "## 🏗️ A New Way of Thinking: Introduction to Object-Oriented Programming (OOP)\n",
        "\n",
        "We've mastered functions for reusable code. But as programs grow, we need a better way to manage complexity. Welcome to **Object-Oriented Programming (OOP)** – the foundation of modern software. It's not just new syntax; it's a new way to think about problems.\n",
        "\n",
        "---\n",
        "\n",
        "Yesterday's focus was **Encapsulation** (bundling data & methods). But OOP is built on three other powerful ideas. Let's explore them briefly.\n",
        "\n",
        "## 2. 👨‍👩‍👧‍👦 The Power of Inheritance\n",
        "\n",
        "Inheritance allows a new class (**child**) to reuse and extend the functionality of an existing class (**parent**). This promotes code reusability and a logical hierarchy.\n",
        "\n",
        "*   **Syntax:** `class ChildClass(ParentClass):`\n",
        "*   **`super()`:** Function used to call methods from the parent class."
      ],
      "metadata": {
        "id": "nRVCt8fFApNV"
      }
    },
    {
      "cell_type": "code",
      "source": [
        "# Inheritance Example: Animals\n",
        "class Animal:\n",
        "    def __init__(self, name):\n",
        "        self.name = name\n",
        "\n",
        "    def eat(self):\n",
        "        print(f\"{self.name} is eating.\")\n",
        "\n",
        "    def sleep(self):\n",
        "        print(f\"{self.name} is sleeping.\")\n",
        "\n",
        "# Dog inherits from Animal\n",
        "class Dog(Animal):\n",
        "    def __init__(self, name, breed):\n",
        "        super().__init__(name)  # Call parent's __init__\n",
        "        self.breed = breed      # New attribute specific to Dog\n",
        "\n",
        "    # New method specific to Dog\n",
        "    def bark(self):\n",
        "        print(f\"{self.name} says: Woof!\")\n",
        "\n",
        "    # Overriding parent's method\n",
        "    def eat(self):\n",
        "        print(f\"{self.name} the {self.breed} wolfs down its food!\")\n",
        "\n",
        "# Cat also inherits from Animal\n",
        "class Cat(Animal):\n",
        "    def meow(self):\n",
        "        print(f\"{self.name} says: Meow!\")\n",
        "\n",
        "# Create objects\n",
        "my_dog = Dog(\"Rex\", \"Labrador\")\n",
        "my_cat = Cat(\"Whiskers\")\n",
        "\n",
        "# Inherited methods\n",
        "my_dog.eat()    # Uses overridden version\n",
        "my_cat.eat()    # Uses parent's version\n",
        "my_dog.sleep()  # Uses inherited method\n",
        "my_cat.sleep()  # Uses inherited method\n",
        "\n",
        "# Child-specific methods\n",
        "my_dog.bark()\n",
        "my_cat.meow()\n",
        "\n",
        "print(f\"{my_dog.name} is a {my_dog.breed}.\")"
      ],
      "metadata": {
        "colab": {
          "base_uri": "https://localhost:8080/"
        },
        "id": "1RDNY7QMD9mc",
        "outputId": "d3605c4d-63e6-48f3-b00a-5344bcd14879"
      },
      "execution_count": 20,
      "outputs": [
        {
          "output_type": "stream",
          "name": "stdout",
          "text": [
            "Rex the Labrador wolfs down its food!\n",
            "Whiskers is eating.\n",
            "Rex is sleeping.\n",
            "Whiskers is sleeping.\n",
            "Rex says: Woof!\n",
            "Whiskers says: Meow!\n",
            "Rex is a Labrador.\n"
          ]
        }
      ]
    },
    {
      "cell_type": "markdown",
      "source": [
        "## 3. #️⃣ The Power of Polymorphism\n",
        "\n",
        "Polymorphism means \"many forms\". It allows objects of different classes to be treated as objects of a common superclass. The same method call can behave differently depending on the object's class."
      ],
      "metadata": {
        "id": "O55AGMLTEhuJ"
      }
    },
    {
      "cell_type": "code",
      "source": [
        "# Polymorphism Example\n",
        "print(\"=== Fixed Polymorphism Example ===\")\n",
        "\n",
        "# First, let's define a proper Dog class with make_sound method\n",
        "class Dog:\n",
        "    def __init__(self, name, breed):\n",
        "        self.name = name\n",
        "        self.breed = breed\n",
        "\n",
        "    def make_sound(self):\n",
        "        print(f\"{self.name} the {self.breed} says: Woof woof!\")\n",
        "\n",
        "    def wag_tail(self):\n",
        "        print(f\"{self.name} is wagging its tail happily!\")\n",
        "\n",
        "class Bird:\n",
        "    def make_sound(self):\n",
        "        print(\"Chirp chirp!\")\n",
        "\n",
        "    def fly(self):\n",
        "        print(\"Flying high in the sky!\")\n",
        "\n",
        "class Cow:\n",
        "    def make_sound(self):\n",
        "        print(\"Moo!\")\n",
        "\n",
        "    def graze(self):\n",
        "        print(\"Grazing in the field\")\n",
        "\n",
        "# Polymorphism function - works with ANY object that has make_sound()\n",
        "def animal_sounds(animals):\n",
        "    print(\"\\n🎵 Animal Concert Starting! 🎵\")\n",
        "    for animal in animals:\n",
        "        animal.make_sound()  # This will work for all objects now\n",
        "\n",
        "# Create a list of different objects\n",
        "farm_animals = [\n",
        "    Bird(),\n",
        "    Cow(),\n",
        "    Dog(\"Buddy\", \"Beagle\"),\n",
        "    Dog(\"Luna\", \"Golden Retriever\")\n",
        "]\n",
        "\n",
        "# The same function works for all!\n",
        "animal_sounds(farm_animals)\n",
        "\n",
        "# Let's also demonstrate that each class can have unique methods\n",
        "print(\"\\n=== Unique Animal Behaviors ===\")\n",
        "for animal in farm_animals:\n",
        "    if hasattr(animal, 'fly'):\n",
        "        animal.fly()\n",
        "    elif hasattr(animal, 'graze'):\n",
        "        animal.graze()\n",
        "    elif hasattr(animal, 'wag_tail'):\n",
        "        animal.wag_tail()"
      ],
      "metadata": {
        "colab": {
          "base_uri": "https://localhost:8080/"
        },
        "id": "keoDhgizFD8P",
        "outputId": "bb01db01-3fe6-462e-c87e-fd0c681eadcc"
      },
      "execution_count": 45,
      "outputs": [
        {
          "output_type": "stream",
          "name": "stdout",
          "text": [
            "=== Fixed Polymorphism Example ===\n",
            "\n",
            "🎵 Animal Concert Starting! 🎵\n",
            "Chirp chirp!\n",
            "Moo!\n",
            "Buddy the Beagle says: Woof woof!\n",
            "Luna the Golden Retriever says: Woof woof!\n",
            "\n",
            "=== Unique Animal Behaviors ===\n",
            "Flying high in the sky!\n",
            "Grazing in the field\n",
            "Buddy is wagging its tail happily!\n",
            "Luna is wagging its tail happily!\n"
          ]
        }
      ]
    },
    {
      "cell_type": "code",
      "source": [
        "# Even better: Using inheritance for true polymorphism\n",
        "print(\"\\n=== Enhanced Polymorphism with Inheritance ===\")\n",
        "\n",
        "class Animal:\n",
        "    def make_sound(self):\n",
        "        pass  # To be overridden by subclasses\n",
        "\n",
        "class Dog(Animal):\n",
        "    def __init__(self, name, breed):\n",
        "        self.name = name\n",
        "        self.breed = breed\n",
        "\n",
        "    def make_sound(self):\n",
        "        print(f\"{self.name} the {self.breed} says: Woof woof!\")\n",
        "\n",
        "class Bird(Animal):\n",
        "    def make_sound(self):\n",
        "        print(\"Chirp chirp!\")\n",
        "\n",
        "class Cow(Animal):\n",
        "    def make_sound(self):\n",
        "        print(\"Moo!\")\n",
        "\n",
        "# Now we can be sure all animals have make_sound()\n",
        "proper_animals = [\n",
        "    Bird(),\n",
        "    Cow(),\n",
        "    Dog(\"Buddy\", \"Beagle\"),\n",
        "    Dog(\"Luna\", \"Golden Retriever\")\n",
        "]\n",
        "\n",
        "def better_animal_sounds(animals):\n",
        "    print(\"\\n🎵 Better Animal Concert! 🎵\")\n",
        "    for animal in animals:\n",
        "        animal.make_sound()\n",
        "\n",
        "better_animal_sounds(proper_animals)\n",
        "\n",
        "# We can also check if they're all Animals\n",
        "print(f\"\\nAll are Animals: {all(isinstance(animal, Animal) for animal in proper_animals)}\")"
      ],
      "metadata": {
        "colab": {
          "base_uri": "https://localhost:8080/"
        },
        "id": "zN72Gc5R4oUw",
        "outputId": "7bf744db-e815-4e5f-85d4-4dc1b77b54a9"
      },
      "execution_count": 46,
      "outputs": [
        {
          "output_type": "stream",
          "name": "stdout",
          "text": [
            "\n",
            "=== Enhanced Polymorphism with Inheritance ===\n",
            "\n",
            "🎵 Better Animal Concert! 🎵\n",
            "Chirp chirp!\n",
            "Moo!\n",
            "Buddy the Beagle says: Woof woof!\n",
            "Luna the Golden Retriever says: Woof woof!\n",
            "\n",
            "All are Animals: True\n"
          ]
        }
      ]
    },
    {
      "cell_type": "code",
      "source": [
        "# Most robust: Using abstract base classes\n",
        "print(\"\\n=== Most Robust: Using Abstract Base Classes ===\")\n",
        "\n",
        "from abc import ABC, abstractmethod\n",
        "\n",
        "class Animal(ABC):\n",
        "    @abstractmethod\n",
        "    def make_sound(self):\n",
        "        pass\n",
        "\n",
        "class Dog(Animal):\n",
        "    def __init__(self, name, breed):\n",
        "        self.name = name\n",
        "        self.breed = breed\n",
        "\n",
        "    def make_sound(self):\n",
        "        print(f\"{self.name} the {self.breed} says: Woof woof!\")\n",
        "\n",
        "class Bird(Animal):\n",
        "    def make_sound(self):\n",
        "        print(\"Chirp chirp!\")\n",
        "\n",
        "class Cow(Animal):\n",
        "    def make_sound(self):\n",
        "        print(\"Moo!\")\n",
        "\n",
        "# This ensures ALL animals have make_sound()\n",
        "robust_animals = [\n",
        "    Bird(),\n",
        "    Cow(),\n",
        "    Dog(\"Buddy\", \"Beagle\")\n",
        "]\n",
        "\n",
        "def robust_animal_sounds(animals):\n",
        "    print(\"\\n🎵 Robust Animal Concert! 🎵\")\n",
        "    for animal in animals:\n",
        "        animal.make_sound()\n",
        "\n",
        "robust_animal_sounds(robust_animals)\n",
        "\n",
        "# Try to create an animal without make_sound - this will fail!\n",
        "try:\n",
        "    class InvalidAnimal(Animal):\n",
        "        pass  # Doesn't implement make_sound\n",
        "\n",
        "    invalid = InvalidAnimal()\n",
        "except TypeError as e:\n",
        "    print(f\"\\n✅ Properly prevented invalid animal: {e}\")"
      ],
      "metadata": {
        "colab": {
          "base_uri": "https://localhost:8080/"
        },
        "id": "9m89DKSb42yf",
        "outputId": "5473f5a3-a6c8-4a0c-9c74-31c292a11bd8"
      },
      "execution_count": 47,
      "outputs": [
        {
          "output_type": "stream",
          "name": "stdout",
          "text": [
            "\n",
            "=== Most Robust: Using Abstract Base Classes ===\n",
            "\n",
            "🎵 Robust Animal Concert! 🎵\n",
            "Chirp chirp!\n",
            "Moo!\n",
            "Buddy the Beagle says: Woof woof!\n",
            "\n",
            "✅ Properly prevented invalid animal: Can't instantiate abstract class InvalidAnimal without an implementation for abstract method 'make_sound'\n"
          ]
        }
      ]
    },
    {
      "cell_type": "markdown",
      "source": [
        "## 4. 🔷 Hands-On Lab: The Shape Class\n",
        "\n",
        "**Goal:** Create a hierarchy of shapes where each shape can calculate its area, demonstrating inheritance and polymorphism.\n",
        "\n",
        "**Step-by-Step Instructions:**\n",
        "### Part 1: The Blueprint (Base Class)"
      ],
      "metadata": {
        "id": "KsDvl3huFGVx"
      }
    },
    {
      "cell_type": "code",
      "source": [
        "# Base Class: Shape\n",
        "class Shape:\n",
        "    def area(self):\n",
        "        pass  # Placeholder - to be overridden by child classes\n",
        "\n",
        "    # A common method for all shapes\n",
        "    def describe(self):\n",
        "        print(\"I am a shape.\")"
      ],
      "metadata": {
        "id": "rmFvkP8iFO0c"
      },
      "execution_count": 39,
      "outputs": []
    },
    {
      "cell_type": "markdown",
      "source": [
        "### Part 2: Adding Behaviors (Child Classes)"
      ],
      "metadata": {
        "id": "_S27A1WoFRcJ"
      }
    },
    {
      "cell_type": "code",
      "source": [
        "# Child Class: Circle\n",
        "class Circle(Shape):\n",
        "    def __init__(self, radius):\n",
        "        self.radius = radius\n",
        "\n",
        "    # Override the area method\n",
        "    def area(self):\n",
        "        return 3.14159 * self.radius ** 2\n",
        "\n",
        "    # Override describe method\n",
        "    def describe(self):\n",
        "        print(f\"I am a circle with radius {self.radius}.\")\n",
        "\n",
        "# Child Class: Rectangle\n",
        "class Rectangle(Shape):\n",
        "    def __init__(self, width, height):\n",
        "        self.width = width\n",
        "        self.height = height\n",
        "\n",
        "    # Override the area method\n",
        "    def area(self):\n",
        "        return self.width * self.height\n",
        "\n",
        "    # Override describe method\n",
        "    def describe(self):\n",
        "        print(f\"I am a rectangle {self.width}x{self.height}.\")"
      ],
      "metadata": {
        "id": "Wa9XABmDFRMq"
      },
      "execution_count": 40,
      "outputs": []
    },
    {
      "cell_type": "markdown",
      "source": [
        "### Part 3: Testing Your Classes"
      ],
      "metadata": {
        "id": "PXU-bJifFYwm"
      }
    },
    {
      "cell_type": "code",
      "source": [
        "# Create different shapes\n",
        "shapes = [\n",
        "    Circle(5),\n",
        "    Rectangle(4, 6),\n",
        "    Circle(3),\n",
        "    Rectangle(2, 8)\n",
        "]\n",
        "\n",
        "# Demonstrate polymorphism\n",
        "print(\"=== Shape Areas ===\")\n",
        "total_area = 0\n",
        "for shape in shapes:\n",
        "    shape.describe()\n",
        "    area = shape.area()\n",
        "    print(f\"My area is: {area:.2f}\")\n",
        "    total_area += area\n",
        "    print(\"---\")\n",
        "\n",
        "print(f\"Total area of all shapes: {total_area:.2f}\")"
      ],
      "metadata": {
        "colab": {
          "base_uri": "https://localhost:8080/"
        },
        "id": "U8qnjhqsFYlv",
        "outputId": "abd8e8e0-ba8a-4fb8-aaf7-a83e7ccb10c6"
      },
      "execution_count": 41,
      "outputs": [
        {
          "output_type": "stream",
          "name": "stdout",
          "text": [
            "=== Shape Areas ===\n",
            "I am a circle with radius 5.\n",
            "My area is: 78.54\n",
            "---\n",
            "I am a rectangle 4x6.\n",
            "My area is: 24.00\n",
            "---\n",
            "I am a circle with radius 3.\n",
            "My area is: 28.27\n",
            "---\n",
            "I am a rectangle 2x8.\n",
            "My area is: 16.00\n",
            "---\n",
            "Total area of all shapes: 146.81\n"
          ]
        }
      ]
    },
    {
      "cell_type": "markdown",
      "source": [
        "### 🧠 Challenge: Add a Triangle Class"
      ],
      "metadata": {
        "id": "fNvQlTxjFe8d"
      }
    },
    {
      "cell_type": "code",
      "source": [
        "# Challenge: Triangle Class\n",
        "class Triangle(Shape):\n",
        "    def __init__(self, base, height):\n",
        "        self.base = base\n",
        "        self.height = height\n",
        "\n",
        "    def area(self):\n",
        "        return 0.5 * self.base * self.height\n",
        "\n",
        "    def describe(self):\n",
        "        print(f\"I am a triangle with base {self.base} and height {self.height}.\")\n",
        "\n",
        "# Test the Triangle\n",
        "shapes.append(Triangle(6, 4))\n",
        "print(f\"Triangle area: {shapes[-1].area()}\")"
      ],
      "metadata": {
        "colab": {
          "base_uri": "https://localhost:8080/"
        },
        "id": "VuD_22GPFe2a",
        "outputId": "07b52d72-f444-4d94-e763-9a3fed219b2c"
      },
      "execution_count": 42,
      "outputs": [
        {
          "output_type": "stream",
          "name": "stdout",
          "text": [
            "Triangle area: 12.0\n"
          ]
        }
      ]
    },
    {
      "cell_type": "markdown",
      "source": [
        "## 4. 📺 The Power of Abstraction\n",
        "\n",
        "**Abstraction** is about hiding unnecessary implementation details and exposing only what's essential to the user. In Python, we achieve this using **Abstract Base Classes (ABCs)** that define a \"contract\" - subclasses must implement the abstract methods, but each can do so in their own way.\n",
        "\n",
        "### 🎯 Real-world Analogy:\n",
        "Think of a car's steering wheel. You know *what* it does (turns the car), but you don't need to know *how* it works (the complex mechanics underneath). The steering wheel is the \"abstract interface\" to the car's turning system."
      ],
      "metadata": {
        "id": "ZiruX0HKFp8b"
      }
    },
    {
      "cell_type": "code",
      "source": [
        "# First, let's import the necessary tools\n",
        "from abc import ABC, abstractmethod"
      ],
      "metadata": {
        "id": "QD8K8BpqFpzp"
      },
      "execution_count": 43,
      "outputs": []
    },
    {
      "cell_type": "markdown",
      "source": [
        "## 🧪 Hands-On Lab: The Payment System\n",
        "\n",
        "**Goal:** Define a `PaymentMethod` abstract base class that specifies a contract, then implement concrete payment classes that follow it.\n",
        "\n",
        "**File:** We'll create our payment system right here in this Colab notebook."
      ],
      "metadata": {
        "id": "UvY_aK3hF3sV"
      }
    },
    {
      "cell_type": "markdown",
      "source": [
        "### 🔧 Step 1: Create the Abstract Base Class\n",
        "\n",
        "We'll define a `PaymentMethod` class that inherits from `ABC` and declares an abstract method `pay()`. This creates our \"contract\" - any concrete payment method MUST implement a `pay()` method."
      ],
      "metadata": {
        "id": "qWBQddBwF8QU"
      }
    },
    {
      "cell_type": "code",
      "source": [
        "# PART 1: The Abstract Blueprint\n",
        "class PaymentMethod(ABC):\n",
        "\n",
        "    @abstractmethod\n",
        "    def pay(self, amount):\n",
        "        \"\"\"Process a payment for the given amount.\"\"\"\n",
        "        pass\n",
        "\n",
        "    @abstractmethod\n",
        "    def refund(self, amount):\n",
        "        \"\"\"Process a refund for the given amount.\"\"\"\n",
        "        pass\n",
        "\n",
        "# Try to instantiate the abstract class (this will fail!)\n",
        "try:\n",
        "    payment = PaymentMethod()\n",
        "    print(\"Created abstract payment method\")\n",
        "except TypeError as e:\n",
        "    print(f\"❌ Error: {e}\")\n",
        "    print(\"This demonstrates that you cannot instantiate an abstract class!\")"
      ],
      "metadata": {
        "colab": {
          "base_uri": "https://localhost:8080/"
        },
        "id": "4UXt23zCGCgn",
        "outputId": "0abfe04f-c05c-4454-dcd7-a200e3b7ac02"
      },
      "execution_count": 44,
      "outputs": [
        {
          "output_type": "stream",
          "name": "stdout",
          "text": [
            "❌ Error: Can't instantiate abstract class PaymentMethod without an implementation for abstract methods 'pay', 'refund'\n",
            "This demonstrates that you cannot instantiate an abstract class!\n"
          ]
        }
      ]
    },
    {
      "cell_type": "markdown",
      "source": [
        "**📝 Explanation:**\n",
        "- `@abstractmethod` decorator marks methods that MUST be implemented by subclasses\n",
        "- `PaymentMethod` defines what payment classes should do (the interface), not how they do it\n",
        "- Trying to create a `PaymentMethod` object directly raises a `TypeError` - enforcing the contract"
      ],
      "metadata": {
        "id": "QIV-v__L1CyQ"
      }
    },
    {
      "cell_type": "markdown",
      "source": [
        "### 🔧 Step 2: Create Concrete Payment Classes\n",
        "\n",
        "Now we'll create specific payment methods that inherit from `PaymentMethod` and provide actual implementations for the abstract methods."
      ],
      "metadata": {
        "id": "XrAuVLvn1GZc"
      }
    },
    {
      "cell_type": "code",
      "source": [
        "# PART 2: Concrete Payment Classes\n",
        "class CreditCard(PaymentMethod):\n",
        "    def __init__(self, card_number, card_holder):\n",
        "        self.card_number = card_number\n",
        "        self.card_holder = card_holder\n",
        "        self.transactions = []\n",
        "\n",
        "    def pay(self, amount):\n",
        "        # Simulate credit card payment processing\n",
        "        transaction_id = f\"CC_{len(self.transactions) + 1:04d}\"\n",
        "        self.transactions.append({\"type\": \"payment\", \"amount\": amount, \"id\": transaction_id})\n",
        "        print(f\"💳 Paid ${amount:.2f} using Credit Card ({self.card_holder})\")\n",
        "        return transaction_id\n",
        "\n",
        "    def refund(self, amount):\n",
        "        # Simulate credit card refund\n",
        "        transaction_id = f\"CC_REF_{len(self.transactions) + 1:04d}\"\n",
        "        self.transactions.append({\"type\": \"refund\", \"amount\": amount, \"id\": transaction_id})\n",
        "        print(f\"💳 Refunded ${amount:.2f} to Credit Card ({self.card_holder})\")\n",
        "        return transaction_id\n",
        "\n",
        "class PayPal(PaymentMethod):\n",
        "    def __init__(self, email):\n",
        "        self.email = email\n",
        "        self.transaction_history = []\n",
        "\n",
        "    def pay(self, amount):\n",
        "        # Simulate PayPal payment\n",
        "        transaction_id = f\"PP_{len(self.transaction_history) + 1:04d}\"\n",
        "        self.transaction_history.append({\"action\": \"payment\", \"amount\": amount})\n",
        "        print(f\"📧 Paid ${amount:.2f} using PayPal ({self.email})\")\n",
        "        return transaction_id\n",
        "\n",
        "    def refund(self, amount):\n",
        "        # Simulate PayPal refund\n",
        "        transaction_id = f\"PP_REF_{len(self.transaction_history) + 1:04d}\"\n",
        "        self.transaction_history.append({\"action\": \"refund\", \"amount\": amount})\n",
        "        print(f\"📧 Refunded ${amount:.2f} to PayPal ({self.email})\")\n",
        "        return transaction_id\n",
        "\n",
        "class Cash(PaymentMethod):\n",
        "    def __init__(self):\n",
        "        self.cash_received = 0\n",
        "        self.cash_refunded = 0\n",
        "\n",
        "    def pay(self, amount):\n",
        "        # Simulate cash payment\n",
        "        self.cash_received += amount\n",
        "        print(f\"💵 Paid ${amount:.2f} in cash (Transaction completed)\")\n",
        "        return f\"CASH_{int(self.cash_received)}\"\n",
        "\n",
        "    def refund(self, amount):\n",
        "        # Simulate cash refund\n",
        "        self.cash_refunded += amount\n",
        "        print(f\"💵 Refunded ${amount:.2f} in cash\")\n",
        "        return f\"CASH_REF_{int(self.cash_refunded)}\""
      ],
      "metadata": {
        "id": "kl0681-K1E8a"
      },
      "execution_count": 26,
      "outputs": []
    },
    {
      "cell_type": "markdown",
      "source": [
        "**📝 Explanation:**\n",
        "- Each concrete class (`CreditCard`, `PayPal`, `Cash`) provides its own implementation of `pay()` and `refund()`\n",
        "- The implementations are different but follow the same interface\n",
        "- This demonstrates how abstraction allows different payment methods to work through a common interface"
      ],
      "metadata": {
        "id": "yxikujLI1WLY"
      }
    },
    {
      "cell_type": "markdown",
      "source": [
        "### 🔧 Step 3: Test the Payment System\n",
        "\n",
        "Let's create different payment methods and process payments through them, demonstrating polymorphism and the power of the abstract interface."
      ],
      "metadata": {
        "id": "P8dZfc5C1ahW"
      }
    },
    {
      "cell_type": "code",
      "source": [
        "# PART 3: Testing the Payment System\n",
        "print(\"=== Payment System Test ===\")\n",
        "\n",
        "# Create different payment methods\n",
        "payment_methods = [\n",
        "    CreditCard(\"1234-5678-9012-3456\", \"John Doe\"),\n",
        "    PayPal(\"john.doe@example.com\"),\n",
        "    Cash()\n",
        "]\n",
        "\n",
        "# Process payments using the common interface\n",
        "amounts = [100.50, 75.25, 200.00]\n",
        "\n",
        "print(\"\\n--- Processing Payments ---\")\n",
        "for i, method in enumerate(payment_methods):\n",
        "    transaction_id = method.pay(amounts[i])\n",
        "    print(f\"Transaction ID: {transaction_id}\")\n",
        "    print(\"---\")\n",
        "\n",
        "# Process refunds\n",
        "print(\"\\n--- Processing Refunds ---\")\n",
        "refund_amounts = [25.00, 10.50, 50.00]\n",
        "for i, method in enumerate(payment_methods):\n",
        "    refund_id = method.refund(refund_amounts[i])\n",
        "    print(f\"Refund ID: {refund_id}\")\n",
        "    print(\"---\")\n",
        "\n",
        "# Demonstrate that we can't create incomplete payment methods\n",
        "print(\"\\n--- Testing Contract Enforcement ---\")\n",
        "class IncompletePayment(PaymentMethod):\n",
        "    def pay(self, amount):\n",
        "        print(\"Paying...\")\n",
        "\n",
        "try:\n",
        "    incomplete = IncompletePayment()\n",
        "    print(\"Created incomplete payment method\")\n",
        "except TypeError as e:\n",
        "    print(f\"❌ Error: {e}\")\n",
        "    print(\"The abstract class enforces the contract - all methods must be implemented!\")"
      ],
      "metadata": {
        "colab": {
          "base_uri": "https://localhost:8080/"
        },
        "id": "4A6B3BMU1bmV",
        "outputId": "628a96d6-21f9-435c-a718-4066f7aa85dc"
      },
      "execution_count": 27,
      "outputs": [
        {
          "output_type": "stream",
          "name": "stdout",
          "text": [
            "=== Payment System Test ===\n",
            "\n",
            "--- Processing Payments ---\n",
            "💳 Paid $100.50 using Credit Card (John Doe)\n",
            "Transaction ID: CC_0001\n",
            "---\n",
            "📧 Paid $75.25 using PayPal (john.doe@example.com)\n",
            "Transaction ID: PP_0001\n",
            "---\n",
            "💵 Paid $200.00 in cash (Transaction completed)\n",
            "Transaction ID: CASH_200\n",
            "---\n",
            "\n",
            "--- Processing Refunds ---\n",
            "💳 Refunded $25.00 to Credit Card (John Doe)\n",
            "Refund ID: CC_REF_0002\n",
            "---\n",
            "📧 Refunded $10.50 to PayPal (john.doe@example.com)\n",
            "Refund ID: PP_REF_0002\n",
            "---\n",
            "💵 Refunded $50.00 in cash\n",
            "Refund ID: CASH_REF_50\n",
            "---\n",
            "\n",
            "--- Testing Contract Enforcement ---\n",
            "❌ Error: Can't instantiate abstract class IncompletePayment without an implementation for abstract method 'refund'\n",
            "The abstract class enforces the contract - all methods must be implemented!\n"
          ]
        }
      ]
    },
    {
      "cell_type": "markdown",
      "source": [
        "## 🚀 Challenge / Bonus Features\n",
        "\n",
        "Let's extend our payment system with advanced features mentioned in the challenge."
      ],
      "metadata": {
        "id": "9uhDk-K_10g9"
      }
    },
    {
      "cell_type": "code",
      "source": [
        "# CHALLENGE: Enhanced Payment System\n",
        "class EnhancedCreditCard(CreditCard):\n",
        "    def __init__(self, card_number, card_holder, currency=\"USD\"):\n",
        "        super().__init__(card_number, card_holder)\n",
        "        self.currency = currency\n",
        "\n",
        "    def pay(self, amount):\n",
        "        if amount <= 0:\n",
        "            raise ValueError(\"💰 Payment amount must be positive!\")\n",
        "\n",
        "        transaction_id = super().pay(amount)\n",
        "        print(f\"Currency: {self.currency}\")\n",
        "        return transaction_id\n",
        "\n",
        "    def refund(self, amount):\n",
        "        if amount <= 0:\n",
        "            raise ValueError(\"💰 Refund amount must be positive!\")\n",
        "\n",
        "        transaction_id = super().refund(amount)\n",
        "        print(f\"Currency: {self.currency}\")\n",
        "        return transaction_id\n",
        "\n",
        "# Test the enhanced system with validation\n",
        "print(\"\\n=== Enhanced Payment System Test ===\")\n",
        "\n",
        "enhanced_cc = EnhancedCreditCard(\"9876-5432-1098-7654\", \"Jane Smith\", \"EUR\")\n",
        "\n",
        "try:\n",
        "    # This should work\n",
        "    enhanced_cc.pay(150.75)\n",
        "    enhanced_cc.refund(25.00)\n",
        "\n",
        "    # These should fail with validation errors\n",
        "    print(\"\\n--- Testing Validation ---\")\n",
        "    enhanced_cc.pay(-50.00)  # Should raise ValueError\n",
        "except ValueError as e:\n",
        "    print(f\"Validation Error: {e}\")\n",
        "\n",
        "# Test currency support\n",
        "print(\"\\n--- Multi-Currency Support ---\")\n",
        "currencies = [\"USD\", \"EUR\", \"GBP\", \"JPY\"]\n",
        "for currency in currencies:\n",
        "    method = EnhancedCreditCard(\"0000-0000-0000-0000\", \"Test User\", currency)\n",
        "    method.pay(100.00)"
      ],
      "metadata": {
        "colab": {
          "base_uri": "https://localhost:8080/"
        },
        "id": "uOUwOtk816Yx",
        "outputId": "46b61f89-20a7-486f-bf96-2cf7775f566e"
      },
      "execution_count": 28,
      "outputs": [
        {
          "output_type": "stream",
          "name": "stdout",
          "text": [
            "\n",
            "=== Enhanced Payment System Test ===\n",
            "💳 Paid $150.75 using Credit Card (Jane Smith)\n",
            "Currency: EUR\n",
            "💳 Refunded $25.00 to Credit Card (Jane Smith)\n",
            "Currency: EUR\n",
            "\n",
            "--- Testing Validation ---\n",
            "Validation Error: 💰 Payment amount must be positive!\n",
            "\n",
            "--- Multi-Currency Support ---\n",
            "💳 Paid $100.00 using Credit Card (Test User)\n",
            "Currency: USD\n",
            "💳 Paid $100.00 using Credit Card (Test User)\n",
            "Currency: EUR\n",
            "💳 Paid $100.00 using Credit Card (Test User)\n",
            "Currency: GBP\n",
            "💳 Paid $100.00 using Credit Card (Test User)\n",
            "Currency: JPY\n"
          ]
        }
      ]
    },
    {
      "cell_type": "code",
      "source": [
        "# Comprehensive Payment System Demo\n",
        "print(\"=== Comprehensive Payment System Demo ===\")\n",
        "\n",
        "class PaymentProcessor:\n",
        "    def __init__(self):\n",
        "        self.available_methods = []\n",
        "\n",
        "    def add_method(self, payment_method):\n",
        "        if isinstance(payment_method, PaymentMethod):\n",
        "            self.available_methods.append(payment_method)\n",
        "            print(f\"✅ Added payment method: {payment_method.__class__.__name__}\")\n",
        "        else:\n",
        "            print(\"❌ Error: Only PaymentMethod subclasses can be added!\")\n",
        "\n",
        "    def process_payment(self, amount, method_index):\n",
        "        if 0 <= method_index < len(self.available_methods):\n",
        "            try:\n",
        "                return self.available_methods[method_index].pay(amount)\n",
        "            except ValueError as e:\n",
        "                print(f\"Payment failed: {e}\")\n",
        "                return None\n",
        "        else:\n",
        "            print(\"❌ Invalid payment method selection!\")\n",
        "            return None\n",
        "\n",
        "    def process_refund(self, amount, method_index):\n",
        "        if 0 <= method_index < len(self.available_methods):\n",
        "            try:\n",
        "                return self.available_methods[method_index].refund(amount)\n",
        "            except ValueError as e:\n",
        "                print(f\"Refund failed: {e}\")\n",
        "                return None\n",
        "        else:\n",
        "            print(\"❌ Invalid payment method selection!\")\n",
        "            return None\n",
        "\n",
        "# Create and test the complete system\n",
        "processor = PaymentProcessor()\n",
        "\n",
        "# Add payment methods\n",
        "processor.add_method(CreditCard(\"4111-1111-1111-1111\", \"Alice Johnson\"))\n",
        "processor.add_method(PayPal(\"alice@example.com\"))\n",
        "processor.add_method(Cash())\n",
        "processor.add_method(EnhancedCreditCard(\"5222-2222-2222-2222\", \"Bob Brown\", \"GBP\"))\n",
        "\n",
        "# Test the processor\n",
        "print(\"\\n--- Processing Transactions ---\")\n",
        "transactions = [\n",
        "    (150.00, 0),  # Credit card payment\n",
        "    (75.50, 1),   # PayPal payment\n",
        "    (200.00, 2),  # Cash payment\n",
        "    (125.25, 3),  # Enhanced credit card (GBP)\n",
        "]\n",
        "\n",
        "for amount, method_idx in transactions:\n",
        "    print(f\"\\nProcessing ${amount} payment...\")\n",
        "    transaction_id = processor.process_payment(amount, method_idx)\n",
        "    if transaction_id:\n",
        "        print(f\"Transaction successful! ID: {transaction_id}\")\n",
        "\n",
        "# Test refunds\n",
        "print(\"\\n--- Processing Refunds ---\")\n",
        "refunds = [(25.00, 0), (15.50, 1), (50.00, 3)]\n",
        "for amount, method_idx in refunds:\n",
        "    print(f\"\\nProcessing ${amount} refund...\")\n",
        "    refund_id = processor.process_refund(amount, method_idx)\n",
        "    if refund_id:\n",
        "        print(f\"Refund successful! ID: {refund_id}\")\n",
        "\n",
        "# Test error cases\n",
        "print(\"\\n--- Testing Error Cases ---\")\n",
        "processor.process_payment(-100.00, 3)  # Negative amount\n",
        "processor.process_payment(100.00, 99)  # Invalid method index"
      ],
      "metadata": {
        "colab": {
          "base_uri": "https://localhost:8080/"
        },
        "id": "AuhosG3m2Bqg",
        "outputId": "859f42a7-367d-484c-e3c6-708da679c1c1"
      },
      "execution_count": 29,
      "outputs": [
        {
          "output_type": "stream",
          "name": "stdout",
          "text": [
            "=== Comprehensive Payment System Demo ===\n",
            "✅ Added payment method: CreditCard\n",
            "✅ Added payment method: PayPal\n",
            "✅ Added payment method: Cash\n",
            "✅ Added payment method: EnhancedCreditCard\n",
            "\n",
            "--- Processing Transactions ---\n",
            "\n",
            "Processing $150.0 payment...\n",
            "💳 Paid $150.00 using Credit Card (Alice Johnson)\n",
            "Transaction successful! ID: CC_0001\n",
            "\n",
            "Processing $75.5 payment...\n",
            "📧 Paid $75.50 using PayPal (alice@example.com)\n",
            "Transaction successful! ID: PP_0001\n",
            "\n",
            "Processing $200.0 payment...\n",
            "💵 Paid $200.00 in cash (Transaction completed)\n",
            "Transaction successful! ID: CASH_200\n",
            "\n",
            "Processing $125.25 payment...\n",
            "💳 Paid $125.25 using Credit Card (Bob Brown)\n",
            "Currency: GBP\n",
            "Transaction successful! ID: CC_0001\n",
            "\n",
            "--- Processing Refunds ---\n",
            "\n",
            "Processing $25.0 refund...\n",
            "💳 Refunded $25.00 to Credit Card (Alice Johnson)\n",
            "Refund successful! ID: CC_REF_0002\n",
            "\n",
            "Processing $15.5 refund...\n",
            "📧 Refunded $15.50 to PayPal (alice@example.com)\n",
            "Refund successful! ID: PP_REF_0002\n",
            "\n",
            "Processing $50.0 refund...\n",
            "💳 Refunded $50.00 to Credit Card (Bob Brown)\n",
            "Currency: GBP\n",
            "Refund successful! ID: CC_REF_0002\n",
            "\n",
            "--- Testing Error Cases ---\n",
            "Payment failed: 💰 Payment amount must be positive!\n",
            "❌ Invalid payment method selection!\n"
          ]
        }
      ]
    },
    {
      "cell_type": "markdown",
      "source": [
        "## 📚 Abstraction Summary\n",
        "\n",
        "### 🎯 What We Learned:\n",
        "\n",
        "1.  **Abstract Base Classes (ABCs):** Create contracts using `ABC` and `@abstractmethod`\n",
        "2.  **Enforcement:** Python prevents instantiation of incomplete abstract classes\n",
        "3.  **Polymorphism:** Different classes can implement the same interface differently\n",
        "4.  **Validation:** Add input validation to ensure data integrity\n",
        "5.  **Extensibility:** Easy to add new payment methods without breaking existing code\n",
        "\n",
        "### 🔑 Key Concepts:\n",
        "\n",
        "- **Abstraction:** Hiding complex implementation details\n",
        "- **Interface:** The set of methods that a class must implement\n",
        "- **Contract:** The agreement between abstract class and concrete implementations\n",
        "- **Liskov Substitution:** Concrete classes should be usable wherever the abstract class is expected\n",
        "\n",
        "### 💡 Real-world Applications:\n",
        "\n",
        "- Payment processing systems\n",
        "- Database connectors (same interface for different databases)\n",
        "- File format handlers (read/write different formats with same methods)\n",
        "- Plugin systems where third parties can add new functionality\n",
        "\n",
        "### 🚀 Best Practices:\n",
        "\n",
        "1.  Keep abstract methods focused and minimal\n",
        "2.  Provide clear documentation for abstract methods\n",
        "3.  Use meaningful method names in the interface\n",
        "4.  Add validation in concrete implementations\n",
        "5.  Consider using abstract properties (`@abstractproperty`) when needed\n",
        "\n",
        "### ✅ Completion Checklist:\n",
        "\n",
        "- [x] Created abstract `PaymentMethod` class with `pay()` and `refund()` methods\n",
        "- [x] Implemented `CreditCard`, `PayPal`, and `Cash` concrete classes\n",
        "- [x] Tested polymorphism with different payment methods\n",
        "- [x] Added validation for negative amounts\n",
        "- [x] Implemented multi-currency support\n",
        "- [x] Created a payment processor that works with any `PaymentMethod`\n",
        "- [x] Tested error handling and edge cases\n",
        "\n",
        "This abstraction lab demonstrates how to create flexible, extensible systems that can grow with your application's needs!"
      ],
      "metadata": {
        "id": "0YgOwkiP2HZT"
      }
    },
    {
      "cell_type": "markdown",
      "source": [
        "## 6. 📊 Class Attributes vs Instance Attributes\n",
        "\n",
        "*   **Instance Attributes:** Unique to each object (`self.name`)\n",
        "*   **Class Attributes:** Shared by all objects of a class (`Species.scientific_name`)"
      ],
      "metadata": {
        "id": "bi6t3dJO2UGT"
      }
    },
    {
      "cell_type": "code",
      "source": [
        "# Class vs Instance Attributes\n",
        "class Dog:\n",
        "    # Class attribute - shared by all dogs\n",
        "    species = \"Canis familiaris\"\n",
        "    count = 0\n",
        "\n",
        "    def __init__(self, name, breed):\n",
        "        # Instance attributes - unique to each dog\n",
        "        self.name = name\n",
        "        self.breed = breed\n",
        "        Dog.count += 1  # Modify class attribute\n",
        "\n",
        "    def describe(self):\n",
        "        return f\"{self.name} is a {self.breed} ({self.species})\"\n",
        "\n",
        "# Create some dogs\n",
        "dog1 = Dog(\"Buddy\", \"Golden Retriever\")\n",
        "dog2 = Dog(\"Max\", \"Poodle\")\n",
        "dog3 = Dog(\"Bella\", \"Beagle\")\n",
        "\n",
        "print(dog1.describe())\n",
        "print(dog2.describe())\n",
        "print(dog3.describe())\n",
        "\n",
        "# All share the same class attribute\n",
        "print(f\"\\nAll dogs are: {Dog.species}\")\n",
        "print(f\"Total dogs created: {Dog.count}\")\n",
        "\n",
        "# Instance vs class attribute access\n",
        "print(f\"\\nBuddy's name (instance): {dog1.name}\")\n",
        "print(f\"Buddy's species (class): {dog1.species}\")"
      ],
      "metadata": {
        "colab": {
          "base_uri": "https://localhost:8080/"
        },
        "id": "ZBOAOteB2XsF",
        "outputId": "9565c3e7-1a39-4031-e9b3-cfd4ec9a6337"
      },
      "execution_count": 30,
      "outputs": [
        {
          "output_type": "stream",
          "name": "stdout",
          "text": [
            "Buddy is a Golden Retriever (Canis familiaris)\n",
            "Max is a Poodle (Canis familiaris)\n",
            "Bella is a Beagle (Canis familiaris)\n",
            "\n",
            "All dogs are: Canis familiaris\n",
            "Total dogs created: 3\n",
            "\n",
            "Buddy's name (instance): Buddy\n",
            "Buddy's species (class): Canis familiaris\n"
          ]
        }
      ]
    },
    {
      "cell_type": "markdown",
      "source": [
        "## 7. 🎭 Modifying & Deleting Object Properties\n",
        "\n",
        "Python objects are dynamic - you can modify, add, or delete attributes after creation!"
      ],
      "metadata": {
        "id": "BVwM2qGC2ems"
      }
    },
    {
      "cell_type": "code",
      "source": [
        "# Dynamic Object Properties\n",
        "class Person:\n",
        "    def __init__(self, name, age):\n",
        "        self.name = name\n",
        "        self.age = age\n",
        "\n",
        "# Create a person\n",
        "person = Person(\"Alice\", 30)\n",
        "print(f\"Original: {person.name}, {person.age}\")\n",
        "\n",
        "# Modify existing attribute\n",
        "person.age = 31\n",
        "print(f\"After modification: {person.name}, {person.age}\")\n",
        "\n",
        "# Add new attribute\n",
        "person.email = \"alice@example.com\"\n",
        "print(f\"With new attribute: {person.email}\")\n",
        "\n",
        "# Delete attribute\n",
        "del person.age\n",
        "# print(person.age)  # This would now cause an error\n",
        "\n",
        "# Safe attribute access\n",
        "current_age = getattr(person, \"age\", \"Age not set\")\n",
        "print(f\"Current age: {current_age}\")\n",
        "\n",
        "# Check if attribute exists\n",
        "if hasattr(person, \"email\"):\n",
        "    print(f\"Email exists: {person.email}\")"
      ],
      "metadata": {
        "colab": {
          "base_uri": "https://localhost:8080/"
        },
        "id": "Ac2e_XTK2fc_",
        "outputId": "555bfa85-1c1b-43f8-8d8f-89850459c92d"
      },
      "execution_count": 31,
      "outputs": [
        {
          "output_type": "stream",
          "name": "stdout",
          "text": [
            "Original: Alice, 30\n",
            "After modification: Alice, 31\n",
            "With new attribute: alice@example.com\n",
            "Current age: Age not set\n",
            "Email exists: alice@example.com\n"
          ]
        }
      ]
    },
    {
      "cell_type": "markdown",
      "source": [
        "## 8. 🔒 Python Naming Conventions & Privacy\n",
        "\n",
        "Python uses naming conventions rather than strict access control:"
      ],
      "metadata": {
        "id": "kLH_9HbH2lfj"
      }
    },
    {
      "cell_type": "code",
      "source": [
        "# Naming Conventions Example\n",
        "class BankAccount:\n",
        "    def __init__(self, owner, balance):\n",
        "        self.owner = owner          # Public\n",
        "        self._balance = balance      # Protected (convention)\n",
        "        self.__pin = \"1234\"          # Private (name mangling)\n",
        "\n",
        "    def show_balance(self):\n",
        "        return f\"Balance: ${self._balance}\"\n",
        "\n",
        "# Create account\n",
        "account = BankAccount(\"Alice\", 1000)\n",
        "\n",
        "# Public - accessible\n",
        "print(f\"Owner: {account.owner}\")\n",
        "\n",
        "# Protected - accessible but shouldn't be used directly\n",
        "print(f\"Balance (protected): {account._balance}\")\n",
        "\n",
        "# Private - not directly accessible\n",
        "# print(account.__pin)  # This would cause an error\n",
        "\n",
        "# Access through name mangling (not recommended)\n",
        "print(f\"PIN (via mangling): {account._BankAccount__pin}\")\n",
        "\n",
        "# Proper way to access protected data\n",
        "print(account.show_balance())"
      ],
      "metadata": {
        "colab": {
          "base_uri": "https://localhost:8080/"
        },
        "id": "EpycFjRH2m2d",
        "outputId": "3e8f6261-8ea4-4ea6-e629-ab0e38c01d16"
      },
      "execution_count": 32,
      "outputs": [
        {
          "output_type": "stream",
          "name": "stdout",
          "text": [
            "Owner: Alice\n",
            "Balance (protected): 1000\n",
            "PIN (via mangling): 1234\n",
            "Balance: $1000\n"
          ]
        }
      ]
    },
    {
      "cell_type": "markdown",
      "source": [
        "## 🦁 Mega Hands-On Lab: The Animal Class\n",
        "\n",
        "**Goal:** Apply all core OOP concepts—**Encapsulation, Inheritance, Polymorphism, and Abstraction**—by creating a complete zoo system. This lab will also reinforce class attributes and naming conventions.\n",
        "\n",
        "**File:** We'll create our zoo system right here in this Colab notebook."
      ],
      "metadata": {
        "id": "sIq3cZXu27gX"
      }
    },
    {
      "cell_type": "code",
      "source": [
        "# First, let's import the necessary modules\n",
        "from abc import ABC, abstractmethod\n",
        "import random"
      ],
      "metadata": {
        "id": "G3fJJrpJ293Y"
      },
      "execution_count": 33,
      "outputs": []
    },
    {
      "cell_type": "markdown",
      "source": [
        "## 🔷 PART 1: The Abstract Blueprint (Abstraction)\n",
        "\n",
        "**Concept:** We'll start by defining a \"contract\" using an Abstract Base Class. We know every animal needs to `eat` and `make_sound`, but we don't know *how* yet. This is perfect for abstraction.\n",
        "\n",
        "### 📋 Instructions:\n",
        "1. Import `ABC` and `abstractmethod` from the `abc` module\n",
        "2. Define a class named `Animal` that inherits from `ABC`\n",
        "3. In `__init__`, accept `name` and `species` and create instance attributes\n",
        "4. Define a class attribute `zoo_name = \"The Python Zoo\"`\n",
        "5. Declare abstract methods `make_sound()` and `eat()` with `@abstractmethod`"
      ],
      "metadata": {
        "id": "P9qpm7el3AVk"
      }
    },
    {
      "cell_type": "code",
      "source": [
        "# PART 1: The Abstract Blueprint\n",
        "class Animal(ABC):\n",
        "    # Class Attribute - shared by ALL instances\n",
        "    zoo_name = \"🐍 The Python Zoo\"\n",
        "\n",
        "    def __init__(self, name, species):\n",
        "        # Instance Attributes - unique to each object\n",
        "        self.name = name\n",
        "        self.species = species\n",
        "\n",
        "    @abstractmethod\n",
        "    def make_sound(self):\n",
        "        \"\"\"Every animal must be able to make a sound\"\"\"\n",
        "        pass\n",
        "\n",
        "    @abstractmethod\n",
        "    def eat(self):\n",
        "        \"\"\"Every animal must be able to eat\"\"\"\n",
        "        pass\n",
        "\n",
        "    # A concrete method that all subclasses inherit\n",
        "    def sleep(self):\n",
        "        print(f\"😴 {self.name} is sleeping peacefully...\")\n",
        "\n",
        "# Test that we can't instantiate the abstract class\n",
        "print(\"=== Testing Abstract Class Enforcement ===\")\n",
        "try:\n",
        "    abstract_animal = Animal(\"Test\", \"Test\")\n",
        "    print(\"Created abstract animal (this shouldn't happen!)\")\n",
        "except TypeError as e:\n",
        "    print(f\"✅ Correctly prevented: {e}\")"
      ],
      "metadata": {
        "colab": {
          "base_uri": "https://localhost:8080/"
        },
        "id": "yXYSSIkl3GgL",
        "outputId": "4c5f4b97-bb09-4580-a930-da93591d4e20"
      },
      "execution_count": 34,
      "outputs": [
        {
          "output_type": "stream",
          "name": "stdout",
          "text": [
            "=== Testing Abstract Class Enforcement ===\n",
            "✅ Correctly prevented: Can't instantiate abstract class Animal without an implementation for abstract methods 'eat', 'make_sound'\n"
          ]
        }
      ]
    },
    {
      "cell_type": "markdown",
      "source": [
        "**📝 Explanation:**\n",
        "- `Animal` is now an **abstract base class** - it defines what animals should do, not how\n",
        "- The `@abstractmethod` decorator ensures subclasses MUST implement these methods\n",
        "- `zoo_name` is a **class attribute** - shared by all animal instances\n",
        "- We can include concrete methods like `sleep()` that all subclasses inherit"
      ],
      "metadata": {
        "id": "Hpbjfvo23R9U"
      }
    },
    {
      "cell_type": "markdown",
      "source": [
        "## 👨‍👩‍👧‍👦 PART 2: Creating Concrete Classes (Inheritance)\n",
        "\n",
        "**Concept:** Now we'll create specific animal types that inherit from the `Animal` parent class. Each will provide its own implementation of the abstract methods.\n",
        "\n",
        "### 📋 Instructions:\n",
        "1. Create `Lion` class that inherits from `Animal`\n",
        "2. Use `super().__init__(name, species=\"Lion\")` in its `__init__`\n",
        "3. Implement `make_sound()` to print \"Roar!\"\n",
        "4. Create `Monkey` class that inherits from `Animal`\n",
        "5. Use `super().__init__(name, species=\"Monkey\")`\n",
        "6. Implement `make_sound()` and `eat()` methods\n",
        "7. Create `Zookeeper` class (does NOT inherit from Animal)\n",
        "8. Add protected and private attributes to Zookeeper"
      ],
      "metadata": {
        "id": "IVmb3lhx3Xzg"
      }
    },
    {
      "cell_type": "code",
      "source": [
        "# PART 2: Concrete Animal Classes\n",
        "class Lion(Animal):\n",
        "    def __init__(self, name):\n",
        "        # Call parent's __init__ with species set to \"Lion\"\n",
        "        super().__init__(name, species=\"Lion\")\n",
        "        self.mane_color = \"golden\"  # Lion-specific attribute\n",
        "\n",
        "    def make_sound(self):\n",
        "        return \"🦁 ROAR!!!\"\n",
        "\n",
        "    def eat(self):\n",
        "        return \"devours a large piece of meat 🥩\"\n",
        "\n",
        "    # Lion-specific method\n",
        "    def hunt(self):\n",
        "        return f\"{self.name} goes hunting in the savannah\"\n",
        "\n",
        "class Monkey(Animal):\n",
        "    def __init__(self, name):\n",
        "        super().__init__(name, species=\"Monkey\")\n",
        "        self.bananas_eaten = 0  # Monkey-specific attribute\n",
        "\n",
        "    def make_sound(self):\n",
        "        return \"🐵 Ooh ooh oah oah!\"\n",
        "\n",
        "    def eat(self):\n",
        "        self.bananas_eaten += 1\n",
        "        return f\"eats banana #{self.bananas_eaten} 🍌\"\n",
        "\n",
        "    # Monkey-specific method\n",
        "    def climb(self):\n",
        "        return f\"{self.name} climbs up a tree rapidly\"\n",
        "\n",
        "class Penguin(Animal):\n",
        "    def __init__(self, name):\n",
        "        super().__init__(name, species=\"Penguin\")\n",
        "        self.fish_eaten = 0\n",
        "\n",
        "    def make_sound(self):\n",
        "        return \"🐧 Noot noot!\"\n",
        "\n",
        "    def eat(self):\n",
        "        self.fish_eaten += 1\n",
        "        return f\"eats fish #{self.fish_eaten} 🐟\"\n",
        "\n",
        "    # Penguin-specific method\n",
        "    def slide(self):\n",
        "        return f\"{self.name} slides happily on its belly!\"\n",
        "\n",
        "# Zookeeper Class (does NOT inherit from Animal)\n",
        "class Zookeeper:\n",
        "    def __init__(self, name):\n",
        "        self.name = name\n",
        "        self._employee_id = random.randint(1000, 9999)  # Protected attribute\n",
        "        self.__salary = 45000  # Private attribute (name mangling)\n",
        "        self.animals_fed = 0\n",
        "\n",
        "    def feed_animal(self, animal):\n",
        "        \"\"\"Feed a single animal\"\"\"\n",
        "        print(f\"🧑‍🍳 {self.name} is feeding {animal.name}...\")\n",
        "        print(f\"   {animal.name} {animal.eat()}\")\n",
        "        self.animals_fed += 1\n",
        "\n",
        "    def feed_animals(self, animals_list):\n",
        "        \"\"\"Feed multiple animals (demonstrates polymorphism)\"\"\"\n",
        "        print(f\"\\n{self.name} is doing the feeding rounds!\")\n",
        "        for animal in animals_list:\n",
        "            self.feed_animal(animal)\n",
        "\n",
        "    # Property to access private attribute safely\n",
        "    @property\n",
        "    def salary(self):\n",
        "        return f\"${self.__salary:,}\"\n",
        "\n",
        "    def give_raise(self, amount):\n",
        "        \"\"\"Method to modify private attribute\"\"\"\n",
        "        self.__salary += amount\n",
        "        return f\"New salary: ${self.__salary:,}\"\n",
        "\n",
        "# Test the concrete classes\n",
        "print(\"\\n=== Testing Concrete Animals ===\")\n",
        "simba = Lion(\"Simba\")\n",
        "george = Monkey(\"George\")\n",
        "pingu = Penguin(\"Pingu\")\n",
        "\n",
        "print(f\"{simba.name}: {simba.make_sound()}\")\n",
        "print(f\"{george.name}: {george.make_sound()}\")\n",
        "print(f\"{pingu.name}: {pingu.make_sound()}\")\n",
        "\n",
        "# Test inheritance\n",
        "print(f\"\\nAll animals belong to: {simba.zoo_name}\")"
      ],
      "metadata": {
        "colab": {
          "base_uri": "https://localhost:8080/"
        },
        "id": "uUk6YHIc3Tsl",
        "outputId": "9d348cbf-6bd7-4f5e-fcab-317cf016ff08"
      },
      "execution_count": 35,
      "outputs": [
        {
          "output_type": "stream",
          "name": "stdout",
          "text": [
            "\n",
            "=== Testing Concrete Animals ===\n",
            "Simba: 🦁 ROAR!!!\n",
            "George: 🐵 Ooh ooh oah oah!\n",
            "Pingu: 🐧 Noot noot!\n",
            "\n",
            "All animals belong to: 🐍 The Python Zoo\n"
          ]
        }
      ]
    },
    {
      "cell_type": "markdown",
      "source": [
        "## #️⃣ PART 3: Bringing the Zoo to Life (Polymorphism & Class Attributes)\n",
        "\n",
        "**Concept:** The power of polymorphism is that we can treat different objects uniformly. We can ask any `Animal` to `make_sound()`, and it will respond correctly based on its specific class.\n",
        "\n",
        "### 📋 Instructions:\n",
        "1. Create a list of animals with instances of different classes\n",
        "2. Create a Zookeeper instance\n",
        "3. Demonstrate polymorphism by looping through animals and calling methods\n",
        "4. Show how class attributes work across different instances"
      ],
      "metadata": {
        "id": "49L0dN5L3jCN"
      }
    },
    {
      "cell_type": "code",
      "source": [
        "# PART 3: Running the Zoo\n",
        "print(\"=== 🎪 The Python Zoo is Open! ===\")\n",
        "\n",
        "# Create our zoo population\n",
        "animals = [\n",
        "    Lion(\"Leo\"),\n",
        "    Monkey(\"Momo\"),\n",
        "    Penguin(\"Pingu\"),\n",
        "    Lion(\"Nala\"),\n",
        "    Monkey(\"Koko\")\n",
        "]\n",
        "\n",
        "# Create our zookeeper\n",
        "zookeeper = Zookeeper(\"Alex\")\n",
        "\n",
        "# Demonstrate POLYMORPHISM\n",
        "print(\"\\n=== Morning Roll Call (Polymorphism Demo) ===\")\n",
        "for animal in animals:\n",
        "    sound = animal.make_sound()\n",
        "    print(f\"{animal.name} the {animal.species}: {sound}\")\n",
        "\n",
        "# Demonstrate CLASS ATTRIBUTES\n",
        "print(\"\\n=== Class Attributes Demo ===\")\n",
        "print(f\"All animals live at: {Animal.zoo_name}\")\n",
        "print(f\"Leo knows he's at: {animals[0].zoo_name}\")\n",
        "print(f\"Pingu knows he's at: {animals[2].zoo_name}\")\n",
        "print(f\"The Lion class knows: {Lion.zoo_name}\")\n",
        "\n",
        "# Show they're all the same object in memory\n",
        "print(f\"\\nSame object? {animals[0].zoo_name is Animal.zoo_name}\")\n",
        "\n",
        "# Demonstrate feeding (more polymorphism)\n",
        "print(\"\\n\" + \"=\"*50)\n",
        "zookeeper.feed_animals(animals)\n",
        "\n",
        "# Show zookeeper stats\n",
        "print(f\"\\n{zookeeper.name} has fed {zookeeper.animals_fed} animals today!\")"
      ],
      "metadata": {
        "colab": {
          "base_uri": "https://localhost:8080/"
        },
        "id": "P4h0-IyX3lMV",
        "outputId": "d192c60d-9e57-495f-892a-061dbafe4ea8"
      },
      "execution_count": 36,
      "outputs": [
        {
          "output_type": "stream",
          "name": "stdout",
          "text": [
            "=== 🎪 The Python Zoo is Open! ===\n",
            "\n",
            "=== Morning Roll Call (Polymorphism Demo) ===\n",
            "Leo the Lion: 🦁 ROAR!!!\n",
            "Momo the Monkey: 🐵 Ooh ooh oah oah!\n",
            "Pingu the Penguin: 🐧 Noot noot!\n",
            "Nala the Lion: 🦁 ROAR!!!\n",
            "Koko the Monkey: 🐵 Ooh ooh oah oah!\n",
            "\n",
            "=== Class Attributes Demo ===\n",
            "All animals live at: 🐍 The Python Zoo\n",
            "Leo knows he's at: 🐍 The Python Zoo\n",
            "Pingu knows he's at: 🐍 The Python Zoo\n",
            "The Lion class knows: 🐍 The Python Zoo\n",
            "\n",
            "Same object? True\n",
            "\n",
            "==================================================\n",
            "\n",
            "Alex is doing the feeding rounds!\n",
            "🧑‍🍳 Alex is feeding Leo...\n",
            "   Leo devours a large piece of meat 🥩\n",
            "🧑‍🍳 Alex is feeding Momo...\n",
            "   Momo eats banana #1 🍌\n",
            "🧑‍🍳 Alex is feeding Pingu...\n",
            "   Pingu eats fish #1 🐟\n",
            "🧑‍🍳 Alex is feeding Nala...\n",
            "   Nala devours a large piece of meat 🥩\n",
            "🧑‍🍳 Alex is feeding Koko...\n",
            "   Koko eats banana #1 🍌\n",
            "\n",
            "Alex has fed 5 animals today!\n"
          ]
        }
      ]
    },
    {
      "cell_type": "markdown",
      "source": [
        "## 🚀 CHALLENGE / Bonus Features (Applying All Concepts)\n",
        "\n",
        "Let's implement all the bonus features to demonstrate advanced OOP concepts."
      ],
      "metadata": {
        "id": "dlxdSJ4C3ptf"
      }
    },
    {
      "cell_type": "code",
      "source": [
        "# CHALLENGE: Advanced Features\n",
        "print(\"\\n=== 🚀 Challenge/Bonus Features ===\")\n",
        "\n",
        "# 1. Modify an Object Dynamically\n",
        "print(\"\\n1. 🎭 Dynamic Object Modification\")\n",
        "leo = animals[0]  # Get the first animal (Leo the Lion)\n",
        "leo.favorite_toy = \"Big Red Ball\"  # Add new attribute dynamically\n",
        "leo.mane_color = \"magnificent\"  # Modify existing attribute\n",
        "\n",
        "print(f\"{leo.name}'s favorite toy: {leo.favorite_toy}\")\n",
        "print(f\"{leo.name}'s mane is {leo.mane_color}\")\n",
        "\n",
        "# 2. Naming Conventions & Privacy\n",
        "print(\"\\n2. 🔒 Naming Conventions & Privacy\")\n",
        "print(f\"Zookeeper name (public): {zookeeper.name}\")\n",
        "print(f\"Employee ID (protected): {zookeeper._employee_id}\")\n",
        "print(f\"Salary via property: {zookeeper.salary}\")\n",
        "\n",
        "# Try to access private attribute directly (will fail)\n",
        "try:\n",
        "    print(f\"Private salary (direct): {zookeeper.__salary}\")\n",
        "except AttributeError as e:\n",
        "    print(f\"❌ Cannot access private directly: {e}\")\n",
        "\n",
        "# Access via name mangling (not recommended, but possible)\n",
        "print(f\"Private salary (mangled): {zookeeper._Zookeeper__salary}\")\n",
        "\n",
        "# 3. Give zookeeper a raise using the public method\n",
        "print(f\"\\nBefore raise: {zookeeper.salary}\")\n",
        "new_salary = zookeeper.give_raise(5000)\n",
        "print(f\"After raise: {new_salary}\")\n",
        "\n",
        "# 4. Extend with a New Animal Class\n",
        "print(\"\\n3. 🐘 Extending with New Animals\")\n",
        "class Elephant(Animal):\n",
        "    def __init__(self, name):\n",
        "        super().__init__(name, species=\"Elephant\")\n",
        "        self.water_sprayed = 0\n",
        "\n",
        "    def make_sound(self):\n",
        "        return \"🐘 Trumpet!!!\"\n",
        "\n",
        "    def eat(self):\n",
        "        return \"eats 200kg of vegetation 🌿\"\n",
        "\n",
        "    def spray_water(self):\n",
        "        self.water_sprayed += 1\n",
        "        return f\"{self.name} sprays water with its trunk! 💦\"\n",
        "\n",
        "# Add elephant to our zoo\n",
        "dumbo = Elephant(\"Dumbo\")\n",
        "animals.append(dumbo)\n",
        "\n",
        "print(f\"New arrival: {dumbo.name}!\")\n",
        "print(f\"{dumbo.name}: {dumbo.make_sound()}\")\n",
        "print(f\"{dumbo.name}: {dumbo.spray_water()}\")\n",
        "\n",
        "# 5. Re-run the zoo with new animal\n",
        "print(\"\\n=== Updated Zoo Activities ===\")\n",
        "zookeeper.feed_animals(animals)  # Now includes the elephant!\n",
        "\n",
        "# 6. Specialized feeding for different animals\n",
        "print(\"\\n4. 🎯 Specialized Feeding Demo\")\n",
        "def specialized_feeding(animal):\n",
        "    \"\"\"Demonstrate how we can handle different animals specially\"\"\"\n",
        "    if isinstance(animal, Lion):\n",
        "        print(f\"🧑‍🍳 Giving extra meat to {animal.name} the lion!\")\n",
        "    elif isinstance(animal, Monkey):\n",
        "        print(f\"🧑‍🍳 Giving bananas to {animal.name} the monkey!\")\n",
        "    elif isinstance(animal, Penguin):\n",
        "        print(f\"🧑‍🍳 Giving fish to {animal.name} the penguin!\")\n",
        "    elif isinstance(animal, Elephant):\n",
        "        print(f\"🧑‍🍳 Giving massive vegetation to {animal.name} the elephant!\")\n",
        "    animal.eat()\n",
        "\n",
        "print(\"\\n=== Specialized Feeding Time ===\")\n",
        "for animal in animals:\n",
        "    specialized_feeding(animal)\n",
        "\n",
        "# 7. Show class hierarchy\n",
        "print(\"\\n5. 📊 Class Hierarchy Info\")\n",
        "print(f\"Animal class: {Animal.__name__}\")\n",
        "print(f\"Lion MRO: {Lion.__mro__}\")  # Method Resolution Order\n",
        "print(f\"Is Leo an Animal? {isinstance(leo, Animal)}\")\n",
        "print(f\"Is Alex a Zookeeper? {isinstance(zookeeper, Zookeeper)}\")\n",
        "print(f\"Is Alex an Animal? {isinstance(zookeeper, Animal)}\")"
      ],
      "metadata": {
        "colab": {
          "base_uri": "https://localhost:8080/"
        },
        "id": "zKuTDuYa3riq",
        "outputId": "47f980de-0c37-40bc-f1dd-05a9f7ba7bfd"
      },
      "execution_count": 37,
      "outputs": [
        {
          "output_type": "stream",
          "name": "stdout",
          "text": [
            "\n",
            "=== 🚀 Challenge/Bonus Features ===\n",
            "\n",
            "1. 🎭 Dynamic Object Modification\n",
            "Leo's favorite toy: Big Red Ball\n",
            "Leo's mane is magnificent\n",
            "\n",
            "2. 🔒 Naming Conventions & Privacy\n",
            "Zookeeper name (public): Alex\n",
            "Employee ID (protected): 7105\n",
            "Salary via property: $45,000\n",
            "❌ Cannot access private directly: 'Zookeeper' object has no attribute '__salary'\n",
            "Private salary (mangled): 45000\n",
            "\n",
            "Before raise: $45,000\n",
            "After raise: New salary: $50,000\n",
            "\n",
            "3. 🐘 Extending with New Animals\n",
            "New arrival: Dumbo!\n",
            "Dumbo: 🐘 Trumpet!!!\n",
            "Dumbo: Dumbo sprays water with its trunk! 💦\n",
            "\n",
            "=== Updated Zoo Activities ===\n",
            "\n",
            "Alex is doing the feeding rounds!\n",
            "🧑‍🍳 Alex is feeding Leo...\n",
            "   Leo devours a large piece of meat 🥩\n",
            "🧑‍🍳 Alex is feeding Momo...\n",
            "   Momo eats banana #2 🍌\n",
            "🧑‍🍳 Alex is feeding Pingu...\n",
            "   Pingu eats fish #2 🐟\n",
            "🧑‍🍳 Alex is feeding Nala...\n",
            "   Nala devours a large piece of meat 🥩\n",
            "🧑‍🍳 Alex is feeding Koko...\n",
            "   Koko eats banana #2 🍌\n",
            "🧑‍🍳 Alex is feeding Dumbo...\n",
            "   Dumbo eats 200kg of vegetation 🌿\n",
            "\n",
            "4. 🎯 Specialized Feeding Demo\n",
            "\n",
            "=== Specialized Feeding Time ===\n",
            "🧑‍🍳 Giving extra meat to Leo the lion!\n",
            "🧑‍🍳 Giving bananas to Momo the monkey!\n",
            "🧑‍🍳 Giving fish to Pingu the penguin!\n",
            "🧑‍🍳 Giving extra meat to Nala the lion!\n",
            "🧑‍🍳 Giving bananas to Koko the monkey!\n",
            "🧑‍🍳 Giving massive vegetation to Dumbo the elephant!\n",
            "\n",
            "5. 📊 Class Hierarchy Info\n",
            "Animal class: Animal\n",
            "Lion MRO: (<class '__main__.Lion'>, <class '__main__.Animal'>, <class 'abc.ABC'>, <class 'object'>)\n",
            "Is Leo an Animal? True\n",
            "Is Alex a Zookeeper? True\n",
            "Is Alex an Animal? False\n"
          ]
        }
      ]
    },
    {
      "cell_type": "code",
      "source": [
        "# Comprehensive Zoo Management System\n",
        "print(\"=== 🏰 Comprehensive Zoo Management System ===\")\n",
        "\n",
        "class Zoo:\n",
        "    def __init__(self, name):\n",
        "        self.name = name\n",
        "        self.animals = []\n",
        "        self.zookeepers = []\n",
        "        self.visitors_today = 0\n",
        "\n",
        "    def add_animal(self, animal):\n",
        "        if isinstance(animal, Animal):\n",
        "            self.animals.append(animal)\n",
        "            print(f\"✅ Added {animal.name} the {animal.species} to {self.name}\")\n",
        "        else:\n",
        "            print(\"❌ Can only add Animal instances!\")\n",
        "\n",
        "    def add_zookeeper(self, zookeeper):\n",
        "        self.zookeepers.append(zookeeper)\n",
        "        print(f\"✅ Hired {zookeeper.name} as a zookeeper\")\n",
        "\n",
        "    def open_zoo(self):\n",
        "        print(f\"\\n🎪 {self.name} is now OPEN!\")\n",
        "        print(f\"Animals in residence: {len(self.animals)}\")\n",
        "        print(f\"Zookeepers on duty: {len(self.zookeepers)}\")\n",
        "\n",
        "        # Morning routines\n",
        "        self.morning_roll_call()\n",
        "        self.feeding_time()\n",
        "\n",
        "        # Visitors arrive\n",
        "        self.visitors_today = random.randint(50, 200)\n",
        "        print(f\"\\n👥 {self.visitors_today} visitors enjoying the zoo today!\")\n",
        "\n",
        "    def morning_roll_call(self):\n",
        "        print(\"\\n=== Morning Roll Call ===\")\n",
        "        for animal in self.animals:\n",
        "            print(f\"{animal.name} the {animal.species}: {animal.make_sound()}\")\n",
        "\n",
        "    def feeding_time(self):\n",
        "        print(\"\\n=== Feeding Time ===\")\n",
        "        if self.zookeepers:\n",
        "            for zookeeper in self.zookeepers:\n",
        "                zookeeper.feed_animals(self.animals)\n",
        "        else:\n",
        "            print(\"❌ No zookeepers available for feeding!\")\n",
        "\n",
        "    def close_zoo(self):\n",
        "        print(f\"\\n🌙 {self.name} is now CLOSED\")\n",
        "        print(f\"Total visitors today: {self.visitors_today}\")\n",
        "        print(\"All animals are going to sleep...\")\n",
        "        for animal in self.animals:\n",
        "            animal.sleep()\n",
        "\n",
        "# Create and run our complete zoo\n",
        "python_zoo = Zoo(\"The Amazing Python Zoo\")\n",
        "\n",
        "# Add animals\n",
        "python_zoo.add_animal(Lion(\"Simba\"))\n",
        "python_zoo.add_animal(Monkey(\"George\"))\n",
        "python_zoo.add_animal(Penguin(\"Pingu\"))\n",
        "python_zoo.add_animal(Elephant(\"Dumbo\"))\n",
        "\n",
        "# Add zookeepers\n",
        "python_zoo.add_zookeeper(Zookeeper(\"Alex\"))\n",
        "python_zoo.add_zookeeper(Zookeeper(\"Taylor\"))\n",
        "\n",
        "# Run a day at the zoo\n",
        "python_zoo.open_zoo()\n",
        "python_zoo.close_zoo()"
      ],
      "metadata": {
        "colab": {
          "base_uri": "https://localhost:8080/"
        },
        "id": "H9R25VTM3w-4",
        "outputId": "224a6430-70f0-433a-bbd4-d4a68919c38d"
      },
      "execution_count": 38,
      "outputs": [
        {
          "output_type": "stream",
          "name": "stdout",
          "text": [
            "=== 🏰 Comprehensive Zoo Management System ===\n",
            "✅ Added Simba the Lion to The Amazing Python Zoo\n",
            "✅ Added George the Monkey to The Amazing Python Zoo\n",
            "✅ Added Pingu the Penguin to The Amazing Python Zoo\n",
            "✅ Added Dumbo the Elephant to The Amazing Python Zoo\n",
            "✅ Hired Alex as a zookeeper\n",
            "✅ Hired Taylor as a zookeeper\n",
            "\n",
            "🎪 The Amazing Python Zoo is now OPEN!\n",
            "Animals in residence: 4\n",
            "Zookeepers on duty: 2\n",
            "\n",
            "=== Morning Roll Call ===\n",
            "Simba the Lion: 🦁 ROAR!!!\n",
            "George the Monkey: 🐵 Ooh ooh oah oah!\n",
            "Pingu the Penguin: 🐧 Noot noot!\n",
            "Dumbo the Elephant: 🐘 Trumpet!!!\n",
            "\n",
            "=== Feeding Time ===\n",
            "\n",
            "Alex is doing the feeding rounds!\n",
            "🧑‍🍳 Alex is feeding Simba...\n",
            "   Simba devours a large piece of meat 🥩\n",
            "🧑‍🍳 Alex is feeding George...\n",
            "   George eats banana #1 🍌\n",
            "🧑‍🍳 Alex is feeding Pingu...\n",
            "   Pingu eats fish #1 🐟\n",
            "🧑‍🍳 Alex is feeding Dumbo...\n",
            "   Dumbo eats 200kg of vegetation 🌿\n",
            "\n",
            "Taylor is doing the feeding rounds!\n",
            "🧑‍🍳 Taylor is feeding Simba...\n",
            "   Simba devours a large piece of meat 🥩\n",
            "🧑‍🍳 Taylor is feeding George...\n",
            "   George eats banana #2 🍌\n",
            "🧑‍🍳 Taylor is feeding Pingu...\n",
            "   Pingu eats fish #2 🐟\n",
            "🧑‍🍳 Taylor is feeding Dumbo...\n",
            "   Dumbo eats 200kg of vegetation 🌿\n",
            "\n",
            "👥 190 visitors enjoying the zoo today!\n",
            "\n",
            "🌙 The Amazing Python Zoo is now CLOSED\n",
            "Total visitors today: 190\n",
            "All animals are going to sleep...\n",
            "😴 Simba is sleeping peacefully...\n",
            "😴 George is sleeping peacefully...\n",
            "😴 Pingu is sleeping peacefully...\n",
            "😴 Dumbo is sleeping peacefully...\n"
          ]
        }
      ]
    },
    {
      "cell_type": "markdown",
      "source": [
        "## 📚 Animal Zoo Lab Summary\n",
        "\n",
        "### 🎯 What We Implemented:\n",
        "\n",
        "1.  **🧩 Abstraction:** Created `Animal` abstract base class with required methods\n",
        "2.  **👨‍👩‍👧‍👦 Inheritance:** Built `Lion`, `Monkey`, `Penguin`, `Elephant` subclasses\n",
        "3.  **#️⃣ Polymorphism:** Treated different animals uniformly through common interface\n",
        "4.  **📊 Class Attributes:** Used `zoo_name` shared across all instances\n",
        "5.  **🔒 Encapsulation:** Used protected (`_id`) and private (`__salary`) attributes\n",
        "6.  **🎭 Dynamic Objects:** Added attributes to objects after creation\n",
        "\n",
        "### 🔑 OOP Concepts Demonstrated:\n",
        "\n",
        "- **Abstract Methods:** Enforcement of required behaviors\n",
        "- **Method Overriding:** Each animal implements methods differently\n",
        "- **`super()`:** Calling parent class methods\n",
        "- **`isinstance()`:** Checking object types\n",
        "- **Property Decorators:** Controlled access to private attributes\n",
        "- **Dynamic Nature:** Python's flexibility with object attributes\n",
        "\n",
        "### 💡 Real-world Applications:\n",
        "\n",
        "- Game character systems\n",
        "- Simulation software\n",
        "- UI framework components\n",
        "- Plugin architectures\n",
        "- Any system with multiple related but different entities\n",
        "\n",
        "### ✅ Completion Checklist:\n",
        "\n",
        "- [x] Abstract `Animal` class with `make_sound()` and `eat()` methods\n",
        "- [x] Multiple concrete animal classes with unique implementations\n",
        "- [x] Class attribute shared across all instances\n",
        "- [x] Polymorphism demonstrated through uniform method calls\n",
        "- [x] Protected and private attributes with proper access\n",
        "- [x] Dynamic attribute modification\n",
        "- [x] Complete zoo management system\n",
        "- [x] Comprehensive error handling and validation\n",
        "\n",
        "This lab demonstrates how all four pillars of OOP work together to create flexible, maintainable, and extensible systems!"
      ],
      "metadata": {
        "id": "ZcKYRzdk315w"
      }
    }
  ]
}