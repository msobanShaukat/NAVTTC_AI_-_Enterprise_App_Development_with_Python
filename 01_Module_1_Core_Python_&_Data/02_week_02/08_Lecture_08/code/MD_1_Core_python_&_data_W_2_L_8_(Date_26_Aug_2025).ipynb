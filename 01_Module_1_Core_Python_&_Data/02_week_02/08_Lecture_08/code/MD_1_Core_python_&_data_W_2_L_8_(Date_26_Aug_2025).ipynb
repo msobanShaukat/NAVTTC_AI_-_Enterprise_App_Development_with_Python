{
  "nbformat": 4,
  "nbformat_minor": 0,
  "metadata": {
    "colab": {
      "provenance": []
    },
    "kernelspec": {
      "name": "python3",
      "display_name": "Python 3"
    },
    "language_info": {
      "name": "python"
    }
  },
  "cells": [
    {
      "cell_type": "markdown",
      "source": [
        "# 🧱 Module 1: Core Python & Data - Week 2 Lecture 8\n",
        "**Date:** 26/08/2025  \n",
        "**Documented By:** Muhammad Soban Shuakat\n",
        "\n",
        "## 📋 The Art of Reusability: Building with Functions\n",
        "\n",
        "Welcome back! Today, we transition from writing simple scripts 🐍 to creating **structured, professional code** 💼. **Functions** are the fundamental building blocks that allow us to name a piece of logic, package it up, and reuse it. Mastering them is the key to writing clean, efficient, and scalable programs."
      ],
      "metadata": {
        "id": "bzIW0X8-wlPt"
      }
    },
    {
      "cell_type": "markdown",
      "source": [
        "## 📋 Today's Agenda\n",
        "\n",
        "1.  **🤔 The \"What\" and \"Why\" of Functions**\n",
        "    *   The DRY Principle\n",
        "    *   Defining Functions: `def`, `pass`\n",
        "    *   Naming Conventions\n",
        "    *   Parameters vs. Arguments\n",
        "    *   The `return` Statement\n",
        "    *   Interactive Exercises\n",
        "\n",
        "2.  **🎛️ Flexible Arguments & Advanced Returns**\n",
        "    *   Positional vs. Keyword Arguments\n",
        "    *   Default Values\n",
        "    *   `*args` and `**kwargs`\n",
        "    *   `return` vs. `yield` (Generators)\n",
        "    *   Interactive Exercises\n",
        "\n",
        "3.  **🏗️ Structuring Python Scripts & The Lab**\n",
        "    *   Variable Scope: Local vs. Global\n",
        "    *   Docstrings: Documenting Your Code\n",
        "    *   The `main()` Function Pattern\n",
        "    *   `if __name__ == \"__main__\":`\n",
        "    *   Command-Line Arguments with `sys.argv`\n",
        "    *   **🧪 Hands-On Lab:** Refactoring Previous Projects"
      ],
      "metadata": {
        "id": "YrnY9QjPw83E"
      }
    },
    {
      "cell_type": "markdown",
      "source": [
        "## 1. 🤔 The \"What\" and \"Why\" of Functions\n",
        "\n",
        "### The DRY Principle: Don't Repeat Yourself\n",
        "This is a core philosophy in programming. If you find yourself writing the same code multiple times, it's a sign you need a **function**.\n",
        "\n",
        "**Why is repeating code bad?** 🤕\n",
        "*   **Error-Prone:** Fixing a bug means finding and fixing it in every copied spot.\n",
        "*   **Hard to Read:** Long scripts are confusing. Named chunks are logical.\n",
        "*   **Hard to Maintain:** Changing logic requires updates in many places.\n",
        "\n",
        "**Functions solve this** by providing a **single source of truth** for a piece of logic."
      ],
      "metadata": {
        "id": "YDcM2g61xAFa"
      }
    },
    {
      "cell_type": "markdown",
      "source": [
        "### Defining a Function: The `def` Statement\n",
        "A function is a **named block of code** that performs a specific task. You define it using the `def` keyword followed by the function name and parentheses `()`.\n",
        "\n",
        "**Syntax:** `def function_name():`"
      ],
      "metadata": {
        "id": "WBiSwaYzxDR2"
      }
    },
    {
      "cell_type": "code",
      "execution_count": 1,
      "metadata": {
        "colab": {
          "base_uri": "https://localhost:8080/"
        },
        "id": "UiEimv4SwUAT",
        "outputId": "ddf514ae-832e-4f48-c8bd-0bb5b8408858"
      },
      "outputs": [
        {
          "output_type": "stream",
          "name": "stdout",
          "text": [
            "---\n",
            "Welcome to the App! 🎉\n",
            "---\n",
            "---\n",
            "Welcome to the App! 🎉\n",
            "---\n"
          ]
        }
      ],
      "source": [
        "# Defining a simple function\n",
        "def print_welcome_message():\n",
        "    print(\"---\")\n",
        "    print(\"Welcome to the App! 🎉\")\n",
        "    print(\"---\")\n",
        "\n",
        "# To use the function, you must \"call\" it by its name:\n",
        "print_welcome_message()\n",
        "print_welcome_message() # We can reuse it easily!"
      ]
    },
    {
      "cell_type": "markdown",
      "source": [
        "### The `pass` Statement: A Placeholder\n",
        "Python requires an indented block after `def`. The `pass` statement is a **null operation**—it does nothing. It's a perfect placeholder for future code, preventing `IndentationError`."
      ],
      "metadata": {
        "id": "kCJxkK_1xOdU"
      }
    },
    {
      "cell_type": "code",
      "source": [
        "# Using pass as a placeholder\n",
        "def fetch_user_data_from_db():\n",
        "    # TODO: Add database connection logic later\n",
        "    pass # This is a valid, empty function\n",
        "\n",
        "def calculate_advanced_metrics():\n",
        "    pass # Will implement after testing basics\n",
        "\n",
        "print(\"Planning my program structure...\")\n",
        "fetch_user_data_from_db() # This runs without error\n",
        "print(\"Structure is valid. ✅\")"
      ],
      "metadata": {
        "colab": {
          "base_uri": "https://localhost:8080/"
        },
        "id": "0kxctzYpxP70",
        "outputId": "bf63c8a4-8306-477c-c5db-726e1dae1871"
      },
      "execution_count": 2,
      "outputs": [
        {
          "output_type": "stream",
          "name": "stdout",
          "text": [
            "Planning my program structure...\n",
            "Structure is valid. ✅\n"
          ]
        }
      ]
    },
    {
      "cell_type": "markdown",
      "source": [
        "### Python Function Naming Conventions\n",
        "Use these rules for clean, readable code:\n",
        "*   **snake_case:** Use lowercase letters with words separated by underscores.\n",
        "*   **Verb-Noun:** Names should be descriptive (e.g., `calculate_total`, `get_user_input`)."
      ],
      "metadata": {
        "id": "DzkcqT8nxVP6"
      }
    },
    {
      "cell_type": "code",
      "source": [
        "# Good, Pythonic function names\n",
        "def calculate_average(numbers):\n",
        "    pass\n",
        "\n",
        "def send_email(recipient, subject, body):\n",
        "    pass\n",
        "\n",
        "def validate_user_input(input_string):\n",
        "    pass\n",
        "\n",
        "# Bad, non-Pythonic names\n",
        "def CalcAvg(): # PascalCase, not snake_case\n",
        "    pass\n",
        "def do_stuff(): # Not descriptive\n",
        "    pass"
      ],
      "metadata": {
        "id": "bSliVGYbxXkz"
      },
      "execution_count": 3,
      "outputs": []
    },
    {
      "cell_type": "markdown",
      "source": [
        "### Parameters vs. Arguments\n",
        "*   **Parameter:** The variable name inside the function's definition. It's a **placeholder**.\n",
        "*   **Argument:** The actual value you **pass** to the function when you call it."
      ],
      "metadata": {
        "id": "qvEFin37xdaA"
      }
    },
    {
      "cell_type": "code",
      "source": [
        "# 'name' is a parameter\n",
        "def greet_user(name):\n",
        "    print(f\"Hello, {name}! 👋\")\n",
        "\n",
        "# \"Alice\" is an argument\n",
        "greet_user(\"Alice\")\n",
        "greet_user(\"Bob\") # We can reuse the function with different arguments"
      ],
      "metadata": {
        "colab": {
          "base_uri": "https://localhost:8080/"
        },
        "id": "cqtB2P_rxgG1",
        "outputId": "1db4d6a2-f1a4-4dd9-d7fb-8301bfbb2906"
      },
      "execution_count": 4,
      "outputs": [
        {
          "output_type": "stream",
          "name": "stdout",
          "text": [
            "Hello, Alice! 👋\n",
            "Hello, Bob! 👋\n"
          ]
        }
      ]
    },
    {
      "cell_type": "markdown",
      "source": [
        "### The `return` Statement: Getting a Value Back\n",
        "Functions aren't just for printing; they often **calculate** a result and need to **send it back**. The `return` statement does this. It immediately exits the function and returns the value."
      ],
      "metadata": {
        "id": "_akJCFbgxkm5"
      }
    },
    {
      "cell_type": "code",
      "source": [
        "# A function that returns a value\n",
        "def add_numbers(a, b): # 'a' and 'b' are parameters\n",
        "    result = a + b\n",
        "    return result # Sends the result back to the caller\n",
        "\n",
        "# Calling the function and capturing its return value\n",
        "sum_of_numbers = add_numbers(5, 10) # 5 and 10 are arguments\n",
        "print(f\"The sum is: {sum_of_numbers}\")\n",
        "\n",
        "# You can use the return value directly in expressions\n",
        "double_the_sum = add_numbers(5, 10) * 2\n",
        "print(f\"Double the sum is: {double_the_sum}\")"
      ],
      "metadata": {
        "colab": {
          "base_uri": "https://localhost:8080/"
        },
        "id": "l4Fvu2aSxlVh",
        "outputId": "6b59251d-3a2e-4403-c5f3-4d076343ca99"
      },
      "execution_count": 5,
      "outputs": [
        {
          "output_type": "stream",
          "name": "stdout",
          "text": [
            "The sum is: 15\n",
            "Double the sum is: 30\n"
          ]
        }
      ]
    },
    {
      "cell_type": "markdown",
      "source": [
        "### 🧠 In-Class Exercise: Area Calculator Function\n",
        "\n",
        "1.  Write a function called `calculate_area`.\n",
        "2.  It should take two parameters: `width` and `height`.\n",
        "3.  Inside, calculate the area (width * height).\n",
        "4.  The function should **return** the area.\n",
        "5.  Call the function with arguments and print the result."
      ],
      "metadata": {
        "id": "NpS6wiRlxrOp"
      }
    },
    {
      "cell_type": "code",
      "source": [
        "# Exercise: Area Calculator Function\n",
        "def calculate_area(width, height):\n",
        "    area = width * height\n",
        "    return area\n",
        "\n",
        "# Test the function\n",
        "room_area = calculate_area(10, 5) # Pass 10 and 5 as arguments\n",
        "print(f\"The area of the room is: {room_area} square units.\")\n",
        "\n",
        "# You can also call it inside a print statement\n",
        "print(f\"The area is: {calculate_area(7, 3)}\")"
      ],
      "metadata": {
        "colab": {
          "base_uri": "https://localhost:8080/"
        },
        "id": "fl9gaoUaxso-",
        "outputId": "6e9e7614-fc21-40f6-eb3f-7aa793348a81"
      },
      "execution_count": 6,
      "outputs": [
        {
          "output_type": "stream",
          "name": "stdout",
          "text": [
            "The area of the room is: 50 square units.\n",
            "The area is: 21\n"
          ]
        }
      ]
    },
    {
      "cell_type": "markdown",
      "source": [
        "## 2. 🎛️ Flexible Arguments & Advanced Returns\n",
        "\n",
        "### Positional vs. Keyword Arguments\n",
        "*   **Positional Arguments:** Matched to parameters based on **order**.\n",
        "*   **Keyword Arguments:** Matched by explicitly **naming** the parameter. This frees you from order."
      ],
      "metadata": {
        "id": "74ZLxJL-xwgt"
      }
    },
    {
      "cell_type": "code",
      "source": [
        "def describe_pet(animal_type, pet_name):\n",
        "    print(f\"I have a {animal_type} named {pet_name}. 🐾\")\n",
        "\n",
        "# Positional arguments (order matters!)\n",
        "describe_pet(\"hamster\", \"Harry\") # Correct order\n",
        "\n",
        "# Keyword arguments (order doesn't matter!)\n",
        "describe_pet(pet_name=\"Willow\", animal_type=\"dog\") # Explicit names\n",
        "\n",
        "# You can mix them, but positional must come first!\n",
        "describe_pet(\"cat\", pet_name=\"Mittens\") # This is fine\n",
        "# describe_pet(pet_name=\"Buddy\", \"parrot\") # This would cause a SyntaxError"
      ],
      "metadata": {
        "colab": {
          "base_uri": "https://localhost:8080/"
        },
        "id": "F6Q7C1xhxzbg",
        "outputId": "87a7c875-3900-4590-b507-1d60ccbf2a80"
      },
      "execution_count": 7,
      "outputs": [
        {
          "output_type": "stream",
          "name": "stdout",
          "text": [
            "I have a hamster named Harry. 🐾\n",
            "I have a dog named Willow. 🐾\n",
            "I have a cat named Mittens. 🐾\n"
          ]
        }
      ]
    },
    {
      "cell_type": "markdown",
      "source": [
        "### Default Parameter Values\n",
        "You can provide a **default value** for a parameter. If an argument isn't provided, the default is used."
      ],
      "metadata": {
        "id": "OANzJWCPx4H2"
      }
    },
    {
      "cell_type": "code",
      "source": [
        "# animal_type has a default value of \"dog\"\n",
        "def describe_pet(pet_name, animal_type=\"dog\"):\n",
        "    print(f\"I have a {animal_type} named {pet_name}. 🐾\")\n",
        "\n",
        "describe_pet(\"Willow\") # Uses the default \"dog\"\n",
        "describe_pet(\"Goldie\", animal_type=\"fish\") # Overrides the default\n",
        "describe_pet(\"Charlie\", \"rabbit\") # Uses positional for both"
      ],
      "metadata": {
        "colab": {
          "base_uri": "https://localhost:8080/"
        },
        "id": "y0SUvpJhx34I",
        "outputId": "eb0bce7b-4010-4800-b942-bfd2dfc6cd5e"
      },
      "execution_count": 8,
      "outputs": [
        {
          "output_type": "stream",
          "name": "stdout",
          "text": [
            "I have a dog named Willow. 🐾\n",
            "I have a fish named Goldie. 🐾\n",
            "I have a rabbit named Charlie. 🐾\n"
          ]
        }
      ]
    },
    {
      "cell_type": "markdown",
      "source": [
        "### Arbitrary Arguments: `*args` and `**kwargs`\n",
        "What if you don’t know how many arguments a function will receive?\n",
        "*   `*args`: Gathers extra **positional** arguments into a **tuple**.\n",
        "*   `**kwargs`: Gathers extra **keyword** arguments into a **dictionary**."
      ],
      "metadata": {
        "id": "ABIan0NjyBcC"
      }
    },
    {
      "cell_type": "code",
      "source": [
        "# *args example: sum any number of values\n",
        "def sum_all(*numbers): # The asterisk (*) is key!\n",
        "    print(f\"Numbers tuple: {numbers}\") # Let's see what it captures\n",
        "    total = 0\n",
        "    for num in numbers:\n",
        "        total += num\n",
        "    return total\n",
        "\n",
        "result = sum_all(1, 2, 3, 4, 5) # We can pass any number of arguments!\n",
        "print(f\"The sum is: {result}\")\n",
        "\n",
        "# **kwargs example: build a user profile\n",
        "def build_profile(first, last, **user_info): # Double asterisk (**)\n",
        "    profile = {'first_name': first, 'last_name': last}\n",
        "    for key, value in user_info.items(): # user_info is a dictionary\n",
        "        profile[key] = value\n",
        "    return profile\n",
        "\n",
        "user_profile = build_profile('albert', 'einstein',\n",
        "                             location='princeton',\n",
        "                             field='physics')\n",
        "print(f\"User Profile: {user_profile}\")"
      ],
      "metadata": {
        "colab": {
          "base_uri": "https://localhost:8080/"
        },
        "id": "qNYJu13hyCQB",
        "outputId": "a110be37-0ea9-4169-e2bc-bfa665fa523b"
      },
      "execution_count": 9,
      "outputs": [
        {
          "output_type": "stream",
          "name": "stdout",
          "text": [
            "Numbers tuple: (1, 2, 3, 4, 5)\n",
            "The sum is: 15\n",
            "User Profile: {'first_name': 'albert', 'last_name': 'einstein', 'location': 'princeton', 'field': 'physics'}\n"
          ]
        }
      ]
    },
    {
      "cell_type": "markdown",
      "source": [
        "### 🧠 In-Class Exercise: Pizza Order\n",
        "\n",
        "Write a function `make_pizza(size, *toppings)`.\n",
        "*   It should print a summary of the pizza order.\n",
        "*   Loop through the `toppings` tuple and print each one.\n",
        "*   Call it with different sizes and numbers of toppings."
      ],
      "metadata": {
        "id": "1R8JZMysyG-B"
      }
    },
    {
      "cell_type": "code",
      "source": [
        "# Exercise: Pizza Order\n",
        "def make_pizza(size, *toppings):\n",
        "    print(f\"\\nMaking a {size}-inch pizza with the following toppings:\")\n",
        "    if toppings: # Check if there are any toppings\n",
        "        for topping in toppings:\n",
        "            print(f\"  - {topping}\")\n",
        "    else:\n",
        "        print(\"  No toppings! Just a classic cheese pizza. 🧀\")\n",
        "\n",
        "# Test the function\n",
        "make_pizza(12, \"pepperoni\", \"mushrooms\", \"green peppers\")\n",
        "make_pizza(8, \"extra cheese\")\n",
        "make_pizza(10) # No toppings provided"
      ],
      "metadata": {
        "colab": {
          "base_uri": "https://localhost:8080/"
        },
        "id": "DRwTqWTryIAn",
        "outputId": "2fb99e78-7956-4c87-d963-e8fa18b8fe71"
      },
      "execution_count": 10,
      "outputs": [
        {
          "output_type": "stream",
          "name": "stdout",
          "text": [
            "\n",
            "Making a 12-inch pizza with the following toppings:\n",
            "  - pepperoni\n",
            "  - mushrooms\n",
            "  - green peppers\n",
            "\n",
            "Making a 8-inch pizza with the following toppings:\n",
            "  - extra cheese\n",
            "\n",
            "Making a 10-inch pizza with the following toppings:\n",
            "  No toppings! Just a classic cheese pizza. 🧀\n"
          ]
        }
      ]
    },
    {
      "cell_type": "markdown",
      "source": [
        "### Advanced Returns: `return` vs. `yield`\n",
        "*   `return`: Terminates the function and sends back a **single value**.\n",
        "*   `yield`: Turns a function into a **generator**. It **pauses** the function, yields a value, and remembers its state for the next call. Perfect for huge sequences of data as it's memory efficient."
      ],
      "metadata": {
        "id": "gzwylPbbyN4g"
      }
    },
    {
      "cell_type": "code",
      "source": [
        "# Generator function using yield\n",
        "def get_even_numbers_generator(limit):\n",
        "    for i in range(limit):\n",
        "        if i % 2 == 0:\n",
        "            yield i  # Pauses here and returns i\n",
        "            # When called again, it resumes from here\n",
        "\n",
        "# Using the generator\n",
        "print(\"Even numbers up to 10:\")\n",
        "for number in get_even_numbers_generator(10):\n",
        "    print(number, end=\" \")\n",
        "print(\"\\n\")\n",
        "\n",
        "# Contrast with a normal function using return\n",
        "def get_even_numbers_list(limit):\n",
        "    result = []\n",
        "    for i in range(limit):\n",
        "        if i % 2 == 0:\n",
        "            result.append(i)\n",
        "    return result # Returns the entire list at once\n",
        "\n",
        "print(\"Using a normal function (returns a list):\")\n",
        "print(get_even_numbers_list(10))"
      ],
      "metadata": {
        "colab": {
          "base_uri": "https://localhost:8080/"
        },
        "id": "XiNFiqwuyOeM",
        "outputId": "b216e211-f26c-45f7-ea8e-0cdcb2872c2e"
      },
      "execution_count": 11,
      "outputs": [
        {
          "output_type": "stream",
          "name": "stdout",
          "text": [
            "Even numbers up to 10:\n",
            "0 2 4 6 8 \n",
            "\n",
            "Using a normal function (returns a list):\n",
            "[0, 2, 4, 6, 8]\n"
          ]
        }
      ]
    },
    {
      "cell_type": "markdown",
      "source": [
        "### 🧠 In-Class Exercise: Countdown Generator\n",
        "\n",
        "Write a generator function `countdown(start)` that yields numbers from `start` down to 1."
      ],
      "metadata": {
        "id": "0g9WVhc2yRh9"
      }
    },
    {
      "cell_type": "code",
      "source": [
        "# Exercise: Countdown Generator\n",
        "def countdown(start):\n",
        "    current = start\n",
        "    while current >= 1:\n",
        "        yield current\n",
        "        current -= 1\n",
        "\n",
        "print(\"Countdown from 5:\")\n",
        "for num in countdown(5):\n",
        "    print(f\"T-minus {num}...\")\n",
        "print(\"Blast off! 🚀\")"
      ],
      "metadata": {
        "colab": {
          "base_uri": "https://localhost:8080/"
        },
        "id": "FMnti7uWyVh0",
        "outputId": "6d67c112-8e7d-46ca-907f-186153d62c47"
      },
      "execution_count": 12,
      "outputs": [
        {
          "output_type": "stream",
          "name": "stdout",
          "text": [
            "Countdown from 5:\n",
            "T-minus 5...\n",
            "T-minus 4...\n",
            "T-minus 3...\n",
            "T-minus 2...\n",
            "T-minus 1...\n",
            "Blast off! 🚀\n"
          ]
        }
      ]
    },
    {
      "cell_type": "markdown",
      "source": [
        "## 3. 🏗️ Structuring Python Scripts & The Lab\n",
        "\n",
        "### Variable Scope: Local vs. Global\n",
        "*   **Global Scope:** A variable defined in the main body of a script. Accessible **anywhere**.\n",
        "*   **Local Scope:** A variable defined inside a function. Accessible **only within that function**.\n",
        "\n",
        "**Best Practice:** Avoid modifying global variables from inside functions. Pass data in via parameters and return results."
      ],
      "metadata": {
        "id": "pd_uPBviyazs"
      }
    },
    {
      "cell_type": "code",
      "source": [
        "# Global variable\n",
        "global_message = \"I am global 🌎\"\n",
        "\n",
        "def my_function():\n",
        "    # Local variable\n",
        "    local_message = \"I am local 🏠\"\n",
        "    print(global_message) # Can access global variables\n",
        "    print(local_message) # Can access local variables\n",
        "\n",
        "my_function()\n",
        "print(global_message) # This works\n",
        "# print(local_message) # This would cause a NameError! ❌"
      ],
      "metadata": {
        "colab": {
          "base_uri": "https://localhost:8080/"
        },
        "id": "5kUaOqpcye5d",
        "outputId": "b6a29373-9b00-462a-d2ab-a8bac37ad8bc"
      },
      "execution_count": 13,
      "outputs": [
        {
          "output_type": "stream",
          "name": "stdout",
          "text": [
            "I am global 🌎\n",
            "I am local 🏠\n",
            "I am global 🌎\n"
          ]
        }
      ]
    },
    {
      "cell_type": "markdown",
      "source": [
        "### Docstrings: Documenting Your Functions\n",
        "A **docstring** is a string literal that is the first statement in a function. It explains what the function does, its parameters, and its return value. Essential for professional code!"
      ],
      "metadata": {
        "id": "wW0PhYtgykXo"
      }
    },
    {
      "cell_type": "code",
      "source": [
        "def calculate_average(numbers):\n",
        "    \"\"\"Calculates the average (mean) of a list of numbers.\n",
        "\n",
        "    Args:\n",
        "        numbers (list): A list of integers or floats.\n",
        "\n",
        "    Returns:\n",
        "        float: The average of the numbers. Returns 0 if the list is empty.\n",
        "    \"\"\"\n",
        "    if not numbers: # Check if the list is empty\n",
        "        return 0\n",
        "    total = sum(numbers)\n",
        "    count = len(numbers)\n",
        "    return total / count\n",
        "\n",
        "# Now you can get help on your function!\n",
        "help(calculate_average)"
      ],
      "metadata": {
        "colab": {
          "base_uri": "https://localhost:8080/"
        },
        "id": "-Kr2AmpByrAL",
        "outputId": "bb852918-53be-452f-e7e0-06ce76310a62"
      },
      "execution_count": 14,
      "outputs": [
        {
          "output_type": "stream",
          "name": "stdout",
          "text": [
            "Help on function calculate_average in module __main__:\n",
            "\n",
            "calculate_average(numbers)\n",
            "    Calculates the average (mean) of a list of numbers.\n",
            "\n",
            "    Args:\n",
            "        numbers (list): A list of integers or floats.\n",
            "\n",
            "    Returns:\n",
            "        float: The average of the numbers. Returns 0 if the list is empty.\n",
            "\n"
          ]
        }
      ]
    },
    {
      "cell_type": "markdown",
      "source": [
        "### The `main()` Function Pattern & `if __name__ == \"__main__\"`\n",
        "This is a crucial Python idiom for structuring scripts.\n",
        "\n",
        "*   `def main():` The conventional name for the function that contains your script's primary logic.\n",
        "*   `if __name__ == \"__main__\":` This check ensures the code inside it **only runs when the script is executed directly**, not when it's imported as a module by another script."
      ],
      "metadata": {
        "id": "CnfIWH1Wy66o"
      }
    },
    {
      "cell_type": "code",
      "source": [
        "# This function can be imported by other scripts\n",
        "def reusable_helper():\n",
        "    return \"I am a helper function!\"\n",
        "\n",
        "# This function contains our main script logic\n",
        "def main():\n",
        "    \"\"\"The main entry point of the script.\"\"\"\n",
        "    print(\"🚀 Script execution started!\")\n",
        "    result = reusable_helper()\n",
        "    print(result)\n",
        "    print(\"✅ Script execution finished.\")\n",
        "\n",
        "# This magic line controls what happens when the file is run\n",
        "if __name__ == \"__main__\":\n",
        "    main()"
      ],
      "metadata": {
        "colab": {
          "base_uri": "https://localhost:8080/"
        },
        "id": "hOhomyMvzJJs",
        "outputId": "03ada0d3-e59e-46ee-b1be-aee38a303daa"
      },
      "execution_count": 15,
      "outputs": [
        {
          "output_type": "stream",
          "name": "stdout",
          "text": [
            "🚀 Script execution started!\n",
            "I am a helper function!\n",
            "✅ Script execution finished.\n"
          ]
        }
      ]
    },
    {
      "cell_type": "markdown",
      "source": [
        "### Handling Command-Line Arguments with `sys.argv`\n",
        "The `sys.argv` list gives your script access to arguments passed from the command line.\n",
        "*   `sys.argv[0]`: The name of the script itself.\n",
        "*   `sys.argv[1]`: The first argument, `sys.argv[2]`: the second, etc."
      ],
      "metadata": {
        "id": "Y6KYYpeVzPIY"
      }
    },
    {
      "cell_type": "code",
      "source": [
        "# Simulating command-line arguments for Colab\n",
        "# In a real terminal, you'd run: python script.py Alice 30\n",
        "import sys\n",
        "\n",
        "# Simulate passing arguments (since we can't in Colab easily)\n",
        "sys.argv = [\"greet.py\", \"Alice\", \"30\"] # This mimics command-line args\n",
        "\n",
        "def main():\n",
        "    print(f\"Script name: {sys.argv[0]}\")\n",
        "    if len(sys.argv) > 1:\n",
        "        name = sys.argv[1]\n",
        "        print(f\"Hello, {name}! 👋\")\n",
        "    if len(sys.argv) > 2:\n",
        "        age = sys.argv[2]\n",
        "        print(f\"You are {age} years old.\")\n",
        "\n",
        "if __name__ == \"__main__\":\n",
        "    main()"
      ],
      "metadata": {
        "colab": {
          "base_uri": "https://localhost:8080/"
        },
        "id": "lusJ-a-XzRLx",
        "outputId": "ed23d13c-e77f-47e3-84ab-94f1eee350b2"
      },
      "execution_count": 16,
      "outputs": [
        {
          "output_type": "stream",
          "name": "stdout",
          "text": [
            "Script name: greet.py\n",
            "Hello, Alice! 👋\n",
            "You are 30 years old.\n"
          ]
        }
      ]
    },
    {
      "cell_type": "markdown",
      "source": [
        "## 🧪 Hands-On Lab: Refactoring Previous Exercises\n",
        "\n",
        "Let's apply our new knowledge by refactoring (rewriting) old projects with functions and proper structure."
      ],
      "metadata": {
        "id": "Yx1TOoj2zYsG"
      }
    },
    {
      "cell_type": "markdown",
      "source": [
        "# 🧮 Task 1: Functional Calculator\n",
        "\n",
        "## Objective\n",
        "Create a command-line calculator that uses functions for each operation and handles command-line arguments using `sys.argv`.\n",
        "\n",
        "## Requirements\n",
        "1.  **Separate Functions**: Create functions for `add`, `subtract`, `multiply`, and `divide`.\n",
        "2.  **Command-Line Arguments**: The script should accept three arguments: `num1`, `operation`, `num2`.\n",
        "3.  **Error Handling**: Handle cases with the wrong number of arguments or invalid operations.\n",
        "4.  **Main Function**: Use a `main()` function to organize the logic.\n",
        "5.  **Script Guard**: Use `if __name__ == \"__main__\":` to prevent execution when imported.\n",
        "\n",
        "## Example Usage\n",
        "```bash\n",
        "python functional_calculator.py 10 + 20\n",
        "# Output: 10.0 + 20.0 = 30.0"
      ],
      "metadata": {
        "id": "tAmdfGq80Yol"
      }
    },
    {
      "cell_type": "code",
      "source": [
        "# Refactored Area & Perimeter Calculator with functions\n",
        "def calculate_area(width, height):\n",
        "    \"\"\"Calculates the area of a rectangle.\"\"\"\n",
        "    return width * height\n",
        "\n",
        "def calculate_perimeter(width, height):\n",
        "    \"\"\"Calculates the perimeter of a rectangle.\"\"\"\n",
        "    return 2 * (width + height)\n",
        "\n",
        "def main():\n",
        "    \"\"\"Main function to run the calculator.\"\"\"\n",
        "    print(\"📏 Rectangle Calculator\")\n",
        "    try:\n",
        "        w = float(input(\"Enter the width: \"))\n",
        "        h = float(input(\"Enter the height: \"))\n",
        "        area = calculate_area(w, h)\n",
        "        perimeter = calculate_perimeter(w, h)\n",
        "        print(f\"Area: {area}\")\n",
        "        print(f\"Perimeter: {perimeter}\")\n",
        "    except ValueError:\n",
        "        print(\"❌ Please enter valid numbers!\")\n",
        "\n",
        "if __name__ == \"__main__\":\n",
        "    main()"
      ],
      "metadata": {
        "colab": {
          "base_uri": "https://localhost:8080/"
        },
        "id": "_8M3P-SMzgjl",
        "outputId": "a36d77e3-a9cb-463e-f342-6f6b3a295099"
      },
      "execution_count": 17,
      "outputs": [
        {
          "output_type": "stream",
          "name": "stdout",
          "text": [
            "📏 Rectangle Calculator\n",
            "Enter the width: 23\n",
            "Enter the height: 65\n",
            "Area: 1495.0\n",
            "Perimeter: 176.0\n"
          ]
        }
      ]
    },
    {
      "cell_type": "markdown",
      "source": [
        "# ✅ Task 2: Functional To-Do List\n",
        "\n",
        "## Objective\n",
        "Refactor the previous to-do list application using functions and proper program structure.\n",
        "\n",
        "## Requirements\n",
        "1.  **Separate Functions**: Create functions for `display_tasks`, `add_task`, and `remove_task`.\n",
        "2.  **Main Function**: Use a `main()` function containing the main menu loop.\n",
        "3.  **Script Guard**: Use `if __name__ == \"__main__\":` to prevent execution when imported.\n",
        "4.  **Global Data**: Use a global list to store tasks (for this simple implementation).\n",
        "\n",
        "## Features\n",
        "- Add tasks to the list\n",
        "- View all tasks with numbering\n",
        "- Remove tasks by number\n",
        "- Continuous operation until user chooses to quit\n",
        "\n",
        "## Implementation Plan\n",
        "1.  Create a global `todo_list` to store tasks.\n",
        "2.  Define functions for each operation.\n",
        "3.  Create `main()` with a while loop for the user interface.\n",
        "4.  Use input() to get user commands.\n",
        "5.  Call appropriate functions based on user input."
      ],
      "metadata": {
        "id": "7Zv8MCbE0bGK"
      }
    },
    {
      "cell_type": "code",
      "source": [
        "# Refactored To-Do List with functions\n",
        "todo_list = [] # Our data store\n",
        "\n",
        "def show_help():\n",
        "    \"\"\"Displays help information.\"\"\"\n",
        "    print(\"\\n📋 TODO LIST HELP\")\n",
        "    print(\"Type 'add' to add a task.\")\n",
        "    print(\"Type 'show' to see your tasks.\")\n",
        "    print(\"Type 'remove' to delete a task.\")\n",
        "    print(\"Type 'quit' to exit.\\n\")\n",
        "\n",
        "def add_task(task):\n",
        "    \"\"\"Adds a task to the list.\"\"\"\n",
        "    todo_list.append(task)\n",
        "    print(f\"✅ Added: {task}\")\n",
        "\n",
        "def show_tasks():\n",
        "    \"\"\"Displays all tasks.\"\"\"\n",
        "    if not todo_list:\n",
        "        print(\"Your list is empty! 🎉\")\n",
        "    else:\n",
        "        print(\"\\nYour TODO List:\")\n",
        "        for index, task in enumerate(todo_list, start=1):\n",
        "            print(f\"{index}. {task}\")\n",
        "\n",
        "def remove_task(index):\n",
        "    \"\"\"Removes a task by its number.\"\"\"\n",
        "    try:\n",
        "        index = int(index) - 1 # Convert to 0-based index\n",
        "        removed_task = todo_list.pop(index)\n",
        "        print(f\"❌ Removed: {removed_task}\")\n",
        "    except (ValueError, IndexError):\n",
        "        print(\"❌ Invalid task number.\")\n",
        "\n",
        "# The main control loop would be inside a main() function\n",
        "def main():\n",
        "    show_help()\n",
        "    while True:\n",
        "        user_action = input(\"What would you like to do? \").strip().lower()\n",
        "        if user_action == 'quit':\n",
        "            print(\"👋 Goodbye!\")\n",
        "            break\n",
        "        elif user_action == 'add':\n",
        "            task = input(\"Enter a task: \")\n",
        "            add_task(task)\n",
        "        elif user_action == 'show':\n",
        "            show_tasks()\n",
        "        elif user_action == 'remove':\n",
        "            show_tasks()\n",
        "            task_num = input(\"Enter the number of the task to remove: \")\n",
        "            remove_task(task_num)\n",
        "        else:\n",
        "            print(\"❌ Unknown command. Type 'help' for options.\")\n",
        "\n",
        "if __name__ == \"__main__\":\n",
        "    main()"
      ],
      "metadata": {
        "colab": {
          "base_uri": "https://localhost:8080/"
        },
        "id": "RLEv9lUHzmHM",
        "outputId": "2c4af1a0-5d2a-4d5d-ffc9-4629182979ac"
      },
      "execution_count": 18,
      "outputs": [
        {
          "output_type": "stream",
          "name": "stdout",
          "text": [
            "\n",
            "📋 TODO LIST HELP\n",
            "Type 'add' to add a task.\n",
            "Type 'show' to see your tasks.\n",
            "Type 'remove' to delete a task.\n",
            "Type 'quit' to exit.\n",
            "\n",
            "What would you like to do? add\n",
            "Enter a task: Focus \n",
            "✅ Added: Focus \n",
            "What would you like to do? show\n",
            "\n",
            "Your TODO List:\n",
            "1. Focus \n",
            "What would you like to do? quit\n",
            "👋 Goodbye!\n"
          ]
        }
      ]
    }
  ]
}