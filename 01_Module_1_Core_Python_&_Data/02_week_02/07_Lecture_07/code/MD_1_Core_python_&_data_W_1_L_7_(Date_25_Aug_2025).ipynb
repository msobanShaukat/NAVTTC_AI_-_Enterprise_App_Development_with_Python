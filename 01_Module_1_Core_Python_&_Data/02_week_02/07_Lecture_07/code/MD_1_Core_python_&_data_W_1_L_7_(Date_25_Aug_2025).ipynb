{
  "nbformat": 4,
  "nbformat_minor": 0,
  "metadata": {
    "colab": {
      "provenance": []
    },
    "kernelspec": {
      "name": "python3",
      "display_name": "Python 3"
    },
    "language_info": {
      "name": "python"
    }
  },
  "cells": [
    {
      "cell_type": "markdown",
      "source": [
        "# 🔁 Module 1: Core Python & Data - Week 1 Lecture 7\n",
        "**Date:** 25/08/2025  \n",
        "**Documented By:** Muhammad Soban Shaukat\n",
        "\n",
        "## 📋 The Power of Repetition: For and While Loops\n",
        "\n",
        "We've made our programs smart with conditions. Now, let's make them **powerful** and **efficient** 💪 with **loops**! Loops automate repetitive tasks, allowing us to process massive amounts of data, control games, and handle user input with elegant, concise code."
      ],
      "metadata": {
        "id": "pZHFsYr8Imrs"
      }
    },
    {
      "cell_type": "markdown",
      "source": [
        "## 📋 Today's Agenda\n",
        "\n",
        "1.  **🔄 The `for` Loop & Pythonic Iteration**\n",
        "    *   Automating Tasks & The `for` Loop\n",
        "    *   The `range()` Function\n",
        "    *   `enumerate()` & `zip()` Functions\n",
        "    *   Interactive Exercises\n",
        "\n",
        "2.  **⚡ The `while` Loop & Controlling Flow**\n",
        "    *   The Conditional `while` Loop\n",
        "    *   `break` & `continue` Statements\n",
        "    *   Interactive Exercises\n",
        "\n",
        "3.  **🚀 Advanced Loop Patterns & The Lab**\n",
        "    *   The `else` Block in Loops\n",
        "    *   `for` vs. `while`: Choosing the Right Tool\n",
        "    *   **🧪 Hands-On Lab:** Interactive Data Aggregator"
      ],
      "metadata": {
        "id": "DS0BZKCuI0OC"
      }
    },
    {
      "cell_type": "markdown",
      "source": [
        "## 1. 🔄 The `for` Loop & Pythonic Iteration\n",
        "\n",
        "### The \"Why\": Automating Repetitive Tasks\n",
        "Imagine printing 100 names. Writing 100 `print()` statements is tedious. A **loop** lets you define a task once and repeat it for every item in a collection (like a list, string, or dictionary). This is the essence of programming power."
      ],
      "metadata": {
        "id": "l2LgghyLI3aG"
      }
    },
    {
      "cell_type": "markdown",
      "source": [
        "### The `for` Loop: Python's \"For Each\" Powerhouse\n",
        "The `for` loop in Python is used to iterate over items in any **sequence** (list, tuple, string, etc.). The syntax is clean and reads almost like English: \"**for** each item **in** this collection, do this.\"\n",
        "\n",
        "**Syntax:** `for variable_name in sequence:`"
      ],
      "metadata": {
        "id": "Gv2uNiCVI6az"
      }
    },
    {
      "cell_type": "code",
      "execution_count": 1,
      "metadata": {
        "colab": {
          "base_uri": "https://localhost:8080/"
        },
        "id": "Kx0yPMmJIQiG",
        "outputId": "bb1bdc74-8bde-4040-ba5d-8b96fb7bf1a7"
      },
      "outputs": [
        {
          "output_type": "stream",
          "name": "stdout",
          "text": [
            "Current fruit is: apple 🍎\n",
            "Current fruit is: banana 🍎\n",
            "Current fruit is: cherry 🍎\n",
            "Loop finished! 🎯\n",
            "P-y-t-h-o-n-\n",
            "\n",
            "User details:\n",
            "  name: Alice\n",
            "  id: 123\n",
            "  is_active: True\n"
          ]
        }
      ],
      "source": [
        "# Looping over a list\n",
        "fruits = [\"apple\", \"banana\", \"cherry\"]\n",
        "for fruit in fruits:\n",
        "    print(f\"Current fruit is: {fruit} 🍎\")\n",
        "\n",
        "print(\"Loop finished! 🎯\")\n",
        "\n",
        "# Looping over a string\n",
        "for char in \"Python\":\n",
        "    print(char, end=\"-\") # The 'end' parameter changes the ending character\n",
        "print(\"\\n\") # Print a newline at the end\n",
        "\n",
        "# Looping over a dictionary\n",
        "user = {\"name\": \"Alice\", \"id\": 123, \"is_active\": True}\n",
        "print(\"User details:\")\n",
        "for key, value in user.items(): # .items() returns key-value pairs\n",
        "    print(f\"  {key}: {value}\")"
      ]
    },
    {
      "cell_type": "markdown",
      "source": [
        "### The `range()` Function: Looping a Specific Number of Times\n",
        "What if you don't have a list, but just want to do something 5 times? The `range()` function generates a sequence of numbers for you to loop over.\n",
        "\n",
        "**Syntax:**\n",
        "*   `range(stop)` → Generates numbers from `0` to `stop-1`\n",
        "*   `range(start, stop)` → Generates numbers from `start` to `stop-1`\n",
        "*   `range(start, stop, step)` → Generates numbers from `start` to `stop-1`, incrementing by `step`"
      ],
      "metadata": {
        "id": "6NMJskqJI_WQ"
      }
    },
    {
      "cell_type": "code",
      "source": [
        "# Loop 5 times (0 to 4)\n",
        "print(\"Looping 5 times:\")\n",
        "for i in range(5):\n",
        "    print(f\"Round {i}\")\n",
        "\n",
        "print()\n",
        "\n",
        "# Loop from 2 to 6 (2, 3, 4, 5, 6)\n",
        "print(\"Numbers from 2 to 6:\")\n",
        "for i in range(2, 7):\n",
        "    print(i)\n",
        "\n",
        "print()\n",
        "\n",
        "# Count down from 10 to 1 by 2s (10, 8, 6, 4, 2)\n",
        "print(\"Countdown from 10 by 2s:\")\n",
        "for i in range(10, 0, -2):\n",
        "    print(i)"
      ],
      "metadata": {
        "colab": {
          "base_uri": "https://localhost:8080/"
        },
        "id": "DFSzxdqXJCLZ",
        "outputId": "676f52f5-55a4-4a90-ee00-3097568ecfbc"
      },
      "execution_count": 2,
      "outputs": [
        {
          "output_type": "stream",
          "name": "stdout",
          "text": [
            "Looping 5 times:\n",
            "Round 0\n",
            "Round 1\n",
            "Round 2\n",
            "Round 3\n",
            "Round 4\n",
            "\n",
            "Numbers from 2 to 6:\n",
            "2\n",
            "3\n",
            "4\n",
            "5\n",
            "6\n",
            "\n",
            "Countdown from 10 by 2s:\n",
            "10\n",
            "8\n",
            "6\n",
            "4\n",
            "2\n"
          ]
        }
      ]
    },
    {
      "cell_type": "markdown",
      "source": [
        "### Looping with an Index: The `enumerate()` Function\n",
        "Often, you need both the **item** and its **index** (position). The Pythonic way to do this is with `enumerate()`. It returns both the index and the item on each iteration.\n",
        "\n",
        "**Syntax:** `for index, item in enumerate(sequence):`"
      ],
      "metadata": {
        "id": "wWaKPwqCJGC-"
      }
    },
    {
      "cell_type": "code",
      "source": [
        "fruits = [\"apple\", \"banana\", \"cherry\"]\n",
        "\n",
        "# The C-style, less Pythonic way (avoid this)\n",
        "print(\"Less Pythonic way (range(len)):\")\n",
        "for i in range(len(fruits)):\n",
        "    print(f\"Index {i}: {fruits[i]}\")\n",
        "\n",
        "print()\n",
        "\n",
        "# The Pythonic way with enumerate() ✅\n",
        "print(\"Pythonic way (enumerate):\")\n",
        "for index, fruit in enumerate(fruits): # Tuple unpacking!\n",
        "    print(f\"Index {index}: {fruit}\")\n",
        "\n",
        "print()\n",
        "\n",
        "# You can even start the index at a different number\n",
        "print(\"Starting index at 1:\")\n",
        "for index, fruit in enumerate(fruits, start=1):\n",
        "    print(f\"Item #{index}: {fruit}\")"
      ],
      "metadata": {
        "colab": {
          "base_uri": "https://localhost:8080/"
        },
        "id": "cJ-v51T8JIb-",
        "outputId": "8c63a280-7506-4eb4-9ceb-f52fcdf94502"
      },
      "execution_count": 3,
      "outputs": [
        {
          "output_type": "stream",
          "name": "stdout",
          "text": [
            "Less Pythonic way (range(len)):\n",
            "Index 0: apple\n",
            "Index 1: banana\n",
            "Index 2: cherry\n",
            "\n",
            "Pythonic way (enumerate):\n",
            "Index 0: apple\n",
            "Index 1: banana\n",
            "Index 2: cherry\n",
            "\n",
            "Starting index at 1:\n",
            "Item #1: apple\n",
            "Item #2: banana\n",
            "Item #3: cherry\n"
          ]
        }
      ]
    },
    {
      "cell_type": "markdown",
      "source": [
        "### Looping Over Multiple Lists: The `zip()` Function\n",
        "What if you have two or more related lists? The `zip()` function pairs their items together. It's perfect for processing corresponding data.\n",
        "\n",
        "**Syntax:** `for item_a, item_b in zip(list_a, list_b):`\n",
        "\n",
        "**Note:** `zip()` stops at the end of the **shortest** list."
      ],
      "metadata": {
        "id": "C1Q6N__8JOLU"
      }
    },
    {
      "cell_type": "code",
      "source": [
        "students = [\"Alice\", \"Bob\", \"Charlie\"]\n",
        "grades = [95, 88, 92]\n",
        "ids = [101, 102, 103]\n",
        "\n",
        "print(\"Student Report:\")\n",
        "for student, grade, student_id in zip(students, grades, ids):\n",
        "    print(f\"ID: {student_id} - {student}: {grade}%\")"
      ],
      "metadata": {
        "colab": {
          "base_uri": "https://localhost:8080/"
        },
        "id": "fRNnHHF0JYTq",
        "outputId": "7fc44e81-d5bc-4df0-ceb6-dce3d382438d"
      },
      "execution_count": 4,
      "outputs": [
        {
          "output_type": "stream",
          "name": "stdout",
          "text": [
            "Student Report:\n",
            "ID: 101 - Alice: 95%\n",
            "ID: 102 - Bob: 88%\n",
            "ID: 103 - Charlie: 92%\n"
          ]
        }
      ]
    },
    {
      "cell_type": "markdown",
      "source": [
        "### 🧠 In-Class Exercise: The FizzBuzz Challenge\n",
        "A classic programming interview question! Loop from 1 to 100:\n",
        "*   For multiples of **3**, print `\"Fizz\"` 🫧\n",
        "*   For multiples of **5**, print `\"Buzz\"` 🐝\n",
        "*   For multiples of **both 3 and 5**, print `\"FizzBuzz\"` 🎉\n",
        "*   Otherwise, print the number."
      ],
      "metadata": {
        "id": "dawwvoToJbQJ"
      }
    },
    {
      "cell_type": "code",
      "source": [
        "# Exercise: FizzBuzz Challenge\n",
        "print(\"FizzBuzz Challenge (1 to 100):\")\n",
        "\n",
        "for num in range(1, 101):\n",
        "    if num % 3 == 0 and num % 5 == 0:\n",
        "        print(\"FizzBuzz 🎉\")\n",
        "    elif num % 3 == 0:\n",
        "        print(\"Fizz 🫧\")\n",
        "    elif num % 5 == 0:\n",
        "        print(\"Buzz 🐝\")\n",
        "    else:\n",
        "        print(num)"
      ],
      "metadata": {
        "colab": {
          "base_uri": "https://localhost:8080/"
        },
        "id": "isAstEe2Jeys",
        "outputId": "e5d7688e-2667-4d35-aeae-a928651d65b1"
      },
      "execution_count": 5,
      "outputs": [
        {
          "output_type": "stream",
          "name": "stdout",
          "text": [
            "FizzBuzz Challenge (1 to 100):\n",
            "1\n",
            "2\n",
            "Fizz 🫧\n",
            "4\n",
            "Buzz 🐝\n",
            "Fizz 🫧\n",
            "7\n",
            "8\n",
            "Fizz 🫧\n",
            "Buzz 🐝\n",
            "11\n",
            "Fizz 🫧\n",
            "13\n",
            "14\n",
            "FizzBuzz 🎉\n",
            "16\n",
            "17\n",
            "Fizz 🫧\n",
            "19\n",
            "Buzz 🐝\n",
            "Fizz 🫧\n",
            "22\n",
            "23\n",
            "Fizz 🫧\n",
            "Buzz 🐝\n",
            "26\n",
            "Fizz 🫧\n",
            "28\n",
            "29\n",
            "FizzBuzz 🎉\n",
            "31\n",
            "32\n",
            "Fizz 🫧\n",
            "34\n",
            "Buzz 🐝\n",
            "Fizz 🫧\n",
            "37\n",
            "38\n",
            "Fizz 🫧\n",
            "Buzz 🐝\n",
            "41\n",
            "Fizz 🫧\n",
            "43\n",
            "44\n",
            "FizzBuzz 🎉\n",
            "46\n",
            "47\n",
            "Fizz 🫧\n",
            "49\n",
            "Buzz 🐝\n",
            "Fizz 🫧\n",
            "52\n",
            "53\n",
            "Fizz 🫧\n",
            "Buzz 🐝\n",
            "56\n",
            "Fizz 🫧\n",
            "58\n",
            "59\n",
            "FizzBuzz 🎉\n",
            "61\n",
            "62\n",
            "Fizz 🫧\n",
            "64\n",
            "Buzz 🐝\n",
            "Fizz 🫧\n",
            "67\n",
            "68\n",
            "Fizz 🫧\n",
            "Buzz 🐝\n",
            "71\n",
            "Fizz 🫧\n",
            "73\n",
            "74\n",
            "FizzBuzz 🎉\n",
            "76\n",
            "77\n",
            "Fizz 🫧\n",
            "79\n",
            "Buzz 🐝\n",
            "Fizz 🫧\n",
            "82\n",
            "83\n",
            "Fizz 🫧\n",
            "Buzz 🐝\n",
            "86\n",
            "Fizz 🫧\n",
            "88\n",
            "89\n",
            "FizzBuzz 🎉\n",
            "91\n",
            "92\n",
            "Fizz 🫧\n",
            "94\n",
            "Buzz 🐝\n",
            "Fizz 🫧\n",
            "97\n",
            "98\n",
            "Fizz 🫧\n",
            "Buzz 🐝\n"
          ]
        }
      ]
    },
    {
      "cell_type": "markdown",
      "source": [
        "## 2. ⚡ The `while` Loop & Controlling Flow\n",
        "\n",
        "### The `while` Loop: The Conditional Loop\n",
        "A `while` loop runs **as long as a condition is `True`**. Use it when you don't know how many iterations you'll need in advance (e.g., waiting for valid user input).\n",
        "\n",
        "**Syntax:** `while condition:`\n",
        "\n",
        "**⚠️ Danger:** If the condition never becomes `False`, you get an **infinite loop**! Always ensure the loop has a way to end."
      ],
      "metadata": {
        "id": "Juwh_8P2JmnQ"
      }
    },
    {
      "cell_type": "code",
      "source": [
        "# A simple while loop\n",
        "count = 0\n",
        "while count < 5:\n",
        "    print(f\"Count is {count}\")\n",
        "    count += 1  # CRITICAL: This updates the condition variable\n",
        "\n",
        "print(\"While loop finished! ✅\")\n",
        "\n",
        "# Simulating a process that might take random attempts\n",
        "print(\"\\nWaiting for a successful task...\")\n",
        "import random\n",
        "attempts = 0\n",
        "success = False\n",
        "\n",
        "while not success:\n",
        "    attempts += 1\n",
        "    # Simulate a 20% chance of success each attempt\n",
        "    if random.random() < 0.2:\n",
        "        success = True\n",
        "        print(f\"Success! 🎉 It took {attempts} attempts.\")\n",
        "    else:\n",
        "        print(f\"Attempt {attempts} failed. Trying again...\")"
      ],
      "metadata": {
        "colab": {
          "base_uri": "https://localhost:8080/"
        },
        "id": "0ic_oA7FJo94",
        "outputId": "bc62bc04-4e56-438d-c02c-c5794f62822c"
      },
      "execution_count": 6,
      "outputs": [
        {
          "output_type": "stream",
          "name": "stdout",
          "text": [
            "Count is 0\n",
            "Count is 1\n",
            "Count is 2\n",
            "Count is 3\n",
            "Count is 4\n",
            "While loop finished! ✅\n",
            "\n",
            "Waiting for a successful task...\n",
            "Attempt 1 failed. Trying again...\n",
            "Attempt 2 failed. Trying again...\n",
            "Attempt 3 failed. Trying again...\n",
            "Attempt 4 failed. Trying again...\n",
            "Attempt 5 failed. Trying again...\n",
            "Attempt 6 failed. Trying again...\n",
            "Success! 🎉 It took 7 attempts.\n"
          ]
        }
      ]
    },
    {
      "cell_type": "markdown",
      "source": [
        "### Controlling Loops: `break` and `continue`\n",
        "These powerful statements give you fine-grained control inside loops.\n",
        "\n",
        "*   `break`: Immediately **exits** the innermost loop. Jump to the code *after* the loop.\n",
        "*   `continue`: Immediately **skips** the rest of the current iteration and jumps back to the top of the loop to start the next one."
      ],
      "metadata": {
        "id": "-ZffwOV8JsOg"
      }
    },
    {
      "cell_type": "code",
      "source": [
        "# Example of 'break': Find the first number divisible by 7\n",
        "print(\"Finding first number divisible by 7:\")\n",
        "numbers = [2, 5, 11, 14, 22, 21]\n",
        "\n",
        "for num in numbers:\n",
        "    print(f\"Checking {num}...\")\n",
        "    if num % 7 == 0:\n",
        "        print(f\"Found it! {num} is divisible by 7. ✅\")\n",
        "        break # Exit the loop immediately\n",
        "    print(\"Not divisible by 7.\")\n",
        "\n",
        "print(\"Search over.\\n\")\n",
        "\n",
        "# Example of 'continue': Process only positive numbers\n",
        "print(\"Processing only positive numbers:\")\n",
        "data = [10, 20, -5, 30, -1, 0, 40]\n",
        "\n",
        "for item in data:\n",
        "    if item <= 0:\n",
        "        print(f\"Skipping {item} (not positive).\")\n",
        "        continue # Skip the rest of this iteration\n",
        "    # This code only runs for positive numbers\n",
        "    result = item * 2\n",
        "    print(f\"Processing {item}: {item} * 2 = {result}\")"
      ],
      "metadata": {
        "colab": {
          "base_uri": "https://localhost:8080/"
        },
        "id": "Nc1tqxQ7Jw0s",
        "outputId": "d384dc59-e94c-4c62-9179-f172e584ec89"
      },
      "execution_count": 7,
      "outputs": [
        {
          "output_type": "stream",
          "name": "stdout",
          "text": [
            "Finding first number divisible by 7:\n",
            "Checking 2...\n",
            "Not divisible by 7.\n",
            "Checking 5...\n",
            "Not divisible by 7.\n",
            "Checking 11...\n",
            "Not divisible by 7.\n",
            "Checking 14...\n",
            "Found it! 14 is divisible by 7. ✅\n",
            "Search over.\n",
            "\n",
            "Processing only positive numbers:\n",
            "Processing 10: 10 * 2 = 20\n",
            "Processing 20: 20 * 2 = 40\n",
            "Skipping -5 (not positive).\n",
            "Processing 30: 30 * 2 = 60\n",
            "Skipping -1 (not positive).\n",
            "Skipping 0 (not positive).\n",
            "Processing 40: 40 * 2 = 80\n"
          ]
        }
      ]
    },
    {
      "cell_type": "markdown",
      "source": [
        "### 🧠 In-Class Exercise: Input Validator\n",
        "Use a `while` loop to keep asking for a name until the user enters one that is at least 3 characters long."
      ],
      "metadata": {
        "id": "v4RTbhzNJz84"
      }
    },
    {
      "cell_type": "code",
      "source": [
        "# Exercise: Input Validator\n",
        "print(\"Please enter your name (must be at least 3 characters long).\")\n",
        "\n",
        "while True: # This creates an \"infinite\" loop\n",
        "    name = input(\"Enter your name: \").strip()\n",
        "\n",
        "    if len(name) >= 3:\n",
        "        print(f\"Welcome, {name}! 👋\")\n",
        "        break # Exit the infinite loop\n",
        "    else:\n",
        "        print(\"❌ Name too short. Please enter at least 3 characters.\\n\")\n",
        "        # The loop will continue automatically"
      ],
      "metadata": {
        "colab": {
          "base_uri": "https://localhost:8080/"
        },
        "id": "lmgQhTDbJ2jt",
        "outputId": "76f6d1a6-d54f-47c7-e4be-1f396b202c04"
      },
      "execution_count": 8,
      "outputs": [
        {
          "output_type": "stream",
          "name": "stdout",
          "text": [
            "Please enter your name (must be at least 3 characters long).\n",
            "Enter your name: Soban\n",
            "Welcome, Soban! 👋\n"
          ]
        }
      ]
    },
    {
      "cell_type": "markdown",
      "source": [
        "## 3. 🚀 Advanced Loop Patterns & The Lab\n",
        "\n",
        "### The `else` Block in Loops: A Unique Python Feature\n",
        "Python loops can have an `else` clause! The `else` block runs **only if the loop completed normally without hitting a `break` statement**. This is perfect for search operations.\n",
        "\n",
        "**Logic:** \"Run this loop. If you find what you're looking for, `break`. If you finish the entire loop without finding it (`break` never happened), then run the `else` block.\""
      ],
      "metadata": {
        "id": "kzPG6rbjJ_Ou"
      }
    },
    {
      "cell_type": "code",
      "source": [
        "# Use case: Searching for an item\n",
        "print(\"Searching for an item in a list:\")\n",
        "my_list = [1, 3, 5, 7, 9]\n",
        "search_for = 4 # Try changing this to 5\n",
        "\n",
        "for item in my_list:\n",
        "    if item == search_for:\n",
        "        print(f\"Found {search_for}! ✅\")\n",
        "        break\n",
        "else: # This runs only if the loop did NOT break\n",
        "    print(f\"{search_for} was not found in the list. ❌\")\n",
        "\n",
        "print(\"Search complete.\\n\")"
      ],
      "metadata": {
        "colab": {
          "base_uri": "https://localhost:8080/"
        },
        "id": "Qjh52cOLJ--v",
        "outputId": "0ec70e17-8bbb-4ddf-f81a-8bee54a6fdfa"
      },
      "execution_count": 9,
      "outputs": [
        {
          "output_type": "stream",
          "name": "stdout",
          "text": [
            "Searching for an item in a list:\n",
            "4 was not found in the list. ❌\n",
            "Search complete.\n",
            "\n"
          ]
        }
      ]
    },
    {
      "cell_type": "markdown",
      "source": [
        "### Choosing the Right Loop: `for` vs. `while`\n",
        "\n",
        "| Use a `for` loop when... | Use a `while` loop when... |\n",
        "| :--- | :--- |\n",
        "| You have a **definite collection** to process (list, string, range). | You are looping based on a **condition**, not a collection. |\n",
        "| You know **how many times** you need to loop. | You **don't know** how many iterations it will take. |\n",
        "| *Example: Print all items in a list.* | *Example: Wait for user to type \"quit\".* |"
      ],
      "metadata": {
        "id": "2wlXsEbjKDrs"
      }
    },
    {
      "cell_type": "markdown",
      "source": [
        "## 🧪 Hands-On Lab: Interactive Data Aggregator\n",
        "\n",
        "Let's build a program that lets a user enter numbers, then calculates statistics on them. This combines **loops, lists, conditionals, error handling, and built-in functions**.\n",
        "We'll build it step-by-step."
      ],
      "metadata": {
        "id": "KZ8Dx3oEKKrh"
      }
    },
    {
      "cell_type": "code",
      "source": [
        "# The Complete Interactive Data Aggregator\n",
        "\n",
        "# PART 1: Setup\n",
        "numbers = [] # Empty list to store our numbers\n",
        "print(\"Welcome to the Data Aggregator! 📊\")\n",
        "print(\"Enter numbers one by one. Type 'done' when you are finished.\\n\")\n",
        "\n",
        "# PARTS 2 & 3: The Input Loop with Validation\n",
        "while True:\n",
        "    user_input = input(\"Enter a number (or 'done'): \").strip().lower()\n",
        "\n",
        "    # Check if the user wants to quit\n",
        "    if user_input == 'done':\n",
        "        break # Exit the input loop\n",
        "\n",
        "    # PART 3: Try to convert the input to a number\n",
        "    try:\n",
        "        num = float(user_input) # Use float to handle decimals\n",
        "        numbers.append(num) # Add the valid number to our list\n",
        "        print(f\"Added {num} to the list. ✅\")\n",
        "    except ValueError:\n",
        "        print(\"❌ Invalid input! Please enter a number or 'done'.\")\n",
        "\n",
        "print(\"\\n\" + \"=\"*40)\n",
        "\n",
        "# PART 4: Calculation and Output\n",
        "if not numbers: # Check if the list is empty\n",
        "    print(\"No numbers were entered. 😴\")\n",
        "else:\n",
        "    # Perform calculations using built-in functions\n",
        "    count = len(numbers)\n",
        "    total_sum = sum(numbers)\n",
        "    average = total_sum / count\n",
        "    maximum = max(numbers)\n",
        "    minimum = min(numbers)\n",
        "\n",
        "    # Print the results\n",
        "    print(\"RESULTS 📈:\")\n",
        "    print(f\"  Count: {count}\")\n",
        "    print(f\"  Sum: {total_sum}\")\n",
        "    print(f\"  Average: {average:.2f}\") # :.2f formats to 2 decimal places\n",
        "    print(f\"  Maximum: {maximum}\")\n",
        "    print(f\"  Minimum: {minimum}\")\n",
        "\n",
        "    # CHALLENGE: Store in a Dictionary\n",
        "    analysis_results = {\n",
        "        \"count\": count,\n",
        "        \"sum\": total_sum,\n",
        "        \"average\": average,\n",
        "        \"max\": maximum,\n",
        "        \"min\": minimum\n",
        "    }\n",
        "    print(f\"\\nResults Dictionary: {analysis_results}\")"
      ],
      "metadata": {
        "colab": {
          "base_uri": "https://localhost:8080/"
        },
        "id": "d2GS1fi3KG_a",
        "outputId": "e895043b-7654-4cbf-9ce8-5328249996f8"
      },
      "execution_count": 10,
      "outputs": [
        {
          "output_type": "stream",
          "name": "stdout",
          "text": [
            "Welcome to the Data Aggregator! 📊\n",
            "Enter numbers one by one. Type 'done' when you are finished.\n",
            "\n",
            "Enter a number (or 'done'): 3\n",
            "Added 3.0 to the list. ✅\n",
            "Enter a number (or 'done'): 4\n",
            "Added 4.0 to the list. ✅\n",
            "Enter a number (or 'done'): 66\n",
            "Added 66.0 to the list. ✅\n",
            "Enter a number (or 'done'): 24324\n",
            "Added 24324.0 to the list. ✅\n",
            "Enter a number (or 'done'): done\n",
            "\n",
            "========================================\n",
            "RESULTS 📈:\n",
            "  Count: 4\n",
            "  Sum: 24397.0\n",
            "  Average: 6099.25\n",
            "  Maximum: 24324.0\n",
            "  Minimum: 3.0\n",
            "\n",
            "Results Dictionary: {'count': 4, 'sum': 24397.0, 'average': 6099.25, 'max': 24324.0, 'min': 3.0}\n"
          ]
        }
      ]
    },
    {
      "cell_type": "markdown",
      "source": [
        "### 🚀 Challenge / Bonus Features\n",
        "Let's add the advanced features from the slides."
      ],
      "metadata": {
        "id": "GTOTKeYeKac2"
      }
    },
    {
      "cell_type": "code",
      "source": [
        "# CHALLENGE: Filtering and Median\n",
        "if numbers:\n",
        "    print(\"\\n\" + \"=\"*40)\n",
        "    print(\"BONUS FEATURES 🚀\")\n",
        "\n",
        "    # Filter for positive numbers only\n",
        "    positive_numbers = [num for num in numbers if num > 0]\n",
        "    # [num for num in numbers if num > 0] is a list comprehension!\n",
        "\n",
        "    if positive_numbers:\n",
        "        pos_count = len(positive_numbers)\n",
        "        pos_sum = sum(positive_numbers)\n",
        "        pos_avg = pos_sum / pos_count\n",
        "        print(f\"\\nAnalysis of POSITIVE numbers only ({pos_count} numbers):\")\n",
        "        print(f\"  Sum: {pos_sum}, Average: {pos_avg:.2f}\")\n",
        "    else:\n",
        "        print(\"\\nNo positive numbers were entered.\")\n",
        "\n",
        "    # Calculate Median\n",
        "    sorted_numbers = sorted(numbers) # Sort the list first\n",
        "    n = len(sorted_numbers)\n",
        "    mid_index = n // 2 # Integer division to find the middle\n",
        "\n",
        "    if n % 2 == 1: # If odd number of elements\n",
        "        median = sorted_numbers[mid_index]\n",
        "    else: # If even number of elements\n",
        "        median = (sorted_numbers[mid_index - 1] + sorted_numbers[mid_index]) / 2\n",
        "\n",
        "    print(f\"  Median: {median}\")"
      ],
      "metadata": {
        "colab": {
          "base_uri": "https://localhost:8080/"
        },
        "id": "lpdYJpavKbR-",
        "outputId": "54a800d1-891b-404e-dafc-337c927a7b61"
      },
      "execution_count": 11,
      "outputs": [
        {
          "output_type": "stream",
          "name": "stdout",
          "text": [
            "\n",
            "========================================\n",
            "BONUS FEATURES 🚀\n",
            "\n",
            "Analysis of POSITIVE numbers only (4 numbers):\n",
            "  Sum: 24397.0, Average: 6099.25\n",
            "  Median: 35.0\n"
          ]
        }
      ]
    }
  ]
}