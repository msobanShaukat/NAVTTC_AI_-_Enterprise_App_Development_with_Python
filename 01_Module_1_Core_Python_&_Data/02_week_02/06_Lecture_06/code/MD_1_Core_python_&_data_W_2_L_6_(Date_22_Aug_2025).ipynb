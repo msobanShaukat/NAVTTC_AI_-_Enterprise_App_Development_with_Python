{
  "nbformat": 4,
  "nbformat_minor": 0,
  "metadata": {
    "colab": {
      "provenance": []
    },
    "kernelspec": {
      "name": "python3",
      "display_name": "Python 3"
    },
    "language_info": {
      "name": "python"
    }
  },
  "cells": [
    {
      "cell_type": "markdown",
      "source": [
        "# 🧭 Module 1: Core Python & Data - Week 1 Lecture 6\n",
        "**Date:** 22/08/2025  \n",
        "**Instructor:** Orangzaib Rajpoot  \n",
        "\n",
        "## 📋 Directing the Flow: Conditional Logic & Error Handling\n",
        "\n",
        "We've learned to store and organize data. Today, we give our programs a **brain** 🧠 and a **safety net** 🛡️. We'll learn to make decisions with `if/elif/else` and handle unexpected errors gracefully with `try...except`, creating robust, dynamic programs that don't just crash!"
      ],
      "metadata": {
        "id": "RmhiajXXoJZy"
      }
    },
    {
      "cell_type": "markdown",
      "source": [
        "## 📋 Today's Agenda\n",
        "\n",
        "1.  **🛣️ The Crossroads - `if` and `else` Statements**\n",
        "    *   Control Flow & The `if` Statement\n",
        "    *   Python's \"Truthiness\"\n",
        "    *   The `else` Statement\n",
        "    *   Interactive Exercises\n",
        "\n",
        "2.  **🧭 Handling Multiple Paths & Complex Logic**\n",
        "    *   The `elif` Statement\n",
        "    *   Complex Conditions with `and`, `or`, `not`\n",
        "    *   Interactive Exercises\n",
        "\n",
        "3.  **🐍 Pythonic Conditionals & Error Handling**\n",
        "    *   The Ternary Operator\n",
        "    *   The Problem: Programs That Crash\n",
        "    *   The Solution: `try...except`\n",
        "    *   **🧪 Hands-On Lab:** The Number Guessing Game"
      ],
      "metadata": {
        "id": "SpvNJvt3oLqv"
      }
    },
    {
      "cell_type": "markdown",
      "source": [
        "## 1. 🛣️ The Crossroads - `if` and `else` Statements\n",
        "\n",
        "### The Concept of Control Flow\n",
        "Think of a program as a recipe. So far, our recipes have been a straight list of steps. But real instructions involve **decisions**: *\"If the oven is hot, put the cake in.\"*\n",
        "\n",
        "**Control flow statements** like `if` allow us to direct the path of execution in our code based on certain conditions, making our programs dynamic and intelligent.\n",
        "\n",
        "### The `if` Statement: The Basic Decision\n",
        "The `if` statement evaluates a condition. If the condition is `True`, the indented code block runs. If `False`, it is skipped."
      ],
      "metadata": {
        "id": "j80J27f9oPEl"
      }
    },
    {
      "cell_type": "code",
      "source": [
        "# Syntax: if condition:\n",
        "#             indented_code_block\n",
        "\n",
        "temperature = 35\n",
        "\n",
        "if temperature > 30:\n",
        "    print(\"It's a hot day! 🔥\")\n",
        "    print(\"Remember to stay hydrated. 💧\")\n",
        "\n",
        "print(\"This line always runs, regardless of the condition.\")"
      ],
      "metadata": {
        "colab": {
          "base_uri": "https://localhost:8080/"
        },
        "id": "m-s2eTueoWoK",
        "outputId": "95e46285-fa21-43bf-d152-2c97003bd277"
      },
      "execution_count": 1,
      "outputs": [
        {
          "output_type": "stream",
          "name": "stdout",
          "text": [
            "It's a hot day! 🔥\n",
            "Remember to stay hydrated. 💧\n",
            "This line always runs, regardless of the condition.\n"
          ]
        }
      ]
    },
    {
      "cell_type": "markdown",
      "source": [
        "### Python's \"Truthiness\" ✅❌\n",
        "In Python, you don't always need an explicit `== True` or `== False`. Many values are considered **\"truthy\"** or **\"falsy\"** in a boolean context. This leads to cleaner, more readable code.\n",
        "\n",
        "**Falsy Values** (behave like `False`):\n",
        "*   The number `0` or `0.0`\n",
        "*   An empty string `\"\"`\n",
        "*   An empty list `[]`, tuple `()`, dictionary `{}`, or set `set()`\n",
        "*   The special value `None`\n",
        "\n",
        "**Everything else is Truthy!** (behaves like `True`)"
      ],
      "metadata": {
        "id": "6TpyJ0TkoctS"
      }
    },
    {
      "cell_type": "code",
      "source": [
        "# Checking if a list is empty\n",
        "\n",
        "user_list = []\n",
        "# Un-Pythonic way\n",
        "if len(user_list) == 0:\n",
        "    print(\"No users found. (Un-Pythonic)\")\n",
        "\n",
        "# Pythonic way using Truthiness\n",
        "if not user_list: # Reads like English: \"if not user_list\"\n",
        "    print(\"No users found. (Pythonic)\")\n",
        "\n",
        "# Checking if user input is not empty\n",
        "name = input(\"Enter your name: \")\n",
        "if name: # \"if name has a value\" (is truthy)\n",
        "    print(f\"Welcome, {name}! 👋\")\n",
        "else:\n",
        "    print(\"You didn't enter a name. 😢\")"
      ],
      "metadata": {
        "colab": {
          "base_uri": "https://localhost:8080/"
        },
        "id": "MFS3p0Qkod4D",
        "outputId": "0ce59406-a270-4c53-b07c-90a6a52643ce"
      },
      "execution_count": 2,
      "outputs": [
        {
          "output_type": "stream",
          "name": "stdout",
          "text": [
            "No users found. (Un-Pythonic)\n",
            "No users found. (Pythonic)\n",
            "Enter your name: Soban Shaukat \n",
            "Welcome, Soban Shaukat ! 👋\n"
          ]
        }
      ]
    },
    {
      "cell_type": "markdown",
      "source": [
        "### The `else` Statement: The Alternative Path\n",
        "The `else` statement provides a block of code to execute **if the `if` condition is `False`**."
      ],
      "metadata": {
        "id": "u9RO3RaLooTz"
      }
    },
    {
      "cell_type": "code",
      "source": [
        "age = 17\n",
        "\n",
        "if age >= 18:\n",
        "    print(\"You are eligible to vote. 🗳️\")\n",
        "else:\n",
        "    print(\"You are not yet eligible to vote.\")\n",
        "    years_left = 18 - age\n",
        "    print(f\"You can vote in {years_left} year(s). ⏳\")"
      ],
      "metadata": {
        "colab": {
          "base_uri": "https://localhost:8080/"
        },
        "id": "yS5ycBeOooGd",
        "outputId": "406e2478-b5aa-40c5-ac9d-849afd4c0893"
      },
      "execution_count": 3,
      "outputs": [
        {
          "output_type": "stream",
          "name": "stdout",
          "text": [
            "You are not yet eligible to vote.\n",
            "You can vote in 1 year(s). ⏳\n"
          ]
        }
      ]
    },
    {
      "cell_type": "markdown",
      "source": [
        "### 🧠 In-Class Exercise: Login Check\n",
        "\n",
        "1.  Create a variable `password = \"python123\"`.\n",
        "2.  Ask the user to enter a password using `input()`.\n",
        "3.  Write an `if/else` statement that checks if the user's input matches the stored password.\n",
        "4.  Print `\"Access Granted\"` or `\"Access Denied\"`."
      ],
      "metadata": {
        "id": "CXFZ_bcfouBe"
      }
    },
    {
      "cell_type": "code",
      "source": [
        "# Exercise: Login Check\n",
        "password = \"python123\"\n",
        "\n",
        "user_input = input(\"Please enter the password: \")\n",
        "\n",
        "if user_input == password:\n",
        "    print(\"Access Granted! 🎉\")\n",
        "else:\n",
        "    print(\"Access Denied! ❌\")"
      ],
      "metadata": {
        "colab": {
          "base_uri": "https://localhost:8080/"
        },
        "id": "SusV7yOEowY7",
        "outputId": "8eb260a2-6f14-4b6a-f3ec-883b7fb99ee2"
      },
      "execution_count": 4,
      "outputs": [
        {
          "output_type": "stream",
          "name": "stdout",
          "text": [
            "Please enter the password: 12345678\n",
            "Access Denied! ❌\n"
          ]
        }
      ]
    },
    {
      "cell_type": "markdown",
      "source": [
        "## 2. 🧭 Handling Multiple Paths & Complex Logic\n",
        "\n",
        "### The `elif` Statement: The \"Else If\"\n",
        "What if you have more than two possible outcomes? You could nest `if/else` statements, but that gets messy. The `elif` (**else if**) statement is the clean, Pythonic solution. Python checks each condition in order and executes the **first** one that is `True`."
      ],
      "metadata": {
        "id": "_JysNZppozIe"
      }
    },
    {
      "cell_type": "code",
      "source": [
        "score = 85\n",
        "\n",
        "# Messy Nested Version (Don't do this!)\n",
        "if score >= 90:\n",
        "    print(\"Grade: A\")\n",
        "else:\n",
        "    if score >= 80:\n",
        "        print(\"Grade: B\")\n",
        "    else:\n",
        "        if score >= 70:\n",
        "            print(\"Grade: C\")\n",
        "        # ... gets very messy!\n",
        "\n",
        "print(\"-\" * 20)\n",
        "\n",
        "# Clean, Readable 'elif' Version ✅\n",
        "if score >= 90:\n",
        "    print(\"Grade: A\")\n",
        "elif score >= 80: # Else, if this is true...\n",
        "    print(\"Grade: B\")\n",
        "elif score >= 70:\n",
        "    print(\"Grade: C\")\n",
        "elif score >= 60:\n",
        "    print(\"Grade: D\")\n",
        "else: # If none of the above are true...\n",
        "    print(\"Grade: F\")"
      ],
      "metadata": {
        "colab": {
          "base_uri": "https://localhost:8080/"
        },
        "id": "d58FoOBZo5qd",
        "outputId": "040abbde-570e-4768-fa87-6bd024f076b4"
      },
      "execution_count": 5,
      "outputs": [
        {
          "output_type": "stream",
          "name": "stdout",
          "text": [
            "Grade: B\n",
            "--------------------\n",
            "Grade: B\n"
          ]
        }
      ]
    },
    {
      "cell_type": "markdown",
      "source": [
        "### Building Complex Conditions with `and`, `or`, `not`\n",
        "You can combine simple checks to create powerful, specific rules using logical operators."
      ],
      "metadata": {
        "id": "K1u7AZEeo__g"
      }
    },
    {
      "cell_type": "code",
      "source": [
        "age = 25\n",
        "has_license = True\n",
        "\n",
        "# 'and' requires ALL conditions to be True\n",
        "if age >= 25 and has_license:\n",
        "    print(\"You are eligible to rent a car. 🚗\")\n",
        "\n",
        "day = \"Sunday\"\n",
        "is_holiday = False\n",
        "\n",
        "# 'or' requires AT LEAST ONE condition to be True\n",
        "if day == \"Saturday\" or day == \"Sunday\" or is_holiday:\n",
        "    print(\"Enjoy your day off! 🏖️\")\n",
        "\n",
        "# 'not' flips the boolean value\n",
        "is_raining = False\n",
        "if not is_raining:\n",
        "    print(\"It's not raining. Good day for a walk! 🚶\")"
      ],
      "metadata": {
        "colab": {
          "base_uri": "https://localhost:8080/"
        },
        "id": "W43p2VlOpAru",
        "outputId": "35496300-4881-4026-a370-1fa2dc7bd655"
      },
      "execution_count": 6,
      "outputs": [
        {
          "output_type": "stream",
          "name": "stdout",
          "text": [
            "You are eligible to rent a car. 🚗\n",
            "Enjoy your day off! 🏖️\n",
            "It's not raining. Good day for a walk! 🚶\n"
          ]
        }
      ]
    },
    {
      "cell_type": "markdown",
      "source": [
        "### 🧠 In-Class Exercise: Theme Park Ride Access\n",
        "\n",
        "A ride has rules:\n",
        "- Must be at least **140cm** tall.\n",
        "- Between **120cm and 140cm**, must be accompanied by an adult.\n",
        "- Under **120cm**, cannot ride.\n",
        "\n",
        "Write an `if/elif/else` structure that takes a `height` and a boolean `is_with_adult` and prints the correct message."
      ],
      "metadata": {
        "id": "q5k-ftbTpDZM"
      }
    },
    {
      "cell_type": "code",
      "source": [
        "# Exercise: Theme Park Ride Access\n",
        "height = 130  # Try changing this value: 110, 130, 150\n",
        "is_with_adult = True # Try changing this to False\n",
        "\n",
        "print(f\"Height: {height}cm, With Adult: {is_with_adult}\")\n",
        "\n",
        "if height >= 140:\n",
        "    print(\"Access Granted! 🎢\")\n",
        "elif height >= 120:\n",
        "    if is_with_adult:\n",
        "        print(\"Access Granted with adult! 👨‍👦\")\n",
        "    else:\n",
        "        print(\"Access Denied. Must be accompanied by an adult. 🚫\")\n",
        "else: # height < 120\n",
        "    print(\"Access Denied. Too short. 📏\")"
      ],
      "metadata": {
        "colab": {
          "base_uri": "https://localhost:8080/"
        },
        "id": "GIia_0j2pFFG",
        "outputId": "9391fd7f-cac6-4945-8605-6cd2ab38f1c5"
      },
      "execution_count": 7,
      "outputs": [
        {
          "output_type": "stream",
          "name": "stdout",
          "text": [
            "Height: 130cm, With Adult: True\n",
            "Access Granted with adult! 👨‍👦\n"
          ]
        }
      ]
    },
    {
      "cell_type": "markdown",
      "source": [
        "## 3. 🐍 Pythonic Conditionals & Error Handling\n",
        "\n",
        "### The Ternary Operator: A Concise if/else\n",
        "For simple assignments based on a condition, Python offers a clean one-line syntax.\n",
        "\n",
        "**Syntax:** `value_if_true if condition else value_if_false`\n",
        "\n",
        "**Use this for clarity on simple assignments, not for complex logic.**"
      ],
      "metadata": {
        "id": "0HO6t8XPpIOY"
      }
    },
    {
      "cell_type": "code",
      "source": [
        "age = 22\n",
        "\n",
        "# Standard if/else\n",
        "if age >= 18:\n",
        "    status = \"Adult\"\n",
        "else:\n",
        "    status = \"Minor\"\n",
        "\n",
        "# Ternary operator version (does the same thing in one line)\n",
        "status = \"Adult\" if age >= 18 else \"Minor\"\n",
        "\n",
        "print(f\"The person is a {status}. 👤\")"
      ],
      "metadata": {
        "colab": {
          "base_uri": "https://localhost:8080/"
        },
        "id": "_afF4O5lpKa2",
        "outputId": "480c80d6-2e1c-46cc-9c67-dcfc0b9c722b"
      },
      "execution_count": 8,
      "outputs": [
        {
          "output_type": "stream",
          "name": "stdout",
          "text": [
            "The person is a Adult. 👤\n"
          ]
        }
      ]
    },
    {
      "cell_type": "markdown",
      "source": [
        "### The Problem: When Programs Crash 💥\n",
        "So far, we've assumed users will always give us the input we expect. What happens when they don't? The program crashes with a **traceback** error message and stops completely."
      ],
      "metadata": {
        "id": "YntEu3eOpPCk"
      }
    },
    {
      "cell_type": "code",
      "source": [
        "# The Problem: Crashing on bad input\n",
        "user_input = input(\"Please enter your age: \")\n",
        "# User might type \"twenty\" instead of 20\n",
        "\n",
        "# This line will CRASH with a ValueError if input isn't a number!\n",
        "age = int(user_input)\n",
        "\n",
        "print(\"This line will never be reached if the previous one crashes. 😵\")"
      ],
      "metadata": {
        "colab": {
          "base_uri": "https://localhost:8080/"
        },
        "id": "NAYVDDHOpRD0",
        "outputId": "9afcf6a3-b72c-4cbc-c4e8-43e626c52b31"
      },
      "execution_count": 9,
      "outputs": [
        {
          "output_type": "stream",
          "name": "stdout",
          "text": [
            "Please enter your age: 27\n",
            "This line will never be reached if the previous one crashes. 😵\n"
          ]
        }
      ]
    },
    {
      "cell_type": "markdown",
      "source": [
        "### The Solution: Handling Errors with `try...except` 🛡️\n",
        "The `try...except` block is Python's mechanism for **error handling** (also called **exception handling**). It's another form of control flow.\n",
        "\n",
        "**Analogy:** You \"try\" to run some risky code. If an error occurs, instead of crashing, the program jumps to the \"except\" block, which acts as a safety net."
      ],
      "metadata": {
        "id": "iboMd3Zdpg7T"
      }
    },
    {
      "cell_type": "code",
      "source": [
        "# The Solution: Graceful error handling\n",
        "user_input = input(\"Please enter your age: \")\n",
        "\n",
        "try:\n",
        "    # --- Risky code goes here ---\n",
        "    age = int(user_input) # This might cause a ValueError\n",
        "    print(f\"In five years, you will be {age + 5} years old. 🎂\")\n",
        "except ValueError:\n",
        "    # --- Fallback code goes here ---\n",
        "    # This only runs if a ValueError occurred in the try block.\n",
        "    print(\"Invalid input! ❌ Please enter a number using digits (e.g., 20), not words.\")\n",
        "\n",
        "print(\"The program continues gracefully after handling the error. ✅\")"
      ],
      "metadata": {
        "colab": {
          "base_uri": "https://localhost:8080/"
        },
        "id": "HpgTZuf7phij",
        "outputId": "48ce0e87-ea74-4bd9-a428-a65e7bfad4ca"
      },
      "execution_count": 10,
      "outputs": [
        {
          "output_type": "stream",
          "name": "stdout",
          "text": [
            "Please enter your age: 27\n",
            "In five years, you will be 32 years old. 🎂\n",
            "The program continues gracefully after handling the error. ✅\n"
          ]
        }
      ]
    },
    {
      "cell_type": "markdown",
      "source": [
        "### 🧠 In-Class Exercise: Safe Division Calculator\n",
        "\n",
        "1.  Ask the user for a numerator and a denominator.\n",
        "2.  Convert them to floats.\n",
        "3.  The division will crash if the denominator is `0` (`ZeroDivisionError`).\n",
        "4.  Wrap your division in a `try...except` block to catch this error and print a friendly message."
      ],
      "metadata": {
        "id": "sEmCg9TLpn_S"
      }
    },
    {
      "cell_type": "code",
      "source": [
        "# Exercise: Safe Division Calculator\n",
        "print(\"Safe Division Calculator ➗\")\n",
        "\n",
        "numerator = float(input(\"Enter the numerator: \"))\n",
        "denominator = float(input(\"Enter the denominator: \"))\n",
        "\n",
        "try:\n",
        "    result = numerator / denominator\n",
        "    print(f\"The result is: {result}\")\n",
        "except ZeroDivisionError:\n",
        "    print(\"Error! 🚫 Cannot divide by zero.\")"
      ],
      "metadata": {
        "colab": {
          "base_uri": "https://localhost:8080/"
        },
        "id": "PBl4wPuXpopA",
        "outputId": "5d2ddbb4-4a41-4d3e-e982-30e42db82970"
      },
      "execution_count": 11,
      "outputs": [
        {
          "output_type": "stream",
          "name": "stdout",
          "text": [
            "Safe Division Calculator ➗\n",
            "Enter the numerator: 45\n",
            "Enter the denominator: 89\n",
            "The result is: 0.5056179775280899\n"
          ]
        }
      ]
    },
    {
      "cell_type": "markdown",
      "source": [
        "## 🧪 Hands-On Lab: The Number Guessing Game\n",
        "\n",
        "Let's build a classic game that combines **variables, operators, user input, type casting, conditional logic, loops, and error handling!**\n",
        "\n",
        "**The Goal:** The program generates a secret number. The user guesses until they get it right, receiving \"too high\" or \"too low\" hints.\n",
        "We'll build it step-by-step."
      ],
      "metadata": {
        "id": "H_-Q6-ZdpvvM"
      }
    },
    {
      "cell_type": "markdown",
      "source": [
        "### 🔧 Part 1: Setup\n",
        "Import the `random` library and generate a secret number between 1 and 100."
      ],
      "metadata": {
        "id": "pinkr6Hop51E"
      }
    },
    {
      "cell_type": "code",
      "source": [
        "# Part 1: Setup\n",
        "import random\n",
        "\n",
        "print(\"Welcome to the Number Guessing Game! 🎯\")\n",
        "print(\"I'm thinking of a number between 1 and 100.\")\n",
        "secret_number = random.randint(1, 100)\n",
        "# print(secret_number) # Uncomment to cheat!"
      ],
      "metadata": {
        "colab": {
          "base_uri": "https://localhost:8080/"
        },
        "id": "6teYVH5QpxDE",
        "outputId": "9d581da2-f17d-4fd6-9bf4-bef850645bc0"
      },
      "execution_count": 12,
      "outputs": [
        {
          "output_type": "stream",
          "name": "stdout",
          "text": [
            "Welcome to the Number Guessing Game! 🎯\n",
            "I'm thinking of a number between 1 and 100.\n"
          ]
        }
      ]
    },
    {
      "cell_type": "markdown",
      "source": [
        "### 🔁 Part 2 & 3: The Game Loop & Error Handling\n",
        "Create an infinite loop and safely get the user's guess using `try...except`."
      ],
      "metadata": {
        "id": "SZFR_54-p9ZY"
      }
    },
    {
      "cell_type": "code",
      "source": [
        "# Parts 2 & 3: The Game Loop & Error Handling\n",
        "guess_count = 0\n",
        "\n",
        "while True:\n",
        "    # PART 2: Get user input\n",
        "    user_input = input(\"\\nMake your guess (1-100): \")\n",
        "\n",
        "    # PART 3: Error handling with try...except\n",
        "    try:\n",
        "        user_guess = int(user_input)\n",
        "        guess_count += 1  # Only count valid guesses\n",
        "    except ValueError:\n",
        "        print(\"❌ That's not a valid number! Please enter a whole number (e.g., 50).\")\n",
        "        continue  # Go back to start of loop\n",
        "\n",
        "    # ... Logic for checking the guess goes here next ..."
      ],
      "metadata": {
        "id": "F26kKqmcp-3P"
      },
      "execution_count": null,
      "outputs": []
    },
    {
      "cell_type": "markdown",
      "source": [
        "### ✅ Part 4: The Logic\n",
        "Compare the guess to the secret number and provide feedback. Use `break` to exit the loop when the user wins."
      ],
      "metadata": {
        "id": "hQ0HJkKGqJ0y"
      }
    },
    {
      "cell_type": "code",
      "source": [
        "    # Part 4: The Logic (This goes INSIDE the loop, after the try-except block)\n",
        "\n",
        "    # Check if the guess is correct, too high, or too low\n",
        "    if user_guess < secret_number:\n",
        "        print(\"Too low! 📉 Guess again.\")\n",
        "    elif user_guess > secret_number:\n",
        "        print(\"Too high! 📈 Guess again.\")\n",
        "    else:\n",
        "        print(f\"🎉 You got it! The number was {secret_number}.\")\n",
        "        print(f\"🕵️ It took you {guess_count} guesses.\")\n",
        "        break  # Exit the game loop"
      ],
      "metadata": {
        "id": "SAxaPULmqKwF"
      },
      "execution_count": null,
      "outputs": []
    },
    {
      "cell_type": "markdown",
      "source": [
        "### 🚀 Challenge / Bonus Features:\n",
        "1.  **Turn Counter:** Already implemented! The `guess_count` variable tracks tries.\n",
        "2.  **Limit Guesses:** Give the user only 7 tries. Let's add this."
      ],
      "metadata": {
        "id": "ZLSStaHZqdmb"
      }
    },
    {
      "cell_type": "code",
      "source": [
        "# Full Game with Guess Limit\n",
        "import random\n",
        "\n",
        "secret_number = random.randint(1, 100)\n",
        "max_guesses = 7\n",
        "guess_count = 0\n",
        "\n",
        "print(f\"Welcome! You have {max_guesses} tries to guess the number.\")\n",
        "\n",
        "while guess_count < max_guesses:\n",
        "    user_input = input(\"\\nMake your guess: \")\n",
        "\n",
        "    try:\n",
        "        user_guess = int(user_input)\n",
        "    except ValueError:\n",
        "        print(\"❌ Please enter a valid number.\")\n",
        "        continue # Don't count invalid input as a guess\n",
        "\n",
        "    guess_count += 1\n",
        "    guesses_left = max_guesses - guess_count\n",
        "\n",
        "    if user_guess < secret_number:\n",
        "        print(f\"Too low! 📉 You have {guesses_left} guesses left.\")\n",
        "    elif user_guess > secret_number:\n",
        "        print(f\"Too high! 📈 You have {guesses_left} guesses left.\")\n",
        "    else:\n",
        "        print(f\"🎉 You won! You guessed it in {guess_count} tries!\")\n",
        "        break # Exit the loop on win\n",
        "\n",
        "# This 'else' clause for the while loop runs if the loop ended normally (no break)\n",
        "# Meaning, they ran out of guesses without winning.\n",
        "else:\n",
        "    print(f\"\\n💔 Game Over! You ran out of guesses. The number was {secret_number}.\")"
      ],
      "metadata": {
        "colab": {
          "base_uri": "https://localhost:8080/"
        },
        "id": "XWLkJwWZqer0",
        "outputId": "b118a711-b7b3-43c6-82ea-f2f579c786f8"
      },
      "execution_count": 16,
      "outputs": [
        {
          "output_type": "stream",
          "name": "stdout",
          "text": [
            "Welcome! You have 7 tries to guess the number.\n",
            "\n",
            "Make your guess: 5\n",
            "Too low! 📉 You have 6 guesses left.\n",
            "\n",
            "Make your guess: 6\n",
            "Too low! 📉 You have 5 guesses left.\n",
            "\n",
            "Make your guess: 35\n",
            "Too low! 📉 You have 4 guesses left.\n",
            "\n",
            "Make your guess: 69\n",
            "Too high! 📈 You have 3 guesses left.\n",
            "\n",
            "Make your guess: 50\n",
            "Too low! 📉 You have 2 guesses left.\n",
            "\n",
            "Make your guess: 55\n",
            "Too low! 📉 You have 1 guesses left.\n",
            "\n",
            "Make your guess: 61\n",
            "Too low! 📉 You have 0 guesses left.\n",
            "\n",
            "💔 Game Over! You ran out of guesses. The number was 67.\n"
          ]
        }
      ]
    }
  ]
}