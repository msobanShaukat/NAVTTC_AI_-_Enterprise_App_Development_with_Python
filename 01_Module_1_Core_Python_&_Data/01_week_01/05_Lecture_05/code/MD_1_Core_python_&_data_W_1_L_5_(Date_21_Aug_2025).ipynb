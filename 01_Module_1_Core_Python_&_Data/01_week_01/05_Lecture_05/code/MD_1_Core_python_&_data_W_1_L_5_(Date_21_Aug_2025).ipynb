{
  "nbformat": 4,
  "nbformat_minor": 0,
  "metadata": {
    "colab": {
      "provenance": []
    },
    "kernelspec": {
      "name": "python3",
      "display_name": "Python 3"
    },
    "language_info": {
      "name": "python"
    }
  },
  "cells": [
    {
      "cell_type": "markdown",
      "source": [
        "# 🗂️ Module 1: Core Python & Data - Week 1 Lecture 5\n",
        "**Date:** 21/08/2025  \n",
        "**Instructor:** Orangzaib Rajpoot  \n",
        "\n",
        "## 📋 Python's Collections (Part 2): Dictionaries & Sets\n",
        "\n",
        "Last time, we mastered **Lists** and **Tuples**—collections ordered by number. Today, we unlock a new superpower: organizing data by custom labels with **Dictionaries** and ensuring uniqueness with **Sets**. These are the building blocks for real-world data!"
      ],
      "metadata": {
        "id": "f09-yM9sa5D3"
      }
    },
    {
      "cell_type": "markdown",
      "source": [
        "## 📋 Today's Agenda\n",
        "\n",
        "1.  **🗄️ The Ultimate Filing Cabinet - Dictionaries**\n",
        "    *   Key-Value Pairs\n",
        "    *   CRUD Operations: Create, Read, Update, Delete\n",
        "    *   Safe Access with `.get()`\n",
        "    *   Interactive Exercises\n",
        "\n",
        "2.  **🔄 Advanced Dictionaries & Intro to Sets**\n",
        "    *   Iterating: `.keys()`, `.values()`, `.items()`\n",
        "    *   **Nesting:** Dictionaries within Dictionaries\n",
        "    *   **Introduction to Sets:** Uniqueness Enforcers\n",
        "    *   Interactive Exercises\n",
        "\n",
        "3.  **➗ Set Operations & The Hands-On Lab**\n",
        "    *   Union, Intersection, Difference\n",
        "    *   Set vs. List: When to Use Which\n",
        "    *   **🧪 Hands-On Lab:** The Contact Book Application"
      ],
      "metadata": {
        "id": "eAQ-p98Ka-PS"
      }
    },
    {
      "cell_type": "markdown",
      "source": [
        "## 1. 🗄️ The Ultimate Filing Cabinet - Dictionaries\n",
        "\n",
        "### Beyond the Index: Key-Value Pairs\n",
        "Imagine a filing cabinet. You find files by their **label** (\"Project Alpha\"), not their position (\"5th file\"). A **Python dictionary** works the same way. It's an *unordered* collection of **key-value pairs**.\n",
        "\n",
        "*   **Key:** The unique, immutable label (e.g., a string, number, or tuple).\n",
        "*   **Value:** The data associated with the key (can be *any* data type).\n",
        "*   **Syntax:** Dictionaries are enclosed in curly braces `{}`."
      ],
      "metadata": {
        "id": "rOYKtW84bE3q"
      }
    },
    {
      "cell_type": "code",
      "execution_count": 1,
      "metadata": {
        "colab": {
          "base_uri": "https://localhost:8080/"
        },
        "id": "CHcOzc_ta1aO",
        "outputId": "8800208a-ff9d-4420-dbd8-3654b3c8c4dd"
      },
      "outputs": [
        {
          "output_type": "stream",
          "name": "stdout",
          "text": [
            "User dictionary: {'username': 'ada_lovelace', 'email': 'ada@example.com', 'id': 1815, 'is_active': True}\n",
            "Type: <class 'dict'>\n"
          ]
        }
      ],
      "source": [
        "# A simple dictionary representing a user\n",
        "user = {\n",
        "    \"username\": \"ada_lovelace\",\n",
        "    \"email\": \"ada@example.com\",\n",
        "    \"id\": 1815,\n",
        "    \"is_active\": True\n",
        "}\n",
        "\n",
        "print(\"User dictionary:\", user)\n",
        "print(\"Type:\", type(user))"
      ]
    },
    {
      "cell_type": "markdown",
      "source": [
        "### CRUD Operations: Create, Read, Update, Delete"
      ],
      "metadata": {
        "id": "yhYEDQ7ibTkV"
      }
    },
    {
      "cell_type": "markdown",
      "source": [
        "#### Create / Update\n",
        "Use square bracket assignment. If the key exists, its value is updated. If it doesn't, a new key-value pair is created."
      ],
      "metadata": {
        "id": "xwvB9fLtbYD1"
      }
    },
    {
      "cell_type": "code",
      "source": [
        "# Create a new key-value pair\n",
        "user[\"last_login\"] = \"2025-08-20\"\n",
        "print(\"After adding 'last_login':\", user)\n",
        "\n",
        "# Update an existing value\n",
        "user[\"email\"] = \"ada.lovelace@newdomain.com\"\n",
        "print(\"After updating 'email':\", user)"
      ],
      "metadata": {
        "colab": {
          "base_uri": "https://localhost:8080/"
        },
        "id": "N0Mwc9tibbFP",
        "outputId": "b19e2563-d82e-428a-e444-55f84e9276e2"
      },
      "execution_count": 2,
      "outputs": [
        {
          "output_type": "stream",
          "name": "stdout",
          "text": [
            "After adding 'last_login': {'username': 'ada_lovelace', 'email': 'ada@example.com', 'id': 1815, 'is_active': True, 'last_login': '2025-08-20'}\n",
            "After updating 'email': {'username': 'ada_lovelace', 'email': 'ada.lovelace@newdomain.com', 'id': 1815, 'is_active': True, 'last_login': '2025-08-20'}\n"
          ]
        }
      ]
    },
    {
      "cell_type": "markdown",
      "source": [
        "#### Read / Access\n",
        "Access a value by its key using square brackets."
      ],
      "metadata": {
        "id": "Z0v8mdtFbdK5"
      }
    },
    {
      "cell_type": "code",
      "source": [
        "# Read a value\n",
        "print(\"Username:\", user[\"username\"])"
      ],
      "metadata": {
        "colab": {
          "base_uri": "https://localhost:8080/"
        },
        "id": "eQmcpQ7gbgL6",
        "outputId": "4b09481f-860b-43bb-a72e-c5c726f8dc5d"
      },
      "execution_count": 3,
      "outputs": [
        {
          "output_type": "stream",
          "name": "stdout",
          "text": [
            "Username: ada_lovelace\n"
          ]
        }
      ]
    },
    {
      "cell_type": "markdown",
      "source": [
        "##### 🚨 Danger Zone: KeyError\n",
        "Trying to access a key that doesn't exist will crash your program with a `KeyError`."
      ],
      "metadata": {
        "id": "6_AkV0AzbiO6"
      }
    },
    {
      "cell_type": "code",
      "source": [
        "# This will cause a KeyError and stop the program\n",
        "# print(user[\"location\"]) # UNCOMMENT ONLY TO SEE THE ERROR"
      ],
      "metadata": {
        "id": "kFQ1-41sbl9q"
      },
      "execution_count": null,
      "outputs": []
    },
    {
      "cell_type": "markdown",
      "source": [
        "#### Safe Access with .get()\n",
        "The `.get()` method is the safe way to access data. It returns `None` if the key is missing, or a default value you specify."
      ],
      "metadata": {
        "id": "ve4a3kP4bpVw"
      }
    },
    {
      "cell_type": "code",
      "source": [
        "# Safe access - returns None if key doesn't exist\n",
        "location = user.get(\"location\")\n",
        "print(\"Location (using .get()):\", location)\n",
        "\n",
        "# Safe access with a custom default value\n",
        "location = user.get(\"location\", \"Location not specified\")\n",
        "print(\"Location (with default):\", location)"
      ],
      "metadata": {
        "colab": {
          "base_uri": "https://localhost:8080/"
        },
        "id": "NxiGDPzmbsYa",
        "outputId": "2728f870-2050-4449-aa1a-f656c7006dc8"
      },
      "execution_count": 4,
      "outputs": [
        {
          "output_type": "stream",
          "name": "stdout",
          "text": [
            "Location (using .get()): None\n",
            "Location (with default): Location not specified\n"
          ]
        }
      ]
    },
    {
      "cell_type": "markdown",
      "source": [
        "#### Delete\n",
        "Use the `del` keyword or the `.pop()` method (which also returns the value)."
      ],
      "metadata": {
        "id": "_K9i49pCbul5"
      }
    },
    {
      "cell_type": "code",
      "source": [
        "# Using 'del'\n",
        "del user[\"is_active\"]\n",
        "print(\"After deleting 'is_active':\", user)\n",
        "\n",
        "# Using '.pop()' - returns the value\n",
        "user_id = user.pop(\"id\")\n",
        "print(f\"Removed user with ID: {user_id}\")\n",
        "print(\"Dictionary after .pop():\", user)"
      ],
      "metadata": {
        "colab": {
          "base_uri": "https://localhost:8080/"
        },
        "id": "1UEjeeSvbxih",
        "outputId": "3390c4e5-96af-4310-c889-fe5c1926d89b"
      },
      "execution_count": 5,
      "outputs": [
        {
          "output_type": "stream",
          "name": "stdout",
          "text": [
            "After deleting 'is_active': {'username': 'ada_lovelace', 'email': 'ada.lovelace@newdomain.com', 'id': 1815, 'last_login': '2025-08-20'}\n",
            "Removed user with ID: 1815\n",
            "Dictionary after .pop(): {'username': 'ada_lovelace', 'email': 'ada.lovelace@newdomain.com', 'last_login': '2025-08-20'}\n"
          ]
        }
      ]
    },
    {
      "cell_type": "markdown",
      "source": [
        "### 🧠 In-Class Exercise: Car Inventory\n",
        "\n",
        "1.  Create a dictionary `car` with keys `\"make\"`, `\"model\"`, and `\"year\"`.\n",
        "2.  Add a new key `\"color\"`.\n",
        "3.  Update the `\"year\"`.\n",
        "4.  Safely get the value for `\"engine_type\"`, providing a default value of `\"unknown\"`.\n",
        "5.  Print the final dictionary."
      ],
      "metadata": {
        "id": "OPAGcyZdbwKx"
      }
    },
    {
      "cell_type": "code",
      "source": [
        "# Exercise: Car Inventory\n",
        "car = {\n",
        "    \"make\": \"Tesla\",\n",
        "    \"model\": \"Model S\",\n",
        "    \"year\": 2020\n",
        "}\n",
        "\n",
        "# 1. Add a new key \"color\"\n",
        "car[\"color\"] = \"Red\"\n",
        "\n",
        "# 2. Update the \"year\"\n",
        "car[\"year\"] = 2025\n",
        "\n",
        "# 3. Safely get \"engine_type\"\n",
        "engine = car.get(\"engine_type\", \"unknown\")\n",
        "\n",
        "# 4. Print the final dictionary and the engine type\n",
        "print(\"Final car dictionary:\", car)\n",
        "print(\"Engine type:\", engine)"
      ],
      "metadata": {
        "colab": {
          "base_uri": "https://localhost:8080/"
        },
        "id": "9GKI-Q4IcAsg",
        "outputId": "a57f73e3-dae3-4421-e099-c7e63cac73b8"
      },
      "execution_count": 6,
      "outputs": [
        {
          "output_type": "stream",
          "name": "stdout",
          "text": [
            "Final car dictionary: {'make': 'Tesla', 'model': 'Model S', 'year': 2025, 'color': 'Red'}\n",
            "Engine type: unknown\n"
          ]
        }
      ]
    },
    {
      "cell_type": "markdown",
      "source": [
        "## 2. 🔄 Advanced Dictionaries & Intro to Sets\n",
        "\n",
        "### Iterating Over Dictionaries\n",
        "How do you loop through all the data? Python gives you three clear ways."
      ],
      "metadata": {
        "id": "5DJS7QTEcDp1"
      }
    },
    {
      "cell_type": "code",
      "source": [
        "student = {\"name\": \"Alan Turing\", \"major\": \"Computer Science\", \"id\": 1912}\n",
        "\n",
        "print(\"--- Method 1: Looping over KEYS (default) ---\")\n",
        "for key in student: # This is the same as `for key in student.keys():`\n",
        "    print(f\"{key}: {student[key]}\")\n",
        "\n",
        "print(\"\\n--- Method 2: Looping over VALUES ---\")\n",
        "for value in student.values():\n",
        "    print(value)\n",
        "\n",
        "print(\"\\n--- Method 3: Looping over ITEMS (BEST WAY!) ---\")\n",
        "for key, value in student.items(): # Tuple unpacking in action!\n",
        "    print(f\"The student's {key} is {value}.\")"
      ],
      "metadata": {
        "colab": {
          "base_uri": "https://localhost:8080/"
        },
        "id": "mvZwgNjIcHxw",
        "outputId": "cb129212-3616-427c-d698-7dcb520fe450"
      },
      "execution_count": 7,
      "outputs": [
        {
          "output_type": "stream",
          "name": "stdout",
          "text": [
            "--- Method 1: Looping over KEYS (default) ---\n",
            "name: Alan Turing\n",
            "major: Computer Science\n",
            "id: 1912\n",
            "\n",
            "--- Method 2: Looping over VALUES ---\n",
            "Alan Turing\n",
            "Computer Science\n",
            "1912\n",
            "\n",
            "--- Method 3: Looping over ITEMS (BEST WAY!) ---\n",
            "The student's name is Alan Turing.\n",
            "The student's major is Computer Science.\n",
            "The student's id is 1912.\n"
          ]
        }
      ]
    },
    {
      "cell_type": "markdown",
      "source": [
        "### Nesting: Building Complex Structures\n",
        "The real power of dictionaries shines when you nest other collections inside them. This is how complex data (like from a web API) is structured."
      ],
      "metadata": {
        "id": "i7m-uAhXcSHn"
      }
    },
    {
      "cell_type": "code",
      "source": [
        "# A dictionary where a value is a LIST\n",
        "course = {\n",
        "    \"name\": \"Intro to AI\",\n",
        "    \"course_code\": \"CS101\",\n",
        "    \"students\": [\"Alice\", \"Bob\", \"Charlie\"]\n",
        "}\n",
        "print(\"Course with student list:\", course)\n",
        "\n",
        "# A dictionary where a value is another DICTIONARY\n",
        "users = {\n",
        "    \"user_123\": {\"name\": \"Alice\", \"email\": \"alice@example.com\"},\n",
        "    \"user_456\": {\"name\": \"Bob\", \"email\": \"bob@example.com\"}\n",
        "}\n",
        "print(\"\\nNested user dictionary:\", users)\n",
        "\n",
        "# Accessing Nested Data\n",
        "print(\"\\n--- Accessing Nested Data ---\")\n",
        "first_student = course[\"students\"][0] # Access list, then index\n",
        "print(\"First student:\", first_student)\n",
        "\n",
        "bobs_email = users[\"user_456\"][\"email\"] # Access outer dict, then inner dict\n",
        "print(\"Bob's email:\", bobs_email)"
      ],
      "metadata": {
        "colab": {
          "base_uri": "https://localhost:8080/"
        },
        "id": "_BMDuSeBcUJA",
        "outputId": "a0c3c821-6430-4993-fbc4-60ed53a13acf"
      },
      "execution_count": 8,
      "outputs": [
        {
          "output_type": "stream",
          "name": "stdout",
          "text": [
            "Course with student list: {'name': 'Intro to AI', 'course_code': 'CS101', 'students': ['Alice', 'Bob', 'Charlie']}\n",
            "\n",
            "Nested user dictionary: {'user_123': {'name': 'Alice', 'email': 'alice@example.com'}, 'user_456': {'name': 'Bob', 'email': 'bob@example.com'}}\n",
            "\n",
            "--- Accessing Nested Data ---\n",
            "First student: Alice\n",
            "Bob's email: bob@example.com\n"
          ]
        }
      ]
    },
    {
      "cell_type": "markdown",
      "source": [
        "### 🧠 In-Class Exercise: Course Roster\n",
        "\n",
        "Given the `course` dictionary:\n",
        "1.  Add a new student, `\"Diana\"`, to the `students` list.\n",
        "2.  Add a new key `\"topics\"` with a list of topics.\n",
        "3.  Write a loop that prints each topic."
      ],
      "metadata": {
        "id": "7zN0EecScYo_"
      }
    },
    {
      "cell_type": "code",
      "source": [
        "# Exercise: Course Roster\n",
        "course = {\n",
        "    \"name\": \"Intro to AI\",\n",
        "    \"course_code\": \"CS101\",\n",
        "    \"students\": [\"Alice\", \"Bob\", \"Charlie\"]\n",
        "}\n",
        "\n",
        "# 1. Add \"Diana\" to the students list\n",
        "course[\"students\"].append(\"Diana\")\n",
        "print(\"Students after adding Diana:\", course[\"students\"])\n",
        "\n",
        "# 2. Add a new key \"topics\"\n",
        "course[\"topics\"] = [\"Machine Learning\", \"Search Algorithms\", \"Logic\"]\n",
        "\n",
        "# 3. Loop through and print each topic\n",
        "print(\"\\nCourse Topics:\")\n",
        "for topic in course[\"topics\"]:\n",
        "    print(f\"- {topic}\")"
      ],
      "metadata": {
        "colab": {
          "base_uri": "https://localhost:8080/"
        },
        "id": "Cyqsk7IvcbyU",
        "outputId": "7d5a2f0c-0538-4b7a-82c9-2528e25d01e4"
      },
      "execution_count": 9,
      "outputs": [
        {
          "output_type": "stream",
          "name": "stdout",
          "text": [
            "Students after adding Diana: ['Alice', 'Bob', 'Charlie', 'Diana']\n",
            "\n",
            "Course Topics:\n",
            "- Machine Learning\n",
            "- Search Algorithms\n",
            "- Logic\n"
          ]
        }
      ]
    },
    {
      "cell_type": "markdown",
      "source": [
        "## Introduction to Sets: The Uniqueness Enforcer 🦄\n",
        "\n",
        "A **set** is an *unordered* collection of *unique* items. Enclosed in curly braces `{}`, but unlike dictionaries, they only have values, not key-value pairs.\n",
        "\n",
        "*   **Unordered:** Items have no index. You cannot access them by position.\n",
        "*   **Unique:** Sets automatically discard any duplicate values.\n",
        "*   **Use Case:** Perfect for finding unique items, comparing groups, and membership tests."
      ],
      "metadata": {
        "id": "I4IBhHBEciFc"
      }
    },
    {
      "cell_type": "code",
      "source": [
        "# Creating a set from a list automatically removes duplicates\n",
        "numbers_list = [1, 2, 2, 3, 4, 4, 4, 5]\n",
        "unique_numbers = set(numbers_list)\n",
        "print(\"List:\", numbers_list)\n",
        "print(\"Set from list:\", unique_numbers)\n",
        "\n",
        "# Creating a set directly (duplicates are ignored)\n",
        "tags = {\"python\", \"ai\", \"data\", \"python\"}\n",
        "print(\"Tags set:\", tags) # Order is not guaranteed\n",
        "\n",
        "# An empty set is created with set(), not {}\n",
        "empty_set = set()\n",
        "print(\"Type of empty_set:\", type(empty_set))\n",
        "empty_dict = {}\n",
        "print(\"Type of empty_dict:\", type(empty_dict))"
      ],
      "metadata": {
        "colab": {
          "base_uri": "https://localhost:8080/"
        },
        "id": "ZjtW0rhmcr45",
        "outputId": "0b8bea3c-4198-46e1-e387-9bca6dd0524e"
      },
      "execution_count": 10,
      "outputs": [
        {
          "output_type": "stream",
          "name": "stdout",
          "text": [
            "List: [1, 2, 2, 3, 4, 4, 4, 5]\n",
            "Set from list: {1, 2, 3, 4, 5}\n",
            "Tags set: {'data', 'ai', 'python'}\n",
            "Type of empty_set: <class 'set'>\n",
            "Type of empty_dict: <class 'dict'>\n"
          ]
        }
      ]
    },
    {
      "cell_type": "markdown",
      "source": [
        "## 3. ➗ Set Operations & The Hands-On Lab\n",
        "\n",
        "### Practical Set Operations\n",
        "Sets are fantastic for comparing groups of data."
      ],
      "metadata": {
        "id": "cjxKq3xxcxBl"
      }
    },
    {
      "cell_type": "code",
      "source": [
        "dev_team_A = {\"Alice\", \"Bob\", \"Charlie\", \"David\"}\n",
        "dev_team_B = {\"Charlie\", \"David\", \"Eve\", \"Frank\"}\n",
        "\n",
        "print(\"Team A:\", dev_team_A)\n",
        "print(\"Team B:\", dev_team_B)\n",
        "\n",
        "# Union (|): All unique members from both sets\n",
        "all_devs = dev_team_A | dev_team_B\n",
        "print(\"\\nAll Developers (Union):\", all_devs)\n",
        "\n",
        "# Intersection (&): Members in BOTH sets\n",
        "overlap = dev_team_A & dev_team_B\n",
        "print(\"Overlapping Developers (Intersection):\", overlap)\n",
        "\n",
        "# Difference (-): Members in first set but NOT in the second\n",
        "only_in_A = dev_team_A - dev_team_B\n",
        "print(\"Only in Team A (Difference):\", only_in_A)"
      ],
      "metadata": {
        "colab": {
          "base_uri": "https://localhost:8080/"
        },
        "id": "FmlQa28Hc3yG",
        "outputId": "8c74e52b-f5be-43d6-9c17-2729d8d92b3a"
      },
      "execution_count": 11,
      "outputs": [
        {
          "output_type": "stream",
          "name": "stdout",
          "text": [
            "Team A: {'David', 'Alice', 'Charlie', 'Bob'}\n",
            "Team B: {'Eve', 'David', 'Charlie', 'Frank'}\n",
            "\n",
            "All Developers (Union): {'Frank', 'Bob', 'Charlie', 'Eve', 'David', 'Alice'}\n",
            "Overlapping Developers (Intersection): {'David', 'Charlie'}\n",
            "Only in Team A (Difference): {'Alice', 'Bob'}\n"
          ]
        }
      ]
    },
    {
      "cell_type": "markdown",
      "source": [
        "### Use Cases: Set vs. List\n",
        "\n",
        "| Use a **List** when... | Use a **Set** when... |\n",
        "| :--- | :--- |\n",
        "| Order matters 🎭 | You need unique items 🦄 |\n",
        "| You have duplicates 📝 | Membership testing is key 🔍 |\n",
        "| You need to access items by index 📍 | You need to compare groups (union, intersection) 🤝 |\n",
        "| *Example: A to-do list* | *Example: Tags on a blog post* |"
      ],
      "metadata": {
        "id": "kYh2w5irdAvU"
      }
    },
    {
      "cell_type": "markdown",
      "source": [
        "### 🧠 In-Class Exercise: Skill Comparison\n",
        "\n",
        "Given two sets of job skills:\n",
        "1.  Find the skills required for **both** jobs (Intersection).\n",
        "2.  Find the skills required for job A but **not** job B (Difference).\n",
        "3.  Create a set of all unique skills required for either job (Union)."
      ],
      "metadata": {
        "id": "xSYmJHOfdGh0"
      }
    },
    {
      "cell_type": "code",
      "source": [
        "# Exercise: Skill Comparison\n",
        "job_A_skills = {\"Python\", \"SQL\", \"Tableau\", \"Git\"}\n",
        "job_B_skills = {\"Python\", \"Java\", \"AWS\", \"Git\"}\n",
        "\n",
        "print(\"Job A Skills:\", job_A_skills)\n",
        "print(\"Job B Skills:\", job_B_skills)\n",
        "\n",
        "# 1. Skills required for both jobs\n",
        "common_skills = job_A_skills & job_B_skills\n",
        "print(\"\\nSkills for both jobs (Intersection):\", common_skills)\n",
        "\n",
        "# 2. Skills only in Job A\n",
        "only_A_skills = job_A_skills - job_B_skills\n",
        "print(\"Skills only in Job A (Difference):\", only_A_skills)\n",
        "\n",
        "# 3. All unique skills across both jobs\n",
        "all_skills = job_A_skills | job_B_skills\n",
        "print(\"All unique skills (Union):\", all_skills)"
      ],
      "metadata": {
        "colab": {
          "base_uri": "https://localhost:8080/"
        },
        "id": "ukWLkHkadERp",
        "outputId": "5e5ec3b3-fad2-42fa-cb15-5eba325f025e"
      },
      "execution_count": 12,
      "outputs": [
        {
          "output_type": "stream",
          "name": "stdout",
          "text": [
            "Job A Skills: {'Tableau', 'Python', 'Git', 'SQL'}\n",
            "Job B Skills: {'Java', 'Python', 'Git', 'AWS'}\n",
            "\n",
            "Skills for both jobs (Intersection): {'Python', 'Git'}\n",
            "Skills only in Job A (Difference): {'Tableau', 'SQL'}\n",
            "All unique skills (Union): {'Java', 'AWS', 'Tableau', 'Python', 'SQL', 'Git'}\n"
          ]
        }
      ]
    },
    {
      "cell_type": "markdown",
      "source": [
        "## 🧪 Hands-On Lab: The Contact Book Application\n",
        "\n",
        "Let's build a simple contact manager using a dictionary! We'll build it step-by-step."
      ],
      "metadata": {
        "id": "GMwKSsTKdNXB"
      }
    },
    {
      "cell_type": "markdown",
      "source": [
        "### 🔧 Part 1: Setup\n",
        "Create a dictionary called `contact_book`. The keys will be names (strings), and the values will be phone numbers (strings). Pre-populate it."
      ],
      "metadata": {
        "id": "8BAqiAfcdPVY"
      }
    },
    {
      "cell_type": "code",
      "source": [
        "# Part 1: Setup\n",
        "contact_book = {\n",
        "    \"Alice\": \"555-1234\",\n",
        "    \"Bob\": \"555-5678\",\n",
        "    \"Charlie\": \"555-9012\"\n",
        "}\n",
        "print(\"Initial contact book created!\")"
      ],
      "metadata": {
        "colab": {
          "base_uri": "https://localhost:8080/"
        },
        "id": "na8K0rEDdS8G",
        "outputId": "c8829adf-a070-4b5e-cc7b-7dfaacf4358a"
      },
      "execution_count": 13,
      "outputs": [
        {
          "output_type": "stream",
          "name": "stdout",
          "text": [
            "Initial contact book created!\n"
          ]
        }
      ]
    },
    {
      "cell_type": "markdown",
      "source": [
        "### 👀 Part 2: Viewing All Contacts\n",
        "Write a function to iterate through `contact_book` using `.items()` and print each contact."
      ],
      "metadata": {
        "id": "GakKKqqidVof"
      }
    },
    {
      "cell_type": "code",
      "source": [
        "# Part 2: Viewing All Contacts\n",
        "def view_contacts():\n",
        "    if not contact_book: # Check if dictionary is empty\n",
        "        print(\"Your contact book is empty.\")\n",
        "    else:\n",
        "        print(\"\\n📞 Your Contacts:\")\n",
        "        for name, number in contact_book.items():\n",
        "            print(f\"   {name}: {number}\")\n",
        "\n",
        "# Test the function\n",
        "view_contacts()"
      ],
      "metadata": {
        "colab": {
          "base_uri": "https://localhost:8080/"
        },
        "id": "dQ2KIoJUdXd3",
        "outputId": "00b5ac6c-fec4-471b-a8af-d02234a3c85b"
      },
      "execution_count": 14,
      "outputs": [
        {
          "output_type": "stream",
          "name": "stdout",
          "text": [
            "\n",
            "📞 Your Contacts:\n",
            "   Alice: 555-1234\n",
            "   Bob: 555-5678\n",
            "   Charlie: 555-9012\n"
          ]
        }
      ]
    },
    {
      "cell_type": "markdown",
      "source": [
        "### ➕ Part 3: Adding or Updating a Contact\n",
        "Prompt the user for a name and number, then add/update it in the dictionary."
      ],
      "metadata": {
        "id": "YuKF1whFdeQ5"
      }
    },
    {
      "cell_type": "code",
      "source": [
        "# Part 3: Adding or Updating a Contact\n",
        "def add_contact():\n",
        "    name = input(\"\\nEnter the contact's name: \").strip().title()\n",
        "    phone = input(\"Enter the contact's phone number: \").strip()\n",
        "    contact_book[name] = phone # This adds or updates the key\n",
        "    print(f\"✅ Contact '{name}' saved with number '{phone}'.\")\n",
        "\n",
        "# Test the function\n",
        "add_contact()\n",
        "view_contacts() # View to see the new contact"
      ],
      "metadata": {
        "colab": {
          "base_uri": "https://localhost:8080/"
        },
        "id": "j5TUWFUUdfe1",
        "outputId": "2faae5a1-5f03-4f50-aa18-274c673a4d10"
      },
      "execution_count": 15,
      "outputs": [
        {
          "output_type": "stream",
          "name": "stdout",
          "text": [
            "\n",
            "Enter the contact's name: Saad Jamel \n",
            "Enter the contact's phone number: 03147714174\n",
            "✅ Contact 'Saad Jamel' saved with number '03147714174'.\n",
            "\n",
            "📞 Your Contacts:\n",
            "   Alice: 555-1234\n",
            "   Bob: 555-5678\n",
            "   Charlie: 555-9012\n",
            "   Saad Jamel: 03147714174\n"
          ]
        }
      ]
    },
    {
      "cell_type": "markdown",
      "source": [
        "### 🔍 Part 4: Searching for a Contact\n",
        "Prompt the user for a name and use `.get()` to safely retrieve and display the number."
      ],
      "metadata": {
        "id": "0H1tqMkXdwUI"
      }
    },
    {
      "cell_type": "code",
      "source": [
        "# Part 4: Searching for a Contact\n",
        "def search_contact():\n",
        "    name = input(\"\\nEnter the name to search for: \").strip().title()\n",
        "    phone = contact_book.get(name) # Safe lookup\n",
        "\n",
        "    if phone:\n",
        "        print(f\"✅ Found {name}: {phone}\")\n",
        "    else:\n",
        "        print(f\"❌ Sorry, '{name}' was not found in your contacts.\")\n",
        "\n",
        "# Test the function\n",
        "search_contact()"
      ],
      "metadata": {
        "colab": {
          "base_uri": "https://localhost:8080/"
        },
        "id": "qchuVrpidxXH",
        "outputId": "8e673da4-f841-4d46-d15a-a328ba0eec58"
      },
      "execution_count": 16,
      "outputs": [
        {
          "output_type": "stream",
          "name": "stdout",
          "text": [
            "\n",
            "Enter the name to search for: bob\n",
            "✅ Found Bob: 555-5678\n"
          ]
        }
      ]
    },
    {
      "cell_type": "markdown",
      "source": [
        "### 🗑️ Part 5: Deleting a Contact\n",
        "Prompt the user for a name, check if it exists, and then delete it using `.pop()`."
      ],
      "metadata": {
        "id": "9R4ahOQRd6lb"
      }
    },
    {
      "cell_type": "code",
      "source": [
        "# Part 5: Deleting a Contact\n",
        "def delete_contact():\n",
        "    name = input(\"\\nEnter the name to delete: \").strip().title()\n",
        "    if name in contact_book: # Check if the key exists first\n",
        "        removed_number = contact_book.pop(name)\n",
        "        print(f\"✅ Removed '{name}' ({removed_number}) from contacts.\")\n",
        "    else:\n",
        "        print(f\"❌ Cannot delete. '{name}' not found in contacts.\")\n",
        "\n",
        "# Test the function\n",
        "delete_contact()\n",
        "view_contacts() # View to see the contact removed"
      ],
      "metadata": {
        "colab": {
          "base_uri": "https://localhost:8080/"
        },
        "id": "CVc-i_yTd7gN",
        "outputId": "a969b6b9-8763-4cea-879a-1d22b5b6744a"
      },
      "execution_count": 17,
      "outputs": [
        {
          "output_type": "stream",
          "name": "stdout",
          "text": [
            "\n",
            "Enter the name to delete: alice\n",
            "✅ Removed 'Alice' (555-1234) from contacts.\n",
            "\n",
            "📞 Your Contacts:\n",
            "   Bob: 555-5678\n",
            "   Charlie: 555-9012\n",
            "   Saad Jamel: 03147714174\n"
          ]
        }
      ]
    },
    {
      "cell_type": "markdown",
      "source": [
        "### 🚀 Challenge / Bonus Features\n",
        "\n",
        "1.  **Complex Data:** Modify `contact_book` so each value is another dictionary storing `phone` and `email`.\n",
        "2.  **Unique Groups:** Add a list of `tags` (e.g., \"work\", \"family\") to each contact. Write a function to find all unique tags used."
      ],
      "metadata": {
        "id": "rJ1WQOJceIug"
      }
    },
    {
      "cell_type": "code",
      "source": [
        "# Challenge: Complex Data Structure\n",
        "# Let's upgrade our contact book!\n",
        "contact_book_advanced = {\n",
        "    \"Alice\": {\"phone\": \"555-1234\", \"email\": \"alice@example.com\", \"tags\": [\"work\", \"friend\"]},\n",
        "    \"Bob\": {\"phone\": \"555-5678\", \"email\": \"bob@example.com\", \"tags\": [\"family\"]},\n",
        "    \"Charlie\": {\"phone\": \"555-9012\", \"email\": \"charlie@example.com\", \"tags\": [\"work\"]}\n",
        "}\n",
        "\n",
        "print(\"\\n--- Advanced Contact Book ---\")\n",
        "for name, info in contact_book_advanced.items():\n",
        "    print(f\"{name}: {info}\")\n",
        "\n",
        "# Challenge: Find all unique tags\n",
        "print(\"\\n--- Finding All Unique Tags ---\")\n",
        "all_tags_set = set() # Start with an empty set\n",
        "for info in contact_book_advanced.values():\n",
        "    all_tags_set.update(info[\"tags\"]) # Add all tags from this contact to the set\n",
        "\n",
        "print(\"All unique tags:\", all_tags_set)"
      ],
      "metadata": {
        "colab": {
          "base_uri": "https://localhost:8080/"
        },
        "id": "xoEjeQX9eKJC",
        "outputId": "6c320476-294c-48da-9f91-604c317a33d8"
      },
      "execution_count": 18,
      "outputs": [
        {
          "output_type": "stream",
          "name": "stdout",
          "text": [
            "\n",
            "--- Advanced Contact Book ---\n",
            "Alice: {'phone': '555-1234', 'email': 'alice@example.com', 'tags': ['work', 'friend']}\n",
            "Bob: {'phone': '555-5678', 'email': 'bob@example.com', 'tags': ['family']}\n",
            "Charlie: {'phone': '555-9012', 'email': 'charlie@example.com', 'tags': ['work']}\n",
            "\n",
            "--- Finding All Unique Tags ---\n",
            "All unique tags: {'friend', 'family', 'work'}\n"
          ]
        }
      ]
    },
    {
      "cell_type": "markdown",
      "source": [
        "### 🎯 Main Application Loop\n",
        "Let's wrap everything in a menu system to create a full application."
      ],
      "metadata": {
        "id": "0bM1oLdKeQdE"
      }
    },
    {
      "cell_type": "code",
      "source": [
        "# Main Application Loop\n",
        "def run_contact_app():\n",
        "    while True:\n",
        "        print(\"\\n\" + \"=\"*30)\n",
        "        print(\"📒 CONTACT BOOK MANAGER\")\n",
        "        print(\"=\"*30)\n",
        "        print(\"1. View All Contacts\")\n",
        "        print(\"2. Add/Update Contact\")\n",
        "        print(\"3. Search Contact\")\n",
        "        print(\"4. Delete Contact\")\n",
        "        print(\"5. Exit\")\n",
        "\n",
        "        choice = input(\"\\nPlease choose an option (1-5): \")\n",
        "\n",
        "        if choice == '1':\n",
        "            view_contacts()\n",
        "        elif choice == '2':\n",
        "            add_contact()\n",
        "        elif choice == '3':\n",
        "            search_contact()\n",
        "        elif choice == '4':\n",
        "            delete_contact()\n",
        "        elif choice == '5':\n",
        "            print(\"Goodbye! 👋\")\n",
        "            break\n",
        "        else:\n",
        "            print(\"Invalid choice. Please try again.\")\n",
        "\n",
        "# Uncomment the line below to RUN THE FULL APPLICATION!\n",
        "run_contact_app()"
      ],
      "metadata": {
        "colab": {
          "base_uri": "https://localhost:8080/"
        },
        "id": "rK1EYYDTeSMh",
        "outputId": "b40408d0-f8fb-425a-a7d5-899760465946"
      },
      "execution_count": 20,
      "outputs": [
        {
          "output_type": "stream",
          "name": "stdout",
          "text": [
            "\n",
            "==============================\n",
            "📒 CONTACT BOOK MANAGER\n",
            "==============================\n",
            "1. View All Contacts\n",
            "2. Add/Update Contact\n",
            "3. Search Contact\n",
            "4. Delete Contact\n",
            "5. Exit\n",
            "\n",
            "Please choose an option (1-5): 1\n",
            "\n",
            "📞 Your Contacts:\n",
            "   Bob: 555-5678\n",
            "   Charlie: 555-9012\n",
            "   Saad Jamel: 03147714174\n",
            "\n",
            "==============================\n",
            "📒 CONTACT BOOK MANAGER\n",
            "==============================\n",
            "1. View All Contacts\n",
            "2. Add/Update Contact\n",
            "3. Search Contact\n",
            "4. Delete Contact\n",
            "5. Exit\n",
            "\n",
            "Please choose an option (1-5): 5\n",
            "Goodbye! 👋\n"
          ]
        }
      ]
    }
  ]
}