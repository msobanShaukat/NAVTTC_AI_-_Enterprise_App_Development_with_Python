{
  "nbformat": 4,
  "nbformat_minor": 0,
  "metadata": {
    "colab": {
      "provenance": []
    },
    "kernelspec": {
      "name": "python3",
      "display_name": "Python 3"
    },
    "language_info": {
      "name": "python"
    }
  },
  "cells": [
    {
      "cell_type": "markdown",
      "source": [
        "# Module 1: Core Python & Data - Week 1 Lecture 1\n",
        "\n",
        "###**Introduction to Python**:\n",
        "History, use cases, and setting up the development environment (Python, VS Code)\n",
        "\n",
        "**Date:** 15/08/2025\n",
        "\n",
        "**DOCUMENT BY:** MUHAMMAD SOBAN SHAUKAT\n",
        "\n",
        "## A Launchpad into Python and AI: Your First Steps\n",
        "\n",
        "Welcome to the world of Python and Artificial Intelligence! This repository contains the code and exercises from the first lecture, designed to be your **launchpad** into programming.\n",
        "\n",
        "Whether you're a complete beginner or have experience in other languages, this module will guide you through:\n",
        "*   Understanding why Python is dominant in AI.\n",
        "*   Setting up a professional development environment.\n",
        "*   Writing and executing your first Python scripts.\n",
        "\n",
        "---\n"
      ],
      "metadata": {
        "id": "emzC0rgRCmrK"
      }
    },
    {
      "cell_type": "markdown",
      "source": [],
      "metadata": {
        "id": "H5KbZGdkQqY_"
      }
    },
    {
      "cell_type": "markdown",
      "source": [
        "## 📋 Agenda\n",
        "\n",
        "1.  [Introduction to Python](#introduction-to-python)\n",
        "2.  [Why Python for AI?](#why-python-for-ai)\n",
        "3.  [Real-World Motivation](#real-world-motivation)\n",
        "4.  [Setting Up Your Lab](#-setting-up-your-lab)\n",
        "5.  [Hello, World!](#hello-world-your-first-python-script)\n",
        "6.  [Hands-On Exercises](#-hands-on-exercises)"
      ],
      "metadata": {
        "id": "CuhbC6uxMynB"
      }
    },
    {
      "cell_type": "markdown",
      "source": [],
      "metadata": {
        "id": "RV5bKmqbM8L0"
      }
    },
    {
      "cell_type": "markdown",
      "source": [
        "## Introduction to Python\n",
        "\n",
        "### A Brief History\n",
        "Python was created by **Guido van Rossum** in the late 1980s. Its design philosophy emphasizes:\n",
        "*   **Code Readability:** Syntax that is clean and resembles English.\n",
        "*   **Simplicity:** Making programming accessible and enjoyable. (The name itself is a tribute to Monty Python's comedy group!).\n",
        "\n",
        "**Key Milestones:**\n",
        "*   **1991:** First release (v0.9.0)\n",
        "*   **2000:** Python 2.0\n",
        "*   **2008:** Python 3.0 (a major, backward-*incompatible* release)\n",
        "Today, Python is maintained by the **Python Software Foundation** and is one of the most popular languages in the world."
      ],
      "metadata": {
        "id": "J16YPsaHNAhk"
      }
    },
    {
      "cell_type": "markdown",
      "source": [
        "### Modern Use Cases\n",
        "Python's versatility makes it a powerhouse in many fields:\n",
        "*   🌐 **Web Development:** With frameworks like **Django** and **Flask**.\n",
        "*   📊 **Data Science:** Using libraries like **Pandas** (data manipulation), **NumPy** (numerical computations), and **Matplotlib** (visualization).\n",
        "*   ⚙️ **Automation & Scripting:** For automating repetitive tasks.\n",
        "*   🔒 **Cybersecurity:** For writing security tools and scripts.\n",
        "*   🎮 **Game Development:** Creating prototypes and games with libraries like **Pygame**."
      ],
      "metadata": {
        "id": "DdksHm_qNEfG"
      }
    },
    {
      "cell_type": "markdown",
      "source": [
        "## Why Python for AI?\n",
        "\n",
        "Python's dominance in AI is no accident. Here's why it's the #1 choice:\n",
        "\n",
        "1.  ** Simplicity & Readability:** Its clean syntax lets developers focus on complex AI logic instead of tricky code.\n",
        "2.  ** Rich Ecosystem:** A vast collection of specialized libraries:\n",
        "    *   `TensorFlow`, `PyTorch`, `Keras`: For deep learning.\n",
        "    *   `Scikit-learn`: For classic machine learning (classification, regression).\n",
        "    *   `NumPy`, `Pandas`: For data handling and analysis.\n",
        "3.  ** Strong Community:** Huge support network. Solutions to common problems are just a web search away.\n",
        "4.  ** Open-Source and Free:** Accessible to everyone, from students to large companies.\n",
        "5.  ** Versatility:** Can be used for every part of the AI pipeline."
      ],
      "metadata": {
        "id": "Nxi_eu9jNXl9"
      }
    },
    {
      "cell_type": "markdown",
      "source": [
        "## Real-World Motivation\n",
        "\n",
        "The concepts you learn here power incredible technologies:\n",
        "*   **Netflix:** Uses ML (with Python) to recommend shows you'll love.\n",
        "*   **Social Media:** Uses AI to automatically detect and filter spam.\n",
        "*   **Finance:** Uses predictive models for stock trading and investment.\n",
        "*   **Robotics:** (e.g., Boston Dynamics) uses Python for testing and development.\n",
        "*   **Smart Assistants:** Siri and Alexa use Python-based Natural Language Processing (NLP) to understand you.\n",
        "\n",
        "This is the journey you are starting today!"
      ],
      "metadata": {
        "id": "U4Tl54dZNjlt"
      }
    },
    {
      "cell_type": "markdown",
      "source": [
        "## 🛠 Setting Up Your Lab\n",
        "\n",
        "### Step 1: Install Python\n",
        "1.  Go to [python.org/downloads](https://www.python.org/downloads/).\n",
        "2.  Download the latest **Python 3** installer for your OS (Windows, macOS, Linux).\n",
        "3.  **Windows Users:** **CRUCIAL** - During installation, check the box that says **\"Add Python to PATH\"**.\n",
        "4.  **Verify Installation:** Open a terminal (Command Prompt on Win, Terminal on Mac/Linux) and type:\n",
        "    ```bash\n",
        "    python --version   # Try this first on Windows\n",
        "    python3 --version  # Try this first on macOS/Linux\n",
        "    ```\n",
        "    You should see a version number (e.g., `Python 3.11.4`).\n",
        "\n",
        "### Step 2: Install VS Code\n",
        "1.  Go to [code.visualstudio.com/download](https://code.visualstudio.com/download).\n",
        "2.  Download and install the version for your operating system.\n",
        "\n",
        "### Step 3: Install the Python Extension\n",
        "1.  Open VS Code.\n",
        "2.  Click the Extensions icon in the sidebar (or press `Ctrl+Shift+X`).\n",
        "3.  Search for `Python`.\n",
        "4.  Install the extension published by **Microsoft**."
      ],
      "metadata": {
        "id": "00GL8W_ONvUB"
      }
    },
    {
      "cell_type": "markdown",
      "source": [
        "### Step 4: Virtual Environments with Miniconda\n",
        "\n",
        "Virtual environments solve the \"works on my machine\" problem by isolating dependencies per project.\n",
        "\n",
        "1.  **Install Miniconda:**\n",
        "    *   Download from [docs.conda.io/en/latest/miniconda.html](https://docs.conda.io/en/latest/miniconda.html).\n",
        "    *   Run the installer. Accept the default settings.\n",
        "\n",
        "2.  **Create an Environment:**\n",
        "    Open your terminal (Anaconda Prompt on Windows is best) and run:\n",
        "    ```bash\n",
        "    conda create --name ai-course python=3.9\n",
        "    ```\n",
        "    Type `y` and press Enter to proceed.\n",
        "\n",
        "3.  **Activate the Environment:**\n",
        "    ```bash\n",
        "    conda activate ai-course\n",
        "    ```\n",
        "    Your terminal prompt should now show `(ai-course)`, meaning you are working inside the isolated environment.\n",
        "\n",
        "4.  **Deactivate the Environment:**\n",
        "    When you're done, run:\n",
        "    ```bash\n",
        "    conda deactivate\n",
        "    ```"
      ],
      "metadata": {
        "id": "GXejvVN_N5Ow"
      }
    },
    {
      "cell_type": "markdown",
      "source": [
        "## Hello, World! Your First Python Script\n",
        "\n",
        "Let's test your setup! Create a new file called `hello.py` and type the following code:\n",
        "\n"
      ],
      "metadata": {
        "id": "i-0Yv-DxOKxf"
      }
    },
    {
      "cell_type": "code",
      "source": [
        "# hello.py\n",
        "print(\"Hello, World!\")"
      ],
      "metadata": {
        "colab": {
          "base_uri": "https://localhost:8080/"
        },
        "id": "5XtcRGrwT6Se",
        "outputId": "1a66f4fc-76b1-4d05-c3f5-f625b242e26e"
      },
      "execution_count": 10,
      "outputs": [
        {
          "output_type": "stream",
          "name": "stdout",
          "text": [
            "Hello, World!\n"
          ]
        }
      ]
    },
    {
      "cell_type": "markdown",
      "source": [
        "---\n",
        "\n",
        "**Content:**\n",
        "Five progressive exercises:\n",
        "1.  **Personalized Greeting:** Use a variable to print a name.\n",
        "2.  **Fun with Variables:** Use an integer and a string variable.\n",
        "3.  **Simple Calculator:** Perform basic arithmetic.\n",
        "4.  **User Input:** Get input from the user using `input()`.\n",
        "5.  **Challenge: Area of a Rectangle:** Convert user input from string to integer and calculate.\n",
        "\n",
        "**Detailed Explanation:**\n",
        "These exercises are perfectly sequenced to introduce core programming concepts:\n",
        "1.  **Variables:** Storing and using data.\n",
        "2.  **Data Types:** Working with strings and integers.\n",
        "3.  **Operators:** Performing mathematical operations.\n",
        "4.  **Input/Output:** Interacting with the user.\n",
        "5.  **Type Conversion:** The crucial concept of converting between data types (e.g., `string` to `int`).\n",
        "\n",
        "**Markdown & Code for GitHub:**\n",
        "This is the core of the repository. We'll create a section for exercises and a separate code file for each.\n",
        "\n",
        "\n"
      ],
      "metadata": {
        "id": "IVlUDxlsObvO"
      }
    },
    {
      "cell_type": "markdown",
      "source": [
        "---\n",
        "### 🧪  Hands-On Exercises\n",
        "\n",
        "Time to get your hands dirty! Try to complete these exercises in order. The best way to learn is by doing—try to solve them yourself before looking at the solutions!"
      ],
      "metadata": {
        "id": "se0g5l2SUK-4"
      }
    },
    {
      "cell_type": "markdown",
      "source": [
        "---\n",
        "\n",
        "### **Exercise 1**: Personalized Greeting\n",
        "**Task:** Modify `hello.py`. Create a variable to store your name and print a personalized greeting.\n",
        "\n",
        "<details>\n",
        "<summary><b>Click to Reveal Solution</b></summary>\n",
        "\n",
        "**File Name:** `exercise_1_greeting.py`\n",
        "```python\n",
        "# exercise_1_greeting.py\n",
        "name = \"Orangzaib\"  # Replace with your name!\n",
        "print(\"Hello, \" + name + \"!\")\n",
        "# Alternatively, using f-strings (a more modern way):\n",
        "# print(f\"Hello, {name}!\")"
      ],
      "metadata": {
        "id": "TYcRsXtORZK-"
      }
    },
    {
      "cell_type": "code",
      "source": [
        "name = \"Soban Shaukat\"  # Replace with your name!\n",
        "print(\"Hello, \" + name + \"!\")\n",
        "# Alternatively, using f-strings (a more modern way):\n",
        "print(f\"Hello, {name}!\")"
      ],
      "metadata": {
        "colab": {
          "base_uri": "https://localhost:8080/"
        },
        "id": "rjcbtz3nOrCL",
        "outputId": "12eaa509-3e54-4b1c-9e39-2c6f7268e1aa"
      },
      "execution_count": 2,
      "outputs": [
        {
          "output_type": "stream",
          "name": "stdout",
          "text": [
            "Hello, Soban Shaukat!\n",
            "Hello, Soban Shaukat!\n"
          ]
        }
      ]
    },
    {
      "cell_type": "markdown",
      "source": [
        "---\n",
        "### **Exercise 2:** Fun with Variables\n",
        "**Task**: Create a new file. Store your age (integer) and favorite hobby (string) in variables. Print a combined sentence.\n",
        "\n",
        "<details> <summary><b>Click to Reveal Solution</b></summary>\n",
        "File Name: exercise_2_variables.py\n",
        "\n",
        "# exercise_2_variables.py\n",
        "age = 25  # Replace with your age\n",
        "\n",
        "hobby = \"hiking\"  # Replace with your hobby\n",
        "\n",
        "print(\"I am\", age, \"years old and I love to go\", hobby + \".\")\n",
        "Using an f-string is often cleaner:\n",
        "print(f\"I am {age} years old and I love to go {hobby}.\")"
      ],
      "metadata": {
        "id": "AKGdZmCsOr8y"
      }
    },
    {
      "cell_type": "code",
      "source": [
        "age = 25 # Replace with your age\n",
        "hobby = \"hiking\" # Replace with your hobby\n",
        "\n",
        "print(\"I am\", age, \"years old and I love to go\", hobby + \".\")\n",
        "\n",
        "#Using an f-string is often cleaner:\n",
        "print(f\"I am {age} years old and I love to go {hobby}.\")"
      ],
      "metadata": {
        "colab": {
          "base_uri": "https://localhost:8080/"
        },
        "id": "_Cj8nz-2PLIE",
        "outputId": "1fe5223b-a98f-4212-c610-9dc00ce65725"
      },
      "execution_count": 4,
      "outputs": [
        {
          "output_type": "stream",
          "name": "stdout",
          "text": [
            "I am 25 years old and I love to go hiking.\n",
            "I am 25 years old and I love to go hiking.\n"
          ]
        }
      ]
    },
    {
      "cell_type": "markdown",
      "source": [
        "---\n",
        "###**Exercise 3:** Simple Calculator\n",
        "Task: Create two variables with numbers. Print the sum, difference, product, and quotient.\n",
        "\n",
        "<details> <summary><b>Click to Reveal Solution</b></summary>\n",
        "File Name: exercise_3_calculator.py\n",
        "\n",
        "# exercise_3_calculator.py\n",
        "num1 = 10\n",
        "\n",
        "num2 = 5\n",
        "\n",
        "sum_result = num1 + num2\n",
        "\n",
        "difference = num1 - num2\n",
        "\n",
        "product = num1 * num2\n",
        "\n",
        "quotient = num1 / num2\n",
        "\n",
        "print(\"Sum:\", sum_result)\n",
        "\n",
        "print(\"Difference:\", difference)\n",
        "\n",
        "print(\"Product:\", product)\n",
        "\n",
        "print(\"Quotient:\", quotient)"
      ],
      "metadata": {
        "id": "8hDtdRZkPL6g"
      }
    },
    {
      "cell_type": "code",
      "source": [
        "num1 = 10\n",
        "num2 = 5\n",
        "\n",
        "sum_result = num1 + num2\n",
        "difference = num1 - num2\n",
        "product = num1 * num2\n",
        "quotient = num1 / num2\n",
        "\n",
        "print(\"Sum:\", sum_result)\n",
        "print(\"Difference:\", difference)\n",
        "print(\"Product:\", product)\n",
        "print(\"Quotient:\", quotient)"
      ],
      "metadata": {
        "colab": {
          "base_uri": "https://localhost:8080/"
        },
        "id": "1KtDkCiBPP0_",
        "outputId": "3901ef5a-c3b8-4508-b3ab-bd9ac298949c"
      },
      "execution_count": 5,
      "outputs": [
        {
          "output_type": "stream",
          "name": "stdout",
          "text": [
            "Sum: 15\n",
            "Difference: 5\n",
            "Product: 50\n",
            "Quotient: 2.0\n"
          ]
        }
      ]
    },
    {
      "cell_type": "markdown",
      "source": [
        "---\n",
        "###**Exercise 4:** User Input\n",
        "Task: Ask the user for their name and city and print a message.\n",
        "\n",
        "<details> <summary><b>Click to Reveal Solution</b></summary>\n",
        "File Name: exercise_4_input.py\n",
        "\n",
        "# exercise_4_input.py\n",
        "user_name = input(\"What is your name? \")\n",
        "**bold text**\n",
        "user_city = input(\"What city do you live in? \")\n",
        "\n",
        "print(\"Hello\", user_name + \"! How is the weather in\", user_city + \"?\")"
      ],
      "metadata": {
        "id": "Xd5d8hoHPWzv"
      }
    },
    {
      "cell_type": "code",
      "source": [
        "user_name = input(\"What is your name? \")\n",
        "user_city = input(\"What city do you live in? \")\n",
        "\n",
        "print(\"Hello\", user_name + \"! How is the weather in\", user_city + \"?\")"
      ],
      "metadata": {
        "colab": {
          "base_uri": "https://localhost:8080/"
        },
        "id": "--zLmo_SPqKu",
        "outputId": "9da70e67-9038-4642-a3f6-4c586b969355"
      },
      "execution_count": 7,
      "outputs": [
        {
          "output_type": "stream",
          "name": "stdout",
          "text": [
            "What is your name? Soban\n",
            "What city do you live in? Islamabad\n",
            "Hello Soban! How is the weather in Islamabad?\n"
          ]
        }
      ]
    },
    {
      "cell_type": "markdown",
      "source": [
        "---\n",
        "###**Exercise 5 (Challenge):** Area of a Rectangle\n",
        "Task: Ask the user for width and height. Calculate and print the area. Remember to convert input to integers!\n",
        "\n",
        "<details> <summary><b>Click to Reveal Solution</b></summary>\n",
        "File Name: exercise_5_rectangle.py\n",
        "\n",
        "# exercise_5_rectangle.py\n",
        "width = input(\"Enter the width of the rectangle: \")\n",
        "\n",
        "height = input(\"Enter the height of the rectangle: \")\n",
        "\n",
        "# Convert the input strings to integers\n",
        "\n",
        "width_int = int(width)\n",
        "\n",
        "height_int = int(height)\n",
        "\n",
        "# Calculate the area\n",
        "area = width_int * height_int\n",
        "\n",
        "\n",
        "print(\"The area of the rectangle is:\", area)"
      ],
      "metadata": {
        "id": "DhJd7edgPxN8"
      }
    },
    {
      "cell_type": "code",
      "source": [
        "width = input(\"Enter the width of the rectangle: \")\n",
        "height = input(\"Enter the height of the rectangle: \")\n",
        "\n",
        "# Convert the input strings to integers\n",
        "width_int = int(width)\n",
        "height_int = int(height)\n",
        "\n",
        "# Calculate the area\n",
        "area = width_int * height_int\n",
        "\n",
        "print(\"The area of the rectangle is:\", area)"
      ],
      "metadata": {
        "colab": {
          "base_uri": "https://localhost:8080/"
        },
        "id": "h1N5Tl1SP2qI",
        "outputId": "2d13f5bf-aaff-452b-e69b-ce736f02fb7b"
      },
      "execution_count": 9,
      "outputs": [
        {
          "output_type": "stream",
          "name": "stdout",
          "text": [
            "Enter the width of the rectangle: 5\n",
            "Enter the height of the rectangle: 6\n",
            "The area of the rectangle is: 30\n"
          ]
        }
      ]
    },
    {
      "cell_type": "markdown",
      "source": [
        "**END OF LECTURE_#_1 **\n",
        "**HAPPY CODING**"
      ],
      "metadata": {
        "id": "Bg3ZFZWkQQR7"
      }
    }
  ]
}