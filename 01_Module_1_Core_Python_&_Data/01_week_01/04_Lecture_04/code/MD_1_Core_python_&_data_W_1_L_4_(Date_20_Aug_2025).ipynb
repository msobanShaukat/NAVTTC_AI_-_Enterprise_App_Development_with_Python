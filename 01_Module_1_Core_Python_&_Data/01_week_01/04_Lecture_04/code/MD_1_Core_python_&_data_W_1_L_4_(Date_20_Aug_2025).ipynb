{
  "nbformat": 4,
  "nbformat_minor": 0,
  "metadata": {
    "colab": {
      "provenance": [],
      "toc_visible": true
    },
    "kernelspec": {
      "name": "python3",
      "display_name": "Python 3"
    },
    "language_info": {
      "name": "python"
    }
  },
  "cells": [
    {
      "cell_type": "markdown",
      "source": [
        "# 🗃️ Module 1: Core Python & Data - Week 1 Lecture 4\n",
        "**Date:** 20/08/2025  \n",
        "**Documented By:** Muhammad Soban Shaukat\n",
        "\n",
        "## 📋 Python's Collections: Lists and Tuples\n",
        "\n",
        "So far, we've stored single pieces of data. But the real world is full of **collections**—playlists, to-do lists, coordinates. Today, we master Python's foundational tools for handling ordered groups of data: the mighty **List** and the steadfast **Tuple**."
      ],
      "metadata": {
        "id": "PGJmibZ7PWHC"
      }
    },
    {
      "cell_type": "markdown",
      "source": [
        "## 📋 Today's Agenda\n",
        "\n",
        "1.  **🐎 The Workhorse - Python Lists**\n",
        "    *   Creating Lists\n",
        "    *   **Accessing Data:** Indexing & Slicing\n",
        "    *   Mutability: Changing Lists\n",
        "    *   Interactive Exercises\n",
        "\n",
        "2.  **🛠️ Manipulating Lists & Introducing Tuples**\n",
        "    *   Essential List Methods: `.append()`, `.pop()`, `.sort()`\n",
        "    *   **Introduction to Tuples:** The Immutable Sibling\n",
        "    *   Interactive Exercises\n",
        "\n",
        "3.  **🔐 Tuples in Practice & The Hands-On Lab**\n",
        "    *   Why Use Tuples?\n",
        "    *   Tuple Unpacking\n",
        "    *   **🧪 Hands-On Lab:** The To-Do List Application"
      ],
      "metadata": {
        "id": "mC4SjYAgPjlu"
      }
    },
    {
      "cell_type": "markdown",
      "source": [
        "## 1. 🐎 The Workhorse - Python Lists\n",
        "\n",
        "### What is a Sequence?\n",
        "A **sequence** is a collection where items are stored in a specific, numbered order. Think of it like a series of lockers. **Lists** and **Tuples** are Python's main sequence types."
      ],
      "metadata": {
        "id": "gOnUBxstPrUK"
      }
    },
    {
      "cell_type": "markdown",
      "source": [
        "### Creating Lists\n",
        "A **list** is an **ordered**, **mutable** (changeable), and **heterogeneous** (can mix types) collection, enclosed in square brackets `[]`.\n",
        "\n",
        "*   **Ordered:** The position of each item matters. `[1, 2, 3]` is different from `[3, 2, 1]`.\n",
        "*   **Mutable:** You can change the list after creating it.\n",
        "*   **Heterogeneous:** A single list can hold different data types (unlike arrays in many other languages)."
      ],
      "metadata": {
        "id": "G8HSKIt_Pt9h"
      }
    },
    {
      "cell_type": "code",
      "execution_count": 1,
      "metadata": {
        "colab": {
          "base_uri": "https://localhost:8080/"
        },
        "id": "iGg8ZQ2eNTsY",
        "outputId": "9afe5714-b126-44d7-8c3e-b803e78e16c7"
      },
      "outputs": [
        {
          "output_type": "stream",
          "name": "stdout",
          "text": [
            "Primes: [2, 3, 5, 7, 11]\n",
            "Tasks: ['code', 'eat', 'sleep']\n",
            "User Profile: ['Alice', 30, True, 98.6]\n"
          ]
        }
      ],
      "source": [
        "# A list of integers\n",
        "primes = [2, 3, 5, 7, 11]\n",
        "print(\"Primes:\", primes)\n",
        "\n",
        "# A list of strings\n",
        "tasks = [\"code\", \"eat\", \"sleep\"]\n",
        "print(\"Tasks:\", tasks)\n",
        "\n",
        "# A mixed-type list (Perfectly valid in Python!)\n",
        "user_profile = [\"Alice\", 30, True, 98.6]\n",
        "print(\"User Profile:\", user_profile)"
      ]
    },
    {
      "cell_type": "markdown",
      "source": [
        "### Accessing Data Part 1: Indexing\n",
        "You access an item in a list by its **index** (its position). Python uses **zero-based indexing**, meaning the first item is at index `0`."
      ],
      "metadata": {
        "id": "vfx5zxxvP1Yw"
      }
    },
    {
      "cell_type": "code",
      "source": [
        "#            0        1        2        3\n",
        "fruits = [\"apple\", \"banana\", \"cherry\", \"date\"]\n",
        "\n",
        "print(\"fruits[0]:\", fruits[0]) # Output: apple\n",
        "print(\"fruits[2]:\", fruits[2]) # Output: cherry"
      ],
      "metadata": {
        "colab": {
          "base_uri": "https://localhost:8080/"
        },
        "id": "MFae2rpvP4oe",
        "outputId": "6e4d878c-8a9e-4db9-e4b5-3b0675a639f6"
      },
      "execution_count": 2,
      "outputs": [
        {
          "output_type": "stream",
          "name": "stdout",
          "text": [
            "fruits[0]: apple\n",
            "fruits[2]: cherry\n"
          ]
        }
      ]
    },
    {
      "cell_type": "markdown",
      "source": [
        "#### Negative Indexing: A Python Superpower\n",
        "Use negative numbers to count backwards from the end of the list.\n",
        "*   `-1` is the last item\n",
        "*   `-2` is the second-to-last item, and so on."
      ],
      "metadata": {
        "id": "b5MZ8h9fP7vG"
      }
    },
    {
      "cell_type": "code",
      "source": [
        "#            0        1        2        3\n",
        "fruits = [\"apple\", \"banana\", \"cherry\", \"date\"]\n",
        "#            -4       -3       -2       -1\n",
        "\n",
        "print(\"fruits[-1]:\", fruits[-1]) # Output: date (last item)\n",
        "print(\"fruits[-3]:\", fruits[-3]) # Output: banana (third from last)"
      ],
      "metadata": {
        "colab": {
          "base_uri": "https://localhost:8080/"
        },
        "id": "FcuHH41JP9b6",
        "outputId": "f73e38ea-0123-44bd-85f4-ab5eaf9a8665"
      },
      "execution_count": 3,
      "outputs": [
        {
          "output_type": "stream",
          "name": "stdout",
          "text": [
            "fruits[-1]: date\n",
            "fruits[-3]: banana\n"
          ]
        }
      ]
    },
    {
      "cell_type": "markdown",
      "source": [
        "### 🧠 In-Class Exercise: Access Check\n",
        "\n",
        "Given the list `planets = [\"Mercury\", \"Venus\", \"Earth\", \"Mars\", \"Jupiter\"]`:\n",
        "*   Write the code to print `\"Earth\"`.\n",
        "*   Write the code to print the last planet using **negative indexing**."
      ],
      "metadata": {
        "id": "KYidLplnQCuF"
      }
    },
    {
      "cell_type": "code",
      "source": [
        "# Exercise: Access Check\n",
        "planets = [\"Mercury\", \"Venus\", \"Earth\", \"Mars\", \"Jupiter\"]\n",
        "\n",
        "# Print \"Earth\"\n",
        "print(planets[2])\n",
        "\n",
        "# Print the last planet using negative indexing\n",
        "print(planets[-1])"
      ],
      "metadata": {
        "colab": {
          "base_uri": "https://localhost:8080/"
        },
        "id": "TsUSU8_ZQFB3",
        "outputId": "6f8f6de7-9452-4cce-c13a-41eef3b85993"
      },
      "execution_count": 4,
      "outputs": [
        {
          "output_type": "stream",
          "name": "stdout",
          "text": [
            "Earth\n",
            "Jupiter\n"
          ]
        }
      ]
    },
    {
      "cell_type": "markdown",
      "source": [
        "### Mutability: Changing List Items\n",
        "Lists are **mutable**. You can change an item by assigning a new value to its index."
      ],
      "metadata": {
        "id": "eyYaiyfaQIRE"
      }
    },
    {
      "cell_type": "code",
      "source": [
        "# Mutability in action\n",
        "numbers = [1, 2, 99, 4]\n",
        "print(\"Before change:\", numbers)\n",
        "\n",
        "numbers[2] = 3 # Change the value at index 2 from 99 to 3\n",
        "print(\"After change:\", numbers)"
      ],
      "metadata": {
        "colab": {
          "base_uri": "https://localhost:8080/"
        },
        "id": "mEfLqFN7QNxt",
        "outputId": "0f4d2955-d7e2-40c7-f0e6-06c52f001124"
      },
      "execution_count": 5,
      "outputs": [
        {
          "output_type": "stream",
          "name": "stdout",
          "text": [
            "Before change: [1, 2, 99, 4]\n",
            "After change: [1, 2, 3, 4]\n"
          ]
        }
      ]
    },
    {
      "cell_type": "markdown",
      "source": [
        "### Accessing Data Part 2: Slicing 🍕\n",
        "**Slicing** lets you extract a sub-list (a \"slice\") from a list. The syntax is `list[start:stop:step]`.\n",
        "*   `start`: Index to start at (**inclusive**). Defaults to `0`.\n",
        "*   `stop`: Index to stop at (**exclusive**). Defaults to `len(list)`.\n",
        "*   `step`: How many items to skip. Defaults to `1`."
      ],
      "metadata": {
        "id": "oNXBXDXWQQVO"
      }
    },
    {
      "cell_type": "code",
      "source": [
        "# Index: 0   1   2   3   4   5   6   7\n",
        "letters = ['a', 'b', 'c', 'd', 'e', 'f', 'g', 'h']\n",
        "\n",
        "print(\"letters[2:5]:\", letters[2:5])   # Items from index 2 to 4 -> ['c', 'd', 'e']\n",
        "print(\"letters[4:]:\", letters[4:])     # Items from index 4 to end -> ['e', 'f', 'g', 'h']\n",
        "print(\"letters[:3]:\", letters[:3])     # Items from start to index 2 -> ['a', 'b', 'c']\n",
        "print(\"letters[::2]:\", letters[::2])   # Every other item -> ['a', 'c', 'e', 'g']\n",
        "print(\"letters[::-1]:\", letters[::-1]) # A classic trick: reverse the list! -> ['h', 'g', 'f', 'e', 'd', 'c', 'b', 'a']"
      ],
      "metadata": {
        "colab": {
          "base_uri": "https://localhost:8080/"
        },
        "id": "TiEuXy-RQRLD",
        "outputId": "24750515-2afa-4c1c-ed88-948a68705ba9"
      },
      "execution_count": 6,
      "outputs": [
        {
          "output_type": "stream",
          "name": "stdout",
          "text": [
            "letters[2:5]: ['c', 'd', 'e']\n",
            "letters[4:]: ['e', 'f', 'g', 'h']\n",
            "letters[:3]: ['a', 'b', 'c']\n",
            "letters[::2]: ['a', 'c', 'e', 'g']\n",
            "letters[::-1]: ['h', 'g', 'f', 'e', 'd', 'c', 'b', 'a']\n"
          ]
        }
      ]
    },
    {
      "cell_type": "markdown",
      "source": [
        "### 🧠 In-Class Exercise: Slicing Practice\n",
        "\n",
        "Given `numbers = [0, 10, 20, 30, 40, 50, 60, 70, 80, 90]`:\n",
        "*   Write a slice to get `[30, 40, 50]`.\n",
        "*   Write a slice to get the last two numbers.\n",
        "*   Write a slice to get every third number, starting from the beginning."
      ],
      "metadata": {
        "id": "0ujhn-aCQZWX"
      }
    },
    {
      "cell_type": "code",
      "source": [
        "# Exercise: Slicing Practice\n",
        "numbers = [0, 10, 20, 30, 40, 50, 60, 70, 80, 90]\n",
        "\n",
        "# Slice for [30, 40, 50]\n",
        "print(numbers[3:6])\n",
        "\n",
        "# Slice for the last two numbers\n",
        "print(numbers[-2:])\n",
        "\n",
        "# Slice for every third number\n",
        "print(numbers[::3])"
      ],
      "metadata": {
        "colab": {
          "base_uri": "https://localhost:8080/"
        },
        "id": "uh_-v6LEQb1X",
        "outputId": "363bee25-ef85-4521-c8e9-107a5e327252"
      },
      "execution_count": 7,
      "outputs": [
        {
          "output_type": "stream",
          "name": "stdout",
          "text": [
            "[30, 40, 50]\n",
            "[80, 90]\n",
            "[0, 30, 60, 90]\n"
          ]
        }
      ]
    },
    {
      "cell_type": "markdown",
      "source": [
        "## 2. 🛠️ Manipulating Lists & Introducing Tuples\n",
        "\n",
        "### Essential List Methods\n",
        "Methods are functions that belong to an object (like our list). They are called using the dot `.` syntax: `list_name.method()`."
      ],
      "metadata": {
        "id": "85l4gFylQbY3"
      }
    },
    {
      "cell_type": "markdown",
      "source": [
        "#### Adding Items\n",
        "*   `.append(item)`: Adds a single item to the **end** of the list.\n",
        "*   `.insert(index, item)`: Inserts an item at a specific `index`, shifting other items to the right."
      ],
      "metadata": {
        "id": "h-ZLp2hjQnn_"
      }
    },
    {
      "cell_type": "code",
      "source": [
        "# Adding items to a list\n",
        "todo_list = [\"wash car\", \"buy groceries\"]\n",
        "print(\"Original:\", todo_list)\n",
        "\n",
        "todo_list.append(\"pay bills\") # Add to the end\n",
        "print(\"After append:\", todo_list)\n",
        "\n",
        "todo_list.insert(1, \"clean room\") # Insert at index 1\n",
        "print(\"After insert:\", todo_list)"
      ],
      "metadata": {
        "colab": {
          "base_uri": "https://localhost:8080/"
        },
        "id": "dj2m_IWUQiW-",
        "outputId": "ce7d4f0d-bbe6-478c-ef84-5ccd89d499f2"
      },
      "execution_count": 8,
      "outputs": [
        {
          "output_type": "stream",
          "name": "stdout",
          "text": [
            "Original: ['wash car', 'buy groceries']\n",
            "After append: ['wash car', 'buy groceries', 'pay bills']\n",
            "After insert: ['wash car', 'clean room', 'buy groceries', 'pay bills']\n"
          ]
        }
      ]
    },
    {
      "cell_type": "markdown",
      "source": [
        "#### Removing Items\n",
        "*   `.remove(value)`: Removes the **first occurrence** of the specified value.\n",
        "*   `.pop(index)`: Removes and **returns** the item at the specified `index`. If no index is given, it removes the last item.\n",
        "*   `del list[index]`: The `del` keyword can also remove an item at a specific index."
      ],
      "metadata": {
        "id": "wjAKWXveQzQT"
      }
    },
    {
      "cell_type": "code",
      "source": [
        "# Removing items from a list\n",
        "items = ['a', 'b', 'c', 'b', 'd']\n",
        "print(\"Original:\", items)\n",
        "\n",
        "items.remove('b') # Removes the first 'b'\n",
        "print(\"After remove('b'):\", items)\n",
        "\n",
        "popped_item = items.pop() # Removes and returns the last item\n",
        "print(\"Popped item:\", popped_item)\n",
        "print(\"After pop():\", items)\n",
        "\n",
        "del items[0] # Deletes the item at index 0\n",
        "print(\"After del items[0]:\", items)"
      ],
      "metadata": {
        "colab": {
          "base_uri": "https://localhost:8080/"
        },
        "id": "JPieid_5Qz-C",
        "outputId": "2e213d4e-e9a5-48aa-e422-f359ed044a41"
      },
      "execution_count": 9,
      "outputs": [
        {
          "output_type": "stream",
          "name": "stdout",
          "text": [
            "Original: ['a', 'b', 'c', 'b', 'd']\n",
            "After remove('b'): ['a', 'c', 'b', 'd']\n",
            "Popped item: d\n",
            "After pop(): ['a', 'c', 'b']\n",
            "After del items[0]: ['c', 'b']\n"
          ]
        }
      ]
    },
    {
      "cell_type": "markdown",
      "source": [
        "### 🧠 In-Class Exercise: Playlist Manager\n",
        "\n",
        "Start with `playlist = [\"Song A\", \"Song C\"]`.\n",
        "1.  Add `\"Song D\"` to the end.\n",
        "2.  Insert `\"Song B\"` at the correct position (index 1).\n",
        "3.  Remove `\"Song A\"`.\n",
        "4.  Print the final playlist."
      ],
      "metadata": {
        "id": "cvvKlzUpQ3sZ"
      }
    },
    {
      "cell_type": "code",
      "source": [
        "# Exercise: Playlist Manager\n",
        "playlist = [\"Song A\", \"Song C\"]\n",
        "print(\"Initial Playlist:\", playlist)\n",
        "\n",
        "# 1. Add \"Song D\" to the end\n",
        "playlist.append(\"Song D\")\n",
        "\n",
        "# 2. Insert \"Song B\" at index 1\n",
        "playlist.insert(1, \"Song B\")\n",
        "\n",
        "# 3. Remove \"Song A\"\n",
        "playlist.remove(\"Song A\")\n",
        "\n",
        "print(\"Final Playlist:\", playlist)"
      ],
      "metadata": {
        "colab": {
          "base_uri": "https://localhost:8080/"
        },
        "id": "X_XYjrceQ43A",
        "outputId": "979e5d0a-f491-49b3-d122-0d74442ed56f"
      },
      "execution_count": 10,
      "outputs": [
        {
          "output_type": "stream",
          "name": "stdout",
          "text": [
            "Initial Playlist: ['Song A', 'Song C']\n",
            "Final Playlist: ['Song B', 'Song C', 'Song D']\n"
          ]
        }
      ]
    },
    {
      "cell_type": "markdown",
      "source": [
        "### Sorting and Organizing\n",
        "*   `.sort()`: Sorts the list **in-place** (modifies the original list) in ascending order.\n",
        "*   `.sort(reverse=True)`: Sorts in descending order.\n",
        "*   `.reverse()`: Reverses the order of the list **in-place**.\n",
        "*   `sorted(list)`: **Returns a new, sorted list** without changing the original. Accepts `reverse=True`."
      ],
      "metadata": {
        "id": "ubNzcZDKQ3nU"
      }
    },
    {
      "cell_type": "code",
      "source": [
        "# Sorting Lists\n",
        "numbers = [4, 1, 7, 3, 15]\n",
        "print(\"Original numbers:\", numbers)\n",
        "\n",
        "numbers.sort() # In-place sort\n",
        "print(\"After .sort():\", numbers)\n",
        "\n",
        "numbers.sort(reverse=True) # In-place descending sort\n",
        "print(\"After .sort(reverse=True):\", numbers)\n",
        "\n",
        "scores = [88, 95, 72, 100, 88]\n",
        "print(\"\\nOriginal scores:\", scores)\n",
        "\n",
        "sorted_scores = sorted(scores) # New sorted list, original unchanged\n",
        "print(\"New sorted_scores list:\", sorted_scores)\n",
        "print(\"Original scores is unchanged:\", scores)\n",
        "\n",
        "descending_scores = sorted(scores, reverse=True)\n",
        "print(\"New descending_scores list:\", descending_scores)"
      ],
      "metadata": {
        "colab": {
          "base_uri": "https://localhost:8080/"
        },
        "id": "8GvI3KKQRCDq",
        "outputId": "fd84fee3-6bba-43e7-cd42-21e5ab79d0bf"
      },
      "execution_count": 11,
      "outputs": [
        {
          "output_type": "stream",
          "name": "stdout",
          "text": [
            "Original numbers: [4, 1, 7, 3, 15]\n",
            "After .sort(): [1, 3, 4, 7, 15]\n",
            "After .sort(reverse=True): [15, 7, 4, 3, 1]\n",
            "\n",
            "Original scores: [88, 95, 72, 100, 88]\n",
            "New sorted_scores list: [72, 88, 88, 95, 100]\n",
            "Original scores is unchanged: [88, 95, 72, 100, 88]\n",
            "New descending_scores list: [100, 95, 88, 88, 72]\n"
          ]
        }
      ]
    },
    {
      "cell_type": "markdown",
      "source": [
        "### 🧠 In-Class Exercise: Leaderboard Ranking\n",
        "\n",
        "You have a list of player scores: `leaderboard = [1050, 2300, 850, 1700]`.\n",
        "1.  Create a new list `top_scores` with the scores sorted highest to lowest, **without changing** the original.\n",
        "2.  Permanently **reverse** the order of the original `leaderboard` list.\n",
        "3.  Print both lists."
      ],
      "metadata": {
        "id": "D10iGrl7RGOY"
      }
    },
    {
      "cell_type": "code",
      "source": [
        "# Exercise: Leaderboard Ranking\n",
        "leaderboard = [1050, 2300, 850, 1700]\n",
        "print(\"Original Leaderboard:\", leaderboard)\n",
        "\n",
        "# 1. Create new sorted list (descending)\n",
        "top_scores = sorted(leaderboard, reverse=True)\n",
        "print(\"New Top Scores (descending):\", top_scores)\n",
        "\n",
        "# 2. Permanently reverse the original list\n",
        "leaderboard.reverse()\n",
        "print(\"Original Leaderboard (reversed):\", leaderboard)"
      ],
      "metadata": {
        "colab": {
          "base_uri": "https://localhost:8080/"
        },
        "id": "I6Bfe4hoRHNP",
        "outputId": "86f95173-48c3-432d-8f91-a9135075ab6e"
      },
      "execution_count": 12,
      "outputs": [
        {
          "output_type": "stream",
          "name": "stdout",
          "text": [
            "Original Leaderboard: [1050, 2300, 850, 1700]\n",
            "New Top Scores (descending): [2300, 1700, 1050, 850]\n",
            "Original Leaderboard (reversed): [1700, 850, 2300, 1050]\n"
          ]
        }
      ]
    },
    {
      "cell_type": "markdown",
      "source": [
        "## Introduction to Tuples: The Immutable Sibling\n",
        "\n",
        "A **tuple** is an **ordered** and **immutable** (unchangeable) collection, enclosed in parentheses `()`.\n",
        "\n",
        "*   **Immutable:** This is the key difference. Once created, you **cannot** change a tuple—no adding, removing, or changing items.\n",
        "*   **Use Case:** Perfect for representing fixed data like coordinates, RGB colors, or database records."
      ],
      "metadata": {
        "id": "n_BvEh6fRK1K"
      }
    },
    {
      "cell_type": "code",
      "source": [
        "# Creating Tuples\n",
        "point = (10, 20)          # A tuple of coordinates\n",
        "red_color = (255, 0, 0)   # A tuple for an RGB color\n",
        "print(\"Point:\", point)\n",
        "print(\"Red Color:\", red_color)\n",
        "\n",
        "# A common pitfall: creating a tuple with one item requires a trailing comma.\n",
        "single_item_tuple = (42,) # This is a tuple\n",
        "not_a_tuple = (42)        # This is just the integer 42\n",
        "print(\"Type of single_item_tuple:\", type(single_item_tuple))\n",
        "print(\"Type of not_a_tuple:\", type(not_a_tuple))\n",
        "\n",
        "# You can access tuples with indexing and slicing, just like lists.\n",
        "print(\"First coordinate:\", point[0])\n",
        "print(\"Color slice:\", red_color[:2]) # Gets (255, 0)\n",
        "\n",
        "# But you CANNOT change them!\n",
        "# point[0] = 15 # This line would cause a TypeError: 'tuple' object does not support item assignment"
      ],
      "metadata": {
        "colab": {
          "base_uri": "https://localhost:8080/"
        },
        "id": "FQ8xC2oiRNBO",
        "outputId": "2eb627bb-6652-4dc6-940f-4d3e80fec882"
      },
      "execution_count": 13,
      "outputs": [
        {
          "output_type": "stream",
          "name": "stdout",
          "text": [
            "Point: (10, 20)\n",
            "Red Color: (255, 0, 0)\n",
            "Type of single_item_tuple: <class 'tuple'>\n",
            "Type of not_a_tuple: <class 'int'>\n",
            "First coordinate: 10\n",
            "Color slice: (255, 0)\n"
          ]
        }
      ]
    },
    {
      "cell_type": "markdown",
      "source": [
        "## 3. 🔐 Tuples in Practice & The Hands-On Lab\n",
        "\n",
        "### Why Use Tuples?\n",
        "If they seem like limited lists, why do they exist?\n",
        "*   **Data Integrity:** Protects constant data from accidental changes (e.g., `DAYS_OF_WEEK = (\"Mon\", \"Tue\", \"Wed\", ...)`).\n",
        "*   **Performance:** Tuples are slightly faster and use less memory than lists, which matters in large applications.\n",
        "*   **Dictionary Keys:** Tuples can be used as keys in dictionaries (because they are immutable); lists cannot. (We'll see this soon!)."
      ],
      "metadata": {
        "id": "JxgA8_2xRTal"
      }
    },
    {
      "cell_type": "markdown",
      "source": [
        "### Tuple Unpacking: A Pythonic Superpower\n",
        "This is a beautiful, clean way to assign the items of a tuple to multiple variables in one line."
      ],
      "metadata": {
        "id": "KVjAFsCtRXCM"
      }
    },
    {
      "cell_type": "code",
      "source": [
        "# Tuple Unpacking\n",
        "location = (34.0522, -118.2437) # Latitude, Longitude for Los Angeles\n",
        "\n",
        "# The Pythonic way: unpack into named variables\n",
        "latitude, longitude = location\n",
        "\n",
        "print(f\"Latitude: {latitude}\")\n",
        "print(f\"Longitude: {longitude}\")\n",
        "\n",
        "# This is much cleaner than:\n",
        "# latitude = location[0]\n",
        "# longitude = location[1]"
      ],
      "metadata": {
        "colab": {
          "base_uri": "https://localhost:8080/"
        },
        "id": "WPDhJF6TRU1q",
        "outputId": "dfc3cc48-a48f-4561-c91a-1a1a54633432"
      },
      "execution_count": 14,
      "outputs": [
        {
          "output_type": "stream",
          "name": "stdout",
          "text": [
            "Latitude: 34.0522\n",
            "Longitude: -118.2437\n"
          ]
        }
      ]
    },
    {
      "cell_type": "markdown",
      "source": [
        "### 🧠 In-Class Exercise: Unpacking Colors\n",
        "\n",
        "Given `primary_colors = [(\"red\", \"#FF0000\"), (\"green\", \"#00FF00\"), (\"blue\", \"#0000FF\")]` (a list of tuples).\n",
        "Write code to unpack the **first element** into two variables, `color_name` and `hex_code`, and print them."
      ],
      "metadata": {
        "id": "axD9lACARi7E"
      }
    },
    {
      "cell_type": "code",
      "source": [
        "# Exercise: Unpacking Colors\n",
        "primary_colors = [(\"red\", \"#FF0000\"), (\"green\", \"#00FF00\"), (\"blue\", \"#0000FF\")]\n",
        "\n",
        "# Unpack the first tuple in the list\n",
        "first_color_tuple = primary_colors[0] # This gets (\"red\", \"#FF0000\")\n",
        "color_name, hex_code = first_color_tuple # This unpacks the tuple\n",
        "\n",
        "print(f\"Color Name: {color_name}\")\n",
        "print(f\"Hex Code: {hex_code}\")\n",
        "\n",
        "# Advanced: You can do it in one line!\n",
        "color_name, hex_code = primary_colors[0]\n",
        "print(f\"One-liner -> Color: {color_name}, Code: {hex_code}\")"
      ],
      "metadata": {
        "colab": {
          "base_uri": "https://localhost:8080/"
        },
        "id": "7qQwnLgURliV",
        "outputId": "ede4f9bd-ef80-4741-f851-dcb22f2f48ed"
      },
      "execution_count": 15,
      "outputs": [
        {
          "output_type": "stream",
          "name": "stdout",
          "text": [
            "Color Name: red\n",
            "Hex Code: #FF0000\n",
            "One-liner -> Color: red, Code: #FF0000\n"
          ]
        }
      ]
    },
    {
      "cell_type": "markdown",
      "source": [
        "## 🧪 Hands-On Lab: The To-Do List Application\n",
        "\n",
        "Let's build a simple, text-based to-do list manager to practice everything we've learned!\n",
        "We'll build it step-by-step. You can run each cell after writing the code."
      ],
      "metadata": {
        "id": "v4V-Onq5RqLa"
      }
    },
    {
      "cell_type": "markdown",
      "source": [
        "### 🔧 Part 1: Setup\n",
        "Create a list named `tasks` with some initial items."
      ],
      "metadata": {
        "id": "ViO99UXzRp1A"
      }
    },
    {
      "cell_type": "code",
      "source": [
        "# Part 1: Setup\n",
        "tasks = [\"Learn Python lists\", \"Build a to-do app\", \"Take a break\"]\n",
        "print(\"Initial tasks list created!\")"
      ],
      "metadata": {
        "colab": {
          "base_uri": "https://localhost:8080/"
        },
        "id": "c59gfUpBRugV",
        "outputId": "c39e229b-dd5d-400f-dbab-9ba63f770852"
      },
      "execution_count": 16,
      "outputs": [
        {
          "output_type": "stream",
          "name": "stdout",
          "text": [
            "Initial tasks list created!\n"
          ]
        }
      ]
    },
    {
      "cell_type": "markdown",
      "source": [
        "### 👀 Part 2: Viewing Tasks\n",
        "Write code to display the current tasks. If the list is empty, print a message. If it has items, print them with numbers starting from 1.\n",
        "*Hint: We haven't officially learned loops, so we'll use a simple method for now.*"
      ],
      "metadata": {
        "id": "1m_Lz3UKRxKa"
      }
    },
    {
      "cell_type": "code",
      "source": [
        "# Part 2: Viewing Tasks\n",
        "def view_tasks():\n",
        "  if not tasks: # This checks if the list is empty\n",
        "    print(\"Your to-do list is empty! 🎉\")\n",
        "  else:\n",
        "    print(\"\\n📋 Your To-Do List:\")\n",
        "    # We'll use a simple method for now (enumerate is better, coming soon!)\n",
        "    for i in range(len(tasks)):\n",
        "      print(f\"  {i+1}. {tasks[i]}\") # i+1 makes it start at 1 for the user\n",
        "\n",
        "# Let's test our function\n",
        "view_tasks()"
      ],
      "metadata": {
        "colab": {
          "base_uri": "https://localhost:8080/"
        },
        "id": "-yMaVAzGR2Az",
        "outputId": "ff746f5f-5821-44a0-eb15-01094a012e49"
      },
      "execution_count": 17,
      "outputs": [
        {
          "output_type": "stream",
          "name": "stdout",
          "text": [
            "\n",
            "📋 Your To-Do List:\n",
            "  1. Learn Python lists\n",
            "  2. Build a to-do app\n",
            "  3. Take a break\n"
          ]
        }
      ]
    },
    {
      "cell_type": "markdown",
      "source": [
        "### ➕ Part 3: Adding a Task\n",
        "Prompt the user for a new task and add it to the list using `.append()`."
      ],
      "metadata": {
        "id": "vjG9VjkCR9qj"
      }
    },
    {
      "cell_type": "code",
      "source": [
        "# Part 3: Adding a Task\n",
        "def add_task():\n",
        "  new_task = input(\"\\nWhat task would you like to add? \")\n",
        "  tasks.append(new_task)\n",
        "  print(f\"Task '{new_task}' has been added to your list. ✅\")\n",
        "\n",
        "# Let's test adding a task\n",
        "add_task()\n",
        "# Now view the list to see the new task\n",
        "view_tasks()"
      ],
      "metadata": {
        "colab": {
          "base_uri": "https://localhost:8080/"
        },
        "id": "1FZ-3nbaR-zX",
        "outputId": "b6f796b4-451f-49c8-bd6a-6acea24200b8"
      },
      "execution_count": 18,
      "outputs": [
        {
          "output_type": "stream",
          "name": "stdout",
          "text": [
            "\n",
            "What task would you like to add? Study\n",
            "Task 'Study' has been added to your list. ✅\n",
            "\n",
            "📋 Your To-Do List:\n",
            "  1. Learn Python lists\n",
            "  2. Build a to-do app\n",
            "  3. Take a break\n",
            "  4. Study\n"
          ]
        }
      ]
    },
    {
      "cell_type": "markdown",
      "source": [
        "### ➖ Part 4: Removing a Task\n",
        "Show the list, ask the user for a task number to remove, convert it to an integer, adjust for zero-based indexing, and use `.pop()`."
      ],
      "metadata": {
        "id": "Rl3xB6tISGzt"
      }
    },
    {
      "cell_type": "code",
      "source": [
        "# Part 4: Removing a Task\n",
        "def remove_task():\n",
        "  view_tasks() # Show the list first\n",
        "  if tasks: # Only try to remove if the list isn't empty\n",
        "    try:\n",
        "      task_num = int(input(\"\\nEnter the number of the task to remove: \"))\n",
        "      # Adjust for zero-based index and check if it's valid\n",
        "      index_to_remove = task_num - 1\n",
        "      if 0 <= index_to_remove < len(tasks):\n",
        "        removed_task = tasks.pop(index_to_remove)\n",
        "        print(f\"Task '{removed_task}' has been removed. ❌\")\n",
        "      else:\n",
        "        print(\"Invalid task number. Please try again.\")\n",
        "    except ValueError: # This catches if the user doesn't enter a number\n",
        "      print(\"Please enter a valid number.\")\n",
        "\n",
        "# Let's test removing a task\n",
        "remove_task()\n",
        "view_tasks() # Check the updated list"
      ],
      "metadata": {
        "colab": {
          "base_uri": "https://localhost:8080/"
        },
        "id": "EYGVl1gKSH3q",
        "outputId": "922d7165-1f22-4bc3-df07-79d92b0e96d0"
      },
      "execution_count": 20,
      "outputs": [
        {
          "output_type": "stream",
          "name": "stdout",
          "text": [
            "\n",
            "📋 Your To-Do List:\n",
            "  1. Learn Python lists\n",
            "  2. Build a to-do app\n",
            "  3. Take a break\n",
            "  4. Study\n",
            "\n",
            "Enter the number of the task to remove: 3\n",
            "Task 'Take a break' has been removed. ❌\n",
            "\n",
            "📋 Your To-Do List:\n",
            "  1. Learn Python lists\n",
            "  2. Build a to-do app\n",
            "  3. Study\n"
          ]
        }
      ]
    },
    {
      "cell_type": "markdown",
      "source": [
        "### 🚀 Challenge / Bonus Features\n",
        "1.  Add a check for valid input in `remove_task()` (already done above with `try-except` and index check!).\n",
        "2.  Add an option to clear the entire list.\n",
        "3.  Wrap the application in a `while` loop to keep it running."
      ],
      "metadata": {
        "id": "IQqkt-YzSXY8"
      }
    },
    {
      "cell_type": "code",
      "source": [
        "# Challenge: Clear entire list and Main Program Loop\n",
        "def clear_list():\n",
        "  global tasks # This tells the function to use the global 'tasks' variable\n",
        "  confirmation = input(\"Are you sure you want to clear the entire list? (y/n): \").lower()\n",
        "  if confirmation == 'y':\n",
        "    tasks.clear()\n",
        "    print(\"Your to-do list has been cleared. 🧹\")\n",
        "\n",
        "# The main application loop\n",
        "def run_todo_app():\n",
        "  while True:\n",
        "    print(\"\\n\" + \"=\"*30)\n",
        "    print(\"🗒️  TO-DO LIST MANAGER\")\n",
        "    print(\"=\"*30)\n",
        "    print(\"1. View Tasks\")\n",
        "    print(\"2. Add Task\")\n",
        "    print(\"3. Remove Task\")\n",
        "    print(\"4. Clear All Tasks\")\n",
        "    print(\"5. Quit\")\n",
        "\n",
        "    choice = input(\"\\nWhat would you like to do? (1-5): \")\n",
        "\n",
        "    if choice == '1':\n",
        "      view_tasks()\n",
        "    elif choice == '2':\n",
        "      add_task()\n",
        "    elif choice == '3':\n",
        "      remove_task()\n",
        "    elif choice == '4':\n",
        "      clear_list()\n",
        "    elif choice == '5':\n",
        "      print(\"Goodbye! 👋\")\n",
        "      break\n",
        "    else:\n",
        "      print(\"Invalid choice. Please enter a number between 1 and 5.\")\n",
        "\n",
        "# Uncomment the line below to RUN THE FULL APPLICATION!\n",
        "run_todo_app()"
      ],
      "metadata": {
        "colab": {
          "base_uri": "https://localhost:8080/"
        },
        "id": "IniFfUq7SZlW",
        "outputId": "48a08e4b-f321-4a31-a4ac-125b73d92ad7"
      },
      "execution_count": 24,
      "outputs": [
        {
          "output_type": "stream",
          "name": "stdout",
          "text": [
            "\n",
            "==============================\n",
            "🗒️  TO-DO LIST MANAGER\n",
            "==============================\n",
            "1. View Tasks\n",
            "2. Add Task\n",
            "3. Remove Task\n",
            "4. Clear All Tasks\n",
            "5. Quit\n",
            "\n",
            "What would you like to do? (1-5): 4\n",
            "Are you sure you want to clear the entire list? (y/n): y\n",
            "Your to-do list has been cleared. 🧹\n",
            "\n",
            "==============================\n",
            "🗒️  TO-DO LIST MANAGER\n",
            "==============================\n",
            "1. View Tasks\n",
            "2. Add Task\n",
            "3. Remove Task\n",
            "4. Clear All Tasks\n",
            "5. Quit\n",
            "\n",
            "What would you like to do? (1-5): 1\n",
            "Your to-do list is empty! 🎉\n",
            "\n",
            "==============================\n",
            "🗒️  TO-DO LIST MANAGER\n",
            "==============================\n",
            "1. View Tasks\n",
            "2. Add Task\n",
            "3. Remove Task\n",
            "4. Clear All Tasks\n",
            "5. Quit\n",
            "\n",
            "What would you like to do? (1-5): 5\\\n",
            "Invalid choice. Please enter a number between 1 and 5.\n",
            "\n",
            "==============================\n",
            "🗒️  TO-DO LIST MANAGER\n",
            "==============================\n",
            "1. View Tasks\n",
            "2. Add Task\n",
            "3. Remove Task\n",
            "4. Clear All Tasks\n",
            "5. Quit\n",
            "\n",
            "What would you like to do? (1-5): 5\n",
            "Goodbye! 👋\n"
          ]
        }
      ]
    }
  ]
}