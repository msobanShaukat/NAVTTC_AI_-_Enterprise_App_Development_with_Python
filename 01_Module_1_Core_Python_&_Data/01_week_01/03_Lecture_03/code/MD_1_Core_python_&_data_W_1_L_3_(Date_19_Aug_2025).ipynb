{
  "nbformat": 4,
  "nbformat_minor": 0,
  "metadata": {
    "colab": {
      "provenance": []
    },
    "kernelspec": {
      "name": "python3",
      "display_name": "Python 3"
    },
    "language_info": {
      "name": "python"
    }
  },
  "cells": [
    {
      "cell_type": "markdown",
      "source": [
        "# 🧠 Module 1: Core Python & Data - Week 1 Lecture 3\n",
        "**Date:** 19/08/2025  \n",
        "**DOCUMENT BY:** MUHAMMAD SOBAN SHAUKAT\n",
        "\n",
        "## ⚙️ The Engine of Logic: Python's Basic Operators\n",
        "\n",
        "This Colab notebook dives into the symbols that make your code *do things*: **operators**. We'll learn how to perform calculations, make comparisons, and combine logical conditions to build the decision-making core of your programs."
      ],
      "metadata": {
        "id": "hyGMv77WKkiN"
      }
    },
    {
      "cell_type": "markdown",
      "source": [
        "## 📋 Today's Agenda\n",
        "\n",
        "1.  **🧮 The Calculators - Arithmetic & Assignment Operators**\n",
        "    *   Arithmetic Operators: `+`, `-`, `*`, `/`, `//`, `%`, `**`\n",
        "    *   Assignment Operators: `=`, `+=`, `-=`, `*=`, `/=`, etc.\n",
        "    *   Interactive Exercises\n",
        "\n",
        "2.  **⚖️ The Decision Makers - Comparison & Logical Operators**\n",
        "    *   Comparison Operators: `==`, `!=`, `>`, `<`, `>=`, `<=`\n",
        "    *   **The Critical Difference:** `=` vs. `==`\n",
        "    *   Logical Operators: `and`, `or`, `not`\n",
        "    *   Interactive Exercises\n",
        "\n",
        "3.  **📐 The Rules of Engagement - Operator Precedence**\n",
        "    *   Understanding the order of operations\n",
        "    *   Using `()` parentheses to control execution\n",
        "    *   **Hands-On Lab:** Building the Ultimate Simple Calculator"
      ],
      "metadata": {
        "id": "SkWt7BHbKveF"
      }
    },
    {
      "cell_type": "markdown",
      "source": [
        "## 1. 🧮 The Calculators - Arithmetic & Assignment Operators\n",
        "\n",
        "Operators are the symbols that perform computations on your data. Let's start with the math ones!"
      ],
      "metadata": {
        "id": "KPAu2N1vK08J"
      }
    },
    {
      "cell_type": "markdown",
      "source": [
        "### Arithmetic Operators: Beyond Basic Math\n",
        "\n",
        "These operators are used for mathematical calculations. A key Python feature is its specific behavior with division.\n",
        "\n",
        "| Operator | Name | Description | Example | Result |\n",
        "| :---: | :--- | :--- | :---: | :---: |\n",
        "| `+` | Addition | Adds two numbers | `10 + 5` | `15` |\n",
        "| `-` | Subtraction | Subtracts right num from left | `10 - 5` | `5` |\n",
        "| `*` | Multiplication | Multiplies two numbers | `10 * 5` | `50` |\n",
        "| `**` | Exponent | Raises to the power of | `10 ** 2` | `100` |\n",
        "| `/` | **True Division** | ⚠️ *Always returns a `float`* | `10 / 4` | `2.5` |\n",
        "| `//` | **Floor Division** | Divides & rounds *down* to whole number | `10 // 4` | `2` |\n",
        "| `%` | Modulus | Returns the *remainder* of division | `10 % 3` | `1` |"
      ],
      "metadata": {
        "id": "nd_zl_szK7ab"
      }
    },
    {
      "cell_type": "code",
      "source": [
        "# Let's try them out!\n",
        "a = 10\n",
        "b = 3\n",
        "\n",
        "print(\"a + b =\", a + b)\n",
        "print(\"a - b =\", a - b)\n",
        "print(\"a * b =\", a * b)\n",
        "print(\"a ** b =\", a ** b) # 10 to the power of 3\n",
        "print(\"a / b =\", a / b)   # True Division - always a float\n",
        "print(\"a // b =\", a // b) # Floor Division - drops the decimal\n",
        "print(\"a % b =\", a % b)   # Remainder of 10 / 3"
      ],
      "metadata": {
        "colab": {
          "base_uri": "https://localhost:8080/"
        },
        "id": "stLl6AIGK-4e",
        "outputId": "8d80a520-b018-41b6-fd57-e5d3bad5a0f7"
      },
      "execution_count": 1,
      "outputs": [
        {
          "output_type": "stream",
          "name": "stdout",
          "text": [
            "a + b = 13\n",
            "a - b = 7\n",
            "a * b = 30\n",
            "a ** b = 1000\n",
            "a / b = 3.3333333333333335\n",
            "a // b = 3\n",
            "a % b = 1\n"
          ]
        }
      ]
    },
    {
      "cell_type": "markdown",
      "source": [
        "### 🧠 In-Class Exercise: Area and Perimeter\n",
        "\n",
        "You are given `length = 15.5` and `width = 8.2`.\n",
        "*   Calculate the **area** of the rectangle (length * width).\n",
        "*   Calculate the **perimeter** (2 * (length + width)).\n",
        "*   Print both results in a formatted string."
      ],
      "metadata": {
        "id": "W3KoT7L1LI3_"
      }
    },
    {
      "cell_type": "code",
      "execution_count": 2,
      "metadata": {
        "colab": {
          "base_uri": "https://localhost:8080/"
        },
        "id": "TShMPMLYJSp6",
        "outputId": "b4ada3cc-cc2b-44e3-bd54-198753c4ceea"
      },
      "outputs": [
        {
          "output_type": "stream",
          "name": "stdout",
          "text": [
            "The area of the rectangle is: 127.1\n",
            "The perimeter of the rectangle is: 47.4\n"
          ]
        }
      ],
      "source": [
        "# Exercise: Area and Perimeter\n",
        "length = 15.5\n",
        "width = 8.2\n",
        "\n",
        "area = length * width\n",
        "perimeter = 2 * (length + width)\n",
        "\n",
        "print(f\"The area of the rectangle is: {area}\")\n",
        "print(f\"The perimeter of the rectangle is: {perimeter}\")"
      ]
    },
    {
      "cell_type": "markdown",
      "source": [
        "### Assignment Operators: Efficient Shorthand\n",
        "\n",
        "The basic `=` assigns a value. **Compound assignment operators** perform an operation *and* an assignment in one step. They make your code more concise.\n",
        "\n",
        "| Operator | Example | Equivalent To |\n",
        "| :---: | :--- | :--- |\n",
        "| `=` | `x = 5` | `x = 5` |\n",
        "| `+=` | `x += 5` | `x = x + 5` |\n",
        "| `-=` | `x -= 5` | `x = x - 5` |\n",
        "| `*=` | `x *= 5` | `x = x * 5` |\n",
        "| `/=` | `x /= 5` | `x = x / 5` |\n",
        "| `//=` | `x //= 5` | `x = x // 5` |\n",
        "| `%=` | `x %= 5` | `x = x % 5` |\n",
        "| `**=` | `x **= 2` | `x = x ** 2` |"
      ],
      "metadata": {
        "id": "xh5czdSfLN-c"
      }
    },
    {
      "cell_type": "code",
      "source": [
        "# Example of Assignment Operators\n",
        "score = 10\n",
        "print(\"Initial score:\", score)\n",
        "\n",
        "score += 5 # Same as: score = score + 5\n",
        "print(\"After score += 5:\", score)\n",
        "\n",
        "score **= 2 # Same as: score = score ** 2\n",
        "print(\"After score **= 2:\", score)\n",
        "\n",
        "power_level = 9000\n",
        "print(\"\\nIt's over\", power_level, \"!!!\")\n",
        "power_level += 1 # The famous mistake\n",
        "print(\"It's over\", power_level, \"!!!\")"
      ],
      "metadata": {
        "colab": {
          "base_uri": "https://localhost:8080/"
        },
        "id": "7quHYN9ELXM_",
        "outputId": "e7131fe0-e8e7-46fa-ec17-6f6adb57a4cd"
      },
      "execution_count": 3,
      "outputs": [
        {
          "output_type": "stream",
          "name": "stdout",
          "text": [
            "Initial score: 10\n",
            "After score += 5: 15\n",
            "After score **= 2: 225\n",
            "\n",
            "It's over 9000 !!!\n",
            "It's over 9001 !!!\n"
          ]
        }
      ]
    },
    {
      "cell_type": "markdown",
      "source": [
        "### 🧠 In-Class Exercise: Leveling Up a Game Character\n",
        "\n",
        "A game character starts with `health = 100` and `mana = 50`.\n",
        "*   The character finds a health potion, which adds `25` health. Update the health using `+=`.\n",
        "*   The character casts a spell that costs `30` mana. Update the mana using `-=`.\n",
        "*   Print the final health and mana."
      ],
      "metadata": {
        "id": "id3UzBZYLd6u"
      }
    },
    {
      "cell_type": "code",
      "source": [
        "# Exercise: Game Character\n",
        "health = 100\n",
        "mana = 50\n",
        "\n",
        "print(f\"Initial Stats - Health: {health}, Mana: {mana}\")\n",
        "\n",
        "# Your code here: Apply potion and spell\n",
        "health += 25  # Health potion adds 25\n",
        "mana -= 30    # Spell costs 30 mana\n",
        "\n",
        "print(f\"Final Stats - Health: {health}, Mana: {mana}\")"
      ],
      "metadata": {
        "colab": {
          "base_uri": "https://localhost:8080/"
        },
        "id": "K3Jb3YuULf4f",
        "outputId": "0c833cca-1760-4317-8203-3915bb85c91e"
      },
      "execution_count": 4,
      "outputs": [
        {
          "output_type": "stream",
          "name": "stdout",
          "text": [
            "Initial Stats - Health: 100, Mana: 50\n",
            "Final Stats - Health: 125, Mana: 20\n"
          ]
        }
      ]
    },
    {
      "cell_type": "markdown",
      "source": [
        "## 2. ⚖️ The Decision Makers - Comparison & Logical Operators\n",
        "\n",
        "These operators don't calculate values; they ask **questions** that result in `True` or `False`. They are the foundation of all decision-making in code (`if` statements, loops)."
      ],
      "metadata": {
        "id": "0RuLK9DxLicJ"
      }
    },
    {
      "cell_type": "markdown",
      "source": [
        "### Comparison Operators: Asking Questions\n",
        "\n",
        "These operators compare two values and always return a **Boolean** (`True` or `False`).\n",
        "\n",
        "| Operator | Description | Example | Result |\n",
        "| :---: | :--- | :---: | :---: |\n",
        "| `==` | Equal to | `5 == 5` | `True` |\n",
        "| `!=` | Not equal to | `5 != 5` | `False` |\n",
        "| `>` | Greater than | `5 > 4` | `True` |\n",
        "| `<` | Less than | `5 < 5` | `False` |\n",
        "| `>=` | Greater than or equal to | `5 >= 5` | `True` |\n",
        "| `<=` | Less than or equal to | `5 <= 4` | `False` |"
      ],
      "metadata": {
        "id": "x5FqLm0fLkdj"
      }
    },
    {
      "cell_type": "code",
      "source": [
        "# Let's compare!\n",
        "x = 10\n",
        "y = 12\n",
        "\n",
        "print(\"x == y:\", x == y) # False\n",
        "print(\"x != y:\", x != y) # True\n",
        "print(\"x > y:\", x > y)   # False\n",
        "print(\"x < y:\", x < y)   # True\n",
        "print(\"x >= y:\", x >= y) # False\n",
        "print(\"x <= y:\", x <= y) # True\n",
        "\n",
        "# We can compare strings too!\n",
        "name1 = \"Alice\"\n",
        "name2 = \"Bob\"\n",
        "print(\"\\nname1 == name2:\", name1 == name2)"
      ],
      "metadata": {
        "colab": {
          "base_uri": "https://localhost:8080/"
        },
        "id": "0HKm10vnLo43",
        "outputId": "f6bab081-b79b-4400-dc9c-ea8b9110d814"
      },
      "execution_count": 5,
      "outputs": [
        {
          "output_type": "stream",
          "name": "stdout",
          "text": [
            "x == y: False\n",
            "x != y: True\n",
            "x > y: False\n",
            "x < y: True\n",
            "x >= y: False\n",
            "x <= y: True\n",
            "\n",
            "name1 == name2: False\n"
          ]
        }
      ]
    },
    {
      "cell_type": "markdown",
      "source": [
        "### 🚨 CRITICAL DISTINCTION: = vs. ==\n",
        "\n",
        "This is one of the most common bugs for new programmers!\n",
        "\n",
        "*   `=` is the **assignment operator**. It **puts** the value on the right **into** the variable on the left.\n",
        "    *   Example: `my_score = 100` (Sets `my_score` to 100)\n",
        "\n",
        "*   `==` is the **comparison operator**. It **asks** if the value on the left is **equal to** the value on the right.\n",
        "    *   Example: `my_score == 100` (Checks if `my_score` is 100, results in `True` or `False`)"
      ],
      "metadata": {
        "id": "FYT-E9r9Lr2F"
      }
    },
    {
      "cell_type": "code",
      "source": [
        "# Demonstrating the difference\n",
        "my_variable = 10 # ASSIGNMENT: Puts 10 into my_variable\n",
        "print(\"Value of my_variable after assignment:\", my_variable)\n",
        "\n",
        "check = (my_variable == 10) # COMPARISON: Asks \"is my_variable equal to 10?\"\n",
        "print(\"Result of comparison (my_variable == 10):\", check)\n",
        "\n",
        "# A common mistake (often in if-statements)\n",
        "# if my_variable = 10: # This would cause a SyntaxError!\n",
        "#    print(\"This won't work!\")"
      ],
      "metadata": {
        "colab": {
          "base_uri": "https://localhost:8080/"
        },
        "id": "nF1zUS05LzRU",
        "outputId": "019c2934-cce9-46fa-edfa-8f7c933270f1"
      },
      "execution_count": 6,
      "outputs": [
        {
          "output_type": "stream",
          "name": "stdout",
          "text": [
            "Value of my_variable after assignment: 10\n",
            "Result of comparison (my_variable == 10): True\n"
          ]
        }
      ]
    },
    {
      "cell_type": "markdown",
      "source": [
        "### Logical Operators: Combining Questions\n",
        "\n",
        "Python uses plain English words (`and`, `or`, `not`) for logic, which is much more readable than symbols like `&&`, `||`, `!` used in other languages.\n",
        "\n",
        "| Operator | Description | Example |\n",
        "| :---: | :--- | :--- |\n",
        "| `and` | Returns `True` **only if** both statements are true. | `has_ticket and has_id` |\n",
        "| `or` | Returns `True` **if at least one** statement is true. | `is_weekend or is_holiday` |\n",
        "| `not` | **Reverses** the result. Returns `True` if false, `False` if true. | `not is_raining` |"
      ],
      "metadata": {
        "id": "1woReqvOL5AW"
      }
    },
    {
      "cell_type": "code",
      "source": [
        "# Logical Operator Examples\n",
        "age = 25\n",
        "has_license = True\n",
        "is_weekend = False\n",
        "is_raining = True\n",
        "\n",
        "# Can drive if over 18 AND has a license\n",
        "can_drive = age > 18 and has_license\n",
        "print(\"Can drive?\", can_drive)\n",
        "\n",
        "# Will go out if it's the weekend OR it's a holiday (we'll pretend it's not)\n",
        "will_go_out = is_weekend or False # One false, one false -> False\n",
        "print(\"Will go out?\", will_go_out)\n",
        "\n",
        "# Will stay in if it is raining\n",
        "will_stay_in = is_raining # Simple, but not using 'not'\n",
        "print(\"Will stay in?\", will_stay_in)\n",
        "\n",
        "# Will go out if it is NOT raining\n",
        "will_go_out_if_dry = not is_raining\n",
        "print(\"Will go out if it's dry?\", will_go_out_if_dry)"
      ],
      "metadata": {
        "colab": {
          "base_uri": "https://localhost:8080/"
        },
        "id": "rxtpmR-VL6oI",
        "outputId": "f8cb94e2-d07d-4cf1-9487-01b271ca6639"
      },
      "execution_count": 7,
      "outputs": [
        {
          "output_type": "stream",
          "name": "stdout",
          "text": [
            "Can drive? True\n",
            "Will go out? False\n",
            "Will stay in? True\n",
            "Will go out if it's dry? False\n"
          ]
        }
      ]
    },
    {
      "cell_type": "markdown",
      "source": [
        "### ✨ Chaining Comparisons: The Pythonic Way\n",
        "\n",
        "Python allows you to chain comparisons for incredibly readable code, especially for checking if a value is within a range."
      ],
      "metadata": {
        "id": "ZzmUF3JWMBw_"
      }
    },
    {
      "cell_type": "code",
      "source": [
        "# Checking if someone is a teenager\n",
        "age = 15\n",
        "\n",
        "# The way you might think to do it (works fine)\n",
        "if age >= 13 and age <= 19:\n",
        "    print(\"You are a teenager. (Method 1)\")\n",
        "\n",
        "# The beautiful, Pythonic way\n",
        "if 13 <= age <= 19:\n",
        "    print(\"You are a teenager. (Method 2 - Pythonic!)\")\n",
        "\n",
        "# This also works for other checks\n",
        "x = 5\n",
        "print(1 < x < 10) # Is x between 1 and 10? True\n",
        "print(10 < x < 20) # Is x between 10 and 20? False"
      ],
      "metadata": {
        "colab": {
          "base_uri": "https://localhost:8080/"
        },
        "id": "EoBktBYqMFfa",
        "outputId": "2b92a659-abc3-490c-b31b-54a86a5dcb73"
      },
      "execution_count": 8,
      "outputs": [
        {
          "output_type": "stream",
          "name": "stdout",
          "text": [
            "You are a teenager. (Method 1)\n",
            "You are a teenager. (Method 2 - Pythonic!)\n",
            "True\n",
            "False\n"
          ]
        }
      ]
    },
    {
      "cell_type": "markdown",
      "source": [
        "### 🧠 In-Class Exercise: Access Control Logic\n",
        "\n",
        "Write a single Boolean expression that determines if a user can access a secure area. The conditions are:\n",
        "1.  The user must be an `'admin'` **OR** have a `security_clearance` level greater than `4`.\n",
        "2.  The user must **NOT** be on the `watch_list`.\n",
        "\n",
        "Create variables `user_role`, `security_clearance`, and `on_watch_list` to test your expression."
      ],
      "metadata": {
        "id": "M080akyoMKVN"
      }
    },
    {
      "cell_type": "code",
      "source": [
        "# Exercise: Access Control Logic\n",
        "# Test Case 1: An admin not on the watchlist -> SHOULD BE TRUE\n",
        "user_role = 'admin'\n",
        "security_clearance = 3 # Doesn't matter for admin\n",
        "on_watch_list = False\n",
        "\n",
        "# Test Case 2: A high-clearance user not on the watchlist -> SHOULD BE TRUE\n",
        "# user_role = 'user'\n",
        "# security_clearance = 5\n",
        "# on_watch_list = False\n",
        "\n",
        "# Test Case 3: A user on the watchlist -> SHOULD BE FALSE, no matter what\n",
        "# user_role = 'admin'\n",
        "# security_clearance = 10\n",
        "# on_watch_list = True\n",
        "\n",
        "# Your single Boolean expression here:\n",
        "can_access = (user_role == 'admin' or security_clearance > 4) and not on_watch_list\n",
        "\n",
        "print(\"User can access secure area:\", can_access)"
      ],
      "metadata": {
        "colab": {
          "base_uri": "https://localhost:8080/"
        },
        "id": "oSqqu1rSMR1j",
        "outputId": "acf31008-1012-4e83-96bb-0f40b32ddd9c"
      },
      "execution_count": 9,
      "outputs": [
        {
          "output_type": "stream",
          "name": "stdout",
          "text": [
            "User can access secure area: True\n"
          ]
        }
      ]
    },
    {
      "cell_type": "markdown",
      "source": [
        "## 3. 📐 The Rules of Engagement - Operator Precedence\n",
        "\n",
        "When you have multiple operators in one expression, Python follows a specific **order of operations**, just like PEMDAS/BODMAS in math."
      ],
      "metadata": {
        "id": "2HbhMQeqMRdc"
      }
    },
    {
      "cell_type": "markdown",
      "source": [
        "### Simplified Order of Precedence (Highest to Lowest)\n",
        "\n",
        "1.  `()` **Parentheses** - Always evaluated first. Use them to force the order you want!\n",
        "2.  `**` Exponentiation\n",
        "3.  `*`, `/`, `//`, `%` Multiplication, Division, Floor Division, Modulus\n",
        "4.  `+`, `-` Addition, Subtraction\n",
        "5.  `==`, `!=`, `>`, `<`, `>=`, `<=` Comparisons\n",
        "6.  `not` Logical NOT\n",
        "7.  `and` Logical AND\n",
        "8.  `or` Logical OR\n",
        "\n",
        "**The Golden Rule 🏆:** You don't need to memorize this! **When in doubt, use parentheses `()`** to make your intentions crystal clear. Readable code is better than clever code."
      ],
      "metadata": {
        "id": "UXZIm9XkMcqT"
      }
    },
    {
      "cell_type": "code",
      "source": [
        "# Demonstrating Precedence\n",
        "\n",
        "# What is the result? Multiplication happens before addition.\n",
        "result1 = 5 + 10 * 2\n",
        "print(\"5 + 10 * 2 =\", result1)\n",
        "\n",
        "# Use parentheses to change the order - addition happens first.\n",
        "result2 = (5 + 10) * 2\n",
        "print(\"(5 + 10) * 2 =\", result2)\n",
        "\n",
        "# Logical operator precedence: not -> and -> or\n",
        "# Is this True or False?\n",
        "result3 = True or False and not True\n",
        "print(\"True or False and not True =\", result3) # not True is False -> False and False is False -> True or False is True\n",
        "\n",
        "# Using parentheses makes the intended logic obvious.\n",
        "result4 = True or (False and (not True))\n",
        "print(\"With parentheses for clarity:\", result4)"
      ],
      "metadata": {
        "colab": {
          "base_uri": "https://localhost:8080/"
        },
        "id": "vY7vWKk4MkFK",
        "outputId": "0eace58b-7191-4672-f7de-c8dfd1df7f88"
      },
      "execution_count": 10,
      "outputs": [
        {
          "output_type": "stream",
          "name": "stdout",
          "text": [
            "5 + 10 * 2 = 25\n",
            "(5 + 10) * 2 = 30\n",
            "True or False and not True = True\n",
            "With parentheses for clarity: True\n"
          ]
        }
      ]
    },
    {
      "cell_type": "markdown",
      "source": [
        "### 🧠 In-Class Exercise: Predict the Output\n",
        "\n",
        "• Without running the code, what will be the final boolean value of `can_proceed`? Think about the order of operations!"
      ],
      "metadata": {
        "id": "m7Oyu9B8MnKK"
      }
    },
    {
      "cell_type": "code",
      "source": [
        "# Exercise: Predict the Output\n",
        "score = 85\n",
        "time_remaining = 10\n",
        "has_bonus = False\n",
        "\n",
        "# Break it down step-by-step based on precedence:\n",
        "# 1. score > 80 -> True\n",
        "# 2. time_remaining > 0 -> True\n",
        "# 3. score > 90 -> False\n",
        "# 4. not score > 90 -> not False -> True\n",
        "# 5. has_bonus and not score > 90 -> False and True -> False\n",
        "# 6. score > 80 and time_remaining > 0 -> True and True -> True\n",
        "# 7. True or False -> True\n",
        "\n",
        "can_proceed = score > 80 and time_remaining > 0 or has_bonus and not score > 90\n",
        "\n",
        "print(\"My prediction was: True\")\n",
        "print(\"Actual result is:\", can_proceed)"
      ],
      "metadata": {
        "colab": {
          "base_uri": "https://localhost:8080/"
        },
        "id": "-lvnnGMZMrjT",
        "outputId": "73cb21a6-1fb9-43a4-cd66-989f9758fff5"
      },
      "execution_count": 11,
      "outputs": [
        {
          "output_type": "stream",
          "name": "stdout",
          "text": [
            "My prediction was: True\n",
            "Actual result is: True\n"
          ]
        }
      ]
    },
    {
      "cell_type": "markdown",
      "source": [
        "## 🧪 Hands-On Lab: The Ultimate Simple Calculator\n",
        "\n",
        "Your mission is to build a powerful calculator script that does three things:\n",
        "1.  **Arithmetic:** Performs all basic math operations on two numbers.\n",
        "2.  **Comparison:** Checks the relationship between the two numbers.\n",
        "3.  **Logic:** Makes intelligent checks about the numbers.\n",
        "\n",
        "Let's build it step-by-step."
      ],
      "metadata": {
        "id": "G111DnTiMyRu"
      }
    },
    {
      "cell_type": "markdown",
      "source": [
        "### 🔧 Part 1: Setup and Arithmetic\n",
        "\n",
        "1.  Prompt the user to enter two numbers. **Remember to convert them to `float`s!**\n",
        "2.  Perform all arithmetic operations on them.\n",
        "3.  Print the results cleanly."
      ],
      "metadata": {
        "id": "nBWoEBdjM1Pn"
      }
    },
    {
      "cell_type": "code",
      "source": [
        "# Part 1: Setup and Arithmetic\n",
        "print(\"--- Ultimate Simple Calculator ---\")\n",
        "print(\"Please enter two numbers.\")\n",
        "\n",
        "# Get user input and convert to float\n",
        "num1 = float(input(\"Enter the first number: \"))\n",
        "num2 = float(input(\"Enter the second number: \"))\n",
        "\n",
        "print(\"\\n\" + \"=\"*40)\n",
        "print(\"--- Arithmetic Results ---\")\n",
        "print(\"Sum (num1 + num2):\", num1 + num2)\n",
        "print(\"Difference (num1 - num2):\", num1 - num2)\n",
        "print(\"Product (num1 * num2):\", num1 * num2)\n",
        "print(\"Quotient (num1 / num2):\", num1 / num2)\n",
        "print(\"Floor Quotient (num1 // num2):\", num1 // num2)\n",
        "print(\"Remainder (num1 % num2):\", num1 % num2)\n",
        "print(\"Power (num1 ** num2):\", num1 ** num2)"
      ],
      "metadata": {
        "colab": {
          "base_uri": "https://localhost:8080/"
        },
        "id": "LkypET1EM6KT",
        "outputId": "983938d3-6d3c-4b04-c239-be3e8fb8505c"
      },
      "execution_count": 12,
      "outputs": [
        {
          "output_type": "stream",
          "name": "stdout",
          "text": [
            "--- Ultimate Simple Calculator ---\n",
            "Please enter two numbers.\n",
            "Enter the first number: 3\n",
            "Enter the second number: 8\n",
            "\n",
            "========================================\n",
            "--- Arithmetic Results ---\n",
            "Sum (num1 + num2): 11.0\n",
            "Difference (num1 - num2): -5.0\n",
            "Product (num1 * num2): 24.0\n",
            "Quotient (num1 / num2): 0.375\n",
            "Floor Quotient (num1 // num2): 0.0\n",
            "Remainder (num1 % num2): 3.0\n",
            "Power (num1 ** num2): 6561.0\n"
          ]
        }
      ]
    },
    {
      "cell_type": "markdown",
      "source": [
        "### ⚖️ Part 2: Comparison Checks\n",
        "\n",
        "Perform a series of comparisons between `num1` and `num2`. Print the Boolean result of each."
      ],
      "metadata": {
        "id": "ShpVW9L2NAWM"
      }
    },
    {
      "cell_type": "code",
      "source": [
        "# Part 2: Comparison Checks\n",
        "print(\"\\n\" + \"=\"*40)\n",
        "print(\"--- Comparison Results ---\")\n",
        "print(\"Is num1 equal to num2?\", num1 == num2)\n",
        "print(\"Is num1 not equal to num2?\", num1 != num2)\n",
        "print(\"Is num1 greater than num2?\", num1 > num2)\n",
        "print(\"Is num1 less than num2?\", num1 < num2)\n",
        "print(\"Is num1 greater than or equal to num2?\", num1 >= num2)\n",
        "print(\"Is num1 less than or equal to num2?\", num1 <= num2)"
      ],
      "metadata": {
        "colab": {
          "base_uri": "https://localhost:8080/"
        },
        "id": "w7zl3b9NNBl2",
        "outputId": "8cd14149-8a64-4da4-b5ad-b4f389f1bc52"
      },
      "execution_count": 13,
      "outputs": [
        {
          "output_type": "stream",
          "name": "stdout",
          "text": [
            "\n",
            "========================================\n",
            "--- Comparison Results ---\n",
            "Is num1 equal to num2? False\n",
            "Is num1 not equal to num2? True\n",
            "Is num1 greater than num2? False\n",
            "Is num1 less than num2? True\n",
            "Is num1 greater than or equal to num2? False\n",
            "Is num1 less than or equal to num2? True\n"
          ]
        }
      ]
    },
    {
      "cell_type": "markdown",
      "source": [
        "### 🧠 Part 3 (Challenge): Logical Scenarios\n",
        "\n",
        "Make your calculator smarter by adding these logical checks."
      ],
      "metadata": {
        "id": "os3cnTO8NGQk"
      }
    },
    {
      "cell_type": "code",
      "source": [
        "# Part 3: Logical Scenarios\n",
        "print(\"\\n\" + \"=\"*40)\n",
        "print(\"--- Logical Checks ---\")\n",
        "\n",
        "# Check if both numbers are positive\n",
        "both_positive = num1 > 0 and num2 > 0\n",
        "print(\"Are both numbers positive?\", both_positive)\n",
        "\n",
        "# Check if at least one number is very large (> 100)\n",
        "one_is_large = num1 > 100 or num2 > 100\n",
        "print(\"Is at least one number greater than 100?\", one_is_large)\n",
        "\n",
        "# CRUCIAL: Check if it's safe to divide (is num2 not zero?)\n",
        "# Division by zero causes a crash! This check prevents that.\n",
        "is_division_safe = num2 != 0\n",
        "print(\"Is it safe to divide (num2 != 0)?\", is_division_safe)\n",
        "\n",
        "# Only perform division if it's safe\n",
        "if is_division_safe:\n",
        "    division_result = num1 / num2\n",
        "    print(f\"Safe Division Result: {division_result}\")\n",
        "else:\n",
        "    print(\"Cannot perform division: Division by zero is undefined.\")"
      ],
      "metadata": {
        "colab": {
          "base_uri": "https://localhost:8080/"
        },
        "id": "FJVTKUh7NG8K",
        "outputId": "a7103ad5-699e-488a-e926-3bb0680872bb"
      },
      "execution_count": 14,
      "outputs": [
        {
          "output_type": "stream",
          "name": "stdout",
          "text": [
            "\n",
            "========================================\n",
            "--- Logical Checks ---\n",
            "Are both numbers positive? True\n",
            "Is at least one number greater than 100? False\n",
            "Is it safe to divide (num2 != 0)? True\n",
            "Safe Division Result: 0.375\n"
          ]
        }
      ]
    }
  ]
}