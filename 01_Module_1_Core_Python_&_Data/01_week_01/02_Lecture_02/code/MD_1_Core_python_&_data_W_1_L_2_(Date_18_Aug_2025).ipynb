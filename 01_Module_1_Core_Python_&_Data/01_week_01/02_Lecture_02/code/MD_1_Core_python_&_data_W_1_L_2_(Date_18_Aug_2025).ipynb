{
  "nbformat": 4,
  "nbformat_minor": 0,
  "metadata": {
    "colab": {
      "provenance": []
    },
    "kernelspec": {
      "name": "python3",
      "display_name": "Python 3"
    },
    "language_info": {
      "name": "python"
    }
  },
  "cells": [
    {
      "cell_type": "markdown",
      "source": [
        "# Module 1: Core Python & Data - Week 1 Lecture 2\n",
        "\n",
        "**Date:** 18/08/2025\n",
        "\n",
        "**DOCUMENT BY**: MUHAMMAD SOBAN SHAUKAT\n",
        "\n",
        "## Python's Foundation: Syntax, Variables & Data Types\n",
        "\n",
        "This repository contains the code and exercises from the second lecture, where we dive into the fundamental building blocks of every Python program: its syntax rules, variables, and core data types."
      ],
      "metadata": {
        "id": "NdL0c0bwCHiq"
      }
    },
    {
      "cell_type": "markdown",
      "source": [
        "## 📋 Agenda\n",
        "\n",
        "1.  [Python Syntax & Variables](#python-syntax--variables)\n",
        "    *   [The Zen of Python](#the-zen-of-python)\n",
        "    *   [Indentation](#indentation-is-syntax)\n",
        "    *   [Comments](#comments-notes-to-yourself)\n",
        "    *   [Variables & Naming](#variables--naming-conventions)\n",
        "    *   [Dynamic Typing](#dynamic-typing)\n",
        "2.  [Core Data Types](#the-building-blocks---core-data-types)\n",
        "    *   [Numbers: `int` and `float`](#numbers-int-and-float)\n",
        "    *   [Text: `str` and String Formatting](#text-type-strings-str)\n",
        "    *   [Boolean: `bool`](#boolean-type-bool)\n",
        "3.  [Putting It All Together](#putting-it-all-together)\n",
        "    *   [Type Casting](#type-casting)\n",
        "    *   [Hands-On Lab](#-hands-on-lab-exercises)"
      ],
      "metadata": {
        "id": "Fd8sPJYeCLgU"
      }
    },
    {
      "cell_type": "markdown",
      "source": [
        "## Python Syntax & Variables\n",
        "\n",
        "### The Zen of Python\n",
        "Python has a set of guiding principles known as the \"Zen of Python.\" You can see them by typing `import this` in a Python interpreter. They emphasize readability, simplicity, and clarity.\n",
        "\n",
        "### Indentation is Syntax\n",
        "This is the most critical concept to grasp. Unlike languages that use curly braces `{}` to denote code blocks, Python uses whitespace.\n",
        "*   **What it means:** The indentation of your code directly affects its execution.\n",
        "*   **The Rule:** The standard is **four spaces** per indentation level.\n",
        "*   **Why?** It forces clean, readable code for everyone."
      ],
      "metadata": {
        "id": "_tr8yN71CNYs"
      }
    },
    {
      "cell_type": "markdown",
      "source": [
        "### Indentation Example\n"
      ],
      "metadata": {
        "id": "mQC0yZQ2CxYy"
      }
    },
    {
      "cell_type": "code",
      "source": [
        "# Python uses a colon (:) and indentation\n",
        "x = 10\n",
        "y = 5\n",
        "\n",
        "if x > y:\n",
        "    print(\"x is greater\") # This line is inside the if block\n",
        "    print(\"This is also inside the if statement\") # So is this one\n",
        "\n",
        "print(\"This is outside the if statement\") # This line is not indented, so it's outside"
      ],
      "metadata": {
        "colab": {
          "base_uri": "https://localhost:8080/"
        },
        "id": "v4RukZhCCw4x",
        "outputId": "2eac4896-9276-490f-bdd7-73818a16440b"
      },
      "execution_count": 1,
      "outputs": [
        {
          "output_type": "stream",
          "name": "stdout",
          "text": [
            "x is greater\n",
            "This is also inside the if statement\n",
            "This is outside the if statement\n"
          ]
        }
      ]
    },
    {
      "cell_type": "markdown",
      "source": [
        "---\n",
        "\n",
        "### **Slide 5: In-Class Exercise: Spot the Error**\n",
        "\n",
        "**Content:**\n",
        "A piece of broken Python code where the `print` statements inside the `if` and `else` blocks are not indented.\n",
        "\n",
        "**Detailed Explanation:**\n",
        "This is a crucial exercise. The provided code will cause an `IndentationError` and will not run. The fix is to indent the lines under the `if` and `else` statements. This reinforces the absolute necessity of proper indentation.\n",
        "\n",
        "**Markdown & Code for GitHub:**\n",
        "We'll show the broken code and the fixed code.\n",
        "\n",
        "```markdown\n",
        "### 🧠 In-Class Exercise: Spot the Error\n",
        "\n",
        "The code below is broken. It will cause an `IndentationError`. Can you fix it?\n",
        "\n",
        "**Broken Code:**\n",
        "```python\n"
      ],
      "metadata": {
        "id": "1TB4YmCbDOO2"
      }
    },
    {
      "cell_type": "code",
      "source": [
        "# --- BROKEN CODE ---\n",
        "name = \"Alice\"\n",
        "if name == \"Alice\":\n",
        "    print(\"Hello, Alice\")  # This line needs to be indented!\n",
        "else:\n",
        "    print(\"You are not Alice.\") # This line needs to be indented!"
      ],
      "metadata": {
        "colab": {
          "base_uri": "https://localhost:8080/",
          "height": 106
        },
        "id": "mLVTDrIuDTtU",
        "outputId": "53695b6f-bcb3-4af6-e360-d244d6ee7017"
      },
      "execution_count": 3,
      "outputs": [
        {
          "output_type": "error",
          "ename": "IndentationError",
          "evalue": "expected an indented block after 'if' statement on line 3 (ipython-input-694730414.py, line 4)",
          "traceback": [
            "\u001b[0;36m  File \u001b[0;32m\"/tmp/ipython-input-694730414.py\"\u001b[0;36m, line \u001b[0;32m4\u001b[0m\n\u001b[0;31m    print(\"Hello, Alice\")  # This line needs to be indented!\u001b[0m\n\u001b[0m    ^\u001b[0m\n\u001b[0;31mIndentationError\u001b[0m\u001b[0;31m:\u001b[0m expected an indented block after 'if' statement on line 3\n"
          ]
        }
      ]
    },
    {
      "cell_type": "markdown",
      "source": [
        "**Explaination**: The selected code cell has an IndentationError. This is because the lines under the if and else statements are not indented. In Python, indentation is used to define code blocks. I will fix this error by adding 4 spaces of indentation to the print statements.\n",
        "\n"
      ],
      "metadata": {
        "id": "E3-RnYzxEKL7"
      }
    },
    {
      "cell_type": "code",
      "source": [
        "# --- FIXED CODE ---\n",
        "name = \"Alice\"\n",
        "if name == \"Alice\":\n",
        "    print(\"Hello, Alice\") # Fixed! 4 spaces of indentation.\n",
        "else:\n",
        "    print(\"You are not Alice.\") # Fixed! 4 spaces of indentation."
      ],
      "metadata": {
        "colab": {
          "base_uri": "https://localhost:8080/"
        },
        "id": "P4FHmredDjQg",
        "outputId": "e42cad3f-6b42-4f19-fc9f-ea4b9bb6b756"
      },
      "execution_count": 5,
      "outputs": [
        {
          "output_type": "stream",
          "name": "stdout",
          "text": [
            "Hello, Alice\n"
          ]
        }
      ]
    },
    {
      "cell_type": "markdown",
      "source": [
        "### Comments: Notes to Yourself\n",
        "Comments are for humans, ignored by Python. Use `#` for single-line comments."
      ],
      "metadata": {
        "id": "gGVh3bEtE4E6"
      }
    },
    {
      "cell_type": "code",
      "source": [
        "# This is a single-line comment. It explains the next line of code.\n",
        "\n",
        "# Calculate the area of a circle with a radius of 5\n",
        "pi = 3.14159\n",
        "radius = 5\n",
        "area = pi * (radius ** 2)  # The ** operator means 'to the power of'\n",
        "print(area)"
      ],
      "metadata": {
        "colab": {
          "base_uri": "https://localhost:8080/"
        },
        "id": "qgNitC0XE6hV",
        "outputId": "a22a8992-e9cb-41d2-9bf2-1fa7389ffc3e"
      },
      "execution_count": 6,
      "outputs": [
        {
          "output_type": "stream",
          "name": "stdout",
          "text": [
            "78.53975\n"
          ]
        }
      ]
    },
    {
      "cell_type": "markdown",
      "source": [
        "### Variables & Naming Conventions\n",
        "Think of a variable as a **labeled box** for storing data. Use **snake_case** (e.g., `user_email`) for variable names in Python."
      ],
      "metadata": {
        "id": "qjdELDCmE-Qi"
      }
    },
    {
      "cell_type": "code",
      "source": [
        "# Pythonic way (snake_case)\n",
        "first_name = \"Guido\"\n",
        "user_email_address = \"guido@python.org\"\n",
        "print(first_name, user_email_address)\n",
        "\n",
        "# Non-Pythonic (camelCase - works but not standard)\n",
        "firstName = \"Guido\"\n",
        "userEmailAddress = \"guido@python.org\"\n",
        "print(firstName, userEmailAddress)"
      ],
      "metadata": {
        "colab": {
          "base_uri": "https://localhost:8080/"
        },
        "id": "ADJh4y-BFEBI",
        "outputId": "a9c84d5c-db7b-4301-dd29-585b79e61820"
      },
      "execution_count": 7,
      "outputs": [
        {
          "output_type": "stream",
          "name": "stdout",
          "text": [
            "Guido guido@python.org\n",
            "Guido guido@python.org\n"
          ]
        }
      ]
    },
    {
      "cell_type": "markdown",
      "source": [
        "### Variable Naming Rules\n",
        "*   Must start with a letter or underscore `_`.\n",
        "*   Cannot contain spaces (use `_`).\n",
        "*   Can only contain letters, numbers, and `_`.\n",
        "*   Names are case-sensitive (`age`, `Age`, `AGE` are different).\n",
        "*   Use meaningful names! (`user_id` is better than `ui`)."
      ],
      "metadata": {
        "id": "9_-1rpN7FI9h"
      }
    },
    {
      "cell_type": "markdown",
      "source": [
        "### Dynamic Typing\n",
        "Python is **dynamically typed**. You don't declare a variable's type. It can even change!"
      ],
      "metadata": {
        "id": "xEUBtEhVFPIO"
      }
    },
    {
      "cell_type": "code",
      "source": [
        "# This is perfectly valid in Python\n",
        "my_variable = 101    # my_variable is an integer\n",
        "print(type(my_variable))\n",
        "\n",
        "my_variable = \"Now I'm a string\" # The same variable now holds a string\n",
        "print(type(my_variable))"
      ],
      "metadata": {
        "colab": {
          "base_uri": "https://localhost:8080/"
        },
        "id": "_V5CE5AYFSgY",
        "outputId": "310feac1-574c-4fe3-a667-4482bf8db3e5"
      },
      "execution_count": 8,
      "outputs": [
        {
          "output_type": "stream",
          "name": "stdout",
          "text": [
            "<class 'int'>\n",
            "<class 'str'>\n"
          ]
        }
      ]
    },
    {
      "cell_type": "markdown",
      "source": [
        "## 2. The Building Blocks - Core Data Types\n",
        "Every piece of data has a \"type\". Check it with the `type()` function."
      ],
      "metadata": {
        "id": "2qAzc4e9FT56"
      }
    },
    {
      "cell_type": "code",
      "source": [
        "my_variable = \"Hello\"\n",
        "print(type(my_variable)) # Output: <class 'str'>"
      ],
      "metadata": {
        "id": "hqajieLJFbxa"
      },
      "execution_count": null,
      "outputs": []
    },
    {
      "cell_type": "markdown",
      "source": [
        "### Numbers: int and float\n",
        "*   **Integers (int):** Whole numbers (e.g., `25`, `-10`).\n",
        "*   **Floats (float):** Numbers with a decimal point (e.g., `19.99`, `3.14159`).\n",
        "*   **Division:**\n",
        "    *   `/` (True Division): Always returns a `float`.\n",
        "    *   `//` (Floor Division): Discards the fractional part."
      ],
      "metadata": {
        "id": "Kn25UibiFctB"
      }
    },
    {
      "cell_type": "code",
      "source": [
        "x = 10\n",
        "y = 3\n",
        "\n",
        "print(\"Addition (x + y):\", x + y)\n",
        "print(\"Subtraction (x - y):\", x - y)\n",
        "print(\"Multiplication (x * y):\", x * y)\n",
        "print(\"True Division (x / y):\", x / y) # Result is a float\n",
        "print(\"Floor Division (x // y):\", x // y) # Drops the decimal\n",
        "print(\"Modulus - Remainder (x % y):\", x % y)\n",
        "print(\"Exponent (x ** y):\", x ** y) # 10 to the power of 3"
      ],
      "metadata": {
        "colab": {
          "base_uri": "https://localhost:8080/"
        },
        "id": "lpJnnqfkFgzo",
        "outputId": "16e2f6e3-d2bf-4da0-c412-82c5c4fb6b26"
      },
      "execution_count": 9,
      "outputs": [
        {
          "output_type": "stream",
          "name": "stdout",
          "text": [
            "Addition (x + y): 13\n",
            "Subtraction (x - y): 7\n",
            "Multiplication (x * y): 30\n",
            "True Division (x / y): 3.3333333333333335\n",
            "Floor Division (x // y): 3\n",
            "Modulus - Remainder (x % y): 1\n",
            "Exponent (x ** y): 1000\n"
          ]
        }
      ]
    },
    {
      "cell_type": "markdown",
      "source": [
        "### 🧠 Exercise: Simple Math\n",
        "1.  Create variables `item_price` and `quantity`. Calculate the `total_cost`.\n",
        "2.  You have 25 slices of pizza and 7 people. Calculate slices per person and leftover slices."
      ],
      "metadata": {
        "id": "zJFINF1hFgCp"
      }
    },
    {
      "cell_type": "code",
      "source": [
        "# Exercise: Simple Math\n",
        "# Your code for item_price and quantity here\n",
        "item_price = 5.0\n",
        "quantity = 3\n",
        "total_cost = item_price * quantity\n",
        "print(\"Total cost:\", total_cost)\n",
        "\n",
        "# Your code for pizza slices here\n",
        "total_slices = 25\n",
        "num_people = 7\n",
        "slices_per_person = total_slices // num_people\n",
        "leftover_slices = total_slices % num_people\n",
        "print(\"Each person gets\", slices_per_person, \"slices.\")\n",
        "print(\"There will be\", leftover_slices, \"leftover slices.\")"
      ],
      "metadata": {
        "colab": {
          "base_uri": "https://localhost:8080/"
        },
        "id": "CX-aNmdEFn2y",
        "outputId": "aa181bb8-2318-4682-9e04-bffe2caa0327"
      },
      "execution_count": 10,
      "outputs": [
        {
          "output_type": "stream",
          "name": "stdout",
          "text": [
            "Total cost: 15.0\n",
            "Each person gets 3 slices.\n",
            "There will be 4 leftover slices.\n"
          ]
        }
      ]
    },
    {
      "cell_type": "markdown",
      "source": [
        "### Text Type: Strings (str)\n",
        "Strings represent text. Use single `'` or double `\"` quotes."
      ],
      "metadata": {
        "id": "G6RSIZpSFslx"
      }
    },
    {
      "cell_type": "code",
      "source": [
        "single_quote_string = 'This is a string.'\n",
        "double_quote_string = \"This is also a string.\"\n",
        "print(single_quote_string)\n",
        "print(double_quote_string)"
      ],
      "metadata": {
        "colab": {
          "base_uri": "https://localhost:8080/"
        },
        "id": "MvQ-AbMyFtoh",
        "outputId": "808909d3-bb7b-4c2f-99ad-92741d2d5dc1"
      },
      "execution_count": 11,
      "outputs": [
        {
          "output_type": "stream",
          "name": "stdout",
          "text": [
            "This is a string.\n",
            "This is also a string.\n"
          ]
        }
      ]
    },
    {
      "cell_type": "markdown",
      "source": [
        "#### String Concatenation\n",
        "\"Add\" strings together with the `+` operator."
      ],
      "metadata": {
        "id": "8iSEgtd0Fwvw"
      }
    },
    {
      "cell_type": "code",
      "source": [
        "first_name = \"Grace\"\n",
        "last_name = \"Hopper\"\n",
        "full_name = first_name + \" \" + last_name # The \" \" adds a space\n",
        "print(full_name)"
      ],
      "metadata": {
        "colab": {
          "base_uri": "https://localhost:8080/"
        },
        "id": "3-8ACL3cFy8K",
        "outputId": "903a8383-c606-4fc0-e7c0-9ff88c266f6a"
      },
      "execution_count": 17,
      "outputs": [
        {
          "output_type": "stream",
          "name": "stdout",
          "text": [
            "Grace Hopper\n"
          ]
        }
      ]
    },
    {
      "cell_type": "markdown",
      "source": [
        "#### F-Strings (Formatted String Literals)\n",
        "The modern, best way to format strings. Prefix your string with `f` and put variables inside `{}`."
      ],
      "metadata": {
        "id": "vvFH8YiuF2DK"
      }
    },
    {
      "cell_type": "code",
      "source": [
        "language = \"Python\"\n",
        "version = 3.9\n",
        "message = f\"I am programming in {language} version {version}.\"\n",
        "print(message)"
      ],
      "metadata": {
        "colab": {
          "base_uri": "https://localhost:8080/"
        },
        "id": "TtqOWW_aF46V",
        "outputId": "bf2ac531-94b9-4bdf-ae27-3676db91cb5d"
      },
      "execution_count": 12,
      "outputs": [
        {
          "output_type": "stream",
          "name": "stdout",
          "text": [
            "I am programming in Python version 3.9.\n"
          ]
        }
      ]
    },
    {
      "cell_type": "markdown",
      "source": [
        "#### 🧠 Exercise: F-String\n",
        "Create variables for your `first_name` and `favorite_language`. Use an f-string to print a sentence."
      ],
      "metadata": {
        "id": "_DpQcvCcGIu7"
      }
    },
    {
      "cell_type": "code",
      "source": [
        "# Exercise: F-String\n",
        "first_name = \"YourName\" # Replace with your name!\n",
        "favorite_language = \"Python\"\n",
        "message = f\"My name is {first_name} and my favorite programming language is {favorite_language}.\"\n",
        "print(message)"
      ],
      "metadata": {
        "colab": {
          "base_uri": "https://localhost:8080/"
        },
        "id": "_rldSpAqGLlr",
        "outputId": "27528d09-e686-4b73-eed8-98321b72d80a"
      },
      "execution_count": 18,
      "outputs": [
        {
          "output_type": "stream",
          "name": "stdout",
          "text": [
            "My name is YourName and my favorite programming language is Python.\n"
          ]
        }
      ]
    },
    {
      "cell_type": "markdown",
      "source": [
        "#### Useful String Methods\n",
        "Strings have built-in functions (methods) like `.strip()` and `.lower()`."
      ],
      "metadata": {
        "id": "GsMt813VGOX0"
      }
    },
    {
      "cell_type": "code",
      "source": [
        "raw_data = \" UserID:12345 \"\n",
        "clean_data = raw_data.strip() # Removes leading/trailing whitespace\n",
        "print(\"|\" + clean_data + \"|\")\n",
        "\n",
        "user_id = clean_data.replace(\"UserID:\", \"\") # Replaces a substring\n",
        "print(user_id)"
      ],
      "metadata": {
        "colab": {
          "base_uri": "https://localhost:8080/"
        },
        "id": "iKCjXgN2GUha",
        "outputId": "84e9cd25-b551-4704-f764-d981b60138fc"
      },
      "execution_count": 19,
      "outputs": [
        {
          "output_type": "stream",
          "name": "stdout",
          "text": [
            "|UserID:12345|\n",
            "12345\n"
          ]
        }
      ]
    },
    {
      "cell_type": "markdown",
      "source": [
        "#### 🧠 Exercise: String Cleaning\n",
        "Given `dirty_string = \"---HELLO, WORLD!--\"`, clean it to get `\"hello, world!\"`.\n",
        "*Hint: Chain `.strip(\"-\").lower()`*"
      ],
      "metadata": {
        "id": "RTNQ1DVRGZ2K"
      }
    },
    {
      "cell_type": "code",
      "source": [
        "# Exercise: String Cleaning\n",
        "dirty_string = \"---HELLO, WORLD!--\"\n",
        "clean_string = dirty_string.strip(\"-\") # First, remove the dashes from the ends\n",
        "clean_string = clean_string.lower()    # Then, make it lowercase\n",
        "print(clean_string)\n",
        "\n",
        "# Advanced: You can also \"chain\" the methods together:\n",
        "clean_string = dirty_string.strip(\"-\").lower()\n",
        "print(clean_string)"
      ],
      "metadata": {
        "colab": {
          "base_uri": "https://localhost:8080/"
        },
        "id": "0dqta2AjGez2",
        "outputId": "05edd795-7396-437d-c8d1-7a9b22419f08"
      },
      "execution_count": 20,
      "outputs": [
        {
          "output_type": "stream",
          "name": "stdout",
          "text": [
            "hello, world!\n",
            "hello, world!\n"
          ]
        }
      ]
    },
    {
      "cell_type": "markdown",
      "source": [
        "### Boolean Type: bool\n",
        "Represents `True` or `False` (note the capitalization). The foundation of decision-making."
      ],
      "metadata": {
        "id": "Ocw1uWqIGuEj"
      }
    },
    {
      "cell_type": "code",
      "source": [
        "x = 10\n",
        "y = 5\n",
        "\n",
        "is_greater = x > y   # is_greater is now True\n",
        "is_equal = (x == y)  # is_equal is now False\n",
        "is_not_equal = (x != y) # is_not_equal is now True\n",
        "\n",
        "print(f\"Is x greater than y? {is_greater}\")\n",
        "print(f\"Is x equal to y? {is_equal}\")\n",
        "print(f\"Is x not equal to y? {is_not_equal}\")"
      ],
      "metadata": {
        "colab": {
          "base_uri": "https://localhost:8080/"
        },
        "id": "oCZsI6bbGsx1",
        "outputId": "058cebd1-27f9-4298-ebfa-e51c3c938287"
      },
      "execution_count": 21,
      "outputs": [
        {
          "output_type": "stream",
          "name": "stdout",
          "text": [
            "Is x greater than y? True\n",
            "Is x equal to y? False\n",
            "Is x not equal to y? True\n"
          ]
        }
      ]
    },
    {
      "cell_type": "markdown",
      "source": [
        "#### Truthy and Falsy Values\n",
        "In conditions, some non-Boolean values are treated as `True` or `False`:\n",
        "*   **Falsy:** `0`, `\"\"` (empty string), `[]` (empty list), `None`.\n",
        "*   **Truthy:** Almost everything else."
      ],
      "metadata": {
        "id": "jcANriLOG08v"
      }
    },
    {
      "cell_type": "code",
      "source": [
        "user_name = input(\"Enter your name (or just press Enter to leave it blank): \")\n",
        "\n",
        "# This works because an empty string is \"Falsy\"\n",
        "if user_name:\n",
        "    print(f\"Welcome, {user_name}!\")\n",
        "else:\n",
        "    print(\"Welcome, guest!\")"
      ],
      "metadata": {
        "colab": {
          "base_uri": "https://localhost:8080/"
        },
        "id": "Hcr4N37AG0tt",
        "outputId": "eec73bd2-f7c4-43bf-d27a-c270143c50c9"
      },
      "execution_count": 22,
      "outputs": [
        {
          "output_type": "stream",
          "name": "stdout",
          "text": [
            "Enter your name (or just press Enter to leave it blank): \n",
            "Welcome, guest!\n"
          ]
        }
      ]
    },
    {
      "cell_type": "markdown",
      "source": [
        "#### 🧠 Exercise: Simple Comparison\n",
        "Create a variable `my_age` and another variable `voting_age = 18`. Print `True` or `False` if `my_age` is old enough to vote."
      ],
      "metadata": {
        "id": "P1IRPzLKG9xL"
      }
    },
    {
      "cell_type": "code",
      "source": [
        "# Exercise: Simple Comparison\n",
        "my_age = 20  # Change this value and run the cell again!\n",
        "voting_age = 18\n",
        "can_vote = my_age >= voting_age\n",
        "print(\"Can I vote?\", can_vote)"
      ],
      "metadata": {
        "colab": {
          "base_uri": "https://localhost:8080/"
        },
        "id": "UlzeyrjcG9im",
        "outputId": "79d04147-f86b-4260-87c8-a64108e11ac9"
      },
      "execution_count": 23,
      "outputs": [
        {
          "output_type": "stream",
          "name": "stdout",
          "text": [
            "Can I vote? True\n"
          ]
        }
      ]
    },
    {
      "cell_type": "markdown",
      "source": [
        "## 3. Putting It All Together"
      ],
      "metadata": {
        "id": "aIT_vgX8HIvW"
      }
    },
    {
      "cell_type": "markdown",
      "source": [
        "### Type Casting\n",
        "Converting between data types. Crucial for user input, as `input()` always returns a string. Use `int()`, `float()`, `str()`."
      ],
      "metadata": {
        "id": "BYbXT1lWHJ3O"
      }
    },
    {
      "cell_type": "code",
      "source": [
        "# --- COMMON ERROR ---\n",
        "current_year = 2025\n",
        "birth_year_str = input(\"What year were you born? \") # e.g., User enters \"1995\"\n",
        "age = current_year - birth_year_str # This causes a TypeError!"
      ],
      "metadata": {
        "colab": {
          "base_uri": "https://localhost:8080/",
          "height": 193
        },
        "id": "M8E7zOliHL3q",
        "outputId": "2b56c509-01b9-46af-c51f-e3c86d585e69"
      },
      "execution_count": 33,
      "outputs": [
        {
          "name": "stdout",
          "output_type": "stream",
          "text": [
            "What year were you born? 67\n"
          ]
        },
        {
          "output_type": "error",
          "ename": "TypeError",
          "evalue": "unsupported operand type(s) for -: 'int' and 'str'",
          "traceback": [
            "\u001b[0;31m---------------------------------------------------------------------------\u001b[0m",
            "\u001b[0;31mTypeError\u001b[0m                                 Traceback (most recent call last)",
            "\u001b[0;32m/tmp/ipython-input-1047777367.py\u001b[0m in \u001b[0;36m<cell line: 0>\u001b[0;34m()\u001b[0m\n\u001b[1;32m      2\u001b[0m \u001b[0mcurrent_year\u001b[0m \u001b[0;34m=\u001b[0m \u001b[0;36m2025\u001b[0m\u001b[0;34m\u001b[0m\u001b[0;34m\u001b[0m\u001b[0m\n\u001b[1;32m      3\u001b[0m \u001b[0mbirth_year_str\u001b[0m \u001b[0;34m=\u001b[0m \u001b[0minput\u001b[0m\u001b[0;34m(\u001b[0m\u001b[0;34m\"What year were you born? \"\u001b[0m\u001b[0;34m)\u001b[0m \u001b[0;31m# e.g., User enters \"1995\"\u001b[0m\u001b[0;34m\u001b[0m\u001b[0;34m\u001b[0m\u001b[0m\n\u001b[0;32m----> 4\u001b[0;31m \u001b[0mage\u001b[0m \u001b[0;34m=\u001b[0m \u001b[0mcurrent_year\u001b[0m \u001b[0;34m-\u001b[0m \u001b[0mbirth_year_str\u001b[0m \u001b[0;31m# This causes a TypeError!\u001b[0m\u001b[0;34m\u001b[0m\u001b[0;34m\u001b[0m\u001b[0m\n\u001b[0m",
            "\u001b[0;31mTypeError\u001b[0m: unsupported operand type(s) for -: 'int' and 'str'"
          ]
        }
      ]
    },
    {
      "cell_type": "code",
      "source": [
        "# --- CORRECTED CODE ---\n",
        "birth_year_int = int(birth_year_str) # Cast string to integer\n",
        "age = current_year - birth_year_int\n",
        "print(f\"You are approximately {age} years old.\")"
      ],
      "metadata": {
        "colab": {
          "base_uri": "https://localhost:8080/"
        },
        "id": "YzrujWeGHX0Q",
        "outputId": "16e49926-dd0c-4ef7-a68c-2ebb7caeec52"
      },
      "execution_count": 34,
      "outputs": [
        {
          "output_type": "stream",
          "name": "stdout",
          "text": [
            "You are approximately 1958 years old.\n"
          ]
        }
      ]
    },
    {
      "cell_type": "markdown",
      "source": [
        "#### 🧠 Exercise: Fix the Bug (Type Casting)\n",
        "Fix the code below by casting `item_price_str` to a float."
      ],
      "metadata": {
        "id": "v7OCZ0IyHyw_"
      }
    },
    {
      "cell_type": "code",
      "source": [
        "# Exercise: Fix the Bug\n",
        "item_price_str = \"19.99\"\n",
        "tax_rate = 0.07\n",
        "\n",
        "# Add your fix here!\n",
        "item_price_float = float(item_price_str) # Convert the string to a float\n",
        "total_price = item_price_float * (1 + tax_rate)\n",
        "\n",
        "print(f\"Total price: ${total_price:.2f}\") # :.2f formats to 2 decimal places"
      ],
      "metadata": {
        "colab": {
          "base_uri": "https://localhost:8080/"
        },
        "id": "-D9cTAwsHzj9",
        "outputId": "cd7b5036-dd24-42d1-c784-6f5bb768f13f"
      },
      "execution_count": 35,
      "outputs": [
        {
          "output_type": "stream",
          "name": "stdout",
          "text": [
            "Total price: $21.39\n"
          ]
        }
      ]
    },
    {
      "cell_type": "markdown",
      "source": [
        "## 🧪 Hands-On Lab Exercises\n",
        "Time to combine everything you've learned!"
      ],
      "metadata": {
        "id": "KcaVkd8yH7_i"
      }
    },
    {
      "cell_type": "markdown",
      "source": [
        "### Exercise 1: Personal Bio Creator\n",
        "Create variables for your name (string), age (integer), city (string), and is_learning_python (boolean). Use a single multi-line f-string to print a formatted biography."
      ],
      "metadata": {
        "id": "gau3jYyiIDAv"
      }
    },
    {
      "cell_type": "code",
      "source": [
        "# Exercise 1: Personal Bio Creator\n",
        "name = \"Alice\"\n",
        "age = 30\n",
        "city = \"Wonderland\"\n",
        "is_learning_python = True\n",
        "\n",
        "bio = f\"\"\"\n",
        "Name: {name}\n",
        "Age: {age}\n",
        "City: {city}\n",
        "Currently learning Python: {is_learning_python}\n",
        "\"\"\"\n",
        "print(bio)"
      ],
      "metadata": {
        "colab": {
          "base_uri": "https://localhost:8080/"
        },
        "id": "hKlnj7nIIFhN",
        "outputId": "aef25f0c-ba48-4069-d0da-e419abb1782a"
      },
      "execution_count": 37,
      "outputs": [
        {
          "output_type": "stream",
          "name": "stdout",
          "text": [
            "\n",
            "Name: Alice\n",
            "Age: 30\n",
            "City: Wonderland\n",
            "Currently learning Python: True\n",
            "\n"
          ]
        }
      ]
    },
    {
      "cell_type": "markdown",
      "source": [
        "### Exercise 2: Interactive Tip Calculator\n",
        "1.  Ask the user for the `bill_total`.\n",
        "2.  Ask for the `tip_percentage` (e.g., 15, 18, 20).\n",
        "3.  Cast inputs to correct types (`float` for bill, `int` for tip).\n",
        "4.  Calculate the `tip_amount` and `grand_total`.\n",
        "5.  Print a formatted summary."
      ],
      "metadata": {
        "id": "6NirNiAkIKcz"
      }
    },
    {
      "cell_type": "code",
      "source": [
        "# Exercise 2: Interactive Tip Calculator\n",
        "bill_total_str = input(\"Enter the total bill amount: $\")\n",
        "tip_percentage_str = input(\"Enter the tip percentage you want to leave (e.g., 15 for 15%): \")\n",
        "\n",
        "# Cast inputs to numbers\n",
        "bill_total = float(bill_total_str)\n",
        "tip_percentage = int(tip_percentage_str)\n",
        "\n",
        "# Calculations\n",
        "tip_decimal = tip_percentage / 100\n",
        "tip_amount = bill_total * tip_decimal\n",
        "grand_total = bill_total + tip_amount\n",
        "\n",
        "# Print summary\n",
        "print(f\"\\nFor a bill of ${bill_total:.2f}, a {tip_percentage}% tip is ${tip_amount:.2f}, for a grand total of ${grand_total:.2f}.\")"
      ],
      "metadata": {
        "colab": {
          "base_uri": "https://localhost:8080/"
        },
        "id": "n89HJYnZILoG",
        "outputId": "5678ef58-72e6-4203-8b29-e68a694722c8"
      },
      "execution_count": 38,
      "outputs": [
        {
          "output_type": "stream",
          "name": "stdout",
          "text": [
            "Enter the total bill amount: $67\n",
            "Enter the tip percentage you want to leave (e.g., 15 for 15%): 12\n",
            "\n",
            "For a bill of $67.00, a 12% tip is $8.04, for a grand total of $75.04.\n"
          ]
        }
      ]
    },
    {
      "cell_type": "markdown",
      "source": [
        "### Exercise 3: String Manipulation & Parsing\n",
        "You are given a string: `log_entry = \"INFO:2025-08-18:User 'admin' logged in successfully.\"`\n",
        "Your task is to extract the date, the username, and the message using string methods like `.split()`."
      ],
      "metadata": {
        "id": "7QhnS-rqIV53"
      }
    },
    {
      "cell_type": "code",
      "source": [
        "# Exercise 3: String Manipulation & Parsing\n",
        "log_entry = \"INFO:2025-08-18:User 'admin' logged in successfully.\"\n",
        "\n",
        "# Split the string by colons (:)\n",
        "parts = log_entry.split(':')\n",
        "print(\"Split parts:\", parts)\n",
        "\n",
        "# Extract the date (second part)\n",
        "date = parts[1]\n",
        "print(\"Date:\", date)\n",
        "\n",
        "# The third part contains the user and message. Let's split it by space.\n",
        "third_part = parts[2]\n",
        "# Find the username between the quotes\n",
        "username_start = third_part.find(\"'\") + 1\n",
        "username_end = third_part.find(\"'\", username_start)\n",
        "username = third_part[username_start:username_end]\n",
        "print(\"Username:\", username)\n",
        "\n",
        "# The message is the rest of the string. Use slicing.\n",
        "message = third_part[username_end+2:] # +2 to skip the quote and space\n",
        "print(\"Message:\", message)\n",
        "\n",
        "# More advanced method using .split() again:\n",
        "user_and_message = parts[2].split()\n",
        "username_advanced = user_and_message[1].strip(\"'\") # Get the second word, remove quotes\n",
        "message_advanced = ' '.join(user_and_message[2:])   # Join words from the 3rd onwards\n",
        "print(\"\\n(Advanced Method) Username:\", username_advanced)\n",
        "print(\"(Advanced Method) Message:\", message_advanced)"
      ],
      "metadata": {
        "colab": {
          "base_uri": "https://localhost:8080/"
        },
        "id": "CzmaUhi-IW2g",
        "outputId": "050a3453-35d3-4082-8e80-f2183b7dea5a"
      },
      "execution_count": 39,
      "outputs": [
        {
          "output_type": "stream",
          "name": "stdout",
          "text": [
            "Split parts: ['INFO', '2025-08-18', \"User 'admin' logged in successfully.\"]\n",
            "Date: 2025-08-18\n",
            "Username: admin\n",
            "Message: logged in successfully.\n",
            "\n",
            "(Advanced Method) Username: admin\n",
            "(Advanced Method) Message: logged in successfully.\n"
          ]
        }
      ]
    },
    {
      "cell_type": "markdown",
      "source": [
        "### Exercise 4 (Challenge): Simple Vending Machine Logic\n",
        "1.  Create a variable `balance = 2.00`.\n",
        "2.  Create a variable `item_price = 1.50`.\n",
        "3.  Ask the user if they are a student (\"yes\" or \"no\").\n",
        "4.  Apply a 10% discount if the user is a student.\n",
        "5.  Determine if their balance is sufficient.\n",
        "6.  Print `True` or `False` for the variable `can_purchase`."
      ],
      "metadata": {
        "id": "l_qWAqkAIgoU"
      }
    },
    {
      "cell_type": "code",
      "source": [
        "# Exercise 4 (Challenge): Simple Vending Machine Logic\n",
        "balance = 2.00\n",
        "item_price = 1.50\n",
        "\n",
        "is_student_str = input(\"Are you a student? (yes/no): \").lower().strip() # Make input lowercase and remove spaces\n",
        "\n",
        "# Check if the answer is \"yes\" - this is a case-insensitive check\n",
        "if is_student_str == 'yes':\n",
        "    discount = 0.10\n",
        "    item_price = item_price * (1 - discount) # Apply 10% discount\n",
        "    print(f\"Student discount applied! New price: ${item_price:.2f}\")\n",
        "\n",
        "# Check if they can afford the (potentially discounted) item\n",
        "can_purchase = balance >= item_price\n",
        "\n",
        "print(\"Can make purchase?\", can_purchase)"
      ],
      "metadata": {
        "colab": {
          "base_uri": "https://localhost:8080/"
        },
        "id": "YNHZkJrRIj_Y",
        "outputId": "c880fbb6-359e-4de5-edf3-93628a105782"
      },
      "execution_count": 40,
      "outputs": [
        {
          "output_type": "stream",
          "name": "stdout",
          "text": [
            "Are you a student? (yes/no): yes\n",
            "Student discount applied! New price: $1.35\n",
            "Can make purchase? True\n"
          ]
        }
      ]
    },
    {
      "cell_type": "markdown",
      "source": [],
      "metadata": {
        "id": "b6lo8XjRIpnu"
      }
    }
  ]
}