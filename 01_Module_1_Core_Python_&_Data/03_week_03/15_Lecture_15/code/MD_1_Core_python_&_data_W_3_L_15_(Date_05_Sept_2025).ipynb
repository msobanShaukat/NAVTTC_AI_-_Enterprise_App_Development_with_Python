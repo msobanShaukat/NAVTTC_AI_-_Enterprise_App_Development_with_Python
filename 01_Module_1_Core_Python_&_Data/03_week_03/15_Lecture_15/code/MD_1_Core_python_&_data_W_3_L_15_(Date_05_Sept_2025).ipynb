{
  "nbformat": 4,
  "nbformat_minor": 0,
  "metadata": {
    "colab": {
      "provenance": []
    },
    "kernelspec": {
      "name": "python3",
      "display_name": "Python 3"
    },
    "language_info": {
      "name": "python"
    }
  },
  "cells": [
    {
      "cell_type": "markdown",
      "source": [
        "###🗄️ Module 1: Core Python & Data - Week 3 Lecture 15\n",
        "**Date**: 05/09/2025.\n",
        "\n",
        "**Documented By**: Muhammad Soban Shaukat\n",
        "\n",
        "🔗 **Beyond Basics:** SQL Joins and Aggregation\n",
        "Welcome to Lecture 15! In our previous session, we learned the fundamentals of SQL and relational databases. Today, we'll dive deeper into one of the most powerful features of SQL: JOIN operations and data aggregation. These concepts allow us to combine data from multiple tables and generate meaningful insights from our data."
      ],
      "metadata": {
        "id": "vlfbugfVLevf"
      }
    },
    {
      "cell_type": "code",
      "execution_count": null,
      "metadata": {
        "id": "PO9Ie-fbLPZo"
      },
      "outputs": [],
      "source": [
        "# Setup: Import necessary libraries and create a sample database\n",
        "import sqlite3\n",
        "import pandas as pd\n",
        "\n",
        "# Create an in-memory SQLite database\n",
        "conn = sqlite3.connect(':memory:')\n",
        "cursor = conn.cursor()\n",
        "\n",
        "# Create sample tables\n",
        "cursor.executescript('''\n",
        "CREATE TABLE Suppliers (\n",
        "    SupplierID INTEGER PRIMARY KEY,\n",
        "    SupplierName TEXT,\n",
        "    Country TEXT\n",
        ");\n",
        "\n",
        "CREATE TABLE Products (\n",
        "    ProductID INTEGER PRIMARY KEY,\n",
        "    ProductName TEXT,\n",
        "    Price REAL,\n",
        "    SupplierID INTEGER,\n",
        "    FOREIGN KEY (SupplierID) REFERENCES Suppliers(SupplierID)\n",
        ");\n",
        "\n",
        "CREATE TABLE Customers (\n",
        "    CustomerID INTEGER PRIMARY KEY,\n",
        "    CustomerName TEXT,\n",
        "    City TEXT,\n",
        "    Country TEXT\n",
        ");\n",
        "\n",
        "CREATE TABLE Orders (\n",
        "    OrderID INTEGER PRIMARY KEY,\n",
        "    CustomerID INTEGER,\n",
        "    OrderDate TEXT,\n",
        "    FOREIGN KEY (CustomerID) REFERENCES Customers(CustomerID)\n",
        ");\n",
        "''')\n",
        "\n",
        "# Insert sample data\n",
        "cursor.executescript('''\n",
        "INSERT INTO Suppliers VALUES\n",
        "(1, 'Exotic Liquids', 'UK'),\n",
        "(2, 'New Orleans Cajun Delights', 'USA'),\n",
        "(3, 'Grandma Kelly''s Homestead', 'USA'),\n",
        "(4, 'Tokyo Traders', 'Japan'),\n",
        "(5, 'Cooperativa de Quesos ''Las Cabras''', 'Spain'),\n",
        "(6, 'Inactive Supplier', 'France');  -- Supplier with no products\n",
        "\n",
        "INSERT INTO Products VALUES\n",
        "(1, 'Chai', 18.00, 1),\n",
        "(2, 'Chang', 19.00, 1),\n",
        "(3, 'Aniseed Syrup', 10.00, 1),\n",
        "(4, 'Chef Anton''s Cajun Seasoning', 22.00, 2),\n",
        "(5, 'Chef Anton''s Gumbo Mix', 21.35, 2),\n",
        "(6, 'Grandma''s Boysenberry Spread', 25.00, 3),\n",
        "(7, 'Uncle Bob''s Organic Dried Pears', 30.00, NULL),  -- Product with no supplier\n",
        "(8, 'Northwoods Cranberry Sauce', 40.00, 3);\n",
        "\n",
        "INSERT INTO Customers VALUES\n",
        "(1, 'Alfreds Futterkiste', 'Berlin', 'Germany'),\n",
        "(2, 'Ana Trujillo', 'México D.F.', 'Mexico'),\n",
        "(3, 'Antonio Moreno', 'México D.F.', 'Mexico'),\n",
        "(4, 'Around the Horn', 'London', 'UK'),\n",
        "(5, 'Berglunds snabbköp', 'Luleå', 'Sweden');\n",
        "\n",
        "INSERT INTO Orders VALUES\n",
        "(101, 1, '2025-09-01'),\n",
        "(102, 2, '2025-09-02'),\n",
        "(103, 1, '2025-09-03'),\n",
        "(104, 3, '2025-09-04'),\n",
        "(105, 1, '2025-09-05');\n",
        "''')\n",
        "\n",
        "conn.commit()\n",
        "\n",
        "print(\"✅ Sample database created with:\")\n",
        "print(\"   - Suppliers table (6 records)\")\n",
        "print(\"   - Products table (8 records)\")\n",
        "print(\"   - Customers table (5 records)\")\n",
        "print(\"   - Orders table (5 records)\")"
      ]
    },
    {
      "cell_type": "markdown",
      "source": [
        ")\n",
        "📋 Today's Agenda\n",
        "🤔 The \"Why\" - The Problem with Separate Data\n",
        "\n",
        "The Warehouse Manager's Dilemma\n",
        "\n",
        "🔗 Core Concepts of Joining Tables\n",
        "\n",
        "Understanding Table Aliases\n",
        "\n",
        "INNER JOIN: Finding Perfect Matches\n",
        "\n",
        "LEFT JOIN: Finding What's Missing\n",
        "\n",
        "RIGHT JOIN: The Opposite View\n",
        "\n",
        "FULL JOIN: The Complete Audit\n",
        "\n",
        "📊 Exploring Aggregation\n",
        "\n",
        "GROUP BY & HAVING clauses\n",
        "\n",
        "🧪 Putting It All Together & Hands-On Lab\n",
        "\n"
      ],
      "metadata": {
        "id": "uB-i-MhlMWv9"
      }
    },
    {
      "cell_type": "markdown",
      "source": [
        "1. 🤔 The \"Why\" - The Problem with Separate Data\n",
        "📊 The Warehouse Manager's Dilemma\n",
        "Imagine you're managing a warehouse with two separate record systems:\n",
        "\n",
        "A clipboard with product names and supplier IDs\n",
        "\n",
        "A massive binder with supplier details\n",
        "\n",
        "To find who supplies \"Chai Tea,\" you'd need to:\n",
        "\n",
        "Find the product on your clipboard and note its SupplierID\n",
        "\n",
        "Flip through the entire binder to find the supplier with that ID\n",
        "\n",
        "This process is slow, inefficient, and prone to error!\n",
        "\n"
      ],
      "metadata": {
        "id": "tO584mBBMarY"
      }
    },
    {
      "cell_type": "code",
      "source": [
        "# Demonstrate the inefficient approach\n",
        "print(\"📋 PRODUCTS CLIPBOARD:\")\n",
        "products_clipboard = [\n",
        "    {\"ProductName\": \"Chai\", \"SupplierID\": 1},\n",
        "    {\"ProductName\": \"Chang\", \"SupplierID\": 1},\n",
        "    {\"ProductName\": \"Aniseed Syrup\", \"SupplierID\": 1}\n",
        "]\n",
        "\n",
        "print(f\"{'Product':<20} {'SupplierID':<12}\")\n",
        "print(\"-\" * 32)\n",
        "for product in products_clipboard:\n",
        "    print(f\"{product['ProductName']:<20} {product['SupplierID']:<12}\")\n",
        "\n",
        "print(\"\\n📚 SUPPLIERS BINDER:\")\n",
        "suppliers_binder = [\n",
        "    {\"SupplierID\": 1, \"SupplierName\": \"Exotic Liquids\", \"Phone\": \"123-456-7890\"},\n",
        "    {\"SupplierID\": 2, \"SupplierName\": \"New Orleans Cajun Delights\", \"Phone\": \"234-567-8901\"},\n",
        "    {\"SupplierID\": 3, \"SupplierName\": \"Grandma Kelly's Homestead\", \"Phone\": \"345-678-9012\"}\n",
        "]\n",
        "\n",
        "print(f\"{'SupplierID':<12} {'SupplierName':<30} {'Phone':<15}\")\n",
        "print(\"-\" * 57)\n",
        "for supplier in suppliers_binder:\n",
        "    print(f\"{supplier['SupplierID']:<12} {supplier['SupplierName']:<30} {supplier['Phone']:<15}\")\n",
        "\n",
        "print(\"\\n🔍 MANUAL LOOKUP PROCESS:\")\n",
        "print(\"1. Find 'Chai' on clipboard → SupplierID: 1\")\n",
        "print(\"2. Search binder for SupplierID 1 → Exotic Liquids\")\n",
        "print(\"3. Contact: 123-456-7890\")\n",
        "print(\"\\n❌ This process is SLOW and ERROR-PRONE!\")"
      ],
      "metadata": {
        "id": "Zg3SBubnMb9v"
      },
      "execution_count": null,
      "outputs": []
    },
    {
      "cell_type": "markdown",
      "source": [
        "2. 🔗 Core Concepts of Joining Tables\n",
        "🏗️ The Relational Solution: SQL JOINS\n",
        "SQL JOINs are the efficient solution to the warehouse manager's dilemma. They allow us to combine data from multiple tables in a single query."
      ],
      "metadata": {
        "id": "idbbNrQvMf0P"
      }
    },
    {
      "cell_type": "code",
      "source": [
        "# Show the power of JOINs\n",
        "print(\"💪 THE POWER OF SQL JOINS\")\n",
        "print(\"=\" * 25)\n",
        "\n",
        "# INNER JOIN example\n",
        "query = '''\n",
        "SELECT P.ProductName, S.SupplierName, S.Country\n",
        "FROM Products P\n",
        "INNER JOIN Suppliers S ON P.SupplierID = S.SupplierID\n",
        "WHERE P.ProductName = 'Chai'\n",
        "'''\n",
        "\n",
        "result = pd.read_sql_query(query, conn)\n",
        "print(\"🔍 FINDING SUPPLIER FOR 'CHAI':\")\n",
        "print(result.to_string(index=False))\n",
        "print(\"\\n✅ Single query gives us all the information we need!\")"
      ],
      "metadata": {
        "id": "e_SoNpKhMgW9"
      },
      "execution_count": null,
      "outputs": []
    },
    {
      "cell_type": "markdown",
      "source": [
        "📛 Understanding Table Aliases\n",
        "Table aliases (like P for Products, S for Suppliers) make queries shorter and more readable. They're essential when joining tables with columns of the same name."
      ],
      "metadata": {
        "id": "JMA-1KYRMiTx"
      }
    },
    {
      "cell_type": "code",
      "source": [
        "# Demonstrate table aliases\n",
        "print(\"📛 TABLE ALIASES EXPLAINED\")\n",
        "print(\"=\" * 30)\n",
        "\n",
        "print(\"WITHOUT ALIASES (verbose):\")\n",
        "print(\"SELECT Products.ProductName, Suppliers.SupplierName\")\n",
        "print(\"FROM Products\")\n",
        "print(\"INNER JOIN Suppliers ON Products.SupplierID = Suppliers.SupplierID\")\n",
        "print()\n",
        "print(\"WITH ALIASES (concise):\")\n",
        "print(\"SELECT P.ProductName, S.SupplierName\")\n",
        "print(\"FROM Products P\")\n",
        "print(\"INNER JOIN Suppliers S ON P.SupplierID = S.SupplierID\")\n",
        "print()\n",
        "print(\"✅ Aliases make queries shorter and easier to read!\")"
      ],
      "metadata": {
        "id": "cAdRZA1sMk4J"
      },
      "execution_count": null,
      "outputs": []
    },
    {
      "cell_type": "markdown",
      "source": [
        "3. 🔗 INNER JOIN: Finding Perfect Matches\n",
        "📊 What is an INNER JOIN?\n",
        "The INNER JOIN returns only the rows where there's a match in both tables. It's like finding the intersection of two datasets."
      ],
      "metadata": {
        "id": "yFj9BaK8Mmaz"
      }
    },
    {
      "cell_type": "code",
      "source": [
        "# INNER JOIN example\n",
        "print(\"🔗 INNER JOIN: PERFECT MATCHES\")\n",
        "print(\"=\" * 35)\n",
        "\n",
        "inner_join_query = '''\n",
        "SELECT P.ProductName, S.SupplierName, S.Country\n",
        "FROM Products P\n",
        "INNER JOIN Suppliers S ON P.SupplierID = S.SupplierID\n",
        "'''\n",
        "\n",
        "inner_join_result = pd.read_sql_query(inner_join_query, conn)\n",
        "print(inner_join_result.to_string(index=False))\n",
        "print(f\"\\n📊 Total matches found: {len(inner_join_result)}\")\n",
        "print(\"✅ Only shows products that have valid suppliers!\")"
      ],
      "metadata": {
        "id": "rJvQ7UMXMpF_"
      },
      "execution_count": null,
      "outputs": []
    },
    {
      "cell_type": "markdown",
      "source": [
        "4. 🔗 LEFT JOIN: Finding What's Missing\n",
        "📊 What is a LEFT JOIN?\n",
        "A LEFT JOIN returns all rows from the left table (first table), and only the matched rows from the right table. If there's no match, the result is NULL on the right side."
      ],
      "metadata": {
        "id": "7LhSuaJdMr4z"
      }
    },
    {
      "cell_type": "code",
      "source": [
        "# LEFT JOIN example\n",
        "print(\"🔗 LEFT JOIN: FINDING WHAT'S MISSING\")\n",
        "print(\"=\" * 40)\n",
        "\n",
        "left_join_query = '''\n",
        "SELECT S.SupplierName, P.ProductName\n",
        "FROM Suppliers S\n",
        "LEFT JOIN Products P ON S.SupplierID = P.SupplierID\n",
        "'''\n",
        "\n",
        "left_join_result = pd.read_sql_query(left_join_query, conn)\n",
        "print(left_join_result.to_string(index=False))\n",
        "print(f\"\\n📊 Total suppliers: {len(left_join_result)}\")\n",
        "\n",
        "# Find inactive suppliers (those with no products)\n",
        "inactive_suppliers = left_join_result[left_join_result['ProductName'].isnull()]\n",
        "print(f\"🚫 Inactive suppliers: {len(inactive_suppliers)}\")\n",
        "print(inactive_suppliers[['SupplierName']].to_string(index=False))"
      ],
      "metadata": {
        "id": "pb0u9wEzMtUO"
      },
      "execution_count": null,
      "outputs": []
    },
    {
      "cell_type": "markdown",
      "source": [
        "5. 🔗 RIGHT JOIN: The Opposite View\n",
        "📊 What is a RIGHT JOIN?\n",
        "A RIGHT JOIN returns all rows from the right table (second table), and only the matched rows from the left table. It's the mirror opposite of a LEFT JOIN.\n",
        "\n",
        "Note: SQLite doesn't support RIGHT JOIN natively, but we can simulate it."
      ],
      "metadata": {
        "id": "Nl4Y1DCPMvkN"
      }
    },
    {
      "cell_type": "code",
      "source": [
        "# Simulating RIGHT JOIN in SQLite\n",
        "print(\"🔗 RIGHT JOIN: THE OPPOSITE VIEW (Simulated)\")\n",
        "print(\"=\" * 50)\n",
        "\n",
        "right_join_query = '''\n",
        "SELECT P.ProductName, S.SupplierName\n",
        "FROM Products P\n",
        "LEFT JOIN Suppliers S ON P.SupplierID = S.SupplierID\n",
        "'''\n",
        "\n",
        "right_join_result = pd.read_sql_query(right_join_query, conn)\n",
        "print(right_join_result.to_string(index=False))\n",
        "print(f\"\\n📊 Total products: {len(right_join_result)}\")\n",
        "\n",
        "# Find products with no supplier\n",
        "orphan_products = right_join_result[right_join_result['SupplierName'].isnull()]\n",
        "print(f\"❌ Products with no supplier: {len(orphan_products)}\")\n",
        "print(orphan_products[['ProductName']].to_string(index=False))"
      ],
      "metadata": {
        "id": "9v4QsIsnMwD2"
      },
      "execution_count": null,
      "outputs": []
    },
    {
      "cell_type": "markdown",
      "source": [
        "6. 🔗 FULL JOIN: The Complete Audit\n",
        "📊 What is a FULL JOIN?\n",
        "A FULL JOIN (or FULL OUTER JOIN) combines LEFT and RIGHT JOINs. It returns all rows from both tables, matching them where possible. If there's no match, the columns from the other table will be NULL.\n",
        "\n",
        "Note: SQLite doesn't support FULL JOIN natively, but we can simulate it."
      ],
      "metadata": {
        "id": "II2uJZLXM1aR"
      }
    },
    {
      "cell_type": "code",
      "source": [
        "# Simulating FULL JOIN in SQLite\n",
        "print(\"🔗 FULL JOIN: COMPLETE DATA AUDIT (Simulated)\")\n",
        "print(\"=\" * 55)\n",
        "\n",
        "full_join_query = '''\n",
        "-- Part 1: Suppliers and their products (LEFT JOIN)\n",
        "SELECT S.SupplierName, P.ProductName\n",
        "FROM Suppliers S\n",
        "LEFT JOIN Products P ON S.SupplierID = P.SupplierID\n",
        "\n",
        "UNION\n",
        "\n",
        "-- Part 2: Products with no supplier (RIGHT JOIN part)\n",
        "SELECT S.SupplierName, P.ProductName\n",
        "FROM Products P\n",
        "LEFT JOIN Suppliers S ON P.SupplierID = S.SupplierID\n",
        "WHERE S.SupplierID IS NULL\n",
        "'''\n",
        "\n",
        "full_join_result = pd.read_sql_query(full_join_query, conn)\n",
        "print(full_join_result.to_string(index=False))\n",
        "print(f\"\\n📊 Total records: {len(full_join_result)}\")\n",
        "\n",
        "# Analyze the results\n",
        "suppliers_with_products = full_join_result[full_join_result['ProductName'].notnull() & full_join_result['SupplierName'].notnull()]\n",
        "inactive_suppliers = full_join_result[full_join_result['ProductName'].isnull()]\n",
        "orphan_products = full_join_result[full_join_result['SupplierName'].isnull()]\n",
        "\n",
        "print(f\"✅ Suppliers with products: {len(suppliers_with_products)}\")\n",
        "print(f\"🚫 Inactive suppliers: {len(inactive_suppliers)}\")\n",
        "print(f\"❌ Orphan products: {len(orphan_products)}\")"
      ],
      "metadata": {
        "id": "7OMrwkSeM2IJ"
      },
      "execution_count": null,
      "outputs": []
    },
    {
      "cell_type": "markdown",
      "source": [
        "7. 📊 Exploring Aggregation\n",
        "🎯 The Need for Aggregation\n",
        "While JOINs help us combine detailed data, aggregation helps us see the big picture by summarizing data."
      ],
      "metadata": {
        "id": "F3YK4XDhM5lx"
      }
    },
    {
      "cell_type": "code",
      "source": [
        "# Demonstrate the need for aggregation\n",
        "print(\"📊 THE NEED FOR AGGREGATION\")\n",
        "print(\"=\" * 30)\n",
        "\n",
        "# Show raw orders data\n",
        "orders_query = \"SELECT * FROM Orders\"\n",
        "orders_result = pd.read_sql_query(orders_query, conn)\n",
        "print(\"📋 RAW ORDERS DATA:\")\n",
        "print(orders_result.to_string(index=False))\n",
        "\n",
        "print(\"\\n🤔 BUSINESS QUESTIONS:\")\n",
        "print(\"   - How many orders per customer?\")\n",
        "print(\"   - Which customers order the most?\")\n",
        "print(\"   - Who are our most valuable customers?\")"
      ],
      "metadata": {
        "id": "ObowL6M-M6Ig"
      },
      "execution_count": null,
      "outputs": []
    },
    {
      "cell_type": "markdown",
      "source": [
        "📊 GROUP BY Clause\n",
        "The GROUP BY clause groups rows that have the same values into summary rows. It's used with aggregate functions like COUNT(), SUM(), AVG(), MAX(), MIN()."
      ],
      "metadata": {
        "id": "yumgVjpdM9Fs"
      }
    },
    {
      "cell_type": "code",
      "source": [
        "# GROUP BY example\n",
        "print(\"📊 GROUP BY: SUMMARIZING DATA\")\n",
        "print(\"=\" * 35)\n",
        "\n",
        "group_by_query = '''\n",
        "SELECT C.CustomerName, COUNT(O.OrderID) AS NumberOfOrders\n",
        "FROM Customers C\n",
        "LEFT JOIN Orders O ON C.CustomerID = O.CustomerID\n",
        "GROUP BY C.CustomerName\n",
        "'''\n",
        "\n",
        "group_by_result = pd.read_sql_query(group_by_query, conn)\n",
        "print(group_by_result.to_string(index=False))\n",
        "print(\"\\n✅ Shows order count for each customer!\")"
      ],
      "metadata": {
        "id": "DFL6zEDrM83U"
      },
      "execution_count": null,
      "outputs": []
    },
    {
      "cell_type": "markdown",
      "source": [
        "📊 HAVING Clause\n",
        "The HAVING clause filters the results of a GROUP BY based on the aggregate function's result. WHERE filters rows before grouping; HAVING filters groups after grouping."
      ],
      "metadata": {
        "id": "XXigYkOINCmh"
      }
    },
    {
      "cell_type": "code",
      "source": [
        "# HAVING example\n",
        "print(\"📊 HAVING: FILTERING GROUPED RESULTS\")\n",
        "print(\"=\" * 45)\n",
        "\n",
        "having_query = '''\n",
        "SELECT C.CustomerName, COUNT(O.OrderID) AS NumberOfOrders\n",
        "FROM Customers C\n",
        "LEFT JOIN Orders O ON C.CustomerID = O.CustomerID\n",
        "GROUP BY C.CustomerName\n",
        "HAVING COUNT(O.OrderID) > 1\n",
        "'''\n",
        "\n",
        "having_result = pd.read_sql_query(having_query, conn)\n",
        "print(having_result.to_string(index=False))\n",
        "print(\"\\n✅ Shows only customers with more than 1 order!\")"
      ],
      "metadata": {
        "id": "IAi0kV26NDhM"
      },
      "execution_count": null,
      "outputs": []
    },
    {
      "cell_type": "markdown",
      "source": [
        "8. 🧪 Hands-On Lab: Advanced Queries\n",
        "🎯 Practice Exercises\n",
        "Let's apply what we've learned with some practical exercises."
      ],
      "metadata": {
        "id": "2TXZXPjtNICC"
      }
    },
    {
      "cell_type": "code",
      "source": [
        "print(\"🧪 HANDS-ON LAB: ADVANCED QUERIES\")\n",
        "print(\"=\" * 40)"
      ],
      "metadata": {
        "id": "pEydHaPhNJh9"
      },
      "execution_count": null,
      "outputs": []
    },
    {
      "cell_type": "markdown",
      "source": [
        "Exercise 1: Find products from a specific supplier"
      ],
      "metadata": {
        "id": "nlDj4YFzNTxH"
      }
    },
    {
      "cell_type": "code",
      "source": [
        "# Exercise 1: Products from 'Exotic Liquids'\n",
        "print(\"1. 🔍 Find all products supplied by 'Exotic Liquids'\")\n",
        "print(\"=\" * 55)\n",
        "\n",
        "exotic_query = '''\n",
        "SELECT P.ProductName, P.Price\n",
        "FROM Products P\n",
        "INNER JOIN Suppliers S ON P.SupplierID = S.SupplierID\n",
        "WHERE S.SupplierName = 'Exotic Liquids'\n",
        "'''\n",
        "\n",
        "exotic_result = pd.read_sql_query(exotic_query, conn)\n",
        "print(exotic_result.to_string(index=False))\n",
        "print(f\"\\n✅ Found {len(exotic_result)} products from Exotic Liquids\")"
      ],
      "metadata": {
        "id": "5othIO1qNUXG"
      },
      "execution_count": null,
      "outputs": []
    },
    {
      "cell_type": "markdown",
      "source": [
        "Exercise 2: Count products per supplier"
      ],
      "metadata": {
        "id": "J8D5joTmNXsA"
      }
    },
    {
      "cell_type": "code",
      "source": [
        "# Exercise 2: Products count per supplier\n",
        "print(\"\\n2. 📊 Count how many products each supplier provides\")\n",
        "print(\"=\" * 60)\n",
        "\n",
        "count_query = '''\n",
        "SELECT S.SupplierName, COUNT(P.ProductID) AS NumberOfProducts\n",
        "FROM Suppliers S\n",
        "LEFT JOIN Products P ON S.SupplierID = P.SupplierID\n",
        "GROUP BY S.SupplierName\n",
        "'''\n",
        "\n",
        "count_result = pd.read_sql_query(count_query, conn)\n",
        "print(count_result.to_string(index=False))"
      ],
      "metadata": {
        "id": "m0EFr7L2NZf9"
      },
      "execution_count": null,
      "outputs": []
    },
    {
      "cell_type": "markdown",
      "source": [
        "Exercise 3: Suppliers with more than 2 products"
      ],
      "metadata": {
        "id": "qjG_K7XwNaop"
      }
    },
    {
      "cell_type": "code",
      "source": [
        "# Exercise 3: Suppliers with more than 2 products\n",
        "print(\"\\n3. 🏆 Find suppliers who provide more than 2 products\")\n",
        "print(\"=\" * 65)\n",
        "\n",
        "having_query = '''\n",
        "SELECT S.SupplierName, COUNT(P.ProductID) AS NumberOfProducts\n",
        "FROM Suppliers S\n",
        "INNER JOIN Products P ON S.SupplierID = P.SupplierID\n",
        "GROUP BY S.SupplierName\n",
        "HAVING COUNT(P.ProductID) > 2\n",
        "ORDER BY NumberOfProducts DESC\n",
        "'''\n",
        "\n",
        "having_result = pd.read_sql_query(having_query, conn)\n",
        "print(having_result.to_string(index=False))"
      ],
      "metadata": {
        "id": "COKVY0QxNcvg"
      },
      "execution_count": null,
      "outputs": []
    },
    {
      "cell_type": "markdown",
      "source": [
        "9. 🚀 Bonus Challenges\n",
        "🎯 Advanced Practice Exercises\n",
        "Test your skills with these bonus challenges!"
      ],
      "metadata": {
        "id": "SUsaM3bhNfy7"
      }
    },
    {
      "cell_type": "code",
      "source": [
        "print(\"🚀 BONUS CHALLENGES\")\n",
        "print(\"=\" * 20)"
      ],
      "metadata": {
        "id": "fbyY_vJENhWY"
      },
      "execution_count": null,
      "outputs": []
    },
    {
      "cell_type": "markdown",
      "source": [
        "Challenge 1: Finding Inactive Suppliers"
      ],
      "metadata": {
        "id": "F5zrIJOuNiGf"
      }
    },
    {
      "cell_type": "code",
      "source": [
        "# Challenge 1: Inactive suppliers\n",
        "print(\"1. 🚫 Find suppliers who don't supply any products\")\n",
        "print(\"=\" * 55)\n",
        "\n",
        "inactive_query = '''\n",
        "SELECT S.SupplierName\n",
        "FROM Suppliers S\n",
        "LEFT JOIN Products P ON S.SupplierID = P.SupplierID\n",
        "WHERE P.ProductID IS NULL\n",
        "'''\n",
        "\n",
        "inactive_result = pd.read_sql_query(inactive_query, conn)\n",
        "print(inactive_result.to_string(index=False))\n",
        "print(f\"\\n✅ Found {len(inactive_result)} inactive suppliers\")"
      ],
      "metadata": {
        "id": "yAvdjrcXNlH1"
      },
      "execution_count": null,
      "outputs": []
    },
    {
      "cell_type": "markdown",
      "source": [
        "Challenge 2: Multi-Join and Group"
      ],
      "metadata": {
        "id": "MxcjSCyONojW"
      }
    },
    {
      "cell_type": "code",
      "source": [
        "# Challenge 2: Customers and their order counts\n",
        "print(\"\\n2. 👥 List all customers and their total orders\")\n",
        "print(\"=\" * 50)\n",
        "\n",
        "multi_join_query = '''\n",
        "SELECT C.CustomerName, COUNT(O.OrderID) AS TotalOrders\n",
        "FROM Customers C\n",
        "LEFT JOIN Orders O ON C.CustomerID = O.CustomerID\n",
        "GROUP BY C.CustomerName\n",
        "ORDER BY TotalOrders DESC\n",
        "'''\n",
        "\n",
        "multi_join_result = pd.read_sql_query(multi_join_query, conn)\n",
        "print(multi_join_result.to_string(index=False))"
      ],
      "metadata": {
        "id": "1FAY12jXNpG2"
      },
      "execution_count": null,
      "outputs": []
    },
    {
      "cell_type": "markdown",
      "source": [
        "10. 📚 Comprehensive Summary\n",
        "🎯 What We Learned Today:\n",
        "SQL JOIN Types:\n",
        "\n",
        "INNER JOIN: Finds matches between tables\n",
        "\n",
        "LEFT JOIN: Shows all records from left table + matches from right\n",
        "\n",
        "RIGHT JOIN: Shows all records from right table + matches from left\n",
        "\n",
        "FULL JOIN: Shows all records from both tables\n",
        "\n",
        "Aggregation:\n",
        "\n",
        "GROUP BY: Groups rows for summary calculations\n",
        "\n",
        "HAVING: Filters grouped results\n",
        "\n",
        "Aggregate functions: COUNT(), SUM(), AVG(), etc.\n",
        "\n",
        "Practical Applications:\n",
        "\n",
        "Combining data from multiple tables\n",
        "\n",
        "Finding missing data (inactive suppliers, orphan products)\n",
        "\n",
        "Generating summary reports\n",
        "\n",
        "Data quality auditing\n",
        "\n",
        "🔑 Key SQL Syntax:\n",
        "Join Type\tSQL Syntax\tPurpose\n",
        "INNER JOIN\tSELECT ... FROM A INNER JOIN B ON A.id = B.id\tFind matching records\n",
        "LEFT JOIN\tSELECT ... FROM A LEFT JOIN B ON A.id = B.id\tAll from A + matches from B\n",
        "RIGHT JOIN\tSELECT ... FROM A RIGHT JOIN B ON A.id = B.id\tAll from B + matches from A\n",
        "FULL JOIN\tSELECT ... FROM A FULL JOIN B ON A.id = B.id\tAll records from both tables\n",
        "💡 Pro Tips:\n",
        "Use aliases for better readability\n",
        "\n",
        "Test joins with small datasets first\n",
        "\n",
        "Be careful with NULL values in outer joins\n",
        "\n",
        "Use WHERE for row filtering, HAVING for group filtering\n",
        "\n",
        "Always specify join conditions to avoid Cartesian products\n",
        "\n",
        "✅ Completion Checklist:\n",
        "Understand different types of SQL JOINs\n",
        "\n",
        "Practice INNER, LEFT, RIGHT, and FULL JOINs\n",
        "\n",
        "Learn to simulate RIGHT and FULL JOINs in SQLite\n",
        "\n",
        "Master GROUP BY and HAVING clauses\n",
        "\n",
        "Complete hands-on lab exercises\n",
        "\n",
        "Solve bonus challenges\n",
        "\n",
        "🔮 Next Steps:\n",
        "Practice with real databases: MySQL, PostgreSQL\n",
        "\n",
        "Learn advanced SQL: Subqueries, CTEs, window functions\n",
        "\n",
        "Explore database optimization: Indexes, query planning\n",
        "\n",
        "Study database design: Normalization, relationships\n",
        "\n",
        "Learn about ORMs: SQLAlchemy, Django ORM"
      ],
      "metadata": {
        "id": "OPBE3SPtNvJy"
      }
    },
    {
      "cell_type": "code",
      "source": [
        "# Clean up\n",
        "conn.close()\n",
        "print(\"\\n✅ Database connection closed\")\n",
        "print(\"🎉 Congratulations! You've mastered SQL JOINs and Aggregation!\")"
      ],
      "metadata": {
        "id": "Cf133N3yNwwP"
      },
      "execution_count": null,
      "outputs": []
    }
  ]
}