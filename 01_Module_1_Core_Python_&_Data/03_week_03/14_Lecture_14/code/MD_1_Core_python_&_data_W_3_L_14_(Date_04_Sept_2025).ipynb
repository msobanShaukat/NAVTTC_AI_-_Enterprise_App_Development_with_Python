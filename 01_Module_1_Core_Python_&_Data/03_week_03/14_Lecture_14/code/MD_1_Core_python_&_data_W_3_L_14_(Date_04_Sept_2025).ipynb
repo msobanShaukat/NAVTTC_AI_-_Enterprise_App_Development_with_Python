{
  "nbformat": 4,
  "nbformat_minor": 0,
  "metadata": {
    "colab": {
      "provenance": []
    },
    "kernelspec": {
      "name": "python3",
      "display_name": "Python 3"
    },
    "language_info": {
      "name": "python"
    }
  },
  "cells": [
    {
      "cell_type": "markdown",
      "source": [
        "# 🗄️ Module 1: Core Python & Data - Week 3 Lecture 14\n",
        "**Date:** 04/09/2025  \n",
        "**Documented by:** Muhammad Soban Shaukat  \n",
        "\n",
        "## 💾 Beyond Files: Introduction to SQL & Relational Databases\n",
        "\n",
        "Welcome back! We've learned to save our data in files like `.txt` and `.json`. This is great for simple applications, but what happens when our data becomes large and interconnected?\n",
        "\n",
        "What if we're building a social media app, an e-commerce store, or a blog? Today, we learn the industry-standard solution for managing structured data: **Relational Databases** and the language we use to talk to them, **SQL**."
      ],
      "metadata": {
        "id": "NhZ4X6jN_L5B"
      }
    },
    {
      "cell_type": "markdown",
      "source": [
        "## 📋 Today's Agenda\n",
        "\n",
        "1.  **🤔 The \"Why\" - What is a Database?**\n",
        "    *   The Problem with Flat Files\n",
        "    *   The Three Evils of Flat Data\n",
        "    *   The Relational Solution\n",
        "\n",
        "2.  **🏗️ Core Concepts of Relational Databases**\n",
        "    *   Tables, Rows, Columns, and Keys\n",
        "    *   Database Design: A Simple Blog Schema\n",
        "\n",
        "3.  **📊 Exploring the SQL Language**\n",
        "    *   `SELECT` & `FROM` Statements\n",
        "    *   `WHERE` Clause for Filtering\n",
        "    *   `ORDER BY` Clause for Sorting\n",
        "\n",
        "4.  **🧪 Putting It All Together & Hands-On Lab**\n",
        "    *   Hands-On Lab: Querying a Sample Database\n",
        "    *   Bonus Challenges"
      ],
      "metadata": {
        "id": "sFTxe4Y5_ww7"
      }
    },
    {
      "cell_type": "markdown",
      "source": [
        "## 1. 🤔 The \"Why\" - What is a Database?\n",
        "\n",
        "### 📊 The Problem with Flat Files\n",
        "\n",
        "Imagine we're running a small online store and we track our orders in a single spreadsheet (or a big JSON file). This approach is called using \"flat files.\""
      ],
      "metadata": {
        "id": "vkzTkfxR_6jN"
      }
    },
    {
      "cell_type": "code",
      "execution_count": 1,
      "metadata": {
        "colab": {
          "base_uri": "https://localhost:8080/"
        },
        "id": "zihdXq9o_E9D",
        "outputId": "fc7cbf8b-0962-45b7-8099-c56192086be9"
      },
      "outputs": [
        {
          "output_type": "stream",
          "name": "stdout",
          "text": [
            "🛒 Flat File Approach: Online Store Orders\n",
            "=============================================\n",
            "📋 Orders Flat File:\n",
            "------------------------------------------------------------\n",
            "OrderID  Date         Customer        Email                Item         Price \n",
            "------------------------------------------------------------\n",
            "101      2025-09-05   Alice Smith     alice@example.com    T-Shirt      $20.00\n",
            "102      2025-09-05   Bob Johnson     bob@example.com      Coffee Mug   $15.00\n",
            "103      2025-09-06   Alice Smith     alice@example.com    Hat          $25.00\n",
            "104      2025-09-06   Alice Smith     alice.mnih@work.com  T-Shirt      $20.00\n"
          ]
        }
      ],
      "source": [
        "# Let's simulate the flat file problem with Python data structures\n",
        "print(\"🛒 Flat File Approach: Online Store Orders\")\n",
        "print(\"=\" * 45)\n",
        "\n",
        "# This represents data stored in a CSV/JSON file\n",
        "orders_flat = [\n",
        "    {\"OrderID\": 101, \"OrderDate\": \"2025-09-05\", \"CustomerName\": \"Alice Smith\",\n",
        "     \"CustomerEmail\": \"alice@example.com\", \"Item\": \"T-Shirt\", \"Price\": 20.00},\n",
        "    {\"OrderID\": 102, \"OrderDate\": \"2025-09-05\", \"CustomerName\": \"Bob Johnson\",\n",
        "     \"CustomerEmail\": \"bob@example.com\", \"Item\": \"Coffee Mug\", \"Price\": 15.00},\n",
        "    {\"OrderID\": 103, \"OrderDate\": \"2025-09-06\", \"CustomerName\": \"Alice Smith\",\n",
        "     \"CustomerEmail\": \"alice@example.com\", \"Item\": \"Hat\", \"Price\": 25.00},\n",
        "    {\"OrderID\": 104, \"OrderDate\": \"2025-09-06\", \"CustomerName\": \"Alice Smith\",\n",
        "     \"CustomerEmail\": \"alice.mnih@work.com\", \"Item\": \"T-Shirt\", \"Price\": 20.00}\n",
        "]\n",
        "\n",
        "# Display the flat data\n",
        "print(\"📋 Orders Flat File:\")\n",
        "print(\"-\" * 60)\n",
        "print(f\"{'OrderID':<8} {'Date':<12} {'Customer':<15} {'Email':<20} {'Item':<12} {'Price':<6}\")\n",
        "print(\"-\" * 60)\n",
        "for order in orders_flat:\n",
        "    print(f\"{order['OrderID']:<8} {order['OrderDate']:<12} {order['CustomerName']:<15} \"\n",
        "          f\"{order['CustomerEmail']:<20} {order['Item']:<12} ${order['Price']:<5.2f}\")"
      ]
    },
    {
      "cell_type": "markdown",
      "source": [
        "### 😈 The Three Evils of \"Flat\" Data\n",
        "\n",
        "This flat file approach seems simple, but it's hiding three major problems:"
      ],
      "metadata": {
        "id": "67rkDWXnAEGH"
      }
    },
    {
      "cell_type": "code",
      "source": [
        "# Demonstrate the three problems with flat files\n",
        "print(\"\\n😈 THREE EVILS OF FLAT DATA\")\n",
        "print(\"=\" * 35)\n",
        "\n",
        "# 1. Data Duplication\n",
        "print(\"\\n1. 📝 DATA DUPLICATION:\")\n",
        "print(\"   Alice Smith's information appears 3 times!\")\n",
        "print(\"   Wastes space and is inefficient.\")\n",
        "\n",
        "# 2. Data Inconsistency (Update Anomaly)\n",
        "print(\"\\n2. 🔄 DATA INCONSISTENCY (Update Anomaly):\")\n",
        "print(\"   Order 104 has different email: alice.mnih@work.com\")\n",
        "print(\"   Is this a typo or an update?\")\n",
        "print(\"   To fix, we'd need to update ALL Alice's records manually!\")\n",
        "\n",
        "# 3. Data Integrity Issues (Deletion Anomaly)\n",
        "print(\"\\n3. 🗑️ DATA INTEGRITY (Deletion Anomaly):\")\n",
        "print(\"   If we delete Bob's order (102), we lose ALL information about Bob!\")\n",
        "print(\"   We wouldn't even know he was ever a customer!\")"
      ],
      "metadata": {
        "colab": {
          "base_uri": "https://localhost:8080/"
        },
        "id": "yEjdmzAvAEuR",
        "outputId": "1fd3dcbf-46ab-49d1-c73c-43b1a7225a3f"
      },
      "execution_count": 2,
      "outputs": [
        {
          "output_type": "stream",
          "name": "stdout",
          "text": [
            "\n",
            "😈 THREE EVILS OF FLAT DATA\n",
            "===================================\n",
            "\n",
            "1. 📝 DATA DUPLICATION:\n",
            "   Alice Smith's information appears 3 times!\n",
            "   Wastes space and is inefficient.\n",
            "\n",
            "2. 🔄 DATA INCONSISTENCY (Update Anomaly):\n",
            "   Order 104 has different email: alice.mnih@work.com\n",
            "   Is this a typo or an update?\n",
            "   To fix, we'd need to update ALL Alice's records manually!\n",
            "\n",
            "3. 🗑️ DATA INTEGRITY (Deletion Anomaly):\n",
            "   If we delete Bob's order (102), we lose ALL information about Bob!\n",
            "   We wouldn't even know he was ever a customer!\n"
          ]
        }
      ]
    },
    {
      "cell_type": "markdown",
      "source": [
        "### 🏗️ The Relational Solution: Smart Tables\n",
        "\n",
        "A **relational database** solves this by breaking the data into separate, single-purpose tables that can be linked together."
      ],
      "metadata": {
        "id": "m3B07nSjAIWN"
      }
    },
    {
      "cell_type": "code",
      "source": [
        "# Show the relational database solution\n",
        "print(\"\\n🏗️ RELATIONAL DATABASE SOLUTION\")\n",
        "print(\"=\" * 40)\n",
        "\n",
        "# Customers Table\n",
        "customers = [\n",
        "    {\"CustomerID\": 1, \"Name\": \"Alice Smith\", \"Email\": \"alice@example.com\"},\n",
        "    {\"CustomerID\": 2, \"Name\": \"Bob Johnson\", \"Email\": \"bob@example.com\"}\n",
        "]\n",
        "\n",
        "# Orders Table\n",
        "orders = [\n",
        "    {\"OrderID\": 101, \"OrderDate\": \"2025-09-05\", \"CustomerID\": 1, \"Item\": \"T-Shirt\", \"Price\": 20.00},\n",
        "    {\"OrderID\": 102, \"OrderDate\": \"2025-09-05\", \"CustomerID\": 2, \"Item\": \"Coffee Mug\", \"Price\": 15.00},\n",
        "    {\"OrderID\": 103, \"OrderDate\": \"2025-09-06\", \"CustomerID\": 1, \"Item\": \"Hat\", \"Price\": 25.00},\n",
        "    {\"OrderID\": 104, \"OrderDate\": \"2025-09-06\", \"CustomerID\": 1, \"Item\": \"T-Shirt\", \"Price\": 20.00}\n",
        "]\n",
        "\n",
        "print(\"📊 CUSTOMERS TABLE:\")\n",
        "print(\"-\" * 50)\n",
        "print(f\"{'CustomerID':<12} {'Name':<15} {'Email':<20}\")\n",
        "print(\"-\" * 50)\n",
        "for customer in customers:\n",
        "    print(f\"{customer['CustomerID']:<12} {customer['Name']:<15} {customer['Email']:<20}\")\n",
        "\n",
        "print(\"\\n📊 ORDERS TABLE:\")\n",
        "print(\"-\" * 60)\n",
        "print(f\"{'OrderID':<8} {'Date':<12} {'CustomerID':<12} {'Item':<12} {'Price':<6}\")\n",
        "print(\"-\" * 60)\n",
        "for order in orders:\n",
        "    print(f\"{order['OrderID']:<8} {order['OrderDate']:<12} {order['CustomerID']:<12} \"\n",
        "          f\"{order['Item']:<12} ${order['Price']:<5.2f}\")\n",
        "\n",
        "print(\"\\n✅ BENEFITS:\")\n",
        "print(\"   - No data duplication (Alice's info stored once)\")\n",
        "print(\"   - No inconsistency (Single source of truth)\")\n",
        "print(\"   - No data loss (Delete order ≠ delete customer)\")"
      ],
      "metadata": {
        "colab": {
          "base_uri": "https://localhost:8080/"
        },
        "id": "DCelqIrqAJHS",
        "outputId": "d554b5cb-a2b4-4253-c531-c90c62ac4d89"
      },
      "execution_count": 3,
      "outputs": [
        {
          "output_type": "stream",
          "name": "stdout",
          "text": [
            "\n",
            "🏗️ RELATIONAL DATABASE SOLUTION\n",
            "========================================\n",
            "📊 CUSTOMERS TABLE:\n",
            "--------------------------------------------------\n",
            "CustomerID   Name            Email               \n",
            "--------------------------------------------------\n",
            "1            Alice Smith     alice@example.com   \n",
            "2            Bob Johnson     bob@example.com     \n",
            "\n",
            "📊 ORDERS TABLE:\n",
            "------------------------------------------------------------\n",
            "OrderID  Date         CustomerID   Item         Price \n",
            "------------------------------------------------------------\n",
            "101      2025-09-05   1            T-Shirt      $20.00\n",
            "102      2025-09-05   2            Coffee Mug   $15.00\n",
            "103      2025-09-06   1            Hat          $25.00\n",
            "104      2025-09-06   1            T-Shirt      $20.00\n",
            "\n",
            "✅ BENEFITS:\n",
            "   - No data duplication (Alice's info stored once)\n",
            "   - No inconsistency (Single source of truth)\n",
            "   - No data loss (Delete order ≠ delete customer)\n"
          ]
        }
      ]
    },
    {
      "cell_type": "markdown",
      "source": [
        "## 2. 🏗️ Core Concepts of Relational Databases\n",
        "\n",
        "### 📋 Tables, Rows, and Columns\n",
        "\n",
        "Imagine a digital filing cabinet designed for perfect organization. A relational database stores data in a structured way using:\n",
        "\n",
        "- **Table:** A collection of related data, like a spreadsheet\n",
        "- **Columns:** The headers that define data categories (e.g., CustomerName, City)\n",
        "- **Rows:** Individual records in the table"
      ],
      "metadata": {
        "id": "G5lyZIiZAN2o"
      }
    },
    {
      "cell_type": "code",
      "source": [
        "# Visualize table structure\n",
        "print(\"📋 DATABASE TABLE STRUCTURE\")\n",
        "print(\"=\" * 40)\n",
        "\n",
        "# Sample Customers table data\n",
        "customers_data = [\n",
        "    {\"CustomerID\": 1, \"CustomerName\": \"Alfreds Futterkiste\", \"City\": \"Berlin\"},\n",
        "    {\"CustomerID\": 2, \"CustomerName\": \"Ana Trujillo\", \"City\": \"México D.F.\"},\n",
        "    {\"CustomerID\": 3, \"CustomerName\": \"Antonio Moreno\", \"City\": \"México D.F.\"},\n",
        "    {\"CustomerID\": 4, \"CustomerName\": \"Thomas Hardy\", \"City\": \"London\"}\n",
        "]\n",
        "\n",
        "print(\"CUSTOMERS TABLE:\")\n",
        "print(\"-\" * 50)\n",
        "print(f\"{'CustomerID':<12} {'CustomerName':<25} {'City':<15}\")\n",
        "print(\"-\" * 50)\n",
        "for customer in customers_data:\n",
        "    print(f\"{customer['CustomerID']:<12} {customer['CustomerName']:<25} {customer['City']:<15}\")\n",
        "\n",
        "print(\"\\n🔑 TABLE COMPONENTS:\")\n",
        "print(\"   - Columns: CustomerID, CustomerName, City\")\n",
        "print(\"   - Rows: Each customer record\")\n",
        "print(\"   - Table: Collection of all customer data\")"
      ],
      "metadata": {
        "colab": {
          "base_uri": "https://localhost:8080/"
        },
        "id": "5XLp3m9uAPC-",
        "outputId": "8f8e12ad-5357-407d-ec58-bb62607e4d75"
      },
      "execution_count": 4,
      "outputs": [
        {
          "output_type": "stream",
          "name": "stdout",
          "text": [
            "📋 DATABASE TABLE STRUCTURE\n",
            "========================================\n",
            "CUSTOMERS TABLE:\n",
            "--------------------------------------------------\n",
            "CustomerID   CustomerName              City           \n",
            "--------------------------------------------------\n",
            "1            Alfreds Futterkiste       Berlin         \n",
            "2            Ana Trujillo              México D.F.    \n",
            "3            Antonio Moreno            México D.F.    \n",
            "4            Thomas Hardy              London         \n",
            "\n",
            "🔑 TABLE COMPONENTS:\n",
            "   - Columns: CustomerID, CustomerName, City\n",
            "   - Rows: Each customer record\n",
            "   - Table: Collection of all customer data\n"
          ]
        }
      ]
    },
    {
      "cell_type": "markdown",
      "source": [
        "### 🔑 Keys: Primary & Foreign Keys\n",
        "\n",
        "Keys are special columns essential for identifying rows and linking tables together:\n",
        "\n",
        "- **Primary Key (PK):** A column with a unique value for every row (like a Student ID)\n",
        "- **Foreign Key (FK):** A column in one table that refers to the Primary Key of another table"
      ],
      "metadata": {
        "id": "LdpBvbFFAcQI"
      }
    },
    {
      "cell_type": "code",
      "source": [
        "# Demonstrate keys with Authors and Books example\n",
        "print(\"🔑 PRIMARY AND FOREIGN KEYS\")\n",
        "print(\"=\" * 40)\n",
        "\n",
        "# Authors Table\n",
        "authors = [\n",
        "    {\"AuthorID\": 1, \"AuthorName\": \"J.K. Rowling\", \"Nationality\": \"British\"},\n",
        "    {\"AuthorID\": 2, \"AuthorName\": \"George Orwell\", \"Nationality\": \"British\"}\n",
        "]\n",
        "\n",
        "# Books Table\n",
        "books = [\n",
        "    {\"BookID\": 10, \"Title\": \"Harry Potter\", \"AuthorID\": 1},\n",
        "    {\"BookID\": 102, \"Title\": \"1984\", \"AuthorID\": 2},\n",
        "    {\"BookID\": 103, \"Title\": \"Animal Farm\", \"AuthorID\": 2}\n",
        "]\n",
        "\n",
        "print(\"📚 AUTHORS TABLE (Primary Key: AuthorID):\")\n",
        "print(\"-\" * 55)\n",
        "print(f\"{'AuthorID':<10} {'AuthorName':<15} {'Nationality':<12}\")\n",
        "print(\"-\" * 55)\n",
        "for author in authors:\n",
        "    print(f\"{author['AuthorID']:<10} {author['AuthorName']:<15} {author['Nationality']:<12}\")\n",
        "\n",
        "print(\"\\n📖 BOOKS TABLE (Primary Key: BookID, Foreign Key: AuthorID):\")\n",
        "print(\"-\" * 45)\n",
        "print(f\"{'BookID':<8} {'Title':<15} {'AuthorID':<10}\")\n",
        "print(\"-\" * 45)\n",
        "for book in books:\n",
        "    print(f\"{book['BookID']:<8} {book['Title']:<15} {book['AuthorID']:<10}\")\n",
        "\n",
        "print(\"\\n🎯 KEYS EXPLAINED:\")\n",
        "print(\"   - Authors.AuthorID: PRIMARY KEY (Unique author identifier)\")\n",
        "print(\"   - Books.BookID: PRIMARY KEY (Unique book identifier)\")\n",
        "print(\"   - Books.AuthorID: FOREIGN KEY (Links to Authors.AuthorID)\")"
      ],
      "metadata": {
        "colab": {
          "base_uri": "https://localhost:8080/"
        },
        "id": "ln6xcyEBAezr",
        "outputId": "e6625ef7-fb03-4ed0-aadf-67fb80f05c91"
      },
      "execution_count": 5,
      "outputs": [
        {
          "output_type": "stream",
          "name": "stdout",
          "text": [
            "🔑 PRIMARY AND FOREIGN KEYS\n",
            "========================================\n",
            "📚 AUTHORS TABLE (Primary Key: AuthorID):\n",
            "-------------------------------------------------------\n",
            "AuthorID   AuthorName      Nationality \n",
            "-------------------------------------------------------\n",
            "1          J.K. Rowling    British     \n",
            "2          George Orwell   British     \n",
            "\n",
            "📖 BOOKS TABLE (Primary Key: BookID, Foreign Key: AuthorID):\n",
            "---------------------------------------------\n",
            "BookID   Title           AuthorID  \n",
            "---------------------------------------------\n",
            "10       Harry Potter    1         \n",
            "102      1984            2         \n",
            "103      Animal Farm     2         \n",
            "\n",
            "🎯 KEYS EXPLAINED:\n",
            "   - Authors.AuthorID: PRIMARY KEY (Unique author identifier)\n",
            "   - Books.BookID: PRIMARY KEY (Unique book identifier)\n",
            "   - Books.AuthorID: FOREIGN KEY (Links to Authors.AuthorID)\n"
          ]
        }
      ]
    },
    {
      "cell_type": "markdown",
      "source": [
        "### 🧠 In-Class Exercise: Identifying Keys\n",
        "\n",
        "Look at the tables above:\n",
        "1. What is the Primary Key of the Authors table?\n",
        "2. What is the Primary Key of the Books table?\n",
        "3. What is the Foreign Key in this schema, and which table is it in?"
      ],
      "metadata": {
        "id": "rOJCX2K5Ah4C"
      }
    },
    {
      "cell_type": "code",
      "source": [
        "# Exercise solution\n",
        "print(\"🧠 EXERCISE SOLUTION:\")\n",
        "print(\"=\" * 25)\n",
        "print(\"1. Primary Key of Authors table: AuthorID\")\n",
        "print(\"2. Primary Key of Books table: BookID\")\n",
        "print(\"3. Foreign Key: AuthorID in Books table (links to Authors.AuthorID)\")"
      ],
      "metadata": {
        "colab": {
          "base_uri": "https://localhost:8080/"
        },
        "id": "Pve3BxfMAiyV",
        "outputId": "788b364e-d01a-4975-a3a5-67fefcb6b815"
      },
      "execution_count": 6,
      "outputs": [
        {
          "output_type": "stream",
          "name": "stdout",
          "text": [
            "🧠 EXERCISE SOLUTION:\n",
            "=========================\n",
            "1. Primary Key of Authors table: AuthorID\n",
            "2. Primary Key of Books table: BookID\n",
            "3. Foreign Key: AuthorID in Books table (links to Authors.AuthorID)\n"
          ]
        }
      ]
    },
    {
      "cell_type": "markdown",
      "source": [
        "### 🏗️ Database Design: A Simple Blog Schema\n",
        "\n",
        "Let's apply these concepts to design a database for a simple blog. We need to store information about:\n",
        "- **Users:** People who write posts and comments\n",
        "- **Posts:** Articles on the blog  \n",
        "- **Comments:** Replies to the posts"
      ],
      "metadata": {
        "id": "8QYdsycsAphJ"
      }
    },
    {
      "cell_type": "code",
      "source": [
        "# Blog database schema design\n",
        "print(\"🏗️ BLOG DATABASE SCHEMA DESIGN\")\n",
        "print(\"=\" * 35)\n",
        "\n",
        "print(\"📊 USERS TABLE:\")\n",
        "print(\"   - UserID (Primary Key)\")\n",
        "print(\"   - Username\")\n",
        "print(\"   - Email\")\n",
        "print()\n",
        "\n",
        "print(\"📝 POSTS TABLE:\")\n",
        "print(\"   - PostID (Primary Key)\")\n",
        "print(\"   - Title\")\n",
        "print(\"   - Content\")\n",
        "print(\"   - UserID (Foreign Key - links to Users.UserID)\")\n",
        "print()\n",
        "\n",
        "print(\"💬 COMMENTS TABLE:\")\n",
        "print(\"   - CommentID (Primary Key)\")\n",
        "print(\"   - CommentText\")\n",
        "print(\"   - PostID (Foreign Key - links to Posts.PostID)\")\n",
        "print(\"   - UserID (Foreign Key - links to Users.UserID)\")\n",
        "print()\n",
        "\n",
        "print(\"🔗 RELATIONSHIPS:\")\n",
        "print(\"   - One User can have Many Posts (1:M)\")\n",
        "print(\"   - One Post can have Many Comments (1:M)\")\n",
        "print(\"   - One User can have Many Comments (1:M)\")"
      ],
      "metadata": {
        "colab": {
          "base_uri": "https://localhost:8080/"
        },
        "id": "L9cHj3NrAqIp",
        "outputId": "8917baf9-cbe3-4bff-a32b-ef3038394367"
      },
      "execution_count": 7,
      "outputs": [
        {
          "output_type": "stream",
          "name": "stdout",
          "text": [
            "🏗️ BLOG DATABASE SCHEMA DESIGN\n",
            "===================================\n",
            "📊 USERS TABLE:\n",
            "   - UserID (Primary Key)\n",
            "   - Username\n",
            "   - Email\n",
            "\n",
            "📝 POSTS TABLE:\n",
            "   - PostID (Primary Key)\n",
            "   - Title\n",
            "   - Content\n",
            "   - UserID (Foreign Key - links to Users.UserID)\n",
            "\n",
            "💬 COMMENTS TABLE:\n",
            "   - CommentID (Primary Key)\n",
            "   - CommentText\n",
            "   - PostID (Foreign Key - links to Posts.PostID)\n",
            "   - UserID (Foreign Key - links to Users.UserID)\n",
            "\n",
            "🔗 RELATIONSHIPS:\n",
            "   - One User can have Many Posts (1:M)\n",
            "   - One Post can have Many Comments (1:M)\n",
            "   - One User can have Many Comments (1:M)\n"
          ]
        }
      ]
    },
    {
      "cell_type": "code",
      "source": [
        "# Visualize the relationships with sample data\n",
        "print(\"🔗 VISUALIZING RELATIONSHIPS\")\n",
        "print(\"=\" * 35)\n",
        "\n",
        "# Sample data\n",
        "users = [\n",
        "    {\"UserID\": 1, \"Username\": \"alice_dev\", \"Email\": \"alice@example.com\"},\n",
        "    {\"UserID\": 2, \"Username\": \"bob_writer\", \"Email\": \"bob@example.com\"}\n",
        "]\n",
        "\n",
        "posts = [\n",
        "    {\"PostID\": 101, \"Title\": \"Python Basics\", \"UserID\": 1},\n",
        "    {\"PostID\": 102, \"Title\": \"SQL Introduction\", \"UserID\": 2}\n",
        "]\n",
        "\n",
        "comments = [\n",
        "    {\"CommentID\": 1001, \"CommentText\": \"Great post!\", \"PostID\": 101, \"UserID\": 2},\n",
        "    {\"CommentID\": 1002, \"CommentText\": \"Very helpful\", \"PostID\": 101, \"UserID\": 1},\n",
        "    {\"CommentID\": 1003, \"CommentText\": \"Thanks for sharing\", \"PostID\": 102, \"UserID\": 1}\n",
        "]\n",
        "\n",
        "print(\"👥 USERS:\")\n",
        "for user in users:\n",
        "    print(f\"   {user['UserID']}: {user['Username']}\")\n",
        "\n",
        "print(\"\\n📝 POSTS (with author):\")\n",
        "for post in posts:\n",
        "    author = next(user for user in users if user['UserID'] == post['UserID'])\n",
        "    print(f\"   {post['PostID']}: '{post['Title']}' by {author['Username']}\")\n",
        "\n",
        "print(\"\\n💬 COMMENTS (on posts by users):\")\n",
        "for comment in comments:\n",
        "    post = next(p for p in posts if p['PostID'] == comment['PostID'])\n",
        "    user = next(u for u in users if u['UserID'] == comment['UserID'])\n",
        "    print(f\"   '{comment['CommentText']}' by {user['Username']} on '{post['Title']}'\")"
      ],
      "metadata": {
        "colab": {
          "base_uri": "https://localhost:8080/"
        },
        "id": "MrRbvjAyAxUv",
        "outputId": "f487bb05-4073-450f-f714-de29c5c49f8c"
      },
      "execution_count": 8,
      "outputs": [
        {
          "output_type": "stream",
          "name": "stdout",
          "text": [
            "🔗 VISUALIZING RELATIONSHIPS\n",
            "===================================\n",
            "👥 USERS:\n",
            "   1: alice_dev\n",
            "   2: bob_writer\n",
            "\n",
            "📝 POSTS (with author):\n",
            "   101: 'Python Basics' by alice_dev\n",
            "   102: 'SQL Introduction' by bob_writer\n",
            "\n",
            "💬 COMMENTS (on posts by users):\n",
            "   'Great post!' by bob_writer on 'Python Basics'\n",
            "   'Very helpful' by alice_dev on 'Python Basics'\n",
            "   'Thanks for sharing' by alice_dev on 'SQL Introduction'\n"
          ]
        }
      ]
    },
    {
      "cell_type": "markdown",
      "source": [
        "## 3. 📊 Exploring the SQL Language\n",
        "\n",
        "**SQL (Structured Query Language)** is the language we use to communicate with relational databases. Let's learn the basic commands!"
      ],
      "metadata": {
        "id": "WeIqzh-kA1Ts"
      }
    },
    {
      "cell_type": "code",
      "source": [
        "# Since we're in Colab, we'll use SQLite in Python to run actual SQL queries\n",
        "import sqlite3\n",
        "import pandas as pd\n",
        "\n",
        "# Create an in-memory SQLite database\n",
        "conn = sqlite3.connect(':memory:')\n",
        "cursor = conn.cursor()\n",
        "\n",
        "# Create sample tables\n",
        "cursor.executescript('''\n",
        "CREATE TABLE Customers (\n",
        "    CustomerID INTEGER PRIMARY KEY,\n",
        "    CustomerName TEXT,\n",
        "    ContactName TEXT,\n",
        "    City TEXT,\n",
        "    Country TEXT\n",
        ");\n",
        "\n",
        "CREATE TABLE Products (\n",
        "    ProductID INTEGER PRIMARY KEY,\n",
        "    ProductName TEXT,\n",
        "    Price REAL,\n",
        "    Category TEXT\n",
        ");\n",
        "\n",
        "CREATE TABLE Suppliers (\n",
        "    SupplierID INTEGER PRIMARY KEY,\n",
        "    SupplierName TEXT,\n",
        "    Country TEXT\n",
        ");\n",
        "''')\n",
        "\n",
        "# Insert sample data\n",
        "cursor.executescript('''\n",
        "INSERT INTO Customers VALUES\n",
        "(1, 'Alfreds Futterkiste', 'Maria Anders', 'Berlin', 'Germany'),\n",
        "(2, 'Ana Trujillo', 'Ana Trujillo', 'México D.F.', 'Mexico'),\n",
        "(3, 'Antonio Moreno', 'Antonio Moreno', 'México D.F.', 'Mexico'),\n",
        "(4, 'Around the Horn', 'Thomas Hardy', 'London', 'UK'),\n",
        "(5, 'Berglunds snabbköp', 'Christina Berglund', 'Luleå', 'Sweden');\n",
        "\n",
        "INSERT INTO Products VALUES\n",
        "(1, 'Chais', 18.00, 'Beverages'),\n",
        "(2, 'Chang', 19.00, 'Beverages'),\n",
        "(3, 'Aniseed Syrup', 10.00, 'Condiments'),\n",
        "(4, 'Chef Anton''s Cajun Seasoning', 22.00, 'Condiments'),\n",
        "(5, 'Chef Anton''s Gumbo Mix', 21.35, 'Condiments'),\n",
        "(6, 'Grandma''s Boysenberry Spread', 25.00, 'Condiments'),\n",
        "(7, 'Uncle Bob''s Organic Dried Pears', 30.00, 'Produce'),\n",
        "(8, 'Northwoods Cranberry Sauce', 40.00, 'Condiments');\n",
        "\n",
        "INSERT INTO Suppliers VALUES\n",
        "(1, 'Exotic Liquid', 'UK'),\n",
        "(2, 'New Orleans Cajun Delights', 'USA'),\n",
        "(3, 'Grandma Kelly''s Homestead', 'USA'),\n",
        "(4, 'Tokyo Traders', 'Japan'),\n",
        "(5, 'Cooperativa de Quesos ''Las Cabras''', 'Spain');\n",
        "''')\n",
        "\n",
        "conn.commit()\n",
        "\n",
        "print(\"✅ Sample database created with:\")\n",
        "print(\"   - Customers table (5 records)\")\n",
        "print(\"   - Products table (8 records)\")\n",
        "print(\"   - Suppliers table (5 records)\")"
      ],
      "metadata": {
        "colab": {
          "base_uri": "https://localhost:8080/",
          "height": 106
        },
        "id": "gRBpihusA2Gv",
        "outputId": "618ed020-c1e1-4368-8e66-7ca9145cfbc9"
      },
      "execution_count": 9,
      "outputs": [
        {
          "output_type": "error",
          "ename": "SyntaxError",
          "evalue": "incomplete input (ipython-input-1855281358.py, line 58)",
          "traceback": [
            "\u001b[0;36m  File \u001b[0;32m\"/tmp/ipython-input-1855281358.py\"\u001b[0;36m, line \u001b[0;32m58\u001b[0m\n\u001b[0;31m    ''')\u001b[0m\n\u001b[0m    ^\u001b[0m\n\u001b[0;31mSyntaxError\u001b[0m\u001b[0;31m:\u001b[0m incomplete input\n"
          ]
        }
      ]
    },
    {
      "cell_type": "markdown",
      "source": [
        "### 🔍 Basic SQL: `SELECT` and `FROM`\n",
        "\n",
        "These are the two mandatory parts of any query to retrieve data:\n",
        "\n",
        "- `SELECT`: Chooses which columns you want to see\n",
        "- `FROM`: Specifies which table to look in"
      ],
      "metadata": {
        "id": "lvfHsrB3BH1Y"
      }
    },
    {
      "cell_type": "code",
      "source": [
        "# Example 1: SELECT specific columns\n",
        "print(\"🔍 BASIC SQL: SELECT AND FROM\")\n",
        "print(\"=\" * 35)\n",
        "\n",
        "print(\"Query: SELECT CustomerName, City FROM Customers;\")\n",
        "print(\"Translation: Show me CustomerName and City from Customers table\")\n",
        "print()\n",
        "\n",
        "# Execute query\n",
        "query1 = \"SELECT CustomerName, City FROM Customers;\"\n",
        "result1 = pd.read_sql_query(query1, conn)\n",
        "print(result1.to_string(index=False))"
      ],
      "metadata": {
        "colab": {
          "base_uri": "https://localhost:8080/",
          "height": 280
        },
        "id": "dLTyW_tgBKxH",
        "outputId": "22689a18-f054-4b0d-ef1b-59e3eabfcfbd"
      },
      "execution_count": 10,
      "outputs": [
        {
          "output_type": "stream",
          "name": "stdout",
          "text": [
            "🔍 BASIC SQL: SELECT AND FROM\n",
            "===================================\n",
            "Query: SELECT CustomerName, City FROM Customers;\n",
            "Translation: Show me CustomerName and City from Customers table\n",
            "\n"
          ]
        },
        {
          "output_type": "error",
          "ename": "NameError",
          "evalue": "name 'pd' is not defined",
          "traceback": [
            "\u001b[0;31m---------------------------------------------------------------------------\u001b[0m",
            "\u001b[0;31mNameError\u001b[0m                                 Traceback (most recent call last)",
            "\u001b[0;32m/tmp/ipython-input-1087992214.py\u001b[0m in \u001b[0;36m<cell line: 0>\u001b[0;34m()\u001b[0m\n\u001b[1;32m      9\u001b[0m \u001b[0;31m# Execute query\u001b[0m\u001b[0;34m\u001b[0m\u001b[0;34m\u001b[0m\u001b[0m\n\u001b[1;32m     10\u001b[0m \u001b[0mquery1\u001b[0m \u001b[0;34m=\u001b[0m \u001b[0;34m\"SELECT CustomerName, City FROM Customers;\"\u001b[0m\u001b[0;34m\u001b[0m\u001b[0;34m\u001b[0m\u001b[0m\n\u001b[0;32m---> 11\u001b[0;31m \u001b[0mresult1\u001b[0m \u001b[0;34m=\u001b[0m \u001b[0mpd\u001b[0m\u001b[0;34m.\u001b[0m\u001b[0mread_sql_query\u001b[0m\u001b[0;34m(\u001b[0m\u001b[0mquery1\u001b[0m\u001b[0;34m,\u001b[0m \u001b[0mconn\u001b[0m\u001b[0;34m)\u001b[0m\u001b[0;34m\u001b[0m\u001b[0;34m\u001b[0m\u001b[0m\n\u001b[0m\u001b[1;32m     12\u001b[0m \u001b[0mprint\u001b[0m\u001b[0;34m(\u001b[0m\u001b[0mresult1\u001b[0m\u001b[0;34m.\u001b[0m\u001b[0mto_string\u001b[0m\u001b[0;34m(\u001b[0m\u001b[0mindex\u001b[0m\u001b[0;34m=\u001b[0m\u001b[0;32mFalse\u001b[0m\u001b[0;34m)\u001b[0m\u001b[0;34m)\u001b[0m\u001b[0;34m\u001b[0m\u001b[0;34m\u001b[0m\u001b[0m\n",
            "\u001b[0;31mNameError\u001b[0m: name 'pd' is not defined"
          ]
        }
      ]
    },
    {
      "cell_type": "code",
      "source": [
        "# Example 2: SELECT all columns\n",
        "print(\"\\nQuery: SELECT * FROM Customers;\")\n",
        "print(\"Translation: Show me ALL columns from Customers table\")\n",
        "print()\n",
        "\n",
        "query2 = \"SELECT * FROM Customers;\"\n",
        "result2 = pd.read_sql_query(query2, conn)\n",
        "print(result2.to_string(index=False))"
      ],
      "metadata": {
        "colab": {
          "base_uri": "https://localhost:8080/",
          "height": 263
        },
        "id": "qnjRBiDqBUQ3",
        "outputId": "944d748d-b7fc-4cf4-c8a8-a60dc46e6e4b"
      },
      "execution_count": 11,
      "outputs": [
        {
          "output_type": "stream",
          "name": "stdout",
          "text": [
            "\n",
            "Query: SELECT * FROM Customers;\n",
            "Translation: Show me ALL columns from Customers table\n",
            "\n"
          ]
        },
        {
          "output_type": "error",
          "ename": "NameError",
          "evalue": "name 'pd' is not defined",
          "traceback": [
            "\u001b[0;31m---------------------------------------------------------------------------\u001b[0m",
            "\u001b[0;31mNameError\u001b[0m                                 Traceback (most recent call last)",
            "\u001b[0;32m/tmp/ipython-input-1762636028.py\u001b[0m in \u001b[0;36m<cell line: 0>\u001b[0;34m()\u001b[0m\n\u001b[1;32m      5\u001b[0m \u001b[0;34m\u001b[0m\u001b[0m\n\u001b[1;32m      6\u001b[0m \u001b[0mquery2\u001b[0m \u001b[0;34m=\u001b[0m \u001b[0;34m\"SELECT * FROM Customers;\"\u001b[0m\u001b[0;34m\u001b[0m\u001b[0;34m\u001b[0m\u001b[0m\n\u001b[0;32m----> 7\u001b[0;31m \u001b[0mresult2\u001b[0m \u001b[0;34m=\u001b[0m \u001b[0mpd\u001b[0m\u001b[0;34m.\u001b[0m\u001b[0mread_sql_query\u001b[0m\u001b[0;34m(\u001b[0m\u001b[0mquery2\u001b[0m\u001b[0;34m,\u001b[0m \u001b[0mconn\u001b[0m\u001b[0;34m)\u001b[0m\u001b[0;34m\u001b[0m\u001b[0;34m\u001b[0m\u001b[0m\n\u001b[0m\u001b[1;32m      8\u001b[0m \u001b[0mprint\u001b[0m\u001b[0;34m(\u001b[0m\u001b[0mresult2\u001b[0m\u001b[0;34m.\u001b[0m\u001b[0mto_string\u001b[0m\u001b[0;34m(\u001b[0m\u001b[0mindex\u001b[0m\u001b[0;34m=\u001b[0m\u001b[0;32mFalse\u001b[0m\u001b[0;34m)\u001b[0m\u001b[0;34m)\u001b[0m\u001b[0;34m\u001b[0m\u001b[0;34m\u001b[0m\u001b[0m\n",
            "\u001b[0;31mNameError\u001b[0m: name 'pd' is not defined"
          ]
        }
      ]
    },
    {
      "cell_type": "markdown",
      "source": [
        "### 🔍 Basic SQL: `WHERE` Clause\n",
        "\n",
        "The `WHERE` clause filters your rows based on a specific condition:"
      ],
      "metadata": {
        "id": "PYkwKlTyBXmm"
      }
    },
    {
      "cell_type": "code",
      "source": [
        "# WHERE clause examples\n",
        "print(\"\\n🔍 BASIC SQL: WHERE CLAUSE\")\n",
        "print(\"=\" * 35)\n",
        "\n",
        "print(\"Query: SELECT * FROM Customers WHERE Country = 'Germany';\")\n",
        "print(\"Translation: Show German customers only\")\n",
        "print()\n",
        "\n",
        "query3 = \"SELECT * FROM Customers WHERE Country = 'Germany';\"\n",
        "result3 = pd.read_sql_query(query3, conn)\n",
        "print(result3.to_string(index=False))"
      ],
      "metadata": {
        "colab": {
          "base_uri": "https://localhost:8080/",
          "height": 297
        },
        "id": "ARI-ILAGBYg5",
        "outputId": "818d2fcb-f9cd-4318-f8e3-76ebc05ebaf5"
      },
      "execution_count": 12,
      "outputs": [
        {
          "output_type": "stream",
          "name": "stdout",
          "text": [
            "\n",
            "🔍 BASIC SQL: WHERE CLAUSE\n",
            "===================================\n",
            "Query: SELECT * FROM Customers WHERE Country = 'Germany';\n",
            "Translation: Show German customers only\n",
            "\n"
          ]
        },
        {
          "output_type": "error",
          "ename": "NameError",
          "evalue": "name 'pd' is not defined",
          "traceback": [
            "\u001b[0;31m---------------------------------------------------------------------------\u001b[0m",
            "\u001b[0;31mNameError\u001b[0m                                 Traceback (most recent call last)",
            "\u001b[0;32m/tmp/ipython-input-1093791502.py\u001b[0m in \u001b[0;36m<cell line: 0>\u001b[0;34m()\u001b[0m\n\u001b[1;32m      8\u001b[0m \u001b[0;34m\u001b[0m\u001b[0m\n\u001b[1;32m      9\u001b[0m \u001b[0mquery3\u001b[0m \u001b[0;34m=\u001b[0m \u001b[0;34m\"SELECT * FROM Customers WHERE Country = 'Germany';\"\u001b[0m\u001b[0;34m\u001b[0m\u001b[0;34m\u001b[0m\u001b[0m\n\u001b[0;32m---> 10\u001b[0;31m \u001b[0mresult3\u001b[0m \u001b[0;34m=\u001b[0m \u001b[0mpd\u001b[0m\u001b[0;34m.\u001b[0m\u001b[0mread_sql_query\u001b[0m\u001b[0;34m(\u001b[0m\u001b[0mquery3\u001b[0m\u001b[0;34m,\u001b[0m \u001b[0mconn\u001b[0m\u001b[0;34m)\u001b[0m\u001b[0;34m\u001b[0m\u001b[0;34m\u001b[0m\u001b[0m\n\u001b[0m\u001b[1;32m     11\u001b[0m \u001b[0mprint\u001b[0m\u001b[0;34m(\u001b[0m\u001b[0mresult3\u001b[0m\u001b[0;34m.\u001b[0m\u001b[0mto_string\u001b[0m\u001b[0;34m(\u001b[0m\u001b[0mindex\u001b[0m\u001b[0;34m=\u001b[0m\u001b[0;32mFalse\u001b[0m\u001b[0;34m)\u001b[0m\u001b[0;34m)\u001b[0m\u001b[0;34m\u001b[0m\u001b[0;34m\u001b[0m\u001b[0m\n",
            "\u001b[0;31mNameError\u001b[0m: name 'pd' is not defined"
          ]
        }
      ]
    },
    {
      "cell_type": "code",
      "source": [
        "# Multiple conditions with AND/OR\n",
        "print(\"\\nQuery: SELECT * FROM Customers WHERE Country = 'Mexico' AND City = 'México D.F.';\")\n",
        "print(\"Translation: Show customers from Mexico City only\")\n",
        "print()\n",
        "\n",
        "query4 = \"SELECT * FROM Customers WHERE Country = 'Mexico' AND City = 'México D.F.';\"\n",
        "result4 = pd.read_sql_query(query4, conn)\n",
        "print(result4.to_string(index=False))"
      ],
      "metadata": {
        "colab": {
          "base_uri": "https://localhost:8080/",
          "height": 263
        },
        "id": "7o-p49_-Bcm_",
        "outputId": "75479929-cf71-4e93-c74d-e610182e2dec"
      },
      "execution_count": 13,
      "outputs": [
        {
          "output_type": "stream",
          "name": "stdout",
          "text": [
            "\n",
            "Query: SELECT * FROM Customers WHERE Country = 'Mexico' AND City = 'México D.F.';\n",
            "Translation: Show customers from Mexico City only\n",
            "\n"
          ]
        },
        {
          "output_type": "error",
          "ename": "NameError",
          "evalue": "name 'pd' is not defined",
          "traceback": [
            "\u001b[0;31m---------------------------------------------------------------------------\u001b[0m",
            "\u001b[0;31mNameError\u001b[0m                                 Traceback (most recent call last)",
            "\u001b[0;32m/tmp/ipython-input-2604373556.py\u001b[0m in \u001b[0;36m<cell line: 0>\u001b[0;34m()\u001b[0m\n\u001b[1;32m      5\u001b[0m \u001b[0;34m\u001b[0m\u001b[0m\n\u001b[1;32m      6\u001b[0m \u001b[0mquery4\u001b[0m \u001b[0;34m=\u001b[0m \u001b[0;34m\"SELECT * FROM Customers WHERE Country = 'Mexico' AND City = 'México D.F.';\"\u001b[0m\u001b[0;34m\u001b[0m\u001b[0;34m\u001b[0m\u001b[0m\n\u001b[0;32m----> 7\u001b[0;31m \u001b[0mresult4\u001b[0m \u001b[0;34m=\u001b[0m \u001b[0mpd\u001b[0m\u001b[0;34m.\u001b[0m\u001b[0mread_sql_query\u001b[0m\u001b[0;34m(\u001b[0m\u001b[0mquery4\u001b[0m\u001b[0;34m,\u001b[0m \u001b[0mconn\u001b[0m\u001b[0;34m)\u001b[0m\u001b[0;34m\u001b[0m\u001b[0;34m\u001b[0m\u001b[0m\n\u001b[0m\u001b[1;32m      8\u001b[0m \u001b[0mprint\u001b[0m\u001b[0;34m(\u001b[0m\u001b[0mresult4\u001b[0m\u001b[0;34m.\u001b[0m\u001b[0mto_string\u001b[0m\u001b[0;34m(\u001b[0m\u001b[0mindex\u001b[0m\u001b[0;34m=\u001b[0m\u001b[0;32mFalse\u001b[0m\u001b[0;34m)\u001b[0m\u001b[0;34m)\u001b[0m\u001b[0;34m\u001b[0m\u001b[0;34m\u001b[0m\u001b[0m\n",
            "\u001b[0;31mNameError\u001b[0m: name 'pd' is not defined"
          ]
        }
      ]
    },
    {
      "cell_type": "markdown",
      "source": [
        "### 🔍 Basic SQL: `ORDER BY` Clause\n",
        "\n",
        "The `ORDER BY` clause sorts your final results:"
      ],
      "metadata": {
        "id": "CrFp4JV7Bfn7"
      }
    },
    {
      "cell_type": "code",
      "source": [
        "# ORDER BY examples\n",
        "print(\"\\n🔍 BASIC SQL: ORDER BY CLAUSE\")\n",
        "print(\"=\" * 35)\n",
        "\n",
        "print(\"Query: SELECT CustomerName, City FROM Customers ORDER BY CustomerName;\")\n",
        "print(\"Translation: Show customers sorted alphabetically by name\")\n",
        "print()\n",
        "\n",
        "query5 = \"SELECT CustomerName, City FROM Customers ORDER BY CustomerName;\"\n",
        "result5 = pd.read_sql_query(query5, conn)\n",
        "print(result5.to_string(index=False))"
      ],
      "metadata": {
        "id": "0riG-gIpBgcR"
      },
      "execution_count": null,
      "outputs": []
    },
    {
      "cell_type": "code",
      "source": [
        "# ORDER BY with descending sort\n",
        "print(\"\\nQuery: SELECT CustomerName, City FROM Customers ORDER BY CustomerName DESC;\")\n",
        "print(\"Translation: Show customers sorted in reverse alphabetical order\")\n",
        "print()\n",
        "\n",
        "query6 = \"SELECT CustomerName, City FROM Customers ORDER BY CustomerName DESC;\"\n",
        "result6 = pd.read_sql_query(query6, conn)\n",
        "print(result6.to_string(index=False))"
      ],
      "metadata": {
        "id": "aXi5XyQxBkUd"
      },
      "execution_count": null,
      "outputs": []
    },
    {
      "cell_type": "markdown",
      "source": [
        "## 4. 🧪 Hands-On Lab: Querying a Sample Database\n",
        "\n",
        "Now let's practice with more realistic queries using our sample database."
      ],
      "metadata": {
        "id": "Dq4Zd7jyBr21"
      }
    },
    {
      "cell_type": "code",
      "source": [
        "# Hands-on lab exercises\n",
        "print(\"🧪 HANDS-ON LAB: SQL QUERY PRACTICE\")\n",
        "print(\"=\" * 40)\n",
        "\n",
        "# Exercise 1: Get all products with prices\n",
        "print(\"1. 📋 Get all products with names and prices:\")\n",
        "query7 = \"SELECT ProductName, Price FROM Products;\"\n",
        "result7 = pd.read_sql_query(query7, conn)\n",
        "print(result7.to_string(index=False))\n",
        "print()"
      ],
      "metadata": {
        "colab": {
          "base_uri": "https://localhost:8080/",
          "height": 263
        },
        "id": "t46kgIeqB6Pm",
        "outputId": "ff5db514-1dec-40b1-eb86-20c0058287d2"
      },
      "execution_count": 14,
      "outputs": [
        {
          "output_type": "stream",
          "name": "stdout",
          "text": [
            "🧪 HANDS-ON LAB: SQL QUERY PRACTICE\n",
            "========================================\n",
            "1. 📋 Get all products with names and prices:\n"
          ]
        },
        {
          "output_type": "error",
          "ename": "NameError",
          "evalue": "name 'pd' is not defined",
          "traceback": [
            "\u001b[0;31m---------------------------------------------------------------------------\u001b[0m",
            "\u001b[0;31mNameError\u001b[0m                                 Traceback (most recent call last)",
            "\u001b[0;32m/tmp/ipython-input-3370481834.py\u001b[0m in \u001b[0;36m<cell line: 0>\u001b[0;34m()\u001b[0m\n\u001b[1;32m      6\u001b[0m \u001b[0mprint\u001b[0m\u001b[0;34m(\u001b[0m\u001b[0;34m\"1. 📋 Get all products with names and prices:\"\u001b[0m\u001b[0;34m)\u001b[0m\u001b[0;34m\u001b[0m\u001b[0;34m\u001b[0m\u001b[0m\n\u001b[1;32m      7\u001b[0m \u001b[0mquery7\u001b[0m \u001b[0;34m=\u001b[0m \u001b[0;34m\"SELECT ProductName, Price FROM Products;\"\u001b[0m\u001b[0;34m\u001b[0m\u001b[0;34m\u001b[0m\u001b[0m\n\u001b[0;32m----> 8\u001b[0;31m \u001b[0mresult7\u001b[0m \u001b[0;34m=\u001b[0m \u001b[0mpd\u001b[0m\u001b[0;34m.\u001b[0m\u001b[0mread_sql_query\u001b[0m\u001b[0;34m(\u001b[0m\u001b[0mquery7\u001b[0m\u001b[0;34m,\u001b[0m \u001b[0mconn\u001b[0m\u001b[0;34m)\u001b[0m\u001b[0;34m\u001b[0m\u001b[0;34m\u001b[0m\u001b[0m\n\u001b[0m\u001b[1;32m      9\u001b[0m \u001b[0mprint\u001b[0m\u001b[0;34m(\u001b[0m\u001b[0mresult7\u001b[0m\u001b[0;34m.\u001b[0m\u001b[0mto_string\u001b[0m\u001b[0;34m(\u001b[0m\u001b[0mindex\u001b[0m\u001b[0;34m=\u001b[0m\u001b[0;32mFalse\u001b[0m\u001b[0;34m)\u001b[0m\u001b[0;34m)\u001b[0m\u001b[0;34m\u001b[0m\u001b[0;34m\u001b[0m\u001b[0m\n\u001b[1;32m     10\u001b[0m \u001b[0mprint\u001b[0m\u001b[0;34m(\u001b[0m\u001b[0;34m)\u001b[0m\u001b[0;34m\u001b[0m\u001b[0;34m\u001b[0m\u001b[0m\n",
            "\u001b[0;31mNameError\u001b[0m: name 'pd' is not defined"
          ]
        }
      ]
    },
    {
      "cell_type": "code",
      "source": [
        "# Exercise 2: Filter by country\n",
        "print(\"2. 🌍 Find all customers from Germany:\")\n",
        "query8 = \"SELECT CustomerName, City FROM Customers WHERE Country = 'Germany';\"\n",
        "result8 = pd.read_sql_query(query8, conn)\n",
        "print(result8.to_string(index=False))\n",
        "print()"
      ],
      "metadata": {
        "id": "8fGpwYSCB-_4"
      },
      "execution_count": null,
      "outputs": []
    },
    {
      "cell_type": "code",
      "source": [
        "# Exercise 3: Sort suppliers alphabetically\n",
        "print(\"3. 🔤 Get all suppliers sorted alphabetically:\")\n",
        "query9 = \"SELECT SupplierName FROM Suppliers ORDER BY SupplierName;\"\n",
        "result9 = pd.read_sql_query(query9, conn)\n",
        "print(result9.to_string(index=False))\n",
        "print()"
      ],
      "metadata": {
        "id": "7HxBHTmFCBtW"
      },
      "execution_count": null,
      "outputs": []
    },
    {
      "cell_type": "markdown",
      "source": [
        "### 🚀 Bonus Challenges\n",
        "\n",
        "Let's try some more advanced queries!"
      ],
      "metadata": {
        "id": "wpxZuXmXCDjj"
      }
    },
    {
      "cell_type": "code",
      "source": [
        "# Bonus Challenge 1: Descending order\n",
        "print(\"🚀 BONUS CHALLENGE 1: Descending Order\")\n",
        "print(\"Get suppliers in reverse alphabetical order:\")\n",
        "query10 = \"SELECT SupplierName FROM Suppliers ORDER BY SupplierName DESC;\"\n",
        "result10 = pd.read_sql_query(query10, conn)\n",
        "print(result10.to_string(index=False))\n",
        "print()"
      ],
      "metadata": {
        "id": "_m1NEX8BCFUb"
      },
      "execution_count": null,
      "outputs": []
    },
    {
      "cell_type": "code",
      "source": [
        "# Bonus Challenge 2: Pattern matching with LIKE\n",
        "print(\"🚀 BONUS CHALLENGE 2: Pattern Matching\")\n",
        "print(\"Find products containing 'Chef' in name:\")\n",
        "query11 = \"SELECT ProductName, Price FROM Products WHERE ProductName LIKE '%Chef%';\"\n",
        "result11 = pd.read_sql_query(query11, conn)\n",
        "print(result11.to_string(index=False))\n",
        "print()\n",
        "\n",
        "print(\"📝 LIKE OPERATOR EXPLANATION:\")\n",
        "print(\"   - %Chef% means 'contains Chef anywhere'\")\n",
        "print(\"   - Chef% means 'starts with Chef'\")\n",
        "print(\"   - %Chef means 'ends with Chef'\")"
      ],
      "metadata": {
        "id": "zCoqM3loCHko"
      },
      "execution_count": null,
      "outputs": []
    },
    {
      "cell_type": "code",
      "source": [
        "# More advanced queries for practice\n",
        "print(\"🎯 EXTRA PRACTICE QUERIES:\")\n",
        "print(\"=\" * 30)\n",
        "\n",
        "print(\"1. Products cheaper than $20:\")\n",
        "query12 = \"SELECT ProductName, Price FROM Products WHERE Price < 20;\"\n",
        "result12 = pd.read_sql_query(query12, conn)\n",
        "print(result12.to_string(index=False))\n",
        "print()\n",
        "\n",
        "print(\"2. Beverages category products:\")\n",
        "query13 = \"SELECT ProductName, Price FROM Products WHERE Category = 'Beverages';\"\n",
        "result13 = pd.read_sql_query(query13, conn)\n",
        "print(result13.to_string(index=False))\n",
        "print()\n",
        "\n",
        "print(\"3. Customers not from Germany:\")\n",
        "query14 = \"SELECT CustomerName, Country FROM Customers WHERE Country != 'Germany';\"\n",
        "result14 = pd.read_sql_query(query14, conn)\n",
        "print(result14.to_string(index=False))"
      ],
      "metadata": {
        "id": "FusHSqVjCJ3l"
      },
      "execution_count": null,
      "outputs": []
    },
    {
      "cell_type": "code",
      "source": [
        "# Close the database connection\n",
        "conn.close()\n",
        "print(\"✅ Database connection closed\")"
      ],
      "metadata": {
        "id": "oI4P5D6FCOKv"
      },
      "execution_count": null,
      "outputs": []
    },
    {
      "cell_type": "markdown",
      "source": [
        "## 5. 📚 Comprehensive SQL & Databases Summary\n",
        "\n",
        "### 🎯 What We Learned:\n",
        "\n",
        "1.  **Database Fundamentals:** Why we need databases instead of flat files\n",
        "2.  **Relational Concepts:** Tables, rows, columns, primary keys, foreign keys\n",
        "3.  **Database Design:** How to structure data with relationships\n",
        "4.  **SQL Basics:** `SELECT`, `FROM`, `WHERE`, `ORDER BY` clauses\n",
        "5.  **Practical Skills:** Writing and executing SQL queries\n",
        "\n",
        "### 🔑 Key Concepts:\n",
        "\n",
        "- **Normalization:** Eliminating data redundancy through proper table design\n",
        "- **Relationships:** Linking tables through primary and foreign keys\n",
        "- **SQL Syntax:** The language for interacting with databases\n",
        "- **Data Integrity:** Maintaining accurate and consistent data\n",
        "\n",
        "### 💡 Real-world Applications:\n",
        "\n",
        "- **E-commerce:** Customer orders, product catalogs, inventory\n",
        "- **Social Media:** User profiles, posts, comments, likes\n",
        "- **Blogging:** Articles, authors, categories, tags\n",
        "- **Business Systems:** Employees, departments, projects\n",
        "\n",
        "### 🚀 Best Practices:\n",
        "\n",
        "1.  **Use meaningful table and column names**\n",
        "2.  **Always define primary keys**\n",
        "3.  **Use foreign keys to enforce relationships**\n",
        "4.  **Normalize data to avoid duplication**\n",
        "5.  **Use `WHERE` clauses to filter data efficiently**\n",
        "6.  **Test queries before using them in production**\n",
        "\n",
        "### 📊 SQL Clause Summary:\n",
        "\n",
        "| Clause | Purpose | Example |\n",
        "|:-------|:--------|:--------|\n",
        "| **SELECT** | Choose columns to display | `SELECT name, age` |\n",
        "| **FROM** | Specify table to query | `FROM users` |\n",
        "| **WHERE** | Filter rows based on conditions | `WHERE age > 18` |\n",
        "| **ORDER BY** | Sort results | `ORDER BY name DESC` |\n",
        "\n",
        "### ✅ Completion Checklist:\n",
        "\n",
        "- [x] Understand the problems with flat file storage\n",
        "- [x] Learn relational database concepts (tables, keys, relationships)\n",
        "- [x] Design a simple database schema\n",
        "- [x] Write basic SQL queries with `SELECT`, `FROM`\n",
        "- [x] Use `WHERE` clause for filtering data\n",
        "- [x] Use `ORDER BY` clause for sorting results\n",
        "- [x] Practice with pattern matching using `LIKE`\n",
        "- [x] Complete hands-on lab exercises\n",
        "\n",
        "### 🔮 Next Steps:\n",
        "\n",
        "1.  **Learn advanced SQL:** `JOIN`, `GROUP BY`, `HAVING`, aggregate functions\n",
        "2.  **Explore database management systems:** MySQL, PostgreSQL, SQL Server\n",
        "3.  **Learn about indexes** for performance optimization\n",
        "4.  **Study database normalization** forms\n",
        "5.  **Practice with real-world datasets**\n",
        "6.  **Learn about ORMs** (Object-Relational Mappers) for Python\n",
        "\n",
        "This foundation in SQL and relational databases will enable you to build robust, scalable applications that can handle complex data relationships efficiently! 🗄️"
      ],
      "metadata": {
        "id": "0ahC7LtzCKmy"
      }
    }
  ]
}