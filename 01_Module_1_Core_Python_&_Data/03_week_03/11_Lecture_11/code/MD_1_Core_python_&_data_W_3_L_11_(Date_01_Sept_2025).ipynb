{
  "nbformat": 4,
  "nbformat_minor": 0,
  "metadata": {
    "colab": {
      "provenance": [],
      "toc_visible": true
    },
    "kernelspec": {
      "name": "python3",
      "display_name": "Python 3"
    },
    "language_info": {
      "name": "python"
    }
  },
  "cells": [
    {
      "cell_type": "markdown",
      "source": [
        "# 🧰 Module 1: Core Python & Data - Week 3 Lecture 11\n",
        "**Date:** 01/09/2025  \n",
        "**Documented By:** Muhammad Soban Shaukat\n",
        "\n",
        "## 🏗️ A New Way of Building: Introduction to Modules\n",
        "\n",
        "Welcome back! You've learned to write your own functions. But what if the function you need already exists? And how do you organize your own code as it gets bigger? Python's power comes from its **modules**. Today, we'll learn how to use pre-built modules from the Standard Library and how to turn your own code into reusable modules."
      ],
      "metadata": {
        "id": "_PX4tVRy-k5-"
      }
    },
    {
      "cell_type": "markdown",
      "source": [
        "## 📋 Today's Agenda\n",
        "\n",
        "1.  **🤔 The \"Why\" - What is a Module?**\n",
        "    *   Analogy: The Toolbox\n",
        "\n",
        "2.  **🛠️ Creating Your Own Modules**\n",
        "    *   From Python File to Reusable Tool\n",
        "    *   Example: Making a `greeter` module\n",
        "\n",
        "3.  **📚 Exploring the Standard Library**\n",
        "    *   The `math` Module: For advanced calculations\n",
        "    *   The `random` Module: For generating random numbers and choices\n",
        "\n",
        "4.  **🧪 Putting It All Together & The Hands-On Lab**\n",
        "    *   Hands-On Lab: The Password Generator\n",
        "    *   Q&A and Wrap-up"
      ],
      "metadata": {
        "id": "yTc-IavK-6qi"
      }
    },
    {
      "cell_type": "markdown",
      "source": [
        "## 1. 🤔 The \"Why\" - What is a Module?\n",
        "\n",
        "### 🧰 Analogy: The Toolbox\n",
        "\n",
        "Imagine you're building a chair. You could create your own screws and your own screwdriver from scratch, but that's a lot of work. It's much easier to get a **toolbox** that already has all the tools and parts you need.\n",
        "\n",
        "A **module** in Python is like a toolbox. It's a file containing Python code—functions, variables, and classes. You can **import** this toolbox into your program to use its tools without having to build them yourself."
      ],
      "metadata": {
        "id": "XD2pLjeu-9Xs"
      }
    },
    {
      "cell_type": "code",
      "execution_count": 1,
      "metadata": {
        "colab": {
          "base_uri": "https://localhost:8080/"
        },
        "id": "zASPv04M-cxI",
        "outputId": "56f10b01-82ab-4085-dfbd-495e734153f9"
      },
      "outputs": [
        {
          "output_type": "stream",
          "name": "stdout",
          "text": [
            "Square root without module: 5.0\n",
            "Square root with math module: 5.0\n"
          ]
        }
      ],
      "source": [
        "# Simple analogy in code\n",
        "# Without modules (making your own tools)\n",
        "def my_sqrt(number):\n",
        "    # You'd have to write complex math yourself!\n",
        "    return number ** 0.5\n",
        "\n",
        "print(\"Square root without module:\", my_sqrt(25))\n",
        "\n",
        "# With modules (using existing tools)\n",
        "import math\n",
        "print(\"Square root with math module:\", math.sqrt(25))"
      ]
    },
    {
      "cell_type": "markdown",
      "source": [
        "## 2. 🛠️ Creating Your Own Modules\n",
        "\n",
        "The best part? **Any Python file can be a module**. If you write useful functions in a file, you can import that file into another script to reuse those functions. This is the key to organizing large projects and avoiding copy-pasting code.\n",
        "\n",
        "### 📁 The Concept:\n",
        "1. You write functions or classes in a Python file (e.g., `my_tools.py`)\n",
        "2. In another file (e.g., `main_project.py`), you write `import my_tools`\n",
        "3. Now you can use any function from the first file by calling `my_tools.function_name()`"
      ],
      "metadata": {
        "id": "O7kThpYa_IAs"
      }
    },
    {
      "cell_type": "markdown",
      "source": [
        "### 🔧 Example: Making a Greeter Module\n",
        "Let's create our own custom toolbox for greeting people."
      ],
      "metadata": {
        "id": "igo96kpr_JQa"
      }
    },
    {
      "cell_type": "code",
      "source": [
        "# In Colab, we'll simulate creating separate files using %%writefile magic command\n",
        "\n",
        "# Step 1: Create the module file (greeter.py)\n",
        "%%writefile greeter.py\n",
        "\"\"\"\n",
        "greeter.py - A simple module for greeting people\n",
        "\"\"\"\n",
        "\n",
        "def say_hello(name):\n",
        "    \"\"\"A simple function to say hello.\"\"\"\n",
        "    return f\"Hello, {name}!\"\n",
        "\n",
        "def say_goodbye(name):\n",
        "    \"\"\"A simple function to say goodbye.\"\"\"\n",
        "    return f\"Goodbye, {name}!\"\n",
        "\n",
        "def formal_greeting(name, title):\n",
        "    \"\"\"A more formal greeting.\"\"\"\n",
        "    return f\"Good day, {title} {name}!\"\n",
        "\n",
        "# Module-level variable\n",
        "company = \"Python Innovations Inc.\""
      ],
      "metadata": {
        "colab": {
          "base_uri": "https://localhost:8080/"
        },
        "id": "w9-AGVDY_LCl",
        "outputId": "4ddb02a2-7845-41a1-8d68-045e1558676f"
      },
      "execution_count": 2,
      "outputs": [
        {
          "output_type": "stream",
          "name": "stdout",
          "text": [
            "Writing greeter.py\n"
          ]
        }
      ]
    },
    {
      "cell_type": "code",
      "source": [
        "# Step 2: Create the main script to use the module (app.py)\n",
        "%%writefile app.py\n",
        "\"\"\"\n",
        "app.py - Main script that uses our greeter module\n",
        "\"\"\"\n",
        "\n",
        "# We import our own module just like a built-in one!\n",
        "import greeter\n",
        "\n",
        "# Now we can use the functions from greeter.py\n",
        "print(greeter.say_hello(\"Alice\"))\n",
        "print(greeter.say_goodbye(\"Bob\"))\n",
        "print(greeter.formal_greeting(\"Smith\", \"Dr.\"))\n",
        "\n",
        "# We can also access module variables\n",
        "print(f\"Welcome to {greeter.company}\")\n",
        "\n",
        "# We can see all available functions/attributes\n",
        "print(\"\\nAvailable in greeter module:\")\n",
        "for item in dir(greeter):\n",
        "    if not item.startswith('_'):  # Skip private attributes\n",
        "        print(f\"  - {item}\")"
      ],
      "metadata": {
        "colab": {
          "base_uri": "https://localhost:8080/"
        },
        "id": "RVnb5WG6_Ujl",
        "outputId": "9efe97f3-5dd0-4972-e122-791911981bab"
      },
      "execution_count": 3,
      "outputs": [
        {
          "output_type": "stream",
          "name": "stdout",
          "text": [
            "Writing app.py\n"
          ]
        }
      ]
    },
    {
      "cell_type": "code",
      "source": [
        "# Step 3: Run the main script (simulating command line execution)\n",
        "!python app.py"
      ],
      "metadata": {
        "colab": {
          "base_uri": "https://localhost:8080/"
        },
        "id": "CrSLhaun_ZZl",
        "outputId": "fb24995d-79b8-43d1-997b-7397fab626df"
      },
      "execution_count": 4,
      "outputs": [
        {
          "output_type": "stream",
          "name": "stdout",
          "text": [
            "Hello, Alice!\n",
            "Goodbye, Bob!\n",
            "Good day, Dr. Smith!\n",
            "Welcome to Python Innovations Inc.\n",
            "\n",
            "Available in greeter module:\n",
            "  - company\n",
            "  - formal_greeting\n",
            "  - say_goodbye\n",
            "  - say_hello\n"
          ]
        }
      ]
    },
    {
      "cell_type": "markdown",
      "source": [
        "### 📝 Importing Specific Items\n",
        "You can also import specific functions instead of the whole module:"
      ],
      "metadata": {
        "id": "44ZrcK9C_UUr"
      }
    },
    {
      "cell_type": "code",
      "source": [
        "# Alternative import methods\n",
        "from greeter import say_hello, company\n",
        "\n",
        "# Now we can use them directly without the module prefix\n",
        "print(say_hello(\"Eve\"))\n",
        "print(company)\n",
        "\n",
        "# Import with alias for shorter names\n",
        "import greeter as gr\n",
        "print(gr.say_goodbye(\"Charlie\"))"
      ],
      "metadata": {
        "colab": {
          "base_uri": "https://localhost:8080/"
        },
        "id": "sdDnfczP_i-I",
        "outputId": "79586532-3770-4c5d-f995-6d43bc0501ba"
      },
      "execution_count": 5,
      "outputs": [
        {
          "output_type": "stream",
          "name": "stdout",
          "text": [
            "Hello, Eve!\n",
            "Python Innovations Inc.\n",
            "Goodbye, Charlie!\n"
          ]
        }
      ]
    },
    {
      "cell_type": "markdown",
      "source": [
        "## 3. 📚 Exploring the Standard Library\n",
        "\n",
        "Python comes with a rich collection of built-in modules called the **Standard Library**. These are like professional toolboxes that come with Python - no installation needed!"
      ],
      "metadata": {
        "id": "tWsFKiIu_nCq"
      }
    },
    {
      "cell_type": "markdown",
      "source": [
        "### 🧮 The Math Module: Your Pocket Calculator\n",
        "The `math` module gives you access to advanced mathematical functions.\n",
        "\n",
        "**How to use it:** `import math`\n",
        "\n",
        "**Key Functions:**\n",
        "- `math.sqrt(x)`: Returns the square root of x\n",
        "- `math.ceil(x)`: Rounds x up to the nearest whole number\n",
        "- `math.floor(x)`: Rounds x down to the nearest whole number\n",
        "- `math.pi`: A variable that holds the value of Pi (3.14159...)\n",
        "- `math.e`: The base of natural logarithms (2.71828...)"
      ],
      "metadata": {
        "id": "y6jzJ8a6_pIb"
      }
    },
    {
      "cell_type": "code",
      "source": [
        "# Example: Using the math module\n",
        "import math\n",
        "\n",
        "# Calculate square root\n",
        "result = math.sqrt(81)\n",
        "print(f\"The square root of 81 is {result}\")\n",
        "\n",
        "# Use the value of Pi for circle calculations\n",
        "radius = 5\n",
        "circumference = 2 * math.pi * radius\n",
        "area = math.pi * radius ** 2\n",
        "\n",
        "print(f\"Circle with radius {radius}:\")\n",
        "print(f\"  Circumference: {circumference:.2f}\")\n",
        "print(f\"  Area: {area:.2f}\")\n",
        "\n",
        "# Rounding functions\n",
        "number = 3.7\n",
        "print(f\"ceil({number}) = {math.ceil(number)}\")\n",
        "print(f\"floor({number}) = {math.floor(number)}\")\n",
        "\n",
        "# Constants\n",
        "print(f\"Pi: {math.pi}\")\n",
        "print(f\"Euler's number: {math.e}\")"
      ],
      "metadata": {
        "colab": {
          "base_uri": "https://localhost:8080/"
        },
        "id": "pik43Kqu_qLS",
        "outputId": "982ce40a-f34d-4a99-f1ac-e879f343845b"
      },
      "execution_count": 6,
      "outputs": [
        {
          "output_type": "stream",
          "name": "stdout",
          "text": [
            "The square root of 81 is 9.0\n",
            "Circle with radius 5:\n",
            "  Circumference: 31.42\n",
            "  Area: 78.54\n",
            "ceil(3.7) = 4\n",
            "floor(3.7) = 3\n",
            "Pi: 3.141592653589793\n",
            "Euler's number: 2.718281828459045\n"
          ]
        }
      ]
    },
    {
      "cell_type": "markdown",
      "source": [
        "### 🧠 In-Class Exercise: Area of a Circle\n",
        "\n",
        "**Instructions:**\n",
        "1. Import the `math` module\n",
        "2. Create a variable `radius` and set it to 10\n",
        "3. Calculate the area of the circle using the formula: `Area = π * r²`\n",
        "4. Print the result in a user-friendly sentence"
      ],
      "metadata": {
        "id": "iwEeoahL_xOy"
      }
    },
    {
      "cell_type": "code",
      "source": [
        "# Exercise Solution: Area of a Circle\n",
        "import math\n",
        "\n",
        "radius = 10\n",
        "area = math.pi * (radius ** 2)\n",
        "\n",
        "print(f\"The area of a circle with radius {radius} is {area:.2f}\")"
      ],
      "metadata": {
        "colab": {
          "base_uri": "https://localhost:8080/"
        },
        "id": "nEM215ZG_wL2",
        "outputId": "a4259ed7-6b3e-4660-8d00-f93f423c9a87"
      },
      "execution_count": 7,
      "outputs": [
        {
          "output_type": "stream",
          "name": "stdout",
          "text": [
            "The area of a circle with radius 10 is 314.16\n"
          ]
        }
      ]
    },
    {
      "cell_type": "markdown",
      "source": [
        "### 🎲 The Random Module: Embracing Unpredictability\n",
        "The `random` module allows you to generate random numbers, pick random items, and shuffle lists.\n",
        "\n",
        "**What it's for:** Games, simulations, and creating unpredictable data like secure passwords.\n",
        "\n",
        "**How to use it:** `import random`\n",
        "\n",
        "**Key Functions:**\n",
        "- `random.randint(a, b)`: Returns a random integer between a and b (inclusive)\n",
        "- `random.choice(sequence)`: Returns a single random element from a sequence\n",
        "- `random.shuffle(x)`: Shuffles the items in a list x in place\n",
        "- `random.random()`: Returns a random float between 0.0 and 1.0\n",
        "- `random.uniform(a, b)`: Returns a random float between a and b"
      ],
      "metadata": {
        "id": "ZaVimcXn_2-R"
      }
    },
    {
      "cell_type": "code",
      "source": [
        "# Example: Using the random module\n",
        "import random\n",
        "\n",
        "# Simulate a six-sided dice roll\n",
        "dice_roll = random.randint(1, 6)\n",
        "print(f\"You rolled a {dice_roll}\")\n",
        "\n",
        "# Pick a random winner from a list\n",
        "participants = [\"Alice\", \"Bob\", \"Charlie\", \"Dana\"]\n",
        "winner = random.choice(participants)\n",
        "print(f\"The winner is {winner}!\")\n",
        "\n",
        "# Shuffle a list (modifies the original list)\n",
        "cards = [\"Ace\", \"King\", \"Queen\", \"Jack\", \"10\"]\n",
        "print(\"Original cards:\", cards)\n",
        "random.shuffle(cards)\n",
        "print(\"Shuffled cards:\", cards)\n",
        "\n",
        "# Generate random floats\n",
        "print(\"Random float between 0-1:\", random.random())\n",
        "print(\"Random float between 5-10:\", random.uniform(5, 10))"
      ],
      "metadata": {
        "colab": {
          "base_uri": "https://localhost:8080/"
        },
        "id": "2KfE0d6Q_5OV",
        "outputId": "9feb92c4-0692-4ea4-e9d0-b53cd86a73a9"
      },
      "execution_count": 8,
      "outputs": [
        {
          "output_type": "stream",
          "name": "stdout",
          "text": [
            "You rolled a 1\n",
            "The winner is Alice!\n",
            "Original cards: ['Ace', 'King', 'Queen', 'Jack', '10']\n",
            "Shuffled cards: ['Queen', '10', 'King', 'Ace', 'Jack']\n",
            "Random float between 0-1: 0.6029039309916636\n",
            "Random float between 5-10: 7.496194390869933\n"
          ]
        }
      ]
    },
    {
      "cell_type": "markdown",
      "source": [
        "### 🧠 In-Class Exercise: Coin Flip\n",
        "\n",
        "**Instructions:**\n",
        "1. Import the `random` module\n",
        "2. Create a list called `outcomes` that contains two strings: \"Heads\" and \"Tails\"\n",
        "3. Use `random.choice()` to select one of the outcomes from your list\n",
        "4. Print the result"
      ],
      "metadata": {
        "id": "t6AqRaTb_9TY"
      }
    },
    {
      "cell_type": "code",
      "source": [
        "# Exercise Solution: Coin Flip\n",
        "import random\n",
        "\n",
        "outcomes = [\"Heads\", \"Tails\"]\n",
        "result = random.choice(outcomes)\n",
        "\n",
        "print(f\"The coin flip result is: {result}\")"
      ],
      "metadata": {
        "colab": {
          "base_uri": "https://localhost:8080/"
        },
        "id": "E59ZPLD5__ns",
        "outputId": "2e61dce3-d756-4969-f133-6a39d1ea89c7"
      },
      "execution_count": 9,
      "outputs": [
        {
          "output_type": "stream",
          "name": "stdout",
          "text": [
            "The coin flip result is: Tails\n"
          ]
        }
      ]
    },
    {
      "cell_type": "markdown",
      "source": [
        "## 4. 📚 Python Standard Library – Must-Know Modules\n",
        "\n",
        "Python's Standard Library is massive! Here are some essential modules you should know:\n",
        "\n",
        "| Module | Purpose | Key Features |\n",
        "| :--- | :--- | :--- |\n",
        "| **`os`** | Interact with operating system | File/folder operations, environment variables |\n",
        "| **`pathlib`** | Modern file path handling | Object-oriented path manipulation |\n",
        "| **`datetime`** | Work with dates and times | Date arithmetic, formatting, timezones |\n",
        "| **`sys`** | Access Python runtime | Command-line arguments, system info |\n",
        "| **`json`** | JSON data handling | Convert between JSON and Python objects |\n",
        "| **`collections`** | Advanced data types | `Counter`, `deque`, `namedtuple`, etc. |\n",
        "| **`unittest`** | Automated testing | Write and run test cases |\n",
        "| **`hashlib`** | Secure hashing | Password hashing, data integrity |\n",
        "\n",
        "**These are built-in — no installation needed! Just import and go.**"
      ],
      "metadata": {
        "id": "7Q6OdUJrAB22"
      }
    },
    {
      "cell_type": "code",
      "source": [
        "# Quick examples of other useful modules\n",
        "import os\n",
        "import datetime\n",
        "import json\n",
        "\n",
        "# OS module example\n",
        "print(\"Current working directory:\", os.getcwd())\n",
        "print(\"Files in current directory:\", os.listdir('.'))\n",
        "\n",
        "# Datetime module example\n",
        "now = datetime.datetime.now()\n",
        "print(\"Current date/time:\", now)\n",
        "print(\"Formatted date:\", now.strftime(\"%Y-%m-%d %H:%M:%S\"))\n",
        "\n",
        "# JSON module example\n",
        "data = {\n",
        "    \"name\": \"Alice\",\n",
        "    \"age\": 30,\n",
        "    \"is_student\": False,\n",
        "    \"courses\": [\"Math\", \"Science\"]\n",
        "}\n",
        "\n",
        "json_string = json.dumps(data, indent=2)\n",
        "print(\"JSON representation:\")\n",
        "print(json_string)\n",
        "\n",
        "# Convert back to Python\n",
        "python_data = json.loads(json_string)\n",
        "print(\"Python data:\", python_data)"
      ],
      "metadata": {
        "colab": {
          "base_uri": "https://localhost:8080/"
        },
        "id": "WQaOu0dbAEQ2",
        "outputId": "d677ed4e-7619-4629-b151-adae86704eb7"
      },
      "execution_count": 10,
      "outputs": [
        {
          "output_type": "stream",
          "name": "stdout",
          "text": [
            "Current working directory: /content\n",
            "Files in current directory: ['.config', '__pycache__', 'app.py', 'greeter.py', 'sample_data']\n",
            "Current date/time: 2025-09-02 05:57:19.867406\n",
            "Formatted date: 2025-09-02 05:57:19\n",
            "JSON representation:\n",
            "{\n",
            "  \"name\": \"Alice\",\n",
            "  \"age\": 30,\n",
            "  \"is_student\": false,\n",
            "  \"courses\": [\n",
            "    \"Math\",\n",
            "    \"Science\"\n",
            "  ]\n",
            "}\n",
            "Python data: {'name': 'Alice', 'age': 30, 'is_student': False, 'courses': ['Math', 'Science']}\n"
          ]
        }
      ]
    },
    {
      "cell_type": "markdown",
      "source": [
        "## 5. 🧪 Hands-On Lab: Secure Password Generator\n",
        "\n",
        "**Goal:** Build a password generator using OOP that:\n",
        "- Generates 8-character secure passwords\n",
        "- Must include:\n",
        "  - 1 uppercase letter\n",
        "  - 1 lowercase letter\n",
        "  - 1 digit\n",
        "  - 1 special character\n",
        "- Uses a class structure placed in a separate module and imported in main script"
      ],
      "metadata": {
        "id": "D0DV3xJJAJch"
      }
    },
    {
      "cell_type": "markdown",
      "source": [
        "### 🔧 Step 1: Create the Module File → `password_generator.py`"
      ],
      "metadata": {
        "id": "q2tdlnUPAOEa"
      }
    },
    {
      "cell_type": "code",
      "source": [
        "# Step 1: Create the password_generator module\n",
        "%%writefile password_generator.py\n",
        "\"\"\"\n",
        "password_generator.py - A secure password generator module\n",
        "\"\"\"\n",
        "\n",
        "import random\n",
        "import string\n",
        "\n",
        "class PasswordGenerator:\n",
        "    def __init__(self, length=8):\n",
        "        self.length = length\n",
        "        # Define character sets\n",
        "        self.uppercase_letters = string.ascii_uppercase  # A-Z\n",
        "        self.lowercase_letters = string.ascii_lowercase  # a-z\n",
        "        self.digits = string.digits                      # 0-9\n",
        "        self.special_chars = \"!@#$%^&*\"                 # Special characters\n",
        "\n",
        "        # Combine all characters for the remaining spots\n",
        "        self.all_chars = (self.uppercase_letters +\n",
        "                         self.lowercase_letters +\n",
        "                         self.digits +\n",
        "                         self.special_chars)\n",
        "\n",
        "    def generate_password(self):\n",
        "        \"\"\"Generate a secure password meeting complexity requirements.\"\"\"\n",
        "        # Start with empty password list\n",
        "        password_chars = []\n",
        "\n",
        "        # Ensure at least one of each required type\n",
        "        password_chars.append(random.choice(self.uppercase_letters))\n",
        "        password_chars.append(random.choice(self.lowercase_letters))\n",
        "        password_chars.append(random.choice(self.digits))\n",
        "        password_chars.append(random.choice(self.special_chars))\n",
        "\n",
        "        # Fill the rest with random characters from all groups\n",
        "        remaining_length = self.length - len(password_chars)\n",
        "        for _ in range(remaining_length):\n",
        "            password_chars.append(random.choice(self.all_chars))\n",
        "\n",
        "        # Shuffle to avoid predictable patterns\n",
        "        random.shuffle(password_chars)\n",
        "\n",
        "        # Convert list to string\n",
        "        return ''.join(password_chars)\n",
        "\n",
        "    def generate_multiple_passwords(self, count=5):\n",
        "        \"\"\"Generate multiple passwords.\"\"\"\n",
        "        return [self.generate_password() for _ in range(count)]\n",
        "\n",
        "    def is_secure(self, password):\n",
        "        \"\"\"Check if a password meets security requirements.\"\"\"\n",
        "        has_upper = any(char in self.uppercase_letters for char in password)\n",
        "        has_lower = any(char in self.lowercase_letters for char in password)\n",
        "        has_digit = any(char in self.digits for char in password)\n",
        "        has_special = any(char in self.special_chars for char in password)\n",
        "\n",
        "        return has_upper and has_lower and has_digit and has_special\n",
        "\n",
        "# Example usage if run directly\n",
        "if __name__ == \"__main__\":\n",
        "    generator = PasswordGenerator()\n",
        "    print(\"Sample password:\", generator.generate_password())"
      ],
      "metadata": {
        "colab": {
          "base_uri": "https://localhost:8080/"
        },
        "id": "Xz0dUlB2AQfJ",
        "outputId": "2d88980c-5c23-4fc0-e9eb-21b3f7b874d3"
      },
      "execution_count": 11,
      "outputs": [
        {
          "output_type": "stream",
          "name": "stdout",
          "text": [
            "Writing password_generator.py\n"
          ]
        }
      ]
    },
    {
      "cell_type": "markdown",
      "source": [
        "### 🔧 Step 2: Create Main File → `app.py`"
      ],
      "metadata": {
        "id": "RszdsgKPAWZe"
      }
    },
    {
      "cell_type": "code",
      "source": [
        "# Step 2: Create the main application file\n",
        "%%writefile app.py\n",
        "\"\"\"\n",
        "app.py - Main application that uses our password generator\n",
        "\"\"\"\n",
        "\n",
        "from password_generator import PasswordGenerator\n",
        "\n",
        "def main():\n",
        "    # Create password generator instance\n",
        "    generator = PasswordGenerator(length=12)  # You can change the length\n",
        "\n",
        "    # Generate a single password\n",
        "    print(\"🔒 Secure Password Generator\")\n",
        "    print(\"=\" * 30)\n",
        "\n",
        "    password = generator.generate_password()\n",
        "    print(f\"Your new password: {password}\")\n",
        "    print(f\"Length: {len(password)} characters\")\n",
        "    print(f\"Meets security requirements: {generator.is_secure(password)}\")\n",
        "\n",
        "    # Generate multiple passwords\n",
        "    print(\"\\n\" + \"=\" * 30)\n",
        "    print(\"Multiple password options:\")\n",
        "    print(\"=\" * 30)\n",
        "\n",
        "    passwords = generator.generate_multiple_passwords(3)\n",
        "    for i, pwd in enumerate(passwords, 1):\n",
        "        print(f\"{i}. {pwd} (Secure: {generator.is_secure(pwd)})\")\n",
        "\n",
        "    # Test with different lengths\n",
        "    print(\"\\n\" + \"=\" * 30)\n",
        "    print(\"Testing different password lengths:\")\n",
        "    print(\"=\" * 30)\n",
        "\n",
        "    for length in [8, 12, 16]:\n",
        "        test_generator = PasswordGenerator(length)\n",
        "        test_password = test_generator.generate_password()\n",
        "        print(f\"Length {length}: {test_password}\")\n",
        "\n",
        "if __name__ == \"__main__\":\n",
        "    main()"
      ],
      "metadata": {
        "colab": {
          "base_uri": "https://localhost:8080/"
        },
        "id": "lpW3aHxxAXGR",
        "outputId": "706c631f-8a5f-49b8-8a4c-6c3de8827264"
      },
      "execution_count": 12,
      "outputs": [
        {
          "output_type": "stream",
          "name": "stdout",
          "text": [
            "Overwriting app.py\n"
          ]
        }
      ]
    },
    {
      "cell_type": "markdown",
      "source": [
        "### 🔧 Step 3: Run and Test the Application"
      ],
      "metadata": {
        "id": "oy2F_ankAb7h"
      }
    },
    {
      "cell_type": "code",
      "source": [
        "# Step 3: Run the main application\n",
        "!python app.py"
      ],
      "metadata": {
        "colab": {
          "base_uri": "https://localhost:8080/"
        },
        "id": "tAeDfDewAcpH",
        "outputId": "436a744e-faf0-4043-a335-363c9b104c58"
      },
      "execution_count": 13,
      "outputs": [
        {
          "output_type": "stream",
          "name": "stdout",
          "text": [
            "🔒 Secure Password Generator\n",
            "==============================\n",
            "Your new password: E5TS6&4#ez6S\n",
            "Length: 12 characters\n",
            "Meets security requirements: True\n",
            "\n",
            "==============================\n",
            "Multiple password options:\n",
            "==============================\n",
            "1. *23Urk9d8D0Q (Secure: True)\n",
            "2. ZWs2i2l5#mDj (Secure: True)\n",
            "3. bDWL6&N7*Ny5 (Secure: True)\n",
            "\n",
            "==============================\n",
            "Testing different password lengths:\n",
            "==============================\n",
            "Length 8: 7%KmCf#Y\n",
            "Length 12: Js@1fk3sMyYt\n",
            "Length 16: $aylx3EtD^^CD@ku\n"
          ]
        }
      ]
    },
    {
      "cell_type": "markdown",
      "source": [
        "### 🧪 Testing\n",
        "Let's test our password generator thoroughly:"
      ],
      "metadata": {
        "id": "qUgi8BDrAkJT"
      }
    },
    {
      "cell_type": "code",
      "source": [
        "# Comprehensive testing\n",
        "from password_generator import PasswordGenerator\n",
        "\n",
        "def test_password_generator():\n",
        "    \"\"\"Test the password generator thoroughly.\"\"\"\n",
        "    print(\"🧪 Comprehensive Password Generator Test\")\n",
        "    print(\"=\" * 50)\n",
        "\n",
        "    # Test different lengths\n",
        "    for length in [8, 10, 12, 16]:\n",
        "        print(f\"\\nTesting with length {length}:\")\n",
        "        generator = PasswordGenerator(length)\n",
        "\n",
        "        # Generate multiple passwords\n",
        "        passwords = generator.generate_multiple_passwords(3)\n",
        "\n",
        "        for i, password in enumerate(passwords, 1):\n",
        "            is_secure = generator.is_secure(password)\n",
        "            has_correct_length = len(password) == length\n",
        "\n",
        "            print(f\"  Password {i}: {password}\")\n",
        "            print(f\"    Length: {len(password)} (Expected: {length}) - {'✅' if has_correct_length else '❌'}\")\n",
        "            print(f\"    Secure: {'✅' if is_secure else '❌'}\")\n",
        "\n",
        "            if not has_correct_length or not is_secure:\n",
        "                print(f\"    ❌ FAILED: Password doesn't meet requirements!\")\n",
        "\n",
        "    # Test edge cases\n",
        "    print(\"\\n\" + \"=\" * 50)\n",
        "    print(\"Testing edge cases:\")\n",
        "    print(\"=\" * 50)\n",
        "\n",
        "    # Test very short password (should still work if >= 4)\n",
        "    try:\n",
        "        short_generator = PasswordGenerator(6)\n",
        "        short_pwd = short_generator.generate_password()\n",
        "        print(f\"Short password (6 chars): {short_pwd}\")\n",
        "        print(f\"  Secure: {short_generator.is_secure(short_pwd)}\")\n",
        "    except Exception as e:\n",
        "        print(f\"Error with short password: {e}\")\n",
        "\n",
        "# Run the tests\n",
        "test_password_generator()"
      ],
      "metadata": {
        "colab": {
          "base_uri": "https://localhost:8080/"
        },
        "id": "33zqCUtCAlZz",
        "outputId": "c83e1564-4a21-46ee-bd9c-d059ca4bc873"
      },
      "execution_count": 14,
      "outputs": [
        {
          "output_type": "stream",
          "name": "stdout",
          "text": [
            "🧪 Comprehensive Password Generator Test\n",
            "==================================================\n",
            "\n",
            "Testing with length 8:\n",
            "  Password 1: wk!XE7lX\n",
            "    Length: 8 (Expected: 8) - ✅\n",
            "    Secure: ✅\n",
            "  Password 2: &k3pKtUE\n",
            "    Length: 8 (Expected: 8) - ✅\n",
            "    Secure: ✅\n",
            "  Password 3: uw*F@Ka1\n",
            "    Length: 8 (Expected: 8) - ✅\n",
            "    Secure: ✅\n",
            "\n",
            "Testing with length 10:\n",
            "  Password 1: 8&EO!XCiyy\n",
            "    Length: 10 (Expected: 10) - ✅\n",
            "    Secure: ✅\n",
            "  Password 2: PTb*EOe7a5\n",
            "    Length: 10 (Expected: 10) - ✅\n",
            "    Secure: ✅\n",
            "  Password 3: v$Jr0r9$y*\n",
            "    Length: 10 (Expected: 10) - ✅\n",
            "    Secure: ✅\n",
            "\n",
            "Testing with length 12:\n",
            "  Password 1: yAl#Zhf@D#F0\n",
            "    Length: 12 (Expected: 12) - ✅\n",
            "    Secure: ✅\n",
            "  Password 2: bZ2z3$A3*9t@\n",
            "    Length: 12 (Expected: 12) - ✅\n",
            "    Secure: ✅\n",
            "  Password 3: Ik4cv#XGQ@FR\n",
            "    Length: 12 (Expected: 12) - ✅\n",
            "    Secure: ✅\n",
            "\n",
            "Testing with length 16:\n",
            "  Password 1: ^kc&#5md3PEbI^vj\n",
            "    Length: 16 (Expected: 16) - ✅\n",
            "    Secure: ✅\n",
            "  Password 2: e6pPJulA8f^WdH3E\n",
            "    Length: 16 (Expected: 16) - ✅\n",
            "    Secure: ✅\n",
            "  Password 3: 9YqpNJV9A5pb0*&M\n",
            "    Length: 16 (Expected: 16) - ✅\n",
            "    Secure: ✅\n",
            "\n",
            "==================================================\n",
            "Testing edge cases:\n",
            "==================================================\n",
            "Short password (6 chars): %0^fE%\n",
            "  Secure: True\n"
          ]
        }
      ]
    },
    {
      "cell_type": "markdown",
      "source": [
        "### 🚀 Bonus Challenge (Page 21)\n",
        "Let's implement the bonus features:"
      ],
      "metadata": {
        "id": "mG8wIK7HAqsy"
      }
    },
    {
      "cell_type": "code",
      "source": [
        "# Bonus Challenge Implementation\n",
        "%%writefile enhanced_password_generator.py\n",
        "\"\"\"\n",
        "enhanced_password_generator.py - Enhanced password generator with bonus features\n",
        "\"\"\"\n",
        "\n",
        "import random\n",
        "import string\n",
        "\n",
        "class EnhancedPasswordGenerator:\n",
        "    def __init__(self, length=8, include_special=True):\n",
        "        self.length = max(length, 4)  # Minimum 4 characters required\n",
        "        self.include_special = include_special\n",
        "\n",
        "        # Define character sets\n",
        "        self.uppercase_letters = string.ascii_uppercase  # A-Z\n",
        "        self.lowercase_letters = string.ascii_lowercase  # a-z\n",
        "        self.digits = string.digits                      # 0-9\n",
        "        self.special_chars = \"!@#$%^&*\" if include_special else \"\"\n",
        "\n",
        "        # Combine all characters for the remaining spots\n",
        "        self.all_chars = (self.uppercase_letters +\n",
        "                         self.lowercase_letters +\n",
        "                         self.digits +\n",
        "                         self.special_chars)\n",
        "\n",
        "    def generate_password(self):\n",
        "        \"\"\"Generate a secure password meeting complexity requirements.\"\"\"\n",
        "        password_chars = []\n",
        "\n",
        "        # Ensure at least one uppercase\n",
        "        password_chars.append(random.choice(self.uppercase_letters))\n",
        "\n",
        "        # Ensure at least one lowercase\n",
        "        password_chars.append(random.choice(self.lowercase_letters))\n",
        "\n",
        "        # Ensure at least one digit\n",
        "        password_chars.append(random.choice(self.digits))\n",
        "\n",
        "        # Ensure at least one special character if enabled\n",
        "        if self.include_special and self.special_chars:\n",
        "            password_chars.append(random.choice(self.special_chars))\n",
        "\n",
        "        # Fill the rest with random characters\n",
        "        remaining_length = self.length - len(password_chars)\n",
        "        for _ in range(remaining_length):\n",
        "            password_chars.append(random.choice(self.all_chars))\n",
        "\n",
        "        # Shuffle to avoid predictable patterns\n",
        "        random.shuffle(password_chars)\n",
        "\n",
        "        return ''.join(password_chars)\n",
        "\n",
        "    def generate_multiple_passwords(self, count=5):\n",
        "        \"\"\"Generate multiple passwords.\"\"\"\n",
        "        return [self.generate_password() for _ in range(count)]\n",
        "\n",
        "    def is_secure(self, password):\n",
        "        \"\"\"Check if a password meets security requirements.\"\"\"\n",
        "        has_upper = any(char in self.uppercase_letters for char in password)\n",
        "        has_lower = any(char in self.lowercase_letters for char in password)\n",
        "        has_digit = any(char in self.digits for char in password)\n",
        "        has_special = any(char in self.special_chars for char in password) if self.include_special else True\n",
        "\n",
        "        return has_upper and has_lower and has_digit and has_special\n",
        "\n",
        "# Test the enhanced generator\n",
        "if __name__ == \"__main__\":\n",
        "    print(\"Testing Enhanced Password Generator\")\n",
        "    print(\"=\" * 40)\n",
        "\n",
        "    # Test with special characters\n",
        "    print(\"\\nWith special characters:\")\n",
        "    gen1 = EnhancedPasswordGenerator(length=10, include_special=True)\n",
        "    for pwd in gen1.generate_multiple_passwords(2):\n",
        "        print(f\"  {pwd} (Secure: {gen1.is_secure(pwd)})\")\n",
        "\n",
        "    # Test without special characters\n",
        "    print(\"\\nWithout special characters:\")\n",
        "    gen2 = EnhancedPasswordGenerator(length=10, include_special=False)\n",
        "    for pwd in gen2.generate_multiple_passwords(2):\n",
        "        print(f\"  {pwd} (Secure: {gen2.is_secure(pwd)})\")"
      ],
      "metadata": {
        "colab": {
          "base_uri": "https://localhost:8080/"
        },
        "id": "I9uYJ0JsAuTQ",
        "outputId": "6cf75413-4239-4818-f154-03d32f586fae"
      },
      "execution_count": 15,
      "outputs": [
        {
          "output_type": "stream",
          "name": "stdout",
          "text": [
            "Writing enhanced_password_generator.py\n"
          ]
        }
      ]
    },
    {
      "cell_type": "code",
      "source": [
        "# Test the enhanced password generator\n",
        "!python enhanced_password_generator.py"
      ],
      "metadata": {
        "colab": {
          "base_uri": "https://localhost:8080/"
        },
        "id": "Go6xLt4dAyvX",
        "outputId": "2bcb74ba-1486-47d3-a108-4546ca0670dd"
      },
      "execution_count": 16,
      "outputs": [
        {
          "output_type": "stream",
          "name": "stdout",
          "text": [
            "Testing Enhanced Password Generator\n",
            "========================================\n",
            "\n",
            "With special characters:\n",
            "  VgORxbo7j$ (Secure: True)\n",
            "  *%286UUrge (Secure: True)\n",
            "\n",
            "Without special characters:\n",
            "  Ueq0U88Xd4 (Secure: True)\n",
            "  vie2fOCb6X (Secure: True)\n"
          ]
        }
      ]
    },
    {
      "cell_type": "markdown",
      "source": [
        "## 6. 📚 Comprehensive Modules Summary\n",
        "\n",
        "### 🎯 What We Learned:\n",
        "\n",
        "1.  **Module Basics:** Python files containing reusable code (functions, classes, variables)\n",
        "2.  **Creating Modules:** Any `.py` file can be a module\n",
        "3.  **Importing:** Use `import module_name` or `from module import function`\n",
        "4.  **Standard Library:** Rich collection of built-in modules\n",
        "5.  **Key Modules:** `math`, `random`, `os`, `datetime`, `json`, etc.\n",
        "\n",
        "### 🔑 Key Concepts:\n",
        "\n",
        "- **Modularity:** Breaking code into reusable components\n",
        "- **Code Organization:** Keeping related functionality together\n",
        "- **Code Reuse:** Avoiding duplication through imports\n",
        "- **Namespaces:** Using module prefixes to avoid naming conflicts\n",
        "\n",
        "### 💡 Real-world Applications:\n",
        "\n",
        "- **Code Organization:** Large projects with multiple files\n",
        "- **Code Sharing:** Distributing reusable components\n",
        "- **Third-party Libraries:** Using `pip` to install external modules\n",
        "- **Framework Development:** Building extensible systems\n",
        "\n",
        "### 🚀 Best Practices:\n",
        "\n",
        "1.  **Use Descriptive Names:** `database_utils.py` instead of `utils.py`\n",
        "2.  **Group Related functionality:** Keep related functions/classes together\n",
        "3.  **Use `if __name__ == \"__main__\":`** for module testing\n",
        "4.  **Document Your Modules:** Use docstrings at the top of files\n",
        "5.  **Follow PEP 8:** Python style guide for consistent code\n",
        "\n",
        "### 📊 Module Import Methods:\n",
        "\n",
        "| Method | Syntax | Usage |\n",
        "| :--- | :--- | :--- |\n",
        "| **Basic Import** | `import module` | `module.function()` |\n",
        "| **Selective Import** | `from module import func` | `func()` |\n",
        "| **Alias Import** | `import module as md` | `md.function()` |\n",
        "| **Wildcard Import** | `from module import *` | `function()` (not recommended) |\n",
        "\n",
        "### ✅ Completion Checklist:\n",
        "\n",
        "- [x] Created and used custom modules\n",
        "- [x] Used `math` module for mathematical operations\n",
        "- [x] Used `random` module for randomness\n",
        "- [x] Built a complete password generator application\n",
        "- [x] Implemented bonus features for enhanced functionality\n",
        "- [x] Tested code thoroughly with various scenarios\n",
        "\n",
        "### 🔮 Next Steps:\n",
        "\n",
        "1.  **Explore more Standard Library modules**\n",
        "2.  **Learn about virtual environments** for project isolation\n",
        "3.  **Discover third-party packages** with `pip`\n",
        "4.  **Learn about packaging** for distributing your own modules\n",
        "5.  **Explore advanced topics** like relative imports and package structure\n",
        "\n",
        "This foundation in modules will help you build organized, maintainable, and professional Python applications!"
      ],
      "metadata": {
        "id": "1GlwQxGwA2vA"
      }
    }
  ]
}