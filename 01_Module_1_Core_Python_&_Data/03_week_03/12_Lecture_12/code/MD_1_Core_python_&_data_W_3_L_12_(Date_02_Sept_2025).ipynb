{
  "nbformat": 4,
  "nbformat_minor": 0,
  "metadata": {
    "colab": {
      "provenance": []
    },
    "kernelspec": {
      "name": "python3",
      "display_name": "Python 3"
    },
    "language_info": {
      "name": "python"
    }
  },
  "cells": [
    {
      "cell_type": "markdown",
      "source": [
        "# 💾 Module 1: Core Python & Data - Week 3 Lecture 12\n",
        "**Date:** 02/09/2025  \n",
        "**Documented by:** Muhammad Soban Shaukat  \n",
        "\n",
        "## 🗃️ Beyond Volatile Memory: Introduction to File I/O\n",
        "\n",
        "**Welcome back!** Until now, our programs have had amnesia. Every time we run them, they start from a blank slate, and any data we create—like a to-do list or a contact book—vanishes the moment the program ends. Today, we solve that. We'll learn how to **read from and write to files**, allowing our applications to save their state, load data, and interact with the outside world."
      ],
      "metadata": {
        "id": "q9KdERRLz9Mp"
      }
    },
    {
      "cell_type": "markdown",
      "source": [
        "## 📋 Today's Agenda\n",
        "\n",
        "1.  **📄 The Fundamentals of Text Files (.txt)**\n",
        "    *   What is File I/O? Making Programs Remember\n",
        "    *   The `with open(...)` Statement: The Safe and Modern Way\n",
        "    *   File Modes: Reading (r), Writing (w), and Appending (a)\n",
        "    *   Reading from Files: `.read()`, `.readlines()`, and Looping\n",
        "    *   Writing to Files: `.write()`\n",
        "    *   Interactive Exercise: Saving and Reading a To-Do List\n",
        "\n",
        "2.  **📊 Working with Structured Data (.csv & JSON)**\n",
        "    *   The Problem with Plain Text for Complex Data\n",
        "    *   Introduction to CSV (Comma-Separated Values)\n",
        "    *   Reading CSV Files with the `csv` Module\n",
        "    *   Introduction to JSON: The Language of Web APIs\n",
        "    *   Using the `json` Module: `json.dump()` and `json.load()`\n",
        "    *   Interactive Exercise: Saving and Loading a Dictionary as JSON\n",
        "\n",
        "3.  **🏆 Best Practices & The Hands-On Lab**\n",
        "    *   Error Handling for Files: `try...except FileNotFoundError`\n",
        "    *   **Hands-On Lab:** Log File Analyzer\n",
        "    *   Q&A and Wrap-up"
      ],
      "metadata": {
        "id": "BY3awgN70RvE"
      }
    },
    {
      "cell_type": "markdown",
      "source": [
        "## 1. 📄 The Fundamentals of Text Files (.txt)\n",
        "\n",
        "### 🤔 What is File I/O?\n",
        "\n",
        "**File I/O (Input/Output)** is the process of a program reading data from a file (input) or writing data to a file (output). This is how we achieve **persistence**—the ability for data to survive after the program has stopped running.\n",
        "\n",
        "Think of it like this:\n",
        "- **RAM (Memory):** Temporary workspace (forgets everything when power is off)\n",
        "- **Files (Storage):** Permanent storage (remembers even after power is off)"
      ],
      "metadata": {
        "id": "0xI78qQx0Wcl"
      }
    },
    {
      "cell_type": "code",
      "execution_count": 1,
      "metadata": {
        "colab": {
          "base_uri": "https://localhost:8080/"
        },
        "id": "Q-1QAqOez2q0",
        "outputId": "c2135f57-900e-4f0b-ecf4-5bd6be1f38bf"
      },
      "outputs": [
        {
          "output_type": "stream",
          "name": "stdout",
          "text": [
            "Tasks in memory: ['Buy groceries', 'Pay bills', 'Walk the dog']\n"
          ]
        }
      ],
      "source": [
        "# Let's see the difference between memory and file storage\n",
        "\n",
        "# Data in memory (volatile - disappears when program ends)\n",
        "tasks_in_memory = [\"Buy groceries\", \"Pay bills\", \"Walk the dog\"]\n",
        "print(\"Tasks in memory:\", tasks_in_memory)\n",
        "\n",
        "# When program ends, this list is gone forever!\n",
        "# Files let us save data permanently"
      ]
    },
    {
      "cell_type": "markdown",
      "source": [
        "### 🛡️ The `with open(...)` Statement: The Safe Way\n",
        "\n",
        "To work with a file, you must first open it. The modern, recommended way is with a `with` statement. This creates a context where the file is open, and it **automatically and safely closes the file for you** when you're done, even if errors occur."
      ],
      "metadata": {
        "id": "2pwmVyoS0fIF"
      }
    },
    {
      "cell_type": "code",
      "source": [
        "# The safe way to handle files\n",
        "with open(\"example.txt\", \"w\") as f:  # 'f' is the file object\n",
        "    f.write(\"Hello, File World!\\n\")\n",
        "    f.write(\"This is line 2.\\n\")\n",
        "\n",
        "# File is automatically closed here, even if errors occurred above\n",
        "\n",
        "# Let's read it back\n",
        "with open(\"example.txt\", \"r\") as f:\n",
        "    content = f.read()\n",
        "    print(\"File content:\")\n",
        "    print(content)"
      ],
      "metadata": {
        "colab": {
          "base_uri": "https://localhost:8080/"
        },
        "id": "ZNcuK7jb0hXq",
        "outputId": "a5b5aa6c-2eec-49ab-d7bc-df004d15112e"
      },
      "execution_count": 2,
      "outputs": [
        {
          "output_type": "stream",
          "name": "stdout",
          "text": [
            "File content:\n",
            "Hello, File World!\n",
            "This is line 2.\n",
            "\n"
          ]
        }
      ]
    },
    {
      "cell_type": "markdown",
      "source": [
        "### 🔧 File Modes: 'r', 'w', and 'a'\n",
        "\n",
        "The second argument to `open()` is the **mode**. It tells Python what you intend to do with the file.\n",
        "\n",
        "| Mode | Description | Creates File | Overwrites |\n",
        "|:-----|:------------|:------------:|:----------:|\n",
        "| **'r'** (Read) | Opens for reading | ❌ | ❌ |\n",
        "| **'w'** (Write) | Opens for writing | ✅ | ✅ |\n",
        "| **'a'** (Append) | Opens for appending | ✅ | ❌ |"
      ],
      "metadata": {
        "id": "LPOnxi2l0kEq"
      }
    },
    {
      "cell_type": "code",
      "source": [
        "# Demonstration of different file modes\n",
        "\n",
        "# 1. Write mode ('w') - creates new file or overwrites existing\n",
        "with open(\"demo.txt\", \"w\") as f:\n",
        "    f.write(\"This is the original content.\\n\")\n",
        "\n",
        "print(\"After writing:\")\n",
        "with open(\"demo.txt\", \"r\") as f:\n",
        "    print(f.read())\n",
        "\n",
        "# 2. Append mode ('a') - adds to existing content\n",
        "with open(\"demo.txt\", \"a\") as f:\n",
        "    f.write(\"This is appended content.\\n\")\n",
        "\n",
        "print(\"After appending:\")\n",
        "with open(\"demo.txt\", \"r\") as f:\n",
        "    print(f.read())\n",
        "\n",
        "# 3. Write mode again - overwrites everything!\n",
        "with open(\"demo.txt\", \"w\") as f:\n",
        "    f.write(\"This completely replaces everything.\\n\")\n",
        "\n",
        "print(\"After writing again:\")\n",
        "with open(\"demo.txt\", \"r\") as f:\n",
        "    print(f.read())"
      ],
      "metadata": {
        "colab": {
          "base_uri": "https://localhost:8080/"
        },
        "id": "5skEfyqc0mih",
        "outputId": "1d8cfadf-e37d-4f57-fde7-8b2de5586ab3"
      },
      "execution_count": 3,
      "outputs": [
        {
          "output_type": "stream",
          "name": "stdout",
          "text": [
            "After writing:\n",
            "This is the original content.\n",
            "\n",
            "After appending:\n",
            "This is the original content.\n",
            "This is appended content.\n",
            "\n",
            "After writing again:\n",
            "This completely replaces everything.\n",
            "\n"
          ]
        }
      ]
    },
    {
      "cell_type": "markdown",
      "source": [
        "### 📖 Reading from Files\n",
        "\n",
        "There are several ways to read file content:\n",
        "\n",
        "1. **`.read()`** - Reads entire file as a single string\n",
        "2. **`.readlines()`** - Reads all lines into a list\n",
        "3. **Looping** - Most memory-efficient for large files"
      ],
      "metadata": {
        "id": "XLisXn-I0rK_"
      }
    },
    {
      "cell_type": "code",
      "source": [
        "# Create a sample file first\n",
        "with open(\"story.txt\", \"w\") as f:\n",
        "    f.write(\"This is line 1.\\n\")\n",
        "    f.write(\"This is line 2.\\n\")\n",
        "    f.write(\"This is line 3.\\n\")\n",
        "\n",
        "# Method 1: read() - entire file as string\n",
        "with open(\"story.txt\", \"r\") as f:\n",
        "    full_content = f.read()\n",
        "    print(\"Using read():\")\n",
        "    print(repr(full_content))  # repr shows special characters\n",
        "    print()\n",
        "\n",
        "# Method 2: readlines() - list of lines\n",
        "with open(\"story.txt\", \"r\") as f:\n",
        "    lines = f.readlines()\n",
        "    print(\"Using readlines():\")\n",
        "    for i, line in enumerate(lines):\n",
        "        print(f\"Line {i+1}: {repr(line)}\")\n",
        "    print()\n",
        "\n",
        "# Method 3: Looping - most efficient for large files\n",
        "print(\"Using loop (most efficient):\")\n",
        "with open(\"story.txt\", \"r\") as f:\n",
        "    for line_number, line in enumerate(f, 1):\n",
        "        print(f\"Line {line_number}: {line.strip()}\")  # strip() removes \\n"
      ],
      "metadata": {
        "colab": {
          "base_uri": "https://localhost:8080/"
        },
        "id": "hAwR768R0tug",
        "outputId": "0c03f805-1c4f-4d9c-ddcf-18afa82b6885"
      },
      "execution_count": 4,
      "outputs": [
        {
          "output_type": "stream",
          "name": "stdout",
          "text": [
            "Using read():\n",
            "'This is line 1.\\nThis is line 2.\\nThis is line 3.\\n'\n",
            "\n",
            "Using readlines():\n",
            "Line 1: 'This is line 1.\\n'\n",
            "Line 2: 'This is line 2.\\n'\n",
            "Line 3: 'This is line 3.\\n'\n",
            "\n",
            "Using loop (most efficient):\n",
            "Line 1: This is line 1.\n",
            "Line 2: This is line 2.\n",
            "Line 3: This is line 3.\n"
          ]
        }
      ]
    },
    {
      "cell_type": "markdown",
      "source": [
        "### 📝 Writing to Files\n",
        "\n",
        "There are two main writing methods:\n",
        "\n",
        "1. **`.write()`** - Writes a single string\n",
        "2. **`.writelines()`** - Writes a list of strings"
      ],
      "metadata": {
        "id": "0vTRBdsE0wM6"
      }
    },
    {
      "cell_type": "code",
      "source": [
        "# Writing examples\n",
        "lines_to_write = [\"First line.\\n\", \"Second line.\\n\", \"Third line.\\n\"]\n",
        "\n",
        "# Using write()\n",
        "with open(\"write_demo.txt\", \"w\") as f:\n",
        "    f.write(\"This is the first sentence.\\n\")\n",
        "    f.write(\"This is the second sentence.\\n\")\n",
        "\n",
        "# Using writelines()\n",
        "with open(\"writelines_demo.txt\", \"w\") as f:\n",
        "    f.writelines(lines_to_write)\n",
        "\n",
        "# Read and show both files\n",
        "print(\"write() demo:\")\n",
        "with open(\"write_demo.txt\", \"r\") as f:\n",
        "    print(f.read())\n",
        "\n",
        "print(\"writelines() demo:\")\n",
        "with open(\"writelines_demo.txt\", \"r\") as f:\n",
        "    print(f.read())"
      ],
      "metadata": {
        "colab": {
          "base_uri": "https://localhost:8080/"
        },
        "id": "okOlHFvr0x1q",
        "outputId": "0650f180-1a7f-4e73-a80d-a47d5186161f"
      },
      "execution_count": 5,
      "outputs": [
        {
          "output_type": "stream",
          "name": "stdout",
          "text": [
            "write() demo:\n",
            "This is the first sentence.\n",
            "This is the second sentence.\n",
            "\n",
            "writelines() demo:\n",
            "First line.\n",
            "Second line.\n",
            "Third line.\n",
            "\n"
          ]
        }
      ]
    },
    {
      "cell_type": "markdown",
      "source": [
        "### 🧠 In-Class Exercise: Saving a To-Do List (Page 8)\n",
        "\n",
        "**Instructions:**\n",
        "1. Create a list of strings: `tasks = [\"Buy groceries\", \"Pay bills\", \"Walk the dog\"]`\n",
        "2. Write this list to a file named `todo.txt`. Each task should be on a new line\n",
        "3. Write a second piece of code that opens `todo.txt` for reading and prints each task"
      ],
      "metadata": {
        "id": "ZK1e1rRo05Ji"
      }
    },
    {
      "cell_type": "code",
      "source": [
        "# Exercise Solution: To-Do List Manager\n",
        "\n",
        "# Step 1: Create and write to-do list\n",
        "tasks = [\"Buy groceries\", \"Pay bills\", \"Walk the dog\"]\n",
        "\n",
        "with open(\"todo.txt\", \"w\") as f:\n",
        "    for task in tasks:\n",
        "        f.write(task + \"\\n\")  # Add newline after each task\n",
        "\n",
        "print(\"✅ To-do list saved to todo.txt\")\n",
        "\n",
        "# Step 2: Read and display to-do list\n",
        "print(\"\\n📋 Your To-Do List:\")\n",
        "print(\"=\" * 20)\n",
        "\n",
        "try:\n",
        "    with open(\"todo.txt\", \"r\") as f:\n",
        "        for line_number, task in enumerate(f, 1):\n",
        "            print(f\"{line_number}. {task.strip()}\")\n",
        "except FileNotFoundError:\n",
        "    print(\"No to-do list found. Create one first!\")"
      ],
      "metadata": {
        "colab": {
          "base_uri": "https://localhost:8080/"
        },
        "id": "zajr8AQl03ge",
        "outputId": "8440a59b-5849-4a7f-c1a6-b25ed24dfcce"
      },
      "execution_count": 6,
      "outputs": [
        {
          "output_type": "stream",
          "name": "stdout",
          "text": [
            "✅ To-do list saved to todo.txt\n",
            "\n",
            "📋 Your To-Do List:\n",
            "====================\n",
            "1. Buy groceries\n",
            "2. Pay bills\n",
            "3. Walk the dog\n"
          ]
        }
      ]
    },
    {
      "cell_type": "markdown",
      "source": [
        "## 2. 📊 Working with Structured Data (.csv & JSON)\n",
        "\n",
        "### 🤔 The Problem with Plain Text\n",
        "\n",
        "Our `.txt` files are simple, but what if we wanted to save structured data like our contact book?\n",
        "\n",
        "```python\n",
        "contact_book = {\n",
        "    \"Alice\": {\"phone\": \"555-1234\", \"email\": \"alice@example.com\"},\n",
        "    \"Bob\": {\"phone\": \"555-5678\", \"email\": \"bob@example.com\"}\n",
        "}"
      ],
      "metadata": {
        "id": "akb954j109JR"
      }
    },
    {
      "cell_type": "markdown",
      "source": [
        "\n",
        "### 📊 Introduction to CSV\n",
        "\n",
        "**CSV (Comma-Separated Values)** is a simple format for tabular data. Each line is a row, and commas separate the values in that row.\n",
        "\n",
        "Example:\n",
        "\n",
        "name,email,phone\n",
        "\n",
        "Alice,alice@example.com,555-1234\n",
        "\n",
        "Bob,bob@example.com,555-5678"
      ],
      "metadata": {
        "id": "Icj2bzzy1Xz9"
      }
    },
    {
      "cell_type": "code",
      "source": [
        "# First, let's create a CSV file manually\n",
        "csv_content = \"\"\"name,email,phone\n",
        "Alice,alice@example.com,555-1234\n",
        "Bob,bob@example.com,555-5678\n",
        "Charlie,charlie@example.com,555-9012\"\"\"\n",
        "\n",
        "with open(\"contacts.csv\", \"w\") as f:\n",
        "    f.write(csv_content)\n",
        "\n",
        "print(\"Created contacts.csv\")"
      ],
      "metadata": {
        "colab": {
          "base_uri": "https://localhost:8080/"
        },
        "id": "YyhEeGna1cpi",
        "outputId": "9b7224d3-c5ad-4449-9059-6355e132b834"
      },
      "execution_count": 7,
      "outputs": [
        {
          "output_type": "stream",
          "name": "stdout",
          "text": [
            "Created contacts.csv\n"
          ]
        }
      ]
    },
    {
      "cell_type": "markdown",
      "source": [
        "### 🐍 Reading CSV Files with the `csv` Module\n",
        "\n",
        "Python has a built-in `csv` module to make working with CSV files easy."
      ],
      "metadata": {
        "id": "-vjJlEZJ1lqX"
      }
    },
    {
      "cell_type": "code",
      "source": [
        "import csv\n",
        "\n",
        "# Reading CSV files\n",
        "print(\"Reading CSV with csv module:\")\n",
        "print(\"=\" * 30)\n",
        "\n",
        "with open(\"contacts.csv\", \"r\") as f:\n",
        "    csv_reader = csv.reader(f)\n",
        "\n",
        "    # Get header row\n",
        "    headers = next(csv_reader)\n",
        "    print(f\"Headers: {headers}\")\n",
        "\n",
        "    # Read data rows\n",
        "    for row_number, row in enumerate(csv_reader, 1):\n",
        "        print(f\"Row {row_number}: {row}\")\n",
        "        print(f\"  Name: {row[0]}, Email: {row[1]}, Phone: {row[2]}\")"
      ],
      "metadata": {
        "colab": {
          "base_uri": "https://localhost:8080/"
        },
        "id": "8IJhykJO1oTF",
        "outputId": "3730ee83-9f02-4eb8-edd4-48da0e473f3f"
      },
      "execution_count": 8,
      "outputs": [
        {
          "output_type": "stream",
          "name": "stdout",
          "text": [
            "Reading CSV with csv module:\n",
            "==============================\n",
            "Headers: ['name', 'email', 'phone']\n",
            "Row 1: ['Alice', 'alice@example.com', '555-1234']\n",
            "  Name: Alice, Email: alice@example.com, Phone: 555-1234\n",
            "Row 2: ['Bob', 'bob@example.com', '555-5678']\n",
            "  Name: Bob, Email: bob@example.com, Phone: 555-5678\n",
            "Row 3: ['Charlie', 'charlie@example.com', '555-9012']\n",
            "  Name: Charlie, Email: charlie@example.com, Phone: 555-9012\n"
          ]
        }
      ]
    },
    {
      "cell_type": "code",
      "source": [
        "# Writing CSV files\n",
        "import csv\n",
        "\n",
        "new_contacts = [\n",
        "    [\"David\", \"david@example.com\", \"555-3456\"],\n",
        "    [\"Eva\", \"eva@example.com\", \"555-7890\"]\n",
        "]\n",
        "\n",
        "with open(\"new_contacts.csv\", \"w\", newline='') as f:\n",
        "    csv_writer = csv.writer(f)\n",
        "    csv_writer.writerow([\"name\", \"email\", \"phone\"])  # Write header\n",
        "    csv_writer.writerows(new_contacts)  # Write all rows\n",
        "\n",
        "print(\"Created new_contacts.csv\")"
      ],
      "metadata": {
        "colab": {
          "base_uri": "https://localhost:8080/"
        },
        "id": "Cby4MqnO1zBw",
        "outputId": "ba9b850f-5129-4f4d-b0ca-6be162e8ba45"
      },
      "execution_count": 9,
      "outputs": [
        {
          "output_type": "stream",
          "name": "stdout",
          "text": [
            "Created new_contacts.csv\n"
          ]
        }
      ]
    },
    {
      "cell_type": "markdown",
      "source": [
        "### 🏆 A Better Way: JSON\n",
        "\n",
        "While CSV is good for tables, the best way to save native Python data structures like lists and dictionaries is **JSON (JavaScript Object Notation)**. It's human-readable and maps almost perfectly to Python's syntax.\n",
        "\n",
        "The `json` module is the tool for this:\n",
        "- `json.dump(python_object, file_object)`: **Dumps** a Python object into a file\n",
        "- `json.load(file_object)`: **Loads** a JSON file back into a Python object"
      ],
      "metadata": {
        "id": "UmHbrix513Em"
      }
    },
    {
      "cell_type": "code",
      "source": [
        "import json\n",
        "\n",
        "# Our complex data structure\n",
        "contact_book = {\n",
        "    \"Alice\": {\n",
        "        \"phone\": \"555-1234\",\n",
        "        \"email\": \"alice@example.com\",\n",
        "        \"active\": True\n",
        "    },\n",
        "    \"Bob\": {\n",
        "        \"phone\": \"555-5678\",\n",
        "        \"email\": \"bob@example.com\",\n",
        "        \"active\": False\n",
        "    }\n",
        "}\n",
        "\n",
        "# Saving to JSON file\n",
        "with open(\"contacts.json\", \"w\") as f:\n",
        "    json.dump(contact_book, f, indent=4)  # indent makes it readable\n",
        "\n",
        "print(\"✅ Saved contacts to contacts.json\")\n",
        "\n",
        "# Reading from JSON file\n",
        "with open(\"contacts.json\", \"r\") as f:\n",
        "    loaded_contacts = json.load(f)\n",
        "\n",
        "print(\"📖 Loaded contacts from JSON:\")\n",
        "print(f\"Alice's email: {loaded_contacts['Alice']['email']}\")\n",
        "print(f\"Bob is active: {loaded_contacts['Bob']['active']}\")\n",
        "print(f\"Full data type: {type(loaded_contacts)}\")"
      ],
      "metadata": {
        "colab": {
          "base_uri": "https://localhost:8080/"
        },
        "id": "dssVrJBe14B4",
        "outputId": "22a3607f-03c2-409c-eddd-ffbdbbd834de"
      },
      "execution_count": 10,
      "outputs": [
        {
          "output_type": "stream",
          "name": "stdout",
          "text": [
            "✅ Saved contacts to contacts.json\n",
            "📖 Loaded contacts from JSON:\n",
            "Alice's email: alice@example.com\n",
            "Bob is active: False\n",
            "Full data type: <class 'dict'>\n"
          ]
        }
      ]
    },
    {
      "cell_type": "markdown",
      "source": [
        "### 🧠 In-Class Exercise: Save and Load a Configuration (Page 14)\n",
        "\n",
        "**Instructions:**\n",
        "1. Create a Python dictionary: `settings = {\"theme\": \"dark\", \"notifications_enabled\": True, \"font_size\": 14}`\n",
        "2. Use the `json` module to dump this into `settings.json`\n",
        "3. Write code that loads `settings.json` and prints the \"theme\" value"
      ],
      "metadata": {
        "id": "Cq3B2hpZ19cy"
      }
    },
    {
      "cell_type": "code",
      "source": [
        "# Exercise Solution: Configuration Manager\n",
        "import json\n",
        "\n",
        "# Step 1: Create settings dictionary\n",
        "settings = {\n",
        "    \"theme\": \"dark\",\n",
        "    \"notifications_enabled\": True,\n",
        "    \"font_size\": 14,\n",
        "    \"language\": \"English\"\n",
        "}\n",
        "\n",
        "# Step 2: Save to JSON file\n",
        "with open(\"settings.json\", \"w\") as f:\n",
        "    json.dump(settings, f, indent=4)\n",
        "\n",
        "print(\"✅ Settings saved to settings.json\")\n",
        "\n",
        "# Step 3: Load and use settings\n",
        "with open(\"settings.json\", \"r\") as f:\n",
        "    loaded_settings = json.load(f)\n",
        "\n",
        "print(\"\\n⚙️ Current Settings:\")\n",
        "print(\"=\" * 20)\n",
        "print(f\"Theme: {loaded_settings['theme']}\")\n",
        "print(f\"Notifications: {'Enabled' if loaded_settings['notifications_enabled'] else 'Disabled'}\")\n",
        "print(f\"Font Size: {loaded_settings['font_size']}\")\n",
        "print(f\"Language: {loaded_settings['language']}\")"
      ],
      "metadata": {
        "colab": {
          "base_uri": "https://localhost:8080/"
        },
        "id": "K8LutYdS1_tX",
        "outputId": "17131610-8fc9-4968-b01d-2d9649e35d84"
      },
      "execution_count": 11,
      "outputs": [
        {
          "output_type": "stream",
          "name": "stdout",
          "text": [
            "✅ Settings saved to settings.json\n",
            "\n",
            "⚙️ Current Settings:\n",
            "====================\n",
            "Theme: dark\n",
            "Notifications: Enabled\n",
            "Font Size: 14\n",
            "Language: English\n"
          ]
        }
      ]
    },
    {
      "cell_type": "markdown",
      "source": [
        "## 3. 🏆 Best Practices & The Hands-On Lab\n",
        "\n",
        "### 🚨 Error Handling for Files\n",
        "\n",
        "What happens if you try to read a file that doesn't exist? Your program crashes with a `FileNotFoundError`. We can handle this gracefully using `try...except`."
      ],
      "metadata": {
        "id": "dTCPDMGd2EvN"
      }
    },
    {
      "cell_type": "code",
      "source": [
        "# Error handling for file operations\n",
        "def read_file_safely(filename):\n",
        "    try:\n",
        "        with open(filename, \"r\") as f:\n",
        "            content = f.read()\n",
        "        return content\n",
        "    except FileNotFoundError:\n",
        "        return f\"❌ Error: The file '{filename}' was not found.\"\n",
        "    except PermissionError:\n",
        "        return f\"❌ Error: You don't have permission to read '{filename}'.\"\n",
        "    except Exception as e:\n",
        "        return f\"❌ Unexpected error: {e}\"\n",
        "\n",
        "# Test error handling\n",
        "print(read_file_safely(\"non_existent_file.txt\"))\n",
        "print(read_file_safely(\"settings.json\"))  # This should work"
      ],
      "metadata": {
        "colab": {
          "base_uri": "https://localhost:8080/"
        },
        "id": "w5zFXn_-2HP-",
        "outputId": "7e50ad7f-d608-46ae-f331-d5e513dc1a34"
      },
      "execution_count": 12,
      "outputs": [
        {
          "output_type": "stream",
          "name": "stdout",
          "text": [
            "❌ Error: The file 'non_existent_file.txt' was not found.\n",
            "{\n",
            "    \"theme\": \"dark\",\n",
            "    \"notifications_enabled\": true,\n",
            "    \"font_size\": 14,\n",
            "    \"language\": \"English\"\n",
            "}\n"
          ]
        }
      ]
    },
    {
      "cell_type": "markdown",
      "source": [
        "### 🧪 Hands-On Lab: Log File Analyzer\n",
        "\n",
        "**Goal:** You are given a log file from a server. Your task is to read the file, parse it, and count the number of \"ERROR\" and \"WARNING\" messages.\n",
        "\n",
        "**Sample log.txt:**\n",
        "\n",
        "INFO: User login successful\n",
        "\n",
        "ERROR: Database connection failed\n",
        "\n",
        "WARNING: Disk space running low\n",
        "\n",
        "INFO: File uploaded successfully\n",
        "\n",
        "ERROR: Invalid user input\n",
        "\n",
        "WARNING: High memory usage\n"
      ],
      "metadata": {
        "id": "L-UFF5s82M5E"
      }
    },
    {
      "cell_type": "code",
      "source": [
        "# First, let's create the sample log file\n",
        "log_content = \"\"\"INFO: User login successful\n",
        "ERROR: Database connection failed\n",
        "WARNING: Disk space running low\n",
        "INFO: File uploaded successfully\n",
        "ERROR: Invalid user input\n",
        "WARNING: High memory usage\n",
        "INFO: Backup completed\n",
        "ERROR: Network timeout\n",
        "WARNING: CPU temperature high\"\"\"\n",
        "\n",
        "with open(\"log.txt\", \"w\") as f:\n",
        "    f.write(log_content)\n",
        "\n",
        "print(\"Created sample log.txt\")"
      ],
      "metadata": {
        "colab": {
          "base_uri": "https://localhost:8080/"
        },
        "id": "59EDsRnX2S3g",
        "outputId": "98cf8c21-6355-432e-bb8f-bbd490920d03"
      },
      "execution_count": 13,
      "outputs": [
        {
          "output_type": "stream",
          "name": "stdout",
          "text": [
            "Created sample log.txt\n"
          ]
        }
      ]
    },
    {
      "cell_type": "markdown",
      "source": [
        "### 🔧 Part 1: Reading the File"
      ],
      "metadata": {
        "id": "oilasuoZ2emG"
      }
    },
    {
      "cell_type": "code",
      "source": [
        "# Part 1: Basic log analyzer\n",
        "log_counts = {\"ERROR\": 0, \"WARNING\": 0, \"INFO\": 0}\n",
        "\n",
        "with open(\"log.txt\", \"r\") as f:\n",
        "    for line in f:\n",
        "        line = line.strip()\n",
        "        if not line:  # Skip empty lines\n",
        "            continue\n",
        "\n",
        "        # Split by colon to get log level\n",
        "        parts = line.split(\":\", 1)  # Split into 2 parts at most\n",
        "        if len(parts) >= 2:\n",
        "            log_level = parts[0].strip()\n",
        "            message = parts[1].strip()\n",
        "\n",
        "            # Count the log level\n",
        "            if log_level in log_counts:\n",
        "                log_counts[log_level] += 1\n",
        "\n",
        "print(\"Basic Log Analysis:\")\n",
        "print(\"=\" * 25)\n",
        "for level, count in log_counts.items():\n",
        "    print(f\"{level}: {count}\")"
      ],
      "metadata": {
        "colab": {
          "base_uri": "https://localhost:8080/"
        },
        "id": "hHMghxPT2gnt",
        "outputId": "192e6935-7df1-4925-b73f-031534fed64f"
      },
      "execution_count": 14,
      "outputs": [
        {
          "output_type": "stream",
          "name": "stdout",
          "text": [
            "Basic Log Analysis:\n",
            "=========================\n",
            "ERROR: 3\n",
            "WARNING: 3\n",
            "INFO: 3\n"
          ]
        }
      ]
    },
    {
      "cell_type": "markdown",
      "source": [
        "### 🔧 Part 2: Enhanced Parsing and Counting"
      ],
      "metadata": {
        "id": "Ia5PtSB42oXJ"
      }
    },
    {
      "cell_type": "code",
      "source": [
        "# Part 2: More robust log analyzer\n",
        "def analyze_log(filepath):\n",
        "    \"\"\"Analyze a log file and count message types.\"\"\"\n",
        "    log_counts = {\"ERROR\": 0, \"WARNING\": 0, \"INFO\": 0, \"OTHER\": 0}\n",
        "\n",
        "    try:\n",
        "        with open(filepath, \"r\") as f:\n",
        "            for line_number, line in enumerate(f, 1):\n",
        "                line = line.strip()\n",
        "                if not line:\n",
        "                    continue\n",
        "\n",
        "                # Parse log level (more robust method)\n",
        "                if \":\" in line:\n",
        "                    log_level = line.split(\":\", 1)[0].strip()\n",
        "                else:\n",
        "                    log_level = \"OTHER\"\n",
        "\n",
        "                # Count the log level\n",
        "                if log_level in log_counts:\n",
        "                    log_counts[log_level] += 1\n",
        "                else:\n",
        "                    log_counts[\"OTHER\"] += 1\n",
        "\n",
        "        return log_counts\n",
        "\n",
        "    except FileNotFoundError:\n",
        "        print(f\"❌ Error: File '{filepath}' not found.\")\n",
        "        return None\n",
        "    except Exception as e:\n",
        "        print(f\"❌ Unexpected error: {e}\")\n",
        "        return None\n",
        "\n",
        "# Test the enhanced analyzer\n",
        "results = analyze_log(\"log.txt\")\n",
        "if results:\n",
        "    print(\"\\nEnhanced Log Analysis:\")\n",
        "    print(\"=\" * 25)\n",
        "    for level, count in results.items():\n",
        "        print(f\"{level}: {count}\")"
      ],
      "metadata": {
        "colab": {
          "base_uri": "https://localhost:8080/"
        },
        "id": "vUQZD_D82o9K",
        "outputId": "2a617590-4a0c-4d86-8f21-ead7a1f10abd"
      },
      "execution_count": 15,
      "outputs": [
        {
          "output_type": "stream",
          "name": "stdout",
          "text": [
            "\n",
            "Enhanced Log Analysis:\n",
            "=========================\n",
            "ERROR: 3\n",
            "WARNING: 3\n",
            "INFO: 3\n",
            "OTHER: 0\n"
          ]
        }
      ]
    },
    {
      "cell_type": "markdown",
      "source": [
        "### 🔧 Part 3: Reporting and Bonus Features"
      ],
      "metadata": {
        "id": "djKhG9Wk2tOK"
      }
    },
    {
      "cell_type": "code",
      "source": [
        "# Part 3: Complete solution with all bonus features\n",
        "import csv\n",
        "import sys\n",
        "import json\n",
        "\n",
        "def advanced_log_analyzer(filepath, output_csv=None, output_json=None):\n",
        "    \"\"\"\n",
        "    Advanced log file analyzer with multiple output options.\n",
        "\n",
        "    Args:\n",
        "        filepath (str): Path to the log file\n",
        "        output_csv (str): Optional path for CSV output\n",
        "        output_json (str): Optional path for JSON output\n",
        "\n",
        "    Returns:\n",
        "        dict: Counts of each log level\n",
        "    \"\"\"\n",
        "    log_counts = {\"ERROR\": 0, \"WARNING\": 0, \"INFO\": 0, \"OTHER\": 0}\n",
        "\n",
        "    try:\n",
        "        with open(filepath, \"r\") as f:\n",
        "            for line in f:\n",
        "                line = line.strip()\n",
        "                if not line:\n",
        "                    continue\n",
        "\n",
        "                # Parse log level\n",
        "                if \":\" in line:\n",
        "                    log_level = line.split(\":\", 1)[0].strip().upper()\n",
        "                else:\n",
        "                    log_level = \"OTHER\"\n",
        "\n",
        "                # Count the log level\n",
        "                if log_level in log_counts:\n",
        "                    log_counts[log_level] += 1\n",
        "                else:\n",
        "                    log_counts[\"OTHER\"] += 1\n",
        "\n",
        "        # Generate reports\n",
        "        print(\"\\n\" + \"=\" * 40)\n",
        "        print(\"📊 LOG ANALYSIS REPORT\")\n",
        "        print(\"=\" * 40)\n",
        "\n",
        "        total_messages = sum(log_counts.values())\n",
        "        for level, count in log_counts.items():\n",
        "            percentage = (count / total_messages) * 100 if total_messages > 0 else 0\n",
        "            print(f\"{level:8}: {count:3} messages ({percentage:5.1f}%)\")\n",
        "\n",
        "        # CSV Output\n",
        "        if output_csv:\n",
        "            with open(output_csv, \"w\", newline='') as f:\n",
        "                writer = csv.writer(f)\n",
        "                writer.writerow([\"LogLevel\", \"Count\"])\n",
        "                for level, count in log_counts.items():\n",
        "                    writer.writerow([level, count])\n",
        "            print(f\"\\n✅ CSV report saved to: {output_csv}\")\n",
        "\n",
        "        # JSON Output\n",
        "        if output_json:\n",
        "            report_data = {\n",
        "                \"filename\": filepath,\n",
        "                \"analysis_date\": \"2025-09-01\",\n",
        "                \"counts\": log_counts,\n",
        "                \"total_messages\": total_messages\n",
        "            }\n",
        "\n",
        "            with open(output_json, \"w\") as f:\n",
        "                json.dump(report_data, f, indent=4)\n",
        "            print(f\"✅ JSON report saved to: {output_json}\")\n",
        "\n",
        "        return log_counts\n",
        "\n",
        "    except FileNotFoundError:\n",
        "        print(f\"❌ Error: File '{filepath}' not found.\")\n",
        "        return None\n",
        "    except Exception as e:\n",
        "        print(f\"❌ Unexpected error: {e}\")\n",
        "        return None\n",
        "\n",
        "# Run the advanced analyzer\n",
        "advanced_log_analyzer(\"log.txt\", output_csv=\"log_report.csv\", output_json=\"log_report.json\")\n",
        "\n",
        "# Show the generated reports\n",
        "print(\"\\nGenerated CSV content:\")\n",
        "with open(\"log_report.csv\", \"r\") as f:\n",
        "    print(f.read())\n",
        "\n",
        "print(\"\\nGenerated JSON content:\")\n",
        "with open(\"log_report.json\", \"r\") as f:\n",
        "    print(f.read())"
      ],
      "metadata": {
        "colab": {
          "base_uri": "https://localhost:8080/"
        },
        "id": "32pSPpH82t3Q",
        "outputId": "966e5487-6c7b-4f29-c2fe-e96cfc607e10"
      },
      "execution_count": 16,
      "outputs": [
        {
          "output_type": "stream",
          "name": "stdout",
          "text": [
            "\n",
            "========================================\n",
            "📊 LOG ANALYSIS REPORT\n",
            "========================================\n",
            "ERROR   :   3 messages ( 33.3%)\n",
            "WARNING :   3 messages ( 33.3%)\n",
            "INFO    :   3 messages ( 33.3%)\n",
            "OTHER   :   0 messages (  0.0%)\n",
            "\n",
            "✅ CSV report saved to: log_report.csv\n",
            "✅ JSON report saved to: log_report.json\n",
            "\n",
            "Generated CSV content:\n",
            "LogLevel,Count\n",
            "ERROR,3\n",
            "WARNING,3\n",
            "INFO,3\n",
            "OTHER,0\n",
            "\n",
            "\n",
            "Generated JSON content:\n",
            "{\n",
            "    \"filename\": \"log.txt\",\n",
            "    \"analysis_date\": \"2025-09-01\",\n",
            "    \"counts\": {\n",
            "        \"ERROR\": 3,\n",
            "        \"WARNING\": 3,\n",
            "        \"INFO\": 3,\n",
            "        \"OTHER\": 0\n",
            "    },\n",
            "    \"total_messages\": 9\n",
            "}\n"
          ]
        }
      ]
    },
    {
      "cell_type": "markdown",
      "source": [
        "### 🚀 Challenge: Command-Line Interface"
      ],
      "metadata": {
        "id": "_NP8nGom26w-"
      }
    },
    {
      "cell_type": "code",
      "source": [
        "# Challenge: Command-line version\n",
        "import sys\n",
        "\n",
        "def main():\n",
        "    \"\"\"Main function for command-line usage.\"\"\"\n",
        "    if len(sys.argv) < 2:\n",
        "        print(\"Usage: python log_analyzer.py <logfile> [output_csv] [output_json]\")\n",
        "        print(\"Example: python log_analyzer.py log.txt report.csv report.json\")\n",
        "        sys.exit(1)\n",
        "\n",
        "    log_file = sys.argv[1]\n",
        "    output_csv = sys.argv[2] if len(sys.argv) > 2 else None\n",
        "    output_json = sys.argv[3] if len(sys.argv) > 3 else None\n",
        "\n",
        "    print(f\"Analyzing log file: {log_file}\")\n",
        "    results = advanced_log_analyzer(log_file, output_csv, output_json)\n",
        "\n",
        "    if results is None:\n",
        "        sys.exit(1)\n",
        "\n",
        "# Simulate command-line arguments for demonstration\n",
        "print(\"Simulating command-line execution:\")\n",
        "sys.argv = [\"log_analyzer.py\", \"log.txt\", \"cli_report.csv\", \"cli_report.json\"]\n",
        "main()"
      ],
      "metadata": {
        "colab": {
          "base_uri": "https://localhost:8080/"
        },
        "id": "18oNrgbT2477",
        "outputId": "e57b3f7b-9e74-44eb-ceda-18da7ac7e713"
      },
      "execution_count": 17,
      "outputs": [
        {
          "output_type": "stream",
          "name": "stdout",
          "text": [
            "Simulating command-line execution:\n",
            "Analyzing log file: log.txt\n",
            "\n",
            "========================================\n",
            "📊 LOG ANALYSIS REPORT\n",
            "========================================\n",
            "ERROR   :   3 messages ( 33.3%)\n",
            "WARNING :   3 messages ( 33.3%)\n",
            "INFO    :   3 messages ( 33.3%)\n",
            "OTHER   :   0 messages (  0.0%)\n",
            "\n",
            "✅ CSV report saved to: cli_report.csv\n",
            "✅ JSON report saved to: cli_report.json\n"
          ]
        }
      ]
    },
    {
      "cell_type": "markdown",
      "source": [
        "## 4. 📚 Comprehensive File I/O Summary\n",
        "\n",
        "### 🎯 What We Learned:\n",
        "\n",
        "1.  **File Basics:** Reading and writing text files with `with open()`\n",
        "2.  **File Modes:** `'r'` (read), `'w'` (write), `'a'` (append)\n",
        "3.  **Reading Methods:** `.read()`, `.readlines()`, and looping\n",
        "4.  **Structured Data:** CSV and JSON formats for complex data\n",
        "5.  **Error Handling:** `try...except` for robust file operations\n",
        "6.  **Real-world Application:** Log file analyzer\n",
        "\n",
        "### 🔑 Key Concepts:\n",
        "\n",
        "- **Persistence:** Saving data beyond program execution\n",
        "- **Context Managers:** `with` statements for safe file handling\n",
        "- **Serialization:** Converting objects to/from storage formats\n",
        "- **Structured Formats:** CSV for tables, JSON for complex objects\n",
        "\n",
        "### 💡 Real-world Applications:\n",
        "\n",
        "- **Configuration Files:** Saving user settings\n",
        "- **Data Export/Import:** CSV for spreadsheet data\n",
        "- **Web APIs:** JSON for data exchange\n",
        "- **Logging:** Recording application events\n",
        "- **Data Processing:** Analyzing large text files\n",
        "\n",
        "### 🚀 Best Practices:\n",
        "\n",
        "1.  **Always use `with` statements** for automatic file closing\n",
        "2.  **Handle exceptions** for missing files and permission errors\n",
        "3.  **Use appropriate formats:** CSV for tables, JSON for objects\n",
        "4.  **Validate file paths** before operations\n",
        "5.  **Close files explicitly** if not using `with` statements\n",
        "\n",
        "### 📊 File Mode Comparison:\n",
        "\n",
        "| Mode | Creates File | Overwrites | Position | Use Case |\n",
        "|:-----|:------------:|:----------:|:--------:|:---------|\n",
        "| **'r'** | ❌ | ❌ | Start | Reading existing files |\n",
        "| **'w'** | ✅ | ✅ | Start | Creating new files |\n",
        "| **'a'** | ✅ | ❌ | End | Adding to existing files |\n",
        "| **'r+'** | ❌ | ❌ | Start | Reading and writing |\n",
        "| **'w+'** | ✅ | ✅ | Start | Reading and writing (truncates) |\n",
        "| **'a+'** | ✅ | ❌ | End | Reading and appending |\n",
        "\n",
        "### ✅ Completion Checklist:\n",
        "\n",
        "- [x] Created and read text files with different modes\n",
        "- [x] Used CSV module for tabular data\n",
        "- [x] Used JSON module for complex data structures\n",
        "- [x] Implemented error handling for file operations\n",
        "- [x] Built a complete log file analyzer\n",
        "- [x] Added bonus features (CSV/JSON output, CLI interface)\n",
        "\n",
        "### 🔮 Next Steps:\n",
        "\n",
        "1.  **Explore binary file handling** (images, videos)\n",
        "2.  **Learn about databases** for more complex data storage\n",
        "3.  **Study web frameworks** that use JSON for APIs\n",
        "4.  **Explore data analysis libraries** like pandas for CSV processing\n",
        "5.  **Learn about logging modules** for professional applications\n",
        "\n",
        "This foundation in file I/O will enable you to build applications that remember data, interact with external files, and process real-world data formats!"
      ],
      "metadata": {
        "id": "CsJYWTuh3Akm"
      }
    }
  ]
}