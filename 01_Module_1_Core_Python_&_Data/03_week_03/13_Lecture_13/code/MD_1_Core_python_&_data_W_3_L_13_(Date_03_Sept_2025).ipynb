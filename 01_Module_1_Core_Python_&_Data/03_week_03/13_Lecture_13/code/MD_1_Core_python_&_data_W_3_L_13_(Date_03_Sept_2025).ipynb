{
  "nbformat": 4,
  "nbformat_minor": 0,
  "metadata": {
    "colab": {
      "provenance": []
    },
    "kernelspec": {
      "name": "python3",
      "display_name": "Python 3"
    },
    "language_info": {
      "name": "python"
    }
  },
  "cells": [
    {
      "cell_type": "markdown",
      "source": [
        "# 🏝️ Module 1: Core Python & Data - Week 3 Lecture 13\n",
        "**Date:** 03/09/2025  \n",
        "**Documented By:** Muhammad Soban Shaukat\n",
        "\n",
        "## 🛠️ The Developer's Sandbox: Mastering Virtual Environments\n",
        "\n",
        "Welcome back! We've learned to use powerful modules, but a new problem arises: how do we manage these external tools? What happens if one project needs an old version of a library, and another project needs a new version? Today, we learn the single most important practice for professional Python development: **virtual environments**."
      ],
      "metadata": {
        "id": "816WpYeMzedy"
      }
    },
    {
      "cell_type": "markdown",
      "source": [
        "## 📋 Today's Agenda\n",
        "\n",
        "1.  **🤔 The \"Why\" & The Environment Lifecycle**\n",
        "    *   The Global Mess & The Dependency Problem\n",
        "    *   The Solution: Isolated Environments with Conda\n",
        "    *   The Basic Conda Workflow: Create, Activate, Deactivate\n",
        "    *   Advanced Environment Management: List, Clone, Rename, Remove\n",
        "\n",
        "2.  **🛠️ The \"How\" - Managing Dependencies**\n",
        "    *   `conda install` vs. `pip install`: Which to Use?\n",
        "    *   Reproducibility: The `environment.yml` File\n",
        "    *   Live Demo: The Power of Isolation with Conda\n",
        "\n",
        "3.  **🧪 Practical Examples & The Hands-On Lab**\n",
        "    *   Real-World Scenarios: Web Dev, Data Science, AI\n",
        "    *   Conda Environment Management Cheat Sheet\n",
        "    *   Hands-On Lab: Project Setup with `requests`\n",
        "    *   Q&A and Wrap-up"
      ],
      "metadata": {
        "id": "bLIZCKNAzvVg"
      }
    },
    {
      "cell_type": "markdown",
      "source": [
        "## 1. 🤔 The \"Why\" - The Dependency Problem\n",
        "\n",
        "### 🌀 The Global Mess\n",
        "\n",
        "When you first install Python, there is one central location where all third-party packages are installed. This is called the **global site-packages directory**.\n",
        "\n",
        "If you just type `pip install <package>`, it goes into this global space.\n",
        "\n",
        "**The Problem:** Imagine you have two projects:\n",
        "- **Project A:** An old, stable project that relies on `Report-Generator v1.2`\n",
        "- **Project B:** A new project that needs the new features in `Report-Generator v2.0`\n",
        "\n",
        "If you install v2.0 for Project B, you might accidentally break Project A! This is called **Dependency Hell**, and it's a nightmare for developers."
      ],
      "metadata": {
        "id": "gb3MwPqAzz7O"
      }
    },
    {
      "cell_type": "code",
      "execution_count": 1,
      "metadata": {
        "colab": {
          "base_uri": "https://localhost:8080/"
        },
        "id": "MwbgLKE8zVpN",
        "outputId": "eb2b39e6-756f-4a09-e1e5-282d17115c38"
      },
      "outputs": [
        {
          "output_type": "stream",
          "name": "stdout",
          "text": [
            "🐍 SIMULATION: The Dependency Problem\n",
            "========================================\n",
            "Initial global state:\n",
            "- Python 3.9\n",
            "- Report-Generator v1.2 (for Project A)\n",
            "- Flask v1.1.2\n",
            "\n",
            "Installing Report-Generator v2.0 for Project B...\n",
            "💥 CONFLICT: Project A breaks because it depends on v1.2!\n",
            "💥 CONFLICT: Flask might also break due to incompatible dependencies!\n",
            "\n",
            "This is why we need virtual environments! 🏝️\n"
          ]
        }
      ],
      "source": [
        "# Demonstration of the dependency problem\n",
        "# (This is a simulation since we can't show actual global package conflicts in Colab)\n",
        "\n",
        "print(\"🐍 SIMULATION: The Dependency Problem\")\n",
        "print(\"=\" * 40)\n",
        "\n",
        "# Simulate what happens with global packages\n",
        "print(\"Initial global state:\")\n",
        "print(\"- Python 3.9\")\n",
        "print(\"- Report-Generator v1.2 (for Project A)\")\n",
        "print(\"- Flask v1.1.2\")\n",
        "print()\n",
        "\n",
        "print(\"Installing Report-Generator v2.0 for Project B...\")\n",
        "print(\"💥 CONFLICT: Project A breaks because it depends on v1.2!\")\n",
        "print(\"💥 CONFLICT: Flask might also break due to incompatible dependencies!\")\n",
        "print()\n",
        "\n",
        "print(\"This is why we need virtual environments! 🏝️\")"
      ]
    },
    {
      "cell_type": "markdown",
      "source": [
        "### 🏝️ The Solution: Isolated Environments\n",
        "\n",
        "A **virtual environment** is a self-contained directory that holds a particular version of Python plus all the packages that a specific project needs. It's like giving each project its own private, isolated workshop.\n",
        "\n",
        "**Analogy:** Think of it as giving each project its own private, isolated workshop. Project A gets a workshop with all its old, trusted tools. Project B gets a brand-new workshop where it can install the latest and greatest tools. The tools in one workshop don't affect the other."
      ],
      "metadata": {
        "id": "eXDC0jQfz_lE"
      }
    },
    {
      "cell_type": "code",
      "source": [
        "# Simulation of virtual environments solving the problem\n",
        "print(\"🏝️ SOLUTION: Virtual Environments\")\n",
        "print(\"=\" * 40)\n",
        "\n",
        "print(\"Project A Environment:\")\n",
        "print(\"- Python 3.8\")\n",
        "print(\"- Report-Generator v1.2\")\n",
        "print(\"- Flask v1.1.2\")\n",
        "print()\n",
        "\n",
        "print(\"Project B Environment:\")\n",
        "print(\"- Python 3.10\")\n",
        "print(\"- Report-Generator v2.0\")\n",
        "print(\"- Flask v2.2.0\")\n",
        "print()\n",
        "\n",
        "print(\"✅ SUCCESS: Both projects work independently!\")\n",
        "print(\"✅ NO CONFLICTS: Each has its own isolated space!\")"
      ],
      "metadata": {
        "colab": {
          "base_uri": "https://localhost:8080/"
        },
        "id": "b0unlDKa0Bpp",
        "outputId": "25ab7b25-997e-467a-ee96-91471bb7a3a1"
      },
      "execution_count": 2,
      "outputs": [
        {
          "output_type": "stream",
          "name": "stdout",
          "text": [
            "🏝️ SOLUTION: Virtual Environments\n",
            "========================================\n",
            "Project A Environment:\n",
            "- Python 3.8\n",
            "- Report-Generator v1.2\n",
            "- Flask v1.1.2\n",
            "\n",
            "Project B Environment:\n",
            "- Python 3.10\n",
            "- Report-Generator v2.0\n",
            "- Flask v2.2.0\n",
            "\n",
            "✅ SUCCESS: Both projects work independently!\n",
            "✅ NO CONFLICTS: Each has its own isolated space!\n"
          ]
        }
      ]
    },
    {
      "cell_type": "markdown",
      "source": [
        "## 2. 🔧 Environment Managers: Conda vs Venv\n",
        "\n",
        "### 🐍 Conda (via Miniconda/Anaconda)\n",
        "\n",
        "**What it is:** A powerful package and environment manager.\n",
        "\n",
        "**Key Advantages:**\n",
        "- **Manages Python Versions:** Conda can install different versions of Python itself (e.g., 3.8, 3.9, 3.10) in different environments\n",
        "- **Manages Non-Python Dependencies:** Crucial for AI/Data Science, as it can install complex libraries like CUDA and MKL\n",
        "- **Robust Dependency Resolution:** Powerful solver to handle complex package dependencies\n",
        "\n",
        "### 📦 Venv (The Built-in Alternative)\n",
        "\n",
        "**What it is:** A lightweight environment manager included with Python.\n",
        "\n",
        "**How it's different:** It can only create environments with the same Python version used to create them. It cannot manage non-Python packages. Great for simple, pure-Python web applications."
      ],
      "metadata": {
        "id": "4TUP9CwJ0G4P"
      }
    },
    {
      "cell_type": "code",
      "source": [
        "# Comparison table simulation\n",
        "print(\"🆚 Conda vs Venv Comparison\")\n",
        "print(\"=\" * 30)\n",
        "\n",
        "comparison_data = [\n",
        "    [\"Feature\", \"Conda\", \"Venv\"],\n",
        "    [\"Python Version Management\", \"✅ Yes\", \"❌ No\"],\n",
        "    [\"Non-Python Packages\", \"✅ Yes\", \"❌ No\"],\n",
        "    [\"Dependency Resolution\", \"✅ Advanced\", \"✅ Basic\"],\n",
        "    [\"Built-in with Python\", \"❌ No\", \"✅ Yes\"],\n",
        "    [\"Ideal For\", \"Data Science, AI\", \"Web Development\"]\n",
        "]\n",
        "\n",
        "for row in comparison_data:\n",
        "    print(f\"{row[0]:25} {row[1]:10} {row[2]:10}\")\n",
        "\n",
        "print(\"\\n🎯 For this course, we'll focus on Conda as it's more powerful!\")"
      ],
      "metadata": {
        "colab": {
          "base_uri": "https://localhost:8080/"
        },
        "id": "mumZXnIJ0IsX",
        "outputId": "ff06b427-3c4b-4d6a-ce9c-163be29cc526"
      },
      "execution_count": 3,
      "outputs": [
        {
          "output_type": "stream",
          "name": "stdout",
          "text": [
            "🆚 Conda vs Venv Comparison\n",
            "==============================\n",
            "Feature                   Conda      Venv      \n",
            "Python Version Management ✅ Yes      ❌ No      \n",
            "Non-Python Packages       ✅ Yes      ❌ No      \n",
            "Dependency Resolution     ✅ Advanced ✅ Basic   \n",
            "Built-in with Python      ❌ No       ✅ Yes     \n",
            "Ideal For                 Data Science, AI Web Development\n",
            "\n",
            "🎯 For this course, we'll focus on Conda as it's more powerful!\n"
          ]
        }
      ]
    },
    {
      "cell_type": "markdown",
      "source": [
        "## 3. 🔄 The Basic Conda Workflow\n",
        "\n",
        "Let's learn the essential commands for managing Conda environments."
      ],
      "metadata": {
        "id": "Jq8RAH3B0M8G"
      }
    },
    {
      "cell_type": "code",
      "source": [
        "# Since we're in Google Colab, we'll simulate Conda commands\n",
        "# In a real terminal, you would use these commands directly\n",
        "\n",
        "print(\"🐍 Conda Command Simulation\")\n",
        "print(\"=\" * 30)\n",
        "\n",
        "# Simulate Conda commands with output\n",
        "conda_commands = [\n",
        "    \"# Create an environment\",\n",
        "    \"conda create --name my-first-env python=3.9\",\n",
        "    \"\",\n",
        "    \"# Activate the environment\",\n",
        "    \"conda activate my-first-env\",\n",
        "    \"# (Your terminal prompt changes to show (my-first-env))\",\n",
        "    \"\",\n",
        "    \"# Install packages\",\n",
        "    \"conda install numpy pandas matplotlib\",\n",
        "    \"\",\n",
        "    \"# Deactivate the environment\",\n",
        "    \"conda deactivate\",\n",
        "    \"\",\n",
        "    \"# List all environments\",\n",
        "    \"conda env list\",\n",
        "    \"\",\n",
        "    \"# Remove an environment\",\n",
        "    \"conda env remove --name my-first-env\"\n",
        "]\n",
        "\n",
        "for cmd in conda_commands:\n",
        "    if cmd.startswith(\"#\"):\n",
        "        print(f\"\\n📝 {cmd[1:].strip()}\")\n",
        "    elif cmd:\n",
        "        print(f\"$ {cmd}\")"
      ],
      "metadata": {
        "colab": {
          "base_uri": "https://localhost:8080/"
        },
        "id": "59v7w-7p0Oie",
        "outputId": "36eb50b7-467a-425b-a2b7-852941158b4d"
      },
      "execution_count": 4,
      "outputs": [
        {
          "output_type": "stream",
          "name": "stdout",
          "text": [
            "🐍 Conda Command Simulation\n",
            "==============================\n",
            "\n",
            "📝 Create an environment\n",
            "$ conda create --name my-first-env python=3.9\n",
            "\n",
            "📝 Activate the environment\n",
            "$ conda activate my-first-env\n",
            "\n",
            "📝 (Your terminal prompt changes to show (my-first-env))\n",
            "\n",
            "📝 Install packages\n",
            "$ conda install numpy pandas matplotlib\n",
            "\n",
            "📝 Deactivate the environment\n",
            "$ conda deactivate\n",
            "\n",
            "📝 List all environments\n",
            "$ conda env list\n",
            "\n",
            "📝 Remove an environment\n",
            "$ conda env remove --name my-first-env\n"
          ]
        }
      ]
    },
    {
      "cell_type": "markdown",
      "source": [
        "### 🎯 Essential Conda Commands:\n",
        "\n",
        "1.  **Create environment:** `conda create --name env_name python=3.9`\n",
        "2.  **Activate environment:** `conda activate env_name`\n",
        "3.  **Install package:** `conda install package_name`\n",
        "4.  **Deactivate environment:** `conda deactivate`\n",
        "5.  **List environments:** `conda env list`\n",
        "6.  **Remove environment:** `conda env remove --name env_name`"
      ],
      "metadata": {
        "id": "KayEA-HE0R6W"
      }
    },
    {
      "cell_type": "markdown",
      "source": [
        "## 4. 🎩 Advanced Environment Management\n",
        "\n",
        "### 📋 Cloning (Duplicating) Environments\n",
        "\n",
        "This is an incredibly useful feature. Cloning creates an exact copy of an existing environment under a new name.\n",
        "\n",
        "**Why do this?** Imagine you have a stable, working environment for a project (`my_project_stable`). You want to test a new, potentially breaking version of a library. Instead of risking your stable environment, you clone it!"
      ],
      "metadata": {
        "id": "mQcAnHX60U8Q"
      }
    },
    {
      "cell_type": "code",
      "source": [
        "# Simulate environment cloning\n",
        "print(\"🌀 Environment Cloning Workflow\")\n",
        "print(\"=\" * 35)\n",
        "\n",
        "print(\"1. Create stable environment:\")\n",
        "print(\"   $ conda create --name my_project_stable python=3.9 pandas=1.5\")\n",
        "print()\n",
        "\n",
        "print(\"2. Clone for testing:\")\n",
        "print(\"   $ conda create --name my_project_testing --clone my_project_stable\")\n",
        "print()\n",
        "\n",
        "print(\"3. Test new version safely:\")\n",
        "print(\"   $ conda activate my_project_testing\")\n",
        "print(\"   $ conda install pandas=2.0\")\n",
        "print()\n",
        "\n",
        "print(\"4. If it breaks, just delete the test environment:\")\n",
        "print(\"   $ conda env remove --name my_project_testing\")\n",
        "print()\n",
        "\n",
        "print(\"5. Your stable environment remains untouched! ✅\")"
      ],
      "metadata": {
        "colab": {
          "base_uri": "https://localhost:8080/"
        },
        "id": "UdiEr6ix0Won",
        "outputId": "0a0c7769-6cac-4c2a-b4d3-ac0e5c94fa3e"
      },
      "execution_count": 5,
      "outputs": [
        {
          "output_type": "stream",
          "name": "stdout",
          "text": [
            "🌀 Environment Cloning Workflow\n",
            "===================================\n",
            "1. Create stable environment:\n",
            "   $ conda create --name my_project_stable python=3.9 pandas=1.5\n",
            "\n",
            "2. Clone for testing:\n",
            "   $ conda create --name my_project_testing --clone my_project_stable\n",
            "\n",
            "3. Test new version safely:\n",
            "   $ conda activate my_project_testing\n",
            "   $ conda install pandas=2.0\n",
            "\n",
            "4. If it breaks, just delete the test environment:\n",
            "   $ conda env remove --name my_project_testing\n",
            "\n",
            "5. Your stable environment remains untouched! ✅\n"
          ]
        }
      ]
    },
    {
      "cell_type": "markdown",
      "source": [
        "### 🔄 Other Advanced Operations:\n",
        "\n",
        "- **Renaming environments:** Clone with new name + delete old one\n",
        "- **Exporting environments:** `conda env export > environment.yml`\n",
        "- **Creating from file:** `conda env create -f environment.yml`\n",
        "- **Updating environments:** `conda update --all`"
      ],
      "metadata": {
        "id": "lAYrjkla0Y7E"
      }
    },
    {
      "cell_type": "markdown",
      "source": [
        "## 5. 📦 Managing Dependencies with Conda\n",
        "\n",
        "### 🔄 conda install vs. pip install\n",
        "\n",
        "Inside a Conda environment, you can use both. Here's the rule of thumb:\n",
        "\n",
        "1.  **Always try `conda install <package>` first** - Uses Anaconda's tested, pre-compiled packages\n",
        "2.  **If not available, use `pip install <package>`** - Installs from PyPI\n",
        "\n",
        "### 💾 Reproducibility: The environment.yml File\n",
        "\n",
        "This is the Conda equivalent of `requirements.txt`, but it's more powerful. It saves the environment's name, channels, Python version, and all package dependencies."
      ],
      "metadata": {
        "id": "dm5s8YXY0Z7A"
      }
    },
    {
      "cell_type": "code",
      "source": [
        "# Simulate environment.yml creation and usage\n",
        "print(\"📁 environment.yml File Example\")\n",
        "print(\"=\" * 35)\n",
        "\n",
        "environment_yml_content = \"\"\"\n",
        "name: my-data-science-project\n",
        "channels:\n",
        "  - conda-forge\n",
        "  - defaults\n",
        "dependencies:\n",
        "  - python=3.9\n",
        "  - numpy=1.21\n",
        "  - pandas=1.5\n",
        "  - matplotlib=3.5\n",
        "  - scikit-learn=1.0\n",
        "  - pip\n",
        "  - pip:\n",
        "    - some-pypi-only-package==1.2.3\n",
        "\"\"\"\n",
        "\n",
        "print(\"To save your environment:\")\n",
        "print(\"$ conda env export > environment.yml\")\n",
        "print()\n",
        "print(\"Generated environment.yml content:\")\n",
        "print(environment_yml_content)\n",
        "print()\n",
        "print(\"To recreate environment from file:\")\n",
        "print(\"$ conda env create -f environment.yml\")"
      ],
      "metadata": {
        "colab": {
          "base_uri": "https://localhost:8080/"
        },
        "id": "-pRSOt7Q0ZhW",
        "outputId": "92745f7c-9645-4537-b5b3-9a98aa039eee"
      },
      "execution_count": 6,
      "outputs": [
        {
          "output_type": "stream",
          "name": "stdout",
          "text": [
            "📁 environment.yml File Example\n",
            "===================================\n",
            "To save your environment:\n",
            "$ conda env export > environment.yml\n",
            "\n",
            "Generated environment.yml content:\n",
            "\n",
            "name: my-data-science-project\n",
            "channels:\n",
            "  - conda-forge\n",
            "  - defaults\n",
            "dependencies:\n",
            "  - python=3.9\n",
            "  - numpy=1.21\n",
            "  - pandas=1.5\n",
            "  - matplotlib=3.5\n",
            "  - scikit-learn=1.0\n",
            "  - pip\n",
            "  - pip:\n",
            "    - some-pypi-only-package==1.2.3\n",
            "\n",
            "\n",
            "To recreate environment from file:\n",
            "$ conda env create -f environment.yml\n"
          ]
        }
      ]
    },
    {
      "cell_type": "markdown",
      "source": [
        "## 6. 🎬 Live Demo: The Power of Isolation with Conda\n",
        "\n",
        "Let's simulate the Flask project example to demonstrate environment isolation."
      ],
      "metadata": {
        "id": "KvTURQ3Q0gL0"
      }
    },
    {
      "cell_type": "code",
      "source": [
        "# Simulation of the Flask project demo\n",
        "print(\"🎭 SIMULATION: Flask Project Isolation Demo\")\n",
        "print(\"=\" * 45)\n",
        "\n",
        "print(\"📁 Project Structure:\")\n",
        "print(\"project_old/\")\n",
        "print(\"├── app_old.py (Flask 1.x, Python 3.8)\")\n",
        "print(\"└── environment.yml\")\n",
        "print()\n",
        "print(\"project_new/\")\n",
        "print(\"├── app_new.py (Flask 2.x, Python 3.10)\")\n",
        "print(\"└── environment.yml\")\n",
        "print()\n",
        "\n",
        "print(\"🚀 Setting up Project OLD:\")\n",
        "print(\"$ conda create --name old_flask python=3.8 flask=1.1\")\n",
        "print(\"$ conda activate old_flask\")\n",
        "print(\"$ python app_old.py\")\n",
        "print()\n",
        "\n",
        "print(\"🚀 Setting up Project NEW:\")\n",
        "print(\"$ conda create --name new_flask python=3.10 flask=2.2\")\n",
        "print(\"$ conda activate new_flask\")\n",
        "print(\"$ python app_new.py\")\n",
        "print()\n",
        "\n",
        "print(\"✅ BOTH PROJECTS WORK SIMULTANEOUSLY!\")\n",
        "print(\"✅ NO VERSION CONFLICTS!\")\n",
        "print(\"✅ PERFECT ISOLATION ACHIEVED! 🏝️\")"
      ],
      "metadata": {
        "colab": {
          "base_uri": "https://localhost:8080/"
        },
        "id": "7hLxOAf50hhD",
        "outputId": "1374d094-467b-43b1-c75d-66fcf54b0686"
      },
      "execution_count": 7,
      "outputs": [
        {
          "output_type": "stream",
          "name": "stdout",
          "text": [
            "🎭 SIMULATION: Flask Project Isolation Demo\n",
            "=============================================\n",
            "📁 Project Structure:\n",
            "project_old/\n",
            "├── app_old.py (Flask 1.x, Python 3.8)\n",
            "└── environment.yml\n",
            "\n",
            "project_new/\n",
            "├── app_new.py (Flask 2.x, Python 3.10)\n",
            "└── environment.yml\n",
            "\n",
            "🚀 Setting up Project OLD:\n",
            "$ conda create --name old_flask python=3.8 flask=1.1\n",
            "$ conda activate old_flask\n",
            "$ python app_old.py\n",
            "\n",
            "🚀 Setting up Project NEW:\n",
            "$ conda create --name new_flask python=3.10 flask=2.2\n",
            "$ conda activate new_flask\n",
            "$ python app_new.py\n",
            "\n",
            "✅ BOTH PROJECTS WORK SIMULTANEOUSLY!\n",
            "✅ NO VERSION CONFLICTS!\n",
            "✅ PERFECT ISOLATION ACHIEVED! 🏝️\n"
          ]
        }
      ]
    },
    {
      "cell_type": "code",
      "source": [
        "# Let's create the actual Flask app files to see the code difference\n",
        "print(\"🖥️ Flask App Code Comparison\")\n",
        "print(\"=\" * 35)\n",
        "\n",
        "print(\"Project OLD (app_old.py):\")\n",
        "old_flask_code = \"\"\"\n",
        "from flask import Flask\n",
        "app = Flask(__name__)\n",
        "\n",
        "@app.route(\"/\")\n",
        "def hello():\n",
        "    return \"Hello from OLD Flask (v1.x) on Python 3.8!\"\n",
        "\"\"\"\n",
        "\n",
        "print(old_flask_code)\n",
        "\n",
        "print(\"Project NEW (app_new.py):\")\n",
        "new_flask_code = \"\"\"\n",
        "from flask import Flask\n",
        "app = Flask(__name__)\n",
        "\n",
        "@app.get(\"/\")  # Modern syntax introduced in Flask 2.0\n",
        "def hello():\n",
        "    return \"Hello from NEW Flask (v2.x) on Python 3.10!\"\n",
        "\"\"\"\n",
        "\n",
        "print(new_flask_code)"
      ],
      "metadata": {
        "colab": {
          "base_uri": "https://localhost:8080/"
        },
        "id": "wbqO-d-t0lhi",
        "outputId": "12d8acd1-dbcd-42de-9ebd-24bab522a445"
      },
      "execution_count": 8,
      "outputs": [
        {
          "output_type": "stream",
          "name": "stdout",
          "text": [
            "🖥️ Flask App Code Comparison\n",
            "===================================\n",
            "Project OLD (app_old.py):\n",
            "\n",
            "from flask import Flask\n",
            "app = Flask(__name__)\n",
            "\n",
            "@app.route(\"/\")\n",
            "def hello():\n",
            "    return \"Hello from OLD Flask (v1.x) on Python 3.8!\"\n",
            "\n",
            "Project NEW (app_new.py):\n",
            "\n",
            "from flask import Flask\n",
            "app = Flask(__name__)\n",
            "\n",
            "@app.get(\"/\")  # Modern syntax introduced in Flask 2.0\n",
            "def hello():\n",
            "    return \"Hello from NEW Flask (v2.x) on Python 3.10!\"\n",
            "\n"
          ]
        }
      ]
    },
    {
      "cell_type": "markdown",
      "source": [
        "## 7. 📋 Conda Environment Management Cheat Sheet\n",
        "\n",
        "Here's a quick reference for all the essential Conda commands:"
      ],
      "metadata": {
        "id": "KeE0kWAK0oyO"
      }
    },
    {
      "cell_type": "code",
      "source": [
        "# Conda Cheat Sheet\n",
        "print(\"📋 Conda Cheat Sheet\")\n",
        "print(\"=\" * 25)\n",
        "\n",
        "cheat_sheet = [\n",
        "    [\"Task\", \"Command\"],\n",
        "    [\"Create environment\", \"conda create --name env_name python=3.9\"],\n",
        "    [\"Activate environment\", \"conda activate env_name\"],\n",
        "    [\"Deactivate environment\", \"conda deactivate\"],\n",
        "    [\"List environments\", \"conda env list\"],\n",
        "    [\"Install package\", \"conda install package_name\"],\n",
        "    [\"List installed packages\", \"conda list\"],\n",
        "    [\"Clone environment\", \"conda create --name new_env --clone old_env\"],\n",
        "    [\"Remove environment\", \"conda env remove --name env_name\"],\n",
        "    [\"Export environment\", \"conda env export > environment.yml\"],\n",
        "    [\"Create from file\", \"conda env create -f environment.yml\"],\n",
        "    [\"Update all packages\", \"conda update --all\"],\n",
        "    [\"Search for package\", \"conda search package_name\"]\n",
        "]\n",
        "\n",
        "for task, command in cheat_sheet:\n",
        "    print(f\"{task:25} {command}\")"
      ],
      "metadata": {
        "colab": {
          "base_uri": "https://localhost:8080/"
        },
        "id": "EX9PA4zt0paD",
        "outputId": "4dbef055-2711-46ae-8828-e419934f0a35"
      },
      "execution_count": 9,
      "outputs": [
        {
          "output_type": "stream",
          "name": "stdout",
          "text": [
            "📋 Conda Cheat Sheet\n",
            "=========================\n",
            "Task                      Command\n",
            "Create environment        conda create --name env_name python=3.9\n",
            "Activate environment      conda activate env_name\n",
            "Deactivate environment    conda deactivate\n",
            "List environments         conda env list\n",
            "Install package           conda install package_name\n",
            "List installed packages   conda list\n",
            "Clone environment         conda create --name new_env --clone old_env\n",
            "Remove environment        conda env remove --name env_name\n",
            "Export environment        conda env export > environment.yml\n",
            "Create from file          conda env create -f environment.yml\n",
            "Update all packages       conda update --all\n",
            "Search for package        conda search package_name\n"
          ]
        }
      ]
    },
    {
      "cell_type": "markdown",
      "source": [
        "## 8. 🧪 Hands-On Lab: Project Setup with Requests\n",
        "\n",
        "**Goal:** Go through the full professional Conda workflow: create a project, set up an environment, install a package, write a script, and generate an environment.yml file.\n",
        "\n",
        "**The Project:** We'll write a simple script that uses the `requests` library to fetch data from a public API."
      ],
      "metadata": {
        "id": "v85XrfsJ0s_w"
      }
    },
    {
      "cell_type": "code",
      "source": [
        "# Since we're in Colab, we'll simulate the Conda workflow\n",
        "# But we can actually write and run the Python code!\n",
        "\n",
        "print(\"🧪 Hands-On Lab: API Project\")\n",
        "print(\"=\" * 35)\n",
        "\n",
        "print(\"Step 1: Create project directory\")\n",
        "print(\"$ mkdir api_project && cd api_project\")\n",
        "print()\n",
        "\n",
        "print(\"Step 2: Create and activate Conda environment\")\n",
        "print(\"$ conda create --name api_project python=3.9 requests\")\n",
        "print(\"$ conda activate api_project\")\n",
        "print()\n",
        "\n",
        "print(\"Step 3: Write the Python script (fetch_data.py)\")"
      ],
      "metadata": {
        "colab": {
          "base_uri": "https://localhost:8080/"
        },
        "id": "8IQPds740ttm",
        "outputId": "a09d1863-70dd-4bd8-9f23-d48aa5394b45"
      },
      "execution_count": 10,
      "outputs": [
        {
          "output_type": "stream",
          "name": "stdout",
          "text": [
            "🧪 Hands-On Lab: API Project\n",
            "===================================\n",
            "Step 1: Create project directory\n",
            "$ mkdir api_project && cd api_project\n",
            "\n",
            "Step 2: Create and activate Conda environment\n",
            "$ conda create --name api_project python=3.9 requests\n",
            "$ conda activate api_project\n",
            "\n",
            "Step 3: Write the Python script (fetch_data.py)\n"
          ]
        }
      ]
    },
    {
      "cell_type": "code",
      "source": [
        "# Step 3: Write the actual Python script\n",
        "# We can do this part for real in Colab!\n",
        "\n",
        "import requests\n",
        "import json\n",
        "\n",
        "def fetch_api_data():\n",
        "    \"\"\"Fetch data from a public API using requests.\"\"\"\n",
        "    print(\"🌐 Fetching data from JSONPlaceholder API...\")\n",
        "\n",
        "    try:\n",
        "        # Using JSONPlaceholder - a free fake API for testing\n",
        "        response = requests.get('https://jsonplaceholder.typicode.com/posts/1')\n",
        "        response.raise_for_status()  # Raise exception for bad status codes\n",
        "\n",
        "        data = response.json()\n",
        "\n",
        "        print(\"✅ Successfully fetched data!\")\n",
        "        print(\"\\n📄 API Response:\")\n",
        "        print(json.dumps(data, indent=2))\n",
        "\n",
        "        # Extract specific information\n",
        "        print(f\"\\n📋 Extracted Info:\")\n",
        "        print(f\"Title: {data['title']}\")\n",
        "        print(f\"User ID: {data['userId']}\")\n",
        "        print(f\"Post ID: {data['id']}\")\n",
        "\n",
        "        return data\n",
        "\n",
        "    except requests.exceptions.RequestException as e:\n",
        "        print(f\"❌ Error fetching data: {e}\")\n",
        "        return None\n",
        "\n",
        "# Run the function\n",
        "if __name__ == \"__main__\":\n",
        "    fetch_api_data()"
      ],
      "metadata": {
        "colab": {
          "base_uri": "https://localhost:8080/"
        },
        "id": "iHjmtO7H0xRB",
        "outputId": "8d67f58e-840d-4bb5-8a88-d8571392f208"
      },
      "execution_count": 11,
      "outputs": [
        {
          "output_type": "stream",
          "name": "stdout",
          "text": [
            "🌐 Fetching data from JSONPlaceholder API...\n",
            "✅ Successfully fetched data!\n",
            "\n",
            "📄 API Response:\n",
            "{\n",
            "  \"userId\": 1,\n",
            "  \"id\": 1,\n",
            "  \"title\": \"sunt aut facere repellat provident occaecati excepturi optio reprehenderit\",\n",
            "  \"body\": \"quia et suscipit\\nsuscipit recusandae consequuntur expedita et cum\\nreprehenderit molestiae ut ut quas totam\\nnostrum rerum est autem sunt rem eveniet architecto\"\n",
            "}\n",
            "\n",
            "📋 Extracted Info:\n",
            "Title: sunt aut facere repellat provident occaecati excepturi optio reprehenderit\n",
            "User ID: 1\n",
            "Post ID: 1\n"
          ]
        }
      ]
    },
    {
      "cell_type": "code",
      "source": [
        "# Run the script (in Colab, we can actually execute this)\n",
        "print(\"Step 4: Run the script\")\n",
        "print(\"$ python fetch_data.py\")\n",
        "print()\n",
        "\n",
        "# Actually run our function\n",
        "fetch_api_data()"
      ],
      "metadata": {
        "colab": {
          "base_uri": "https://localhost:8080/"
        },
        "id": "3Zzse0v0005N",
        "outputId": "db58eab4-91c8-45bf-b82d-bf0f27c959e9"
      },
      "execution_count": 12,
      "outputs": [
        {
          "output_type": "stream",
          "name": "stdout",
          "text": [
            "Step 4: Run the script\n",
            "$ python fetch_data.py\n",
            "\n",
            "🌐 Fetching data from JSONPlaceholder API...\n",
            "✅ Successfully fetched data!\n",
            "\n",
            "📄 API Response:\n",
            "{\n",
            "  \"userId\": 1,\n",
            "  \"id\": 1,\n",
            "  \"title\": \"sunt aut facere repellat provident occaecati excepturi optio reprehenderit\",\n",
            "  \"body\": \"quia et suscipit\\nsuscipit recusandae consequuntur expedita et cum\\nreprehenderit molestiae ut ut quas totam\\nnostrum rerum est autem sunt rem eveniet architecto\"\n",
            "}\n",
            "\n",
            "📋 Extracted Info:\n",
            "Title: sunt aut facere repellat provident occaecati excepturi optio reprehenderit\n",
            "User ID: 1\n",
            "Post ID: 1\n"
          ]
        },
        {
          "output_type": "execute_result",
          "data": {
            "text/plain": [
              "{'userId': 1,\n",
              " 'id': 1,\n",
              " 'title': 'sunt aut facere repellat provident occaecati excepturi optio reprehenderit',\n",
              " 'body': 'quia et suscipit\\nsuscipit recusandae consequuntur expedita et cum\\nreprehenderit molestiae ut ut quas totam\\nnostrum rerum est autem sunt rem eveniet architecto'}"
            ]
          },
          "metadata": {},
          "execution_count": 12
        }
      ]
    },
    {
      "cell_type": "code",
      "source": [
        "# Step 5: Generate environment.yml file\n",
        "print(\"Step 5: Generate environment.yml\")\n",
        "print(\"$ conda env export > environment.yml\")\n",
        "print()\n",
        "\n",
        "# Simulate what the environment.yml would look like\n",
        "simulated_environment_yml = \"\"\"\n",
        "name: api_project\n",
        "channels:\n",
        "  - conda-forge\n",
        "  - defaults\n",
        "dependencies:\n",
        "  - python=3.9.12\n",
        "  - requests=2.28.0\n",
        "  - certifi=2022.9.24\n",
        "  - urllib3=1.26.12\n",
        "  - idna=3.4\n",
        "  - charset-normalizer=2.1.1\n",
        "  - openssl=1.1.1q\n",
        "prefix: /opt/anaconda3/envs/api_project\n",
        "\"\"\"\n",
        "\n",
        "print(\"Generated environment.yml would contain:\")\n",
        "print(simulated_environment_yml)"
      ],
      "metadata": {
        "colab": {
          "base_uri": "https://localhost:8080/"
        },
        "id": "FbtSfGGw06SE",
        "outputId": "96a5a88e-304b-41da-b644-398fbb91e0f5"
      },
      "execution_count": 13,
      "outputs": [
        {
          "output_type": "stream",
          "name": "stdout",
          "text": [
            "Step 5: Generate environment.yml\n",
            "$ conda env export > environment.yml\n",
            "\n",
            "Generated environment.yml would contain:\n",
            "\n",
            "name: api_project\n",
            "channels:\n",
            "  - conda-forge\n",
            "  - defaults\n",
            "dependencies:\n",
            "  - python=3.9.12\n",
            "  - requests=2.28.0\n",
            "  - certifi=2022.9.24\n",
            "  - urllib3=1.26.12\n",
            "  - idna=3.4\n",
            "  - charset-normalizer=2.1.1\n",
            "  - openssl=1.1.1q\n",
            "prefix: /opt/anaconda3/envs/api_project\n",
            "\n"
          ]
        }
      ]
    },
    {
      "cell_type": "markdown",
      "source": [
        "## 9. 🌍 Real-World Scenarios\n",
        "\n",
        "Different types of projects have different environment needs:"
      ],
      "metadata": {
        "id": "57GtZvYE086s"
      }
    },
    {
      "cell_type": "code",
      "source": [
        "# Real-world environment examples\n",
        "print(\"🌍 Real-World Environment Examples\")\n",
        "print(\"=\" * 35)\n",
        "\n",
        "scenarios = [\n",
        "    {\n",
        "        \"type\": \"Web Development\",\n",
        "        \"python\": \"3.10\",\n",
        "        \"packages\": [\"flask==2.2.0\", \"requests==2.28.0\", \"sqlalchemy==1.4.41\"],\n",
        "        \"purpose\": \"Web applications with modern frameworks\"\n",
        "    },\n",
        "    {\n",
        "        \"type\": \"Data Science\",\n",
        "        \"python\": \"3.9\",\n",
        "        \"packages\": [\"pandas==1.5.0\", \"numpy==1.23.0\", \"matplotlib==3.6.0\", \"scikit-learn==1.1.0\"],\n",
        "        \"purpose\": \"Data analysis and machine learning\"\n",
        "    },\n",
        "    {\n",
        "        \"type\": \"AI/Deep Learning\",\n",
        "        \"python\": \"3.8\",\n",
        "        \"packages\": [\"tensorflow==2.10.0\", \"torch==1.12.0\", \"transformers==4.24.0\"],\n",
        "        \"purpose\": \"Neural networks and deep learning models\"\n",
        "    }\n",
        "]\n",
        "\n",
        "for scenario in scenarios:\n",
        "    print(f\"\\n📊 {scenario['type']}:\")\n",
        "    print(f\"   Python: {scenario['python']}\")\n",
        "    print(f\"   Packages: {', '.join(scenario['packages'][:3])}...\")\n",
        "    print(f\"   Purpose: {scenario['purpose']}\")"
      ],
      "metadata": {
        "colab": {
          "base_uri": "https://localhost:8080/"
        },
        "id": "wsd_F7VP09lO",
        "outputId": "679d71ab-8829-418f-c3c7-835846f6b7be"
      },
      "execution_count": 14,
      "outputs": [
        {
          "output_type": "stream",
          "name": "stdout",
          "text": [
            "🌍 Real-World Environment Examples\n",
            "===================================\n",
            "\n",
            "📊 Web Development:\n",
            "   Python: 3.10\n",
            "   Packages: flask==2.2.0, requests==2.28.0, sqlalchemy==1.4.41...\n",
            "   Purpose: Web applications with modern frameworks\n",
            "\n",
            "📊 Data Science:\n",
            "   Python: 3.9\n",
            "   Packages: pandas==1.5.0, numpy==1.23.0, matplotlib==3.6.0...\n",
            "   Purpose: Data analysis and machine learning\n",
            "\n",
            "📊 AI/Deep Learning:\n",
            "   Python: 3.8\n",
            "   Packages: tensorflow==2.10.0, torch==1.12.0, transformers==4.24.0...\n",
            "   Purpose: Neural networks and deep learning models\n"
          ]
        }
      ]
    },
    {
      "cell_type": "markdown",
      "source": [
        "## 10. 📚 Comprehensive Virtual Environments Summary\n",
        "\n",
        "### 🎯 What We Learned:\n",
        "\n",
        "1.  **Dependency Management:** Solving version conflicts with isolated environments\n",
        "2.  **Conda Workflow:** Create, activate, install, deactivate environments\n",
        "3.  **Advanced Features:** Cloning, exporting, and reproducing environments\n",
        "4.  **Professional Practices:** Using `environment.yml` for reproducibility\n",
        "\n",
        "### 🔑 Key Concepts:\n",
        "\n",
        "- **Isolation:** Each project gets its own environment\n",
        "- **Reproducibility:** `environment.yml` files ensure consistent setups\n",
        "- **Dependency Resolution:** Conda handles complex package relationships\n",
        "- **Version Management:** Different Python versions for different projects\n",
        "\n",
        "### 💡 Real-world Applications:\n",
        "\n",
        "- **Web Development:** Isolating Flask/Django projects\n",
        "- **Data Science:** Managing complex scientific computing stacks\n",
        "- **AI/ML:** Handling GPU-accelerated libraries\n",
        "- **Testing:** Safe testing of new package versions\n",
        "- **Collaboration:** Sharing reproducible environments\n",
        "\n",
        "### 🚀 Best Practices:\n",
        "\n",
        "1.  **One environment per project**\n",
        "2.  **Use `environment.yml` for reproducibility**\n",
        "3.  **Try `conda install` before `pip install`**\n",
        "4.  **Keep environments focused** (don't install everything in one)\n",
        "5.  **Regularly update and clean up** unused environments\n",
        "\n",
        "### ✅ Completion Checklist:\n",
        "\n",
        "- [x] Understand the dependency problem and solution\n",
        "- [x] Learn Conda basic commands and workflow\n",
        "- [x] Practice environment cloning and management\n",
        "- [x] Create `environment.yml` files for reproducibility\n",
        "- [x] Build a complete project with proper environment setup\n",
        "- [x] Understand real-world use cases for different project types\n",
        "\n",
        "### 🔮 Next Steps:\n",
        "\n",
        "1.  **Explore Conda channels** (conda-forge, bioconda, etc.)\n",
        "2.  **Learn about Docker** for even more isolation\n",
        "3.  **Study continuous integration** with environment setup\n",
        "4.  **Explore advanced dependency management** tools\n",
        "5.  **Practice with real projects** to solidify your skills\n",
        "\n",
        "This foundation in virtual environments will make you a professional Python developer who can manage complex projects without dependency nightmares! 🏝️"
      ],
      "metadata": {
        "id": "a7PGBNzJ1A9t"
      }
    }
  ]
}